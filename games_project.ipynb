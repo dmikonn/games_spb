{
 "cells": [
  {
   "cell_type": "markdown",
   "metadata": {
    "id": "tIob6PdxJCqZ"
   },
   "source": [
    "<div class=\"alert alert-success\">\n",
    "<font size=\"4\"><b>Комментарий ревьюера</b></font>\n",
    "    <br /> \n",
    "    <font size=\"3\", color = \"black\">\n",
    "<br />\n",
    "    Привет, Василий :) Спасибо, что прислал задание :) Меня зовут Ринат Хисамов и я буду проверять твой проект. Предлагаю обращаться друг к другу на ты. Так нам будет гораздо проще и удобней общаться).\n",
    "\n",
    "Мои комментарии обозначены пометкой <b>Комментарий ревьюера</b>. Далее в файле сможешь найти их в похожих ячейках (если фон комментария зелёный — всё сделано правильно (✔️), рекомендации таким же цветом. Отдельным цветом — блок ссылок (примеры ниже, 🍕). Оранжевым или светло желтым рекомендации, которые, хоть и не обязательны, но точно сделают ревью лучше. (⚠️); <u> красный комментарий</u>: код, график или вывод стоит переделать (❌)). \n",
    "\n",
    "Не удаляй все эти комментарии и постарайся учесть их в ходе выполнения данного проекта. \n",
    "Будет замечательно, если добавишь свои комментарии и пояснения✍\n",
    "        \n",
    "Поехали 🚀\n",
    "    <br />\n",
    "    </font>\n",
    "\n",
    "</div>"
   ]
  },
  {
   "cell_type": "markdown",
   "metadata": {
    "id": "164lgSiZJCqf"
   },
   "source": [
    "<div style=\"border:solid steelblue 1px; padding: 20px\">\n",
    "    \n",
    "<font size=\"4\"><p style=\"text-align:center\"><b>Примеры комментариев </b></p></font>\n",
    "    \n",
    "<div style=\"border:solid steelblue 3px; padding: 20px\">\n",
    "<font size=\"4\"><b>🍕 Пример комментария - совета, здесь м.б. просто ссылка</b></font>\n",
    "    <br /> \n",
    "        <font size=\"3\", color = \"black\">\n",
    "<br />\n",
    "    Тут всего такого разного и вкусного :), есть способы прокачать проект визуализациями (ценит большинство \"боссов\")  <br /><br />\n",
    "        <a href=\"https://pyprog.pro/mpl/mpl_short_guide.html\">Краткое руководство по Matplotlib</a>\n",
    "        На сайте много полезных материалов, мне самому очень помогло в свое время, до сих пор подсматриваю :)\n",
    "\n",
    "\n",
    "</div>\n",
    "    \n",
    "<div class=\"alert alert-warning\", style=\"border:solid coral 3px; padding: 20px\">\n",
    "    <font size=\"3\"><b>⚠️ Пример оформления некритичного комментария</b>\n",
    "    <br /> \n",
    "    <font size=\"2\", color = \"black\">\n",
    "<br />\n",
    "    Рекомендации, которые, хоть и не обязательны, но точно сделают ревью лучше\n",
    "    <br />\n",
    "    </font>\n",
    "\n",
    "</div>\n",
    "    \n",
    "<div class=\"alert alert-danger\">\n",
    "<font size=\"3\"><b>❌ Пример оформления комментария к блоку(строке) программного кода (или выводу), который стоит переделать</b></font>\n",
    "    <br /> \n",
    "    <font size=\"2\", color = \"black\">\n",
    "<br />\n",
    "    Отправлен не тот проект, напиши в своих комментариях, что случилось? жду — <b>это пример</b>\n",
    "    <br />\n",
    "    </font>\n",
    "\n",
    "</div>\n",
    "    \n",
    "<div class=\"alert alert-success\">\n",
    "<font size=\"4\"><b>✔️ Пример оформления комментария, который нравится большинству студентов</b></font>\n",
    "    <br /> \n",
    "    <font size=\"3\", color = \"black\">\n",
    "<br />\n",
    "    Круто, молодец, отлично, логично, или — 👌, 👍, или — выводы отвечают на все вопросы к данным и проекту\n",
    "    <br />\n",
    "    </font>\n",
    "\n",
    "</div>"
   ]
  },
  {
   "cell_type": "markdown",
   "metadata": {},
   "source": [
    "<font size=\"4\"><b>Анализ данных по продажам игр для построения модели продаж в 2017 году </b></font>\n",
    "<br><br>\n",
    "В проекте по данным о продажах игр за 30 лет я спрогнозирую продажи в 2017 году: выберу перспективную платформу, проведу тесты и проверю гипотезы.\n",
    "\n",
    "<b>На первом этапе я планирую подготовить данные для последующего анализа:</b>\n",
    "\n",
    "- провести необходимые замены\n",
    "- преобразовать данные\n",
    "- при необходимости обработать пропуски\n",
    "\n",
    "<b>На следующем этапе я проведу иссдедовательский анализ данных:</b>\n",
    "\n",
    "- проссумирую продажи по всем регионам\n",
    "- сколько игр выпускалось по годам\n",
    "- как менялись продажи в зависимости от платформы\n",
    "- как быстро появляются и исчезают новые игровые платформы\n",
    "- какие платформы лидируют, а какие падают\n",
    "- определю акутальный период, на основе которого строить прогноз\n",
    "- проверю, как на продажи влияют отзывы пользователей и критиков\n",
    "- определю прибыльные жанры\n",
    "\n",
    "<b>Далее составлю портрет пользователя для каждого региона</b>\n",
    "\n",
    "- для каждого региона отберу топ5 популярных платформ\n",
    "- для каждого региона отберу топ5 популярных жанров\n",
    "- проверю как влияют рейтинги ESRB на продажи в каждом регионе\n",
    "\n",
    "<b>Проверка гипотез</b>\n",
    "\n",
    "- Средние пользовательские рейтинги платформ Xbox One и PC одинаковые;\n",
    "- Средние пользовательские рейтинги жанров Action (англ. «действие», экшен-игры) и Sports (англ. «спортивные соревнования») разные."
   ]
  },
  {
   "cell_type": "markdown",
   "metadata": {},
   "source": [
    "<div class=\"alert alert-danger\">\n",
    "<font size=\"4\"><b>❌ Комментарий ревьюера</b></font>\n",
    "    <br /> \n",
    "    <font size=\"3\", color = \"black\">\n",
    "<br />\n",
    "Название придаст вес проекту\n",
    "        \n",
    "Четкий план работ и перечень основных задач позволит коллегам быстрее вникнуть в суть проекта, да и самому будет легче идти к главной цели проекта\n",
    "        \n",
    "<b> Исправлено</b>"
   ]
  },
  {
   "cell_type": "markdown",
   "metadata": {},
   "source": [
    "<b>Шаг 1 - открыть файл, изучить информацию</b>"
   ]
  },
  {
   "cell_type": "code",
   "execution_count": 1,
   "metadata": {},
   "outputs": [],
   "source": [
    "import pandas as pd"
   ]
  },
  {
   "cell_type": "code",
   "execution_count": 2,
   "metadata": {},
   "outputs": [],
   "source": [
    "%matplotlib inline\n",
    "#%matplotlib notebook - включить, если понадобится собрать графики в одном окне\n",
    "import matplotlib.pyplot as plt "
   ]
  },
  {
   "cell_type": "code",
   "execution_count": 3,
   "metadata": {},
   "outputs": [],
   "source": [
    "from scipy import stats as st"
   ]
  },
  {
   "cell_type": "code",
   "execution_count": 6,
   "metadata": {},
   "outputs": [],
   "source": [
    "data = pd.read_csv("https://raw.githubusercontent.com/vvd-debug/games_spb/main/datasets/games.csv")
)"
   ]
  },
  {
   "cell_type": "code",
   "execution_count": 8,
   "metadata": {},
   "outputs": [
    {
     "data": {
      "text/html": [
       "<div>\n",
       "<style scoped>\n",
       "    .dataframe tbody tr th:only-of-type {\n",
       "        vertical-align: middle;\n",
       "    }\n",
       "\n",
       "    .dataframe tbody tr th {\n",
       "        vertical-align: top;\n",
       "    }\n",
       "\n",
       "    .dataframe thead th {\n",
       "        text-align: right;\n",
       "    }\n",
       "</style>\n",
       "<table border=\"1\" class=\"dataframe\">\n",
       "  <thead>\n",
       "    <tr style=\"text-align: right;\">\n",
       "      <th></th>\n",
       "      <th>Name</th>\n",
       "      <th>Platform</th>\n",
       "      <th>Year_of_Release</th>\n",
       "      <th>Genre</th>\n",
       "      <th>NA_sales</th>\n",
       "      <th>EU_sales</th>\n",
       "      <th>JP_sales</th>\n",
       "      <th>Other_sales</th>\n",
       "      <th>Critic_Score</th>\n",
       "      <th>User_Score</th>\n",
       "      <th>Rating</th>\n",
       "    </tr>\n",
       "  </thead>\n",
       "  <tbody>\n",
       "    <tr>\n",
       "      <th>0</th>\n",
       "      <td>Wii Sports</td>\n",
       "      <td>Wii</td>\n",
       "      <td>2006.0</td>\n",
       "      <td>Sports</td>\n",
       "      <td>41.36</td>\n",
       "      <td>28.96</td>\n",
       "      <td>3.77</td>\n",
       "      <td>8.45</td>\n",
       "      <td>76.0</td>\n",
       "      <td>8</td>\n",
       "      <td>E</td>\n",
       "    </tr>\n",
       "    <tr>\n",
       "      <th>1</th>\n",
       "      <td>Super Mario Bros.</td>\n",
       "      <td>NES</td>\n",
       "      <td>1985.0</td>\n",
       "      <td>Platform</td>\n",
       "      <td>29.08</td>\n",
       "      <td>3.58</td>\n",
       "      <td>6.81</td>\n",
       "      <td>0.77</td>\n",
       "      <td>NaN</td>\n",
       "      <td>NaN</td>\n",
       "      <td>NaN</td>\n",
       "    </tr>\n",
       "    <tr>\n",
       "      <th>2</th>\n",
       "      <td>Mario Kart Wii</td>\n",
       "      <td>Wii</td>\n",
       "      <td>2008.0</td>\n",
       "      <td>Racing</td>\n",
       "      <td>15.68</td>\n",
       "      <td>12.76</td>\n",
       "      <td>3.79</td>\n",
       "      <td>3.29</td>\n",
       "      <td>82.0</td>\n",
       "      <td>8.3</td>\n",
       "      <td>E</td>\n",
       "    </tr>\n",
       "    <tr>\n",
       "      <th>3</th>\n",
       "      <td>Wii Sports Resort</td>\n",
       "      <td>Wii</td>\n",
       "      <td>2009.0</td>\n",
       "      <td>Sports</td>\n",
       "      <td>15.61</td>\n",
       "      <td>10.93</td>\n",
       "      <td>3.28</td>\n",
       "      <td>2.95</td>\n",
       "      <td>80.0</td>\n",
       "      <td>8</td>\n",
       "      <td>E</td>\n",
       "    </tr>\n",
       "    <tr>\n",
       "      <th>4</th>\n",
       "      <td>Pokemon Red/Pokemon Blue</td>\n",
       "      <td>GB</td>\n",
       "      <td>1996.0</td>\n",
       "      <td>Role-Playing</td>\n",
       "      <td>11.27</td>\n",
       "      <td>8.89</td>\n",
       "      <td>10.22</td>\n",
       "      <td>1.00</td>\n",
       "      <td>NaN</td>\n",
       "      <td>NaN</td>\n",
       "      <td>NaN</td>\n",
       "    </tr>\n",
       "    <tr>\n",
       "      <th>...</th>\n",
       "      <td>...</td>\n",
       "      <td>...</td>\n",
       "      <td>...</td>\n",
       "      <td>...</td>\n",
       "      <td>...</td>\n",
       "      <td>...</td>\n",
       "      <td>...</td>\n",
       "      <td>...</td>\n",
       "      <td>...</td>\n",
       "      <td>...</td>\n",
       "      <td>...</td>\n",
       "    </tr>\n",
       "    <tr>\n",
       "      <th>16710</th>\n",
       "      <td>Samurai Warriors: Sanada Maru</td>\n",
       "      <td>PS3</td>\n",
       "      <td>2016.0</td>\n",
       "      <td>Action</td>\n",
       "      <td>0.00</td>\n",
       "      <td>0.00</td>\n",
       "      <td>0.01</td>\n",
       "      <td>0.00</td>\n",
       "      <td>NaN</td>\n",
       "      <td>NaN</td>\n",
       "      <td>NaN</td>\n",
       "    </tr>\n",
       "    <tr>\n",
       "      <th>16711</th>\n",
       "      <td>LMA Manager 2007</td>\n",
       "      <td>X360</td>\n",
       "      <td>2006.0</td>\n",
       "      <td>Sports</td>\n",
       "      <td>0.00</td>\n",
       "      <td>0.01</td>\n",
       "      <td>0.00</td>\n",
       "      <td>0.00</td>\n",
       "      <td>NaN</td>\n",
       "      <td>NaN</td>\n",
       "      <td>NaN</td>\n",
       "    </tr>\n",
       "    <tr>\n",
       "      <th>16712</th>\n",
       "      <td>Haitaka no Psychedelica</td>\n",
       "      <td>PSV</td>\n",
       "      <td>2016.0</td>\n",
       "      <td>Adventure</td>\n",
       "      <td>0.00</td>\n",
       "      <td>0.00</td>\n",
       "      <td>0.01</td>\n",
       "      <td>0.00</td>\n",
       "      <td>NaN</td>\n",
       "      <td>NaN</td>\n",
       "      <td>NaN</td>\n",
       "    </tr>\n",
       "    <tr>\n",
       "      <th>16713</th>\n",
       "      <td>Spirits &amp; Spells</td>\n",
       "      <td>GBA</td>\n",
       "      <td>2003.0</td>\n",
       "      <td>Platform</td>\n",
       "      <td>0.01</td>\n",
       "      <td>0.00</td>\n",
       "      <td>0.00</td>\n",
       "      <td>0.00</td>\n",
       "      <td>NaN</td>\n",
       "      <td>NaN</td>\n",
       "      <td>NaN</td>\n",
       "    </tr>\n",
       "    <tr>\n",
       "      <th>16714</th>\n",
       "      <td>Winning Post 8 2016</td>\n",
       "      <td>PSV</td>\n",
       "      <td>2016.0</td>\n",
       "      <td>Simulation</td>\n",
       "      <td>0.00</td>\n",
       "      <td>0.00</td>\n",
       "      <td>0.01</td>\n",
       "      <td>0.00</td>\n",
       "      <td>NaN</td>\n",
       "      <td>NaN</td>\n",
       "      <td>NaN</td>\n",
       "    </tr>\n",
       "  </tbody>\n",
       "</table>\n",
       "<p>16715 rows × 11 columns</p>\n",
       "</div>"
      ],
      "text/plain": [
       "                                Name Platform  Year_of_Release         Genre  \\\n",
       "0                         Wii Sports      Wii           2006.0        Sports   \n",
       "1                  Super Mario Bros.      NES           1985.0      Platform   \n",
       "2                     Mario Kart Wii      Wii           2008.0        Racing   \n",
       "3                  Wii Sports Resort      Wii           2009.0        Sports   \n",
       "4           Pokemon Red/Pokemon Blue       GB           1996.0  Role-Playing   \n",
       "...                              ...      ...              ...           ...   \n",
       "16710  Samurai Warriors: Sanada Maru      PS3           2016.0        Action   \n",
       "16711               LMA Manager 2007     X360           2006.0        Sports   \n",
       "16712        Haitaka no Psychedelica      PSV           2016.0     Adventure   \n",
       "16713               Spirits & Spells      GBA           2003.0      Platform   \n",
       "16714            Winning Post 8 2016      PSV           2016.0    Simulation   \n",
       "\n",
       "       NA_sales  EU_sales  JP_sales  Other_sales  Critic_Score User_Score  \\\n",
       "0         41.36     28.96      3.77         8.45          76.0          8   \n",
       "1         29.08      3.58      6.81         0.77           NaN        NaN   \n",
       "2         15.68     12.76      3.79         3.29          82.0        8.3   \n",
       "3         15.61     10.93      3.28         2.95          80.0          8   \n",
       "4         11.27      8.89     10.22         1.00           NaN        NaN   \n",
       "...         ...       ...       ...          ...           ...        ...   \n",
       "16710      0.00      0.00      0.01         0.00           NaN        NaN   \n",
       "16711      0.00      0.01      0.00         0.00           NaN        NaN   \n",
       "16712      0.00      0.00      0.01         0.00           NaN        NaN   \n",
       "16713      0.01      0.00      0.00         0.00           NaN        NaN   \n",
       "16714      0.00      0.00      0.01         0.00           NaN        NaN   \n",
       "\n",
       "      Rating  \n",
       "0          E  \n",
       "1        NaN  \n",
       "2          E  \n",
       "3          E  \n",
       "4        NaN  \n",
       "...      ...  \n",
       "16710    NaN  \n",
       "16711    NaN  \n",
       "16712    NaN  \n",
       "16713    NaN  \n",
       "16714    NaN  \n",
       "\n",
       "[16715 rows x 11 columns]"
      ]
     },
     "execution_count": 8,
     "metadata": {},
     "output_type": "execute_result"
    }
   ],
   "source": [
    "data"
   ]
  },
  {
   "cell_type": "markdown",
   "metadata": {},
   "source": [
    "загрузили необходимые для анализа библиотеки, загрузили таблицу"
   ]
  },
  {
   "cell_type": "code",
   "execution_count": 9,
   "metadata": {
    "scrolled": true
   },
   "outputs": [
    {
     "name": "stdout",
     "output_type": "stream",
     "text": [
      "<class 'pandas.core.frame.DataFrame'>\n",
      "RangeIndex: 16715 entries, 0 to 16714\n",
      "Data columns (total 11 columns):\n",
      " #   Column           Non-Null Count  Dtype  \n",
      "---  ------           --------------  -----  \n",
      " 0   Name             16713 non-null  object \n",
      " 1   Platform         16715 non-null  object \n",
      " 2   Year_of_Release  16446 non-null  float64\n",
      " 3   Genre            16713 non-null  object \n",
      " 4   NA_sales         16715 non-null  float64\n",
      " 5   EU_sales         16715 non-null  float64\n",
      " 6   JP_sales         16715 non-null  float64\n",
      " 7   Other_sales      16715 non-null  float64\n",
      " 8   Critic_Score     8137 non-null   float64\n",
      " 9   User_Score       10014 non-null  object \n",
      " 10  Rating           9949 non-null   object \n",
      "dtypes: float64(6), object(5)\n",
      "memory usage: 1.4+ MB\n"
     ]
    }
   ],
   "source": [
    "data.info()"
   ]
  },
  {
   "cell_type": "code",
   "execution_count": 10,
   "metadata": {},
   "outputs": [
    {
     "data": {
      "text/html": [
       "<div>\n",
       "<style scoped>\n",
       "    .dataframe tbody tr th:only-of-type {\n",
       "        vertical-align: middle;\n",
       "    }\n",
       "\n",
       "    .dataframe tbody tr th {\n",
       "        vertical-align: top;\n",
       "    }\n",
       "\n",
       "    .dataframe thead th {\n",
       "        text-align: right;\n",
       "    }\n",
       "</style>\n",
       "<table border=\"1\" class=\"dataframe\">\n",
       "  <thead>\n",
       "    <tr style=\"text-align: right;\">\n",
       "      <th></th>\n",
       "      <th>Year_of_Release</th>\n",
       "      <th>NA_sales</th>\n",
       "      <th>EU_sales</th>\n",
       "      <th>JP_sales</th>\n",
       "      <th>Other_sales</th>\n",
       "      <th>Critic_Score</th>\n",
       "    </tr>\n",
       "  </thead>\n",
       "  <tbody>\n",
       "    <tr>\n",
       "      <th>count</th>\n",
       "      <td>16446.000000</td>\n",
       "      <td>16715.000000</td>\n",
       "      <td>16715.000000</td>\n",
       "      <td>16715.000000</td>\n",
       "      <td>16715.000000</td>\n",
       "      <td>8137.000000</td>\n",
       "    </tr>\n",
       "    <tr>\n",
       "      <th>mean</th>\n",
       "      <td>2006.484616</td>\n",
       "      <td>0.263377</td>\n",
       "      <td>0.145060</td>\n",
       "      <td>0.077617</td>\n",
       "      <td>0.047342</td>\n",
       "      <td>68.967679</td>\n",
       "    </tr>\n",
       "    <tr>\n",
       "      <th>std</th>\n",
       "      <td>5.877050</td>\n",
       "      <td>0.813604</td>\n",
       "      <td>0.503339</td>\n",
       "      <td>0.308853</td>\n",
       "      <td>0.186731</td>\n",
       "      <td>13.938165</td>\n",
       "    </tr>\n",
       "    <tr>\n",
       "      <th>min</th>\n",
       "      <td>1980.000000</td>\n",
       "      <td>0.000000</td>\n",
       "      <td>0.000000</td>\n",
       "      <td>0.000000</td>\n",
       "      <td>0.000000</td>\n",
       "      <td>13.000000</td>\n",
       "    </tr>\n",
       "    <tr>\n",
       "      <th>25%</th>\n",
       "      <td>2003.000000</td>\n",
       "      <td>0.000000</td>\n",
       "      <td>0.000000</td>\n",
       "      <td>0.000000</td>\n",
       "      <td>0.000000</td>\n",
       "      <td>60.000000</td>\n",
       "    </tr>\n",
       "    <tr>\n",
       "      <th>50%</th>\n",
       "      <td>2007.000000</td>\n",
       "      <td>0.080000</td>\n",
       "      <td>0.020000</td>\n",
       "      <td>0.000000</td>\n",
       "      <td>0.010000</td>\n",
       "      <td>71.000000</td>\n",
       "    </tr>\n",
       "    <tr>\n",
       "      <th>75%</th>\n",
       "      <td>2010.000000</td>\n",
       "      <td>0.240000</td>\n",
       "      <td>0.110000</td>\n",
       "      <td>0.040000</td>\n",
       "      <td>0.030000</td>\n",
       "      <td>79.000000</td>\n",
       "    </tr>\n",
       "    <tr>\n",
       "      <th>max</th>\n",
       "      <td>2016.000000</td>\n",
       "      <td>41.360000</td>\n",
       "      <td>28.960000</td>\n",
       "      <td>10.220000</td>\n",
       "      <td>10.570000</td>\n",
       "      <td>98.000000</td>\n",
       "    </tr>\n",
       "  </tbody>\n",
       "</table>\n",
       "</div>"
      ],
      "text/plain": [
       "       Year_of_Release      NA_sales      EU_sales      JP_sales  \\\n",
       "count     16446.000000  16715.000000  16715.000000  16715.000000   \n",
       "mean       2006.484616      0.263377      0.145060      0.077617   \n",
       "std           5.877050      0.813604      0.503339      0.308853   \n",
       "min        1980.000000      0.000000      0.000000      0.000000   \n",
       "25%        2003.000000      0.000000      0.000000      0.000000   \n",
       "50%        2007.000000      0.080000      0.020000      0.000000   \n",
       "75%        2010.000000      0.240000      0.110000      0.040000   \n",
       "max        2016.000000     41.360000     28.960000     10.220000   \n",
       "\n",
       "        Other_sales  Critic_Score  \n",
       "count  16715.000000   8137.000000  \n",
       "mean       0.047342     68.967679  \n",
       "std        0.186731     13.938165  \n",
       "min        0.000000     13.000000  \n",
       "25%        0.000000     60.000000  \n",
       "50%        0.010000     71.000000  \n",
       "75%        0.030000     79.000000  \n",
       "max       10.570000     98.000000  "
      ]
     },
     "execution_count": 10,
     "metadata": {},
     "output_type": "execute_result"
    }
   ],
   "source": [
    "data.describe()"
   ]
  },
  {
   "cell_type": "markdown",
   "metadata": {},
   "source": [
    "есть сильные выбросы по числу проданных игр, хотя средние и медаинные значения не превышают 1 млн, максимальные значения составляют от 10 до 40 млн"
   ]
  },
  {
   "cell_type": "markdown",
   "metadata": {},
   "source": [
    "<div class=\"alert alert-success\">\n",
    "<font size=\"4\", color= \"seagreen\"><b>✔️ Комментарий ревьюера</b></font>\n",
    "    <br /> \n",
    "    <font size=\"3\", color = \"black\">\n",
    "<br /> загрузка и первичное знакомство с данными проведены корректно"
   ]
  },
  {
   "cell_type": "markdown",
   "metadata": {},
   "source": [
    "<b>Шаг 2 - подготовка данных</b>"
   ]
  },
  {
   "cell_type": "code",
   "execution_count": 11,
   "metadata": {},
   "outputs": [],
   "source": [
    "data.columns = data.columns.str.lower()"
   ]
  },
  {
   "cell_type": "markdown",
   "metadata": {},
   "source": [
    "заменил в названиях столбцов заглавные буквы на строчные"
   ]
  },
  {
   "cell_type": "markdown",
   "metadata": {},
   "source": [
    "<div style=\"border:solid steelblue 3px; padding: 20px\">\n",
    "<font size=\"4\">🍕<b> Комментарий ревьюера</b></font>\n",
    "<br /> \n",
    "<font size=\"3\", color = \"black\">\n",
    "<br />\n",
    "      можно\n",
    "\n",
    "    games.columns = games.columns.str.lower()\n",
    "\n",
    "<b>Исправил</b>"
   ]
  },
  {
   "cell_type": "code",
   "execution_count": 12,
   "metadata": {},
   "outputs": [
    {
     "data": {
      "text/html": [
       "<div>\n",
       "<style scoped>\n",
       "    .dataframe tbody tr th:only-of-type {\n",
       "        vertical-align: middle;\n",
       "    }\n",
       "\n",
       "    .dataframe tbody tr th {\n",
       "        vertical-align: top;\n",
       "    }\n",
       "\n",
       "    .dataframe thead th {\n",
       "        text-align: right;\n",
       "    }\n",
       "</style>\n",
       "<table border=\"1\" class=\"dataframe\">\n",
       "  <thead>\n",
       "    <tr style=\"text-align: right;\">\n",
       "      <th></th>\n",
       "      <th>name</th>\n",
       "      <th>platform</th>\n",
       "      <th>year_of_release</th>\n",
       "      <th>genre</th>\n",
       "      <th>na_sales</th>\n",
       "      <th>eu_sales</th>\n",
       "      <th>jp_sales</th>\n",
       "      <th>other_sales</th>\n",
       "      <th>critic_score</th>\n",
       "      <th>user_score</th>\n",
       "      <th>rating</th>\n",
       "    </tr>\n",
       "  </thead>\n",
       "  <tbody>\n",
       "    <tr>\n",
       "      <th>0</th>\n",
       "      <td>Wii Sports</td>\n",
       "      <td>Wii</td>\n",
       "      <td>2006.0</td>\n",
       "      <td>Sports</td>\n",
       "      <td>41.36</td>\n",
       "      <td>28.96</td>\n",
       "      <td>3.77</td>\n",
       "      <td>8.45</td>\n",
       "      <td>76.0</td>\n",
       "      <td>8</td>\n",
       "      <td>E</td>\n",
       "    </tr>\n",
       "    <tr>\n",
       "      <th>1</th>\n",
       "      <td>Super Mario Bros.</td>\n",
       "      <td>NES</td>\n",
       "      <td>1985.0</td>\n",
       "      <td>Platform</td>\n",
       "      <td>29.08</td>\n",
       "      <td>3.58</td>\n",
       "      <td>6.81</td>\n",
       "      <td>0.77</td>\n",
       "      <td>NaN</td>\n",
       "      <td>NaN</td>\n",
       "      <td>NaN</td>\n",
       "    </tr>\n",
       "    <tr>\n",
       "      <th>2</th>\n",
       "      <td>Mario Kart Wii</td>\n",
       "      <td>Wii</td>\n",
       "      <td>2008.0</td>\n",
       "      <td>Racing</td>\n",
       "      <td>15.68</td>\n",
       "      <td>12.76</td>\n",
       "      <td>3.79</td>\n",
       "      <td>3.29</td>\n",
       "      <td>82.0</td>\n",
       "      <td>8.3</td>\n",
       "      <td>E</td>\n",
       "    </tr>\n",
       "    <tr>\n",
       "      <th>3</th>\n",
       "      <td>Wii Sports Resort</td>\n",
       "      <td>Wii</td>\n",
       "      <td>2009.0</td>\n",
       "      <td>Sports</td>\n",
       "      <td>15.61</td>\n",
       "      <td>10.93</td>\n",
       "      <td>3.28</td>\n",
       "      <td>2.95</td>\n",
       "      <td>80.0</td>\n",
       "      <td>8</td>\n",
       "      <td>E</td>\n",
       "    </tr>\n",
       "    <tr>\n",
       "      <th>4</th>\n",
       "      <td>Pokemon Red/Pokemon Blue</td>\n",
       "      <td>GB</td>\n",
       "      <td>1996.0</td>\n",
       "      <td>Role-Playing</td>\n",
       "      <td>11.27</td>\n",
       "      <td>8.89</td>\n",
       "      <td>10.22</td>\n",
       "      <td>1.00</td>\n",
       "      <td>NaN</td>\n",
       "      <td>NaN</td>\n",
       "      <td>NaN</td>\n",
       "    </tr>\n",
       "  </tbody>\n",
       "</table>\n",
       "</div>"
      ],
      "text/plain": [
       "                       name platform  year_of_release         genre  na_sales  \\\n",
       "0                Wii Sports      Wii           2006.0        Sports     41.36   \n",
       "1         Super Mario Bros.      NES           1985.0      Platform     29.08   \n",
       "2            Mario Kart Wii      Wii           2008.0        Racing     15.68   \n",
       "3         Wii Sports Resort      Wii           2009.0        Sports     15.61   \n",
       "4  Pokemon Red/Pokemon Blue       GB           1996.0  Role-Playing     11.27   \n",
       "\n",
       "   eu_sales  jp_sales  other_sales  critic_score user_score rating  \n",
       "0     28.96      3.77         8.45          76.0          8      E  \n",
       "1      3.58      6.81         0.77           NaN        NaN    NaN  \n",
       "2     12.76      3.79         3.29          82.0        8.3      E  \n",
       "3     10.93      3.28         2.95          80.0          8      E  \n",
       "4      8.89     10.22         1.00           NaN        NaN    NaN  "
      ]
     },
     "execution_count": 12,
     "metadata": {},
     "output_type": "execute_result"
    }
   ],
   "source": [
    "pd.to_numeric(data['year_of_release'], errors='coerce') #= pd.to_datetime(data['year_of_release'], format='%Y'\n",
    "data.head()"
   ]
  },
  {
   "cell_type": "code",
   "execution_count": 13,
   "metadata": {},
   "outputs": [
    {
     "name": "stdout",
     "output_type": "stream",
     "text": [
      "<class 'pandas.core.frame.DataFrame'>\n",
      "RangeIndex: 16715 entries, 0 to 16714\n",
      "Data columns (total 11 columns):\n",
      " #   Column           Non-Null Count  Dtype  \n",
      "---  ------           --------------  -----  \n",
      " 0   name             16713 non-null  object \n",
      " 1   platform         16715 non-null  object \n",
      " 2   year_of_release  16446 non-null  float64\n",
      " 3   genre            16713 non-null  object \n",
      " 4   na_sales         16715 non-null  float64\n",
      " 5   eu_sales         16715 non-null  float64\n",
      " 6   jp_sales         16715 non-null  float64\n",
      " 7   other_sales      16715 non-null  float64\n",
      " 8   critic_score     8137 non-null   float64\n",
      " 9   user_score       10014 non-null  object \n",
      " 10  rating           9949 non-null   object \n",
      "dtypes: float64(6), object(5)\n",
      "memory usage: 1.4+ MB\n"
     ]
    }
   ],
   "source": [
    "data.info()"
   ]
  },
  {
   "cell_type": "code",
   "execution_count": 14,
   "metadata": {},
   "outputs": [
    {
     "data": {
      "text/plain": [
       "name                  2\n",
       "platform              0\n",
       "year_of_release     269\n",
       "genre                 2\n",
       "na_sales              0\n",
       "eu_sales              0\n",
       "jp_sales              0\n",
       "other_sales           0\n",
       "critic_score       8578\n",
       "user_score         6701\n",
       "rating             6766\n",
       "dtype: int64"
      ]
     },
     "execution_count": 14,
     "metadata": {},
     "output_type": "execute_result"
    }
   ],
   "source": [
    "data.isna().sum()"
   ]
  },
  {
   "cell_type": "code",
   "execution_count": 15,
   "metadata": {},
   "outputs": [
    {
     "data": {
      "text/plain": [
       "name                  0\n",
       "platform              0\n",
       "year_of_release       0\n",
       "genre                 0\n",
       "na_sales              0\n",
       "eu_sales              0\n",
       "jp_sales              0\n",
       "other_sales           0\n",
       "critic_score       8461\n",
       "user_score         6605\n",
       "rating             6676\n",
       "dtype: int64"
      ]
     },
     "execution_count": 15,
     "metadata": {},
     "output_type": "execute_result"
    }
   ],
   "source": [
    "data = data.dropna(subset=['name', 'year_of_release', 'genre']).copy()\n",
    "data.isna().sum()"
   ]
  },
  {
   "cell_type": "markdown",
   "metadata": {},
   "source": [
    "удалил пропуски в годах, жанрах и названиях игр - их совсем немного, поэтому на анализ данных они не повлияют, но могут сильно усложнить обработку данных"
   ]
  },
  {
   "cell_type": "code",
   "execution_count": 16,
   "metadata": {},
   "outputs": [],
   "source": [
    "data['year_of_release'] = data['year_of_release'].astype('int64')"
   ]
  },
  {
   "cell_type": "markdown",
   "metadata": {},
   "source": [
    "год выпуска перевел в целочисленный формат"
   ]
  },
  {
   "cell_type": "code",
   "execution_count": 17,
   "metadata": {},
   "outputs": [
    {
     "name": "stdout",
     "output_type": "stream",
     "text": [
      "<class 'pandas.core.frame.DataFrame'>\n",
      "Int64Index: 16444 entries, 0 to 16714\n",
      "Data columns (total 11 columns):\n",
      " #   Column           Non-Null Count  Dtype  \n",
      "---  ------           --------------  -----  \n",
      " 0   name             16444 non-null  object \n",
      " 1   platform         16444 non-null  object \n",
      " 2   year_of_release  16444 non-null  int64  \n",
      " 3   genre            16444 non-null  object \n",
      " 4   na_sales         16444 non-null  float64\n",
      " 5   eu_sales         16444 non-null  float64\n",
      " 6   jp_sales         16444 non-null  float64\n",
      " 7   other_sales      16444 non-null  float64\n",
      " 8   critic_score     7983 non-null   float64\n",
      " 9   user_score       9839 non-null   object \n",
      " 10  rating           9768 non-null   object \n",
      "dtypes: float64(5), int64(1), object(5)\n",
      "memory usage: 1.5+ MB\n"
     ]
    }
   ],
   "source": [
    "data.info()"
   ]
  },
  {
   "cell_type": "code",
   "execution_count": 18,
   "metadata": {},
   "outputs": [
    {
     "data": {
      "text/html": [
       "<div>\n",
       "<style scoped>\n",
       "    .dataframe tbody tr th:only-of-type {\n",
       "        vertical-align: middle;\n",
       "    }\n",
       "\n",
       "    .dataframe tbody tr th {\n",
       "        vertical-align: top;\n",
       "    }\n",
       "\n",
       "    .dataframe thead th {\n",
       "        text-align: right;\n",
       "    }\n",
       "</style>\n",
       "<table border=\"1\" class=\"dataframe\">\n",
       "  <thead>\n",
       "    <tr style=\"text-align: right;\">\n",
       "      <th></th>\n",
       "      <th>year_of_release</th>\n",
       "      <th>na_sales</th>\n",
       "      <th>eu_sales</th>\n",
       "      <th>jp_sales</th>\n",
       "      <th>other_sales</th>\n",
       "      <th>critic_score</th>\n",
       "    </tr>\n",
       "  </thead>\n",
       "  <tbody>\n",
       "    <tr>\n",
       "      <th>count</th>\n",
       "      <td>16444.000000</td>\n",
       "      <td>16444.000000</td>\n",
       "      <td>16444.000000</td>\n",
       "      <td>16444.000000</td>\n",
       "      <td>16444.000000</td>\n",
       "      <td>7983.000000</td>\n",
       "    </tr>\n",
       "    <tr>\n",
       "      <th>mean</th>\n",
       "      <td>2006.486256</td>\n",
       "      <td>0.264012</td>\n",
       "      <td>0.145930</td>\n",
       "      <td>0.078487</td>\n",
       "      <td>0.047594</td>\n",
       "      <td>68.994363</td>\n",
       "    </tr>\n",
       "    <tr>\n",
       "      <th>std</th>\n",
       "      <td>5.875525</td>\n",
       "      <td>0.818378</td>\n",
       "      <td>0.506716</td>\n",
       "      <td>0.311100</td>\n",
       "      <td>0.188005</td>\n",
       "      <td>13.920060</td>\n",
       "    </tr>\n",
       "    <tr>\n",
       "      <th>min</th>\n",
       "      <td>1980.000000</td>\n",
       "      <td>0.000000</td>\n",
       "      <td>0.000000</td>\n",
       "      <td>0.000000</td>\n",
       "      <td>0.000000</td>\n",
       "      <td>13.000000</td>\n",
       "    </tr>\n",
       "    <tr>\n",
       "      <th>25%</th>\n",
       "      <td>2003.000000</td>\n",
       "      <td>0.000000</td>\n",
       "      <td>0.000000</td>\n",
       "      <td>0.000000</td>\n",
       "      <td>0.000000</td>\n",
       "      <td>60.000000</td>\n",
       "    </tr>\n",
       "    <tr>\n",
       "      <th>50%</th>\n",
       "      <td>2007.000000</td>\n",
       "      <td>0.080000</td>\n",
       "      <td>0.020000</td>\n",
       "      <td>0.000000</td>\n",
       "      <td>0.010000</td>\n",
       "      <td>71.000000</td>\n",
       "    </tr>\n",
       "    <tr>\n",
       "      <th>75%</th>\n",
       "      <td>2010.000000</td>\n",
       "      <td>0.240000</td>\n",
       "      <td>0.110000</td>\n",
       "      <td>0.040000</td>\n",
       "      <td>0.030000</td>\n",
       "      <td>79.000000</td>\n",
       "    </tr>\n",
       "    <tr>\n",
       "      <th>max</th>\n",
       "      <td>2016.000000</td>\n",
       "      <td>41.360000</td>\n",
       "      <td>28.960000</td>\n",
       "      <td>10.220000</td>\n",
       "      <td>10.570000</td>\n",
       "      <td>98.000000</td>\n",
       "    </tr>\n",
       "  </tbody>\n",
       "</table>\n",
       "</div>"
      ],
      "text/plain": [
       "       year_of_release      na_sales      eu_sales      jp_sales  \\\n",
       "count     16444.000000  16444.000000  16444.000000  16444.000000   \n",
       "mean       2006.486256      0.264012      0.145930      0.078487   \n",
       "std           5.875525      0.818378      0.506716      0.311100   \n",
       "min        1980.000000      0.000000      0.000000      0.000000   \n",
       "25%        2003.000000      0.000000      0.000000      0.000000   \n",
       "50%        2007.000000      0.080000      0.020000      0.000000   \n",
       "75%        2010.000000      0.240000      0.110000      0.040000   \n",
       "max        2016.000000     41.360000     28.960000     10.220000   \n",
       "\n",
       "        other_sales  critic_score  \n",
       "count  16444.000000   7983.000000  \n",
       "mean       0.047594     68.994363  \n",
       "std        0.188005     13.920060  \n",
       "min        0.000000     13.000000  \n",
       "25%        0.000000     60.000000  \n",
       "50%        0.010000     71.000000  \n",
       "75%        0.030000     79.000000  \n",
       "max       10.570000     98.000000  "
      ]
     },
     "execution_count": 18,
     "metadata": {},
     "output_type": "execute_result"
    }
   ],
   "source": [
    "data.describe()"
   ]
  },
  {
   "cell_type": "code",
   "execution_count": 19,
   "metadata": {},
   "outputs": [
    {
     "data": {
      "text/plain": [
       "<AxesSubplot:>"
      ]
     },
     "execution_count": 19,
     "metadata": {},
     "output_type": "execute_result"
    },
    {
     "data": {
      "image/png": "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\n",
      "text/plain": [
       "<Figure size 432x288 with 1 Axes>"
      ]
     },
     "metadata": {
      "needs_background": "light"
     },
     "output_type": "display_data"
    }
   ],
   "source": [
    "data['na_sales'].hist(bins=10, range=(0,1))"
   ]
  },
  {
   "cell_type": "code",
   "execution_count": 20,
   "metadata": {},
   "outputs": [
    {
     "data": {
      "text/plain": [
       "<AxesSubplot:>"
      ]
     },
     "execution_count": 20,
     "metadata": {},
     "output_type": "execute_result"
    },
    {
     "data": {
      "image/png": "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\n",
      "text/plain": [
       "<Figure size 432x288 with 1 Axes>"
      ]
     },
     "metadata": {
      "needs_background": "light"
     },
     "output_type": "display_data"
    }
   ],
   "source": [
    "data['eu_sales'].hist(bins=10, range=(0,1))"
   ]
  },
  {
   "cell_type": "code",
   "execution_count": 21,
   "metadata": {},
   "outputs": [
    {
     "data": {
      "text/plain": [
       "<AxesSubplot:>"
      ]
     },
     "execution_count": 21,
     "metadata": {},
     "output_type": "execute_result"
    },
    {
     "data": {
      "image/png": "iVBORw0KGgoAAAANSUhEUgAAAYMAAAD4CAYAAAAO9oqkAAAAOXRFWHRTb2Z0d2FyZQBNYXRwbG90bGliIHZlcnNpb24zLjMuNCwgaHR0cHM6Ly9tYXRwbG90bGliLm9yZy8QVMy6AAAACXBIWXMAAAsTAAALEwEAmpwYAAAVMElEQVR4nO3cf5Bd9Xnf8fcnKNjYsQ2YZIeR1IjWilsMzYTsABnPpFuTCoEziJkQDwwJwlWtmRi7bsLUgeQPdSDM4EkJNdTGVYwKeAg/QtNKU+MQDeYO046FAeMgfoSwAQxSwTgWyF1T25H79I/7lXsjr9jde+/u1e6+XzM7Ouc533PO91lhf3R+3JuqQpK0vP3EqCcgSRo9w0CSZBhIkgwDSRKGgSQJWDHqCfTrhBNOqDVr1vS173e/+13e/va3D3dCRzh7Xh6WW8/LrV8YvOdHH330b6vqpw+tL9owWLNmDY888khf+3Y6HSYmJoY7oSOcPS8Py63n5dYvDN5zkm9MV/c2kSTJMJAkGQaSJAwDSRKzCIMk25K8muSJabZdnqSSnNDWk+SGJJNJHk9yWs/YjUmebT8be+q/mGR32+eGJBlWc5Kk2ZnNlcEtwPpDi0lWA+uAF3vK5wBr289m4KY29nhgC3AGcDqwJclxbZ+bgI/07Pdj55Ikza8Zw6CqHgT2TbPpeuCTQO/Xnm4AbquuXcCxSU4EzgZ2VtW+qnoN2Amsb9veWVW7qvv1qbcB5w/UkSRpzvr6nEGSDcDeqvrLQ+7qrARe6lnf02pvVt8zTf1w591M94qDsbExOp1OP9Nnamqq730XK3teHpZbz8utX5i/nuccBkneBvwe3VtEC6qqtgJbAcbHx6vfD174QZXlwZ6XvuXWL8xfz/1cGfwj4CTg4FXBKuBrSU4H9gKre8auarW9wMQh9U6rr5pm/LzavXc/l17xxfk+zY954doPLvg5JWk25vxqaVXtrqqfqao1VbWG7q2d06rqFWAHcEl7q+hMYH9VvQzcB6xLclx7cLwOuK9t+06SM9tbRJcA24fUmyRplmbzaukdwFeA9ybZk2TTmwy/F3gOmAT+GPgoQFXtA64GHm4/V7Uabczn2z5/A3ypv1YkSf2a8TZRVV00w/Y1PcsFXHaYcduAbdPUHwFOmWkekqT54yeQJUmGgSTJMJAkYRhIkjAMJEkYBpIkDANJEoaBJAnDQJKEYSBJwjCQJGEYSJIwDCRJGAaSJAwDSRKGgSQJw0CShGEgScIwkCRhGEiSMAwkScwiDJJsS/Jqkid6an+Y5K+SPJ7kvyY5tmfblUkmkzyT5Oye+vpWm0xyRU/9pCQPtfpdSY4eYn+SpFmYzZXBLcD6Q2o7gVOq6p8Cfw1cCZDkZOBC4H1tn88mOSrJUcBngHOAk4GL2liATwHXV9V7gNeATQN1JEmasxnDoKoeBPYdUvuLqjrQVncBq9ryBuDOqvp+VT0PTAKnt5/Jqnquqn4A3AlsSBLgA8A9bf9bgfMHa0mSNFcrhnCMfwnc1ZZX0g2Hg/a0GsBLh9TPAN4NvN4TLL3jf0ySzcBmgLGxMTqdTl8THjsGLj/1wMwDh6zf+Q7D1NTUSM8/Cva89C23fmH+eh4oDJL8PnAAuH0403lzVbUV2AowPj5eExMTfR3nxtu3c93uYeTg3Lxw8cSCn/OgTqdDv7+vxcqel77l1i/MX899/z9ikkuBXwXOqqpq5b3A6p5hq1qNw9S/DRybZEW7OugdL0laIH29WppkPfBJ4LyqeqNn0w7gwiRvSXISsBb4KvAwsLa9OXQ03YfMO1qIPABc0PbfCGzvrxVJUr9m82rpHcBXgPcm2ZNkE/AfgXcAO5N8PcnnAKrqSeBu4Cngz4HLquqH7V/9HwPuA54G7m5jAX4X+J0kk3SfIdw81A4lSTOa8TZRVV00Tfmw/4ddVdcA10xTvxe4d5r6c3TfNpIkjYifQJYkGQaSJMNAkoRhIEnCMJAkYRhIkjAMJEkYBpIkDANJEoaBJAnDQJKEYSBJwjCQJGEYSJIwDCRJGAaSJAwDSRKGgSQJw0CShGEgSWIWYZBkW5JXkzzRUzs+yc4kz7Y/j2v1JLkhyWSSx5Oc1rPPxjb+2SQbe+q/mGR32+eGJBl2k5KkNzebK4NbgPWH1K4A7q+qtcD9bR3gHGBt+9kM3ATd8AC2AGcApwNbDgZIG/ORnv0OPZckaZ7NGAZV9SCw75DyBuDWtnwrcH5P/bbq2gUcm+RE4GxgZ1Xtq6rXgJ3A+rbtnVW1q6oKuK3nWJKkBdLvM4Oxqnq5Lb8CjLXllcBLPeP2tNqb1fdMU5ckLaAVgx6gqipJDWMyM0myme7tJ8bGxuh0On0dZ+wYuPzUA0Oc2ez0O99hmJqaGun5R8Gel77l1i/MX8/9hsE3k5xYVS+3Wz2vtvpeYHXPuFWttheYOKTeafVV04yfVlVtBbYCjI+P18TExOGGvqkbb9/OdbsHzsE5e+HiiQU/50GdTod+f1+LlT0vfcutX5i/nvu9TbQDOPhG0EZge0/9kvZW0ZnA/nY76T5gXZLj2oPjdcB9bdt3kpzZ3iK6pOdYkqQFMuM/j5PcQfdf9Sck2UP3raBrgbuTbAK+AXyoDb8XOBeYBN4APgxQVfuSXA083MZdVVUHH0p/lO4bS8cAX2o/kqQFNGMYVNVFh9l01jRjC7jsMMfZBmybpv4IcMpM85AkzR8/gSxJMgwkSYaBJAnDQJKEYSBJwjCQJGEYSJIwDCRJGAaSJAwDSRKGgSQJw0CShGEgScIwkCRhGEiSMAwkSRgGkiQMA0kShoEkCcNAkoRhIEliwDBI8ttJnkzyRJI7krw1yUlJHkoymeSuJEe3sW9p65Nt+5qe41zZ6s8kOXvAniRJc9R3GCRZCfxrYLyqTgGOAi4EPgVcX1XvAV4DNrVdNgGvtfr1bRxJTm77vQ9YD3w2yVH9zkuSNHeD3iZaARyTZAXwNuBl4APAPW37rcD5bXlDW6dtPytJWv3Oqvp+VT0PTAKnDzgvSdIcrOh3x6ram+TfAy8C/wf4C+BR4PWqOtCG7QFWtuWVwEtt3wNJ9gPvbvVdPYfu3efvSbIZ2AwwNjZGp9Ppa+5jx8Dlpx6YeeCQ9TvfYZiamhrp+UfBnpe+5dYvzF/PfYdBkuPo/qv+JOB14E/p3uaZN1W1FdgKMD4+XhMTE30d58bbt3Pd7r5b79sLF08s+DkP6nQ69Pv7Wqzseelbbv3C/PU8yG2iXwGer6pvVdXfAX8GvB84tt02AlgF7G3Le4HVAG37u4Bv99an2UeStAAGCYMXgTOTvK3d+z8LeAp4ALigjdkIbG/LO9o6bfuXq6pa/cL2ttFJwFrgqwPMS5I0R4M8M3goyT3A14ADwGN0b+F8EbgzyR+02s1tl5uBLySZBPbRfYOIqnoyyd10g+QAcFlV/bDfeUmS5m6gG+dVtQXYckj5OaZ5G6iqvgf8+mGOcw1wzSBzkST1z08gS5IMA0mSYSBJwjCQJGEYSJIwDCRJGAaSJAwDSRKGgSQJw0CShGEgScIwkCRhGEiSMAwkSRgGkiQMA0kShoEkCcNAkoRhIEnCMJAkYRhIkhgwDJIcm+SeJH+V5Okkv5Tk+CQ7kzzb/jyujU2SG5JMJnk8yWk9x9nYxj+bZOOgTUmS5mbQK4NPA39eVf8Y+HngaeAK4P6qWgvc39YBzgHWtp/NwE0ASY4HtgBnAKcDWw4GiCRpYfQdBkneBfwycDNAVf2gql4HNgC3tmG3Aue35Q3AbdW1Czg2yYnA2cDOqtpXVa8BO4H1/c5LkjR3KwbY9yTgW8B/TvLzwKPAJ4Cxqnq5jXkFGGvLK4GXevbf02qHq/+YJJvpXlUwNjZGp9Ppa+Jjx8Dlpx7oa99B9DvfYZiamhrp+UfBnpe+5dYvzF/Pg4TBCuA04ONV9VCST/P/bwkBUFWVpAaZ4CHH2wpsBRgfH6+JiYm+jnPj7du5bvcgrffnhYsnFvycB3U6Hfr9fS1W9rz0Lbd+Yf56HuSZwR5gT1U91NbvoRsO32y3f2h/vtq27wVW9+y/qtUOV5ckLZC+w6CqXgFeSvLeVjoLeArYARx8I2gjsL0t7wAuaW8VnQnsb7eT7gPWJTmuPThe12qSpAUy6L2SjwO3JzkaeA74MN2AuTvJJuAbwIfa2HuBc4FJ4I02lqral+Rq4OE27qqq2jfgvCRJczBQGFTV14HxaTadNc3YAi47zHG2AdsGmYskqX9+AlmSZBhIkgwDSRKGgSQJw0CShGEgScIwkCRhGEiSMAwkSRgGkiQMA0kShoEkCcNAkoRhIEnCMJAkYRhIkjAMJEkYBpIkDANJEoaBJAnDQJLEEMIgyVFJHkvy39v6SUkeSjKZ5K4kR7f6W9r6ZNu+pucYV7b6M0nOHnROkqS5GcaVwSeAp3vWPwVcX1XvAV4DNrX6JuC1Vr++jSPJycCFwPuA9cBnkxw1hHlJkmZpoDBIsgr4IPD5th7gA8A9bcitwPlteUNbp20/q43fANxZVd+vqueBSeD0QeYlSZqbFQPu/x+ATwLvaOvvBl6vqgNtfQ+wsi2vBF4CqKoDSfa38SuBXT3H7N3n70myGdgMMDY2RqfT6WvSY8fA5acemHngkPU732GYmpoa6flHwZ6XvuXWL8xfz32HQZJfBV6tqkeTTAxtRm+iqrYCWwHGx8drYqK/0954+3au2z1oDs7dCxdPLPg5D+p0OvT7+1qs7HnpW279wvz1PMj/I74fOC/JucBbgXcCnwaOTbKiXR2sAva28XuB1cCeJCuAdwHf7qkf1LuPJGkB9P3MoKqurKpVVbWG7gPgL1fVxcADwAVt2EZge1ve0dZp279cVdXqF7a3jU4C1gJf7XdekqS5m497Jb8L3JnkD4DHgJtb/WbgC0kmgX10A4SqejLJ3cBTwAHgsqr64TzMS5J0GEMJg6rqAJ22/BzTvA1UVd8Dfv0w+18DXDOMuUiS5s5PIEuSDANJkmEgScIwkCRhGEiSMAwkSRgGkiQMA0kShoEkCcNAkoRhIEnCMJAkYRhIkjAMJEkYBpIkDANJEoaBJAnDQJKEYSBJwjCQJGEYSJIYIAySrE7yQJKnkjyZ5BOtfnySnUmebX8e1+pJckOSySSPJzmt51gb2/hnk2wcvC1J0lwMcmVwALi8qk4GzgQuS3IycAVwf1WtBe5v6wDnAGvbz2bgJuiGB7AFOAM4HdhyMEAkSQuj7zCoqper6mtt+X8DTwMrgQ3ArW3YrcD5bXkDcFt17QKOTXIicDaws6r2VdVrwE5gfb/zkiTN3YphHCTJGuAXgIeAsap6uW16BRhryyuBl3p229Nqh6tPd57NdK8qGBsbo9Pp9DXfsWPg8lMP9LXvIPqd7zBMTU2N9PyjYM9L33LrF+av54HDIMlPAf8F+DdV9Z0kP9pWVZWkBj1Hz/G2AlsBxsfHa2Jioq/j3Hj7dq7bPZQcnJMXLp5Y8HMe1Ol06Pf3tVjZ89K33PqF+et5oLeJkvwk3SC4var+rJW/2W7/0P58tdX3Aqt7dl/VaoerS5IWyCBvEwW4GXi6qv6oZ9MO4OAbQRuB7T31S9pbRWcC+9vtpPuAdUmOaw+O17WaJGmBDHKv5P3AbwK7k3y91X4PuBa4O8km4BvAh9q2e4FzgUngDeDDAFW1L8nVwMNt3FVVtW+AeUmS5qjvMKiq/wHkMJvPmmZ8AZcd5ljbgG39zkWSNBg/gSxJMgwkSYaBJAnDQJKEYSBJwjCQJGEYSJIwDCRJDOlbSzU7a6744sjOfcv6t4/s3JKOfF4ZSJIMA0mSYSBJwjCQJGEYSJIwDCRJGAaSJPycwbKxe+9+Lh3B5xxeuPaDC35OSXPnlYEkyTCQJBkGkiR8ZqB55vcxSYvDERMGSdYDnwaOAj5fVdeOeEpa5HxoLs3eEREGSY4CPgP8C2AP8HCSHVX11GhnJs2dV0NajI6IMABOByar6jmAJHcCGwDDQJqDUV0Njcrlpx5YVv3C/AV+qmpeDjynSSQXAOur6l+19d8Ezqiqjx0ybjOwua2+F3imz1OeAPxtn/suVva8PCy3npdbvzB4zz9bVT99aPFIuTKYlaraCmwd9DhJHqmq8SFMadGw5+VhufW83PqF+ev5SHm1dC+wumd9VatJkhbAkRIGDwNrk5yU5GjgQmDHiOckScvGEXGbqKoOJPkYcB/dV0u3VdWT83jKgW81LUL2vDwst56XW78wTz0fEQ+QJUmjdaTcJpIkjZBhIEla2mGQZH2SZ5JMJrlimu1vSXJX2/5QkjUjmObQzKLf30nyVJLHk9yf5GdHMc9hmqnnnnG/lqSSLPrXEGfTc5IPtb/rJ5P8yULPcdhm8d/2P0jyQJLH2n/f545insOSZFuSV5M8cZjtSXJD+308nuS0gU9aVUvyh+6D6L8B/iFwNPCXwMmHjPko8Lm2fCFw16jnPc/9/nPgbW35txZzv7PtuY17B/AgsAsYH/W8F+DveS3wGHBcW/+ZUc97AXreCvxWWz4ZeGHU8x6w518GTgOeOMz2c4EvAQHOBB4a9JxL+crgR19xUVU/AA5+xUWvDcCtbfke4KwkWcA5DtOM/VbVA1X1RlvdRffzHIvZbP6OAa4GPgV8byEnN09m0/NHgM9U1WsAVfXqAs9x2GbTcwHvbMvvAv7XAs5v6KrqQWDfmwzZANxWXbuAY5OcOMg5l3IYrARe6lnf02rTjqmqA8B+4N0LMrvhm02/vTbR/ZfFYjZjz+3yeXVVLZUvsJnN3/PPAT+X5H8m2dW+EXgxm03P/w74jSR7gHuBjy/M1EZmrv97n9ER8TkDLawkvwGMA/9s1HOZT0l+Avgj4NIRT2WhraB7q2iC7tXfg0lOrarXRzmpeXYRcEtVXZfkl4AvJDmlqv7vqCe2WCzlK4PZfMXFj8YkWUH38vLbCzK74ZvVV3ok+RXg94Hzqur7CzS3+TJTz+8ATgE6SV6ge291xyJ/iDybv+c9wI6q+ruqeh74a7rhsFjNpudNwN0AVfUV4K10v9BtqRr6V/gs5TCYzVdc7AA2tuULgC9XezqzCM3Yb5JfAP4T3SBY7PeRYYaeq2p/VZ1QVWuqag3d5yTnVdUjo5nuUMzmv+v/RveqgCQn0L1t9NwCznHYZtPzi8BZAEn+Cd0w+NaCznJh7QAuaW8VnQnsr6qXBzngkr1NVIf5ioskVwGPVNUO4Ga6l5OTdB/WXDi6GQ9mlv3+IfBTwJ+25+QvVtV5I5v0gGbZ85Iyy57vA9YleQr4IfBvq2qxXvHOtufLgT9O8tt0HyZfuoj/YUeSO+gG+gntOcgW4CcBqupzdJ+LnAtMAm8AHx74nIv49yVJGpKlfJtIkjRLhoEkyTCQJBkGkiQMA0kShoEkCcNAkgT8P8bUZE046oAiAAAAAElFTkSuQmCC\n",
      "text/plain": [
       "<Figure size 432x288 with 1 Axes>"
      ]
     },
     "metadata": {
      "needs_background": "light"
     },
     "output_type": "display_data"
    }
   ],
   "source": [
    "data['jp_sales'].hist(bins=10, range=(0,1))"
   ]
  },
  {
   "cell_type": "code",
   "execution_count": 22,
   "metadata": {
    "scrolled": true
   },
   "outputs": [
    {
     "data": {
      "text/plain": [
       "<AxesSubplot:>"
      ]
     },
     "execution_count": 22,
     "metadata": {},
     "output_type": "execute_result"
    },
    {
     "data": {
      "image/png": "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\n",
      "text/plain": [
       "<Figure size 432x288 with 1 Axes>"
      ]
     },
     "metadata": {
      "needs_background": "light"
     },
     "output_type": "display_data"
    }
   ],
   "source": [
    "data['other_sales'].hist(bins=10, range=(0,1))"
   ]
  },
  {
   "cell_type": "markdown",
   "metadata": {},
   "source": [
    "подавляющее число игр продается в количсетве 100 тыс копий, но есть игры, который продаются по 10-40 млн копий, но их совсем мало"
   ]
  },
  {
   "cell_type": "code",
   "execution_count": 23,
   "metadata": {},
   "outputs": [
    {
     "data": {
      "text/html": [
       "<div>\n",
       "<style scoped>\n",
       "    .dataframe tbody tr th:only-of-type {\n",
       "        vertical-align: middle;\n",
       "    }\n",
       "\n",
       "    .dataframe tbody tr th {\n",
       "        vertical-align: top;\n",
       "    }\n",
       "\n",
       "    .dataframe thead th {\n",
       "        text-align: right;\n",
       "    }\n",
       "</style>\n",
       "<table border=\"1\" class=\"dataframe\">\n",
       "  <thead>\n",
       "    <tr style=\"text-align: right;\">\n",
       "      <th></th>\n",
       "      <th>name</th>\n",
       "      <th>platform</th>\n",
       "      <th>year_of_release</th>\n",
       "      <th>genre</th>\n",
       "      <th>na_sales</th>\n",
       "      <th>eu_sales</th>\n",
       "      <th>jp_sales</th>\n",
       "      <th>other_sales</th>\n",
       "      <th>critic_score</th>\n",
       "      <th>user_score</th>\n",
       "      <th>rating</th>\n",
       "    </tr>\n",
       "  </thead>\n",
       "  <tbody>\n",
       "    <tr>\n",
       "      <th>0</th>\n",
       "      <td>Wii Sports</td>\n",
       "      <td>Wii</td>\n",
       "      <td>2006</td>\n",
       "      <td>Sports</td>\n",
       "      <td>41.36</td>\n",
       "      <td>28.96</td>\n",
       "      <td>3.77</td>\n",
       "      <td>8.45</td>\n",
       "      <td>76.0</td>\n",
       "      <td>8</td>\n",
       "      <td>E</td>\n",
       "    </tr>\n",
       "    <tr>\n",
       "      <th>1</th>\n",
       "      <td>Super Mario Bros.</td>\n",
       "      <td>NES</td>\n",
       "      <td>1985</td>\n",
       "      <td>Platform</td>\n",
       "      <td>29.08</td>\n",
       "      <td>3.58</td>\n",
       "      <td>6.81</td>\n",
       "      <td>0.77</td>\n",
       "      <td>NaN</td>\n",
       "      <td>NaN</td>\n",
       "      <td>NaN</td>\n",
       "    </tr>\n",
       "    <tr>\n",
       "      <th>2</th>\n",
       "      <td>Mario Kart Wii</td>\n",
       "      <td>Wii</td>\n",
       "      <td>2008</td>\n",
       "      <td>Racing</td>\n",
       "      <td>15.68</td>\n",
       "      <td>12.76</td>\n",
       "      <td>3.79</td>\n",
       "      <td>3.29</td>\n",
       "      <td>82.0</td>\n",
       "      <td>8.3</td>\n",
       "      <td>E</td>\n",
       "    </tr>\n",
       "    <tr>\n",
       "      <th>3</th>\n",
       "      <td>Wii Sports Resort</td>\n",
       "      <td>Wii</td>\n",
       "      <td>2009</td>\n",
       "      <td>Sports</td>\n",
       "      <td>15.61</td>\n",
       "      <td>10.93</td>\n",
       "      <td>3.28</td>\n",
       "      <td>2.95</td>\n",
       "      <td>80.0</td>\n",
       "      <td>8</td>\n",
       "      <td>E</td>\n",
       "    </tr>\n",
       "    <tr>\n",
       "      <th>4</th>\n",
       "      <td>Pokemon Red/Pokemon Blue</td>\n",
       "      <td>GB</td>\n",
       "      <td>1996</td>\n",
       "      <td>Role-Playing</td>\n",
       "      <td>11.27</td>\n",
       "      <td>8.89</td>\n",
       "      <td>10.22</td>\n",
       "      <td>1.00</td>\n",
       "      <td>NaN</td>\n",
       "      <td>NaN</td>\n",
       "      <td>NaN</td>\n",
       "    </tr>\n",
       "    <tr>\n",
       "      <th>...</th>\n",
       "      <td>...</td>\n",
       "      <td>...</td>\n",
       "      <td>...</td>\n",
       "      <td>...</td>\n",
       "      <td>...</td>\n",
       "      <td>...</td>\n",
       "      <td>...</td>\n",
       "      <td>...</td>\n",
       "      <td>...</td>\n",
       "      <td>...</td>\n",
       "      <td>...</td>\n",
       "    </tr>\n",
       "    <tr>\n",
       "      <th>16710</th>\n",
       "      <td>Samurai Warriors: Sanada Maru</td>\n",
       "      <td>PS3</td>\n",
       "      <td>2016</td>\n",
       "      <td>Action</td>\n",
       "      <td>0.00</td>\n",
       "      <td>0.00</td>\n",
       "      <td>0.01</td>\n",
       "      <td>0.00</td>\n",
       "      <td>NaN</td>\n",
       "      <td>NaN</td>\n",
       "      <td>NaN</td>\n",
       "    </tr>\n",
       "    <tr>\n",
       "      <th>16711</th>\n",
       "      <td>LMA Manager 2007</td>\n",
       "      <td>X360</td>\n",
       "      <td>2006</td>\n",
       "      <td>Sports</td>\n",
       "      <td>0.00</td>\n",
       "      <td>0.01</td>\n",
       "      <td>0.00</td>\n",
       "      <td>0.00</td>\n",
       "      <td>NaN</td>\n",
       "      <td>NaN</td>\n",
       "      <td>NaN</td>\n",
       "    </tr>\n",
       "    <tr>\n",
       "      <th>16712</th>\n",
       "      <td>Haitaka no Psychedelica</td>\n",
       "      <td>PSV</td>\n",
       "      <td>2016</td>\n",
       "      <td>Adventure</td>\n",
       "      <td>0.00</td>\n",
       "      <td>0.00</td>\n",
       "      <td>0.01</td>\n",
       "      <td>0.00</td>\n",
       "      <td>NaN</td>\n",
       "      <td>NaN</td>\n",
       "      <td>NaN</td>\n",
       "    </tr>\n",
       "    <tr>\n",
       "      <th>16713</th>\n",
       "      <td>Spirits &amp; Spells</td>\n",
       "      <td>GBA</td>\n",
       "      <td>2003</td>\n",
       "      <td>Platform</td>\n",
       "      <td>0.01</td>\n",
       "      <td>0.00</td>\n",
       "      <td>0.00</td>\n",
       "      <td>0.00</td>\n",
       "      <td>NaN</td>\n",
       "      <td>NaN</td>\n",
       "      <td>NaN</td>\n",
       "    </tr>\n",
       "    <tr>\n",
       "      <th>16714</th>\n",
       "      <td>Winning Post 8 2016</td>\n",
       "      <td>PSV</td>\n",
       "      <td>2016</td>\n",
       "      <td>Simulation</td>\n",
       "      <td>0.00</td>\n",
       "      <td>0.00</td>\n",
       "      <td>0.01</td>\n",
       "      <td>0.00</td>\n",
       "      <td>NaN</td>\n",
       "      <td>NaN</td>\n",
       "      <td>NaN</td>\n",
       "    </tr>\n",
       "  </tbody>\n",
       "</table>\n",
       "<p>16444 rows × 11 columns</p>\n",
       "</div>"
      ],
      "text/plain": [
       "                                name platform  year_of_release         genre  \\\n",
       "0                         Wii Sports      Wii             2006        Sports   \n",
       "1                  Super Mario Bros.      NES             1985      Platform   \n",
       "2                     Mario Kart Wii      Wii             2008        Racing   \n",
       "3                  Wii Sports Resort      Wii             2009        Sports   \n",
       "4           Pokemon Red/Pokemon Blue       GB             1996  Role-Playing   \n",
       "...                              ...      ...              ...           ...   \n",
       "16710  Samurai Warriors: Sanada Maru      PS3             2016        Action   \n",
       "16711               LMA Manager 2007     X360             2006        Sports   \n",
       "16712        Haitaka no Psychedelica      PSV             2016     Adventure   \n",
       "16713               Spirits & Spells      GBA             2003      Platform   \n",
       "16714            Winning Post 8 2016      PSV             2016    Simulation   \n",
       "\n",
       "       na_sales  eu_sales  jp_sales  other_sales  critic_score user_score  \\\n",
       "0         41.36     28.96      3.77         8.45          76.0          8   \n",
       "1         29.08      3.58      6.81         0.77           NaN        NaN   \n",
       "2         15.68     12.76      3.79         3.29          82.0        8.3   \n",
       "3         15.61     10.93      3.28         2.95          80.0          8   \n",
       "4         11.27      8.89     10.22         1.00           NaN        NaN   \n",
       "...         ...       ...       ...          ...           ...        ...   \n",
       "16710      0.00      0.00      0.01         0.00           NaN        NaN   \n",
       "16711      0.00      0.01      0.00         0.00           NaN        NaN   \n",
       "16712      0.00      0.00      0.01         0.00           NaN        NaN   \n",
       "16713      0.01      0.00      0.00         0.00           NaN        NaN   \n",
       "16714      0.00      0.00      0.01         0.00           NaN        NaN   \n",
       "\n",
       "      rating  \n",
       "0          E  \n",
       "1        NaN  \n",
       "2          E  \n",
       "3          E  \n",
       "4        NaN  \n",
       "...      ...  \n",
       "16710    NaN  \n",
       "16711    NaN  \n",
       "16712    NaN  \n",
       "16713    NaN  \n",
       "16714    NaN  \n",
       "\n",
       "[16444 rows x 11 columns]"
      ]
     },
     "execution_count": 23,
     "metadata": {},
     "output_type": "execute_result"
    }
   ],
   "source": [
    "data"
   ]
  },
  {
   "cell_type": "code",
   "execution_count": 24,
   "metadata": {},
   "outputs": [
    {
     "data": {
      "text/plain": [
       "array(['E', nan, 'M', 'T', 'E10+', 'K-A', 'AO', 'EC', 'RP'], dtype=object)"
      ]
     },
     "execution_count": 24,
     "metadata": {},
     "output_type": "execute_result"
    }
   ],
   "source": [
    "data['rating'].unique()"
   ]
  },
  {
   "cell_type": "code",
   "execution_count": 25,
   "metadata": {},
   "outputs": [
    {
     "data": {
      "text/plain": [
       "array(['Wii Sports', 'Super Mario Bros.', 'Mario Kart Wii', ...,\n",
       "       'Woody Woodpecker in Crazy Castle 5', 'LMA Manager 2007',\n",
       "       'Haitaka no Psychedelica'], dtype=object)"
      ]
     },
     "execution_count": 25,
     "metadata": {},
     "output_type": "execute_result"
    }
   ],
   "source": [
    "data['name'].unique()"
   ]
  },
  {
   "cell_type": "code",
   "execution_count": 26,
   "metadata": {},
   "outputs": [
    {
     "data": {
      "text/plain": [
       "array(['Wii', 'NES', 'GB', 'DS', 'X360', 'PS3', 'PS2', 'SNES', 'GBA',\n",
       "       'PS4', '3DS', 'N64', 'PS', 'XB', 'PC', '2600', 'PSP', 'XOne',\n",
       "       'WiiU', 'GC', 'GEN', 'DC', 'PSV', 'SAT', 'SCD', 'WS', 'NG', 'TG16',\n",
       "       '3DO', 'GG', 'PCFX'], dtype=object)"
      ]
     },
     "execution_count": 26,
     "metadata": {},
     "output_type": "execute_result"
    }
   ],
   "source": [
    "data['platform'].unique()"
   ]
  },
  {
   "cell_type": "code",
   "execution_count": 27,
   "metadata": {},
   "outputs": [
    {
     "data": {
      "text/plain": [
       "array(['Sports', 'Platform', 'Racing', 'Role-Playing', 'Puzzle', 'Misc',\n",
       "       'Shooter', 'Simulation', 'Action', 'Fighting', 'Adventure',\n",
       "       'Strategy'], dtype=object)"
      ]
     },
     "execution_count": 27,
     "metadata": {},
     "output_type": "execute_result"
    }
   ],
   "source": [
    "data['genre'].unique()"
   ]
  },
  {
   "cell_type": "code",
   "execution_count": 28,
   "metadata": {},
   "outputs": [
    {
     "data": {
      "text/plain": [
       "array(['8', nan, '8.3', '8.5', '6.6', '8.4', '8.6', '7.7', '6.3', '7.4',\n",
       "       '8.2', '9', '7.9', '8.1', '8.7', '7.1', '3.4', '5.3', '4.8', '3.2',\n",
       "       '8.9', '6.4', '7.8', '7.5', '2.6', '7.2', '9.2', '7', '7.3', '4.3',\n",
       "       '7.6', '5.7', '5', '9.1', '6.5', 'tbd', '8.8', '6.9', '9.4', '6.8',\n",
       "       '6.1', '6.7', '5.4', '4', '4.9', '4.5', '9.3', '6.2', '4.2', '6',\n",
       "       '3.7', '4.1', '5.8', '5.6', '5.5', '4.4', '4.6', '5.9', '3.9',\n",
       "       '3.1', '2.9', '5.2', '3.3', '4.7', '5.1', '3.5', '2.5', '1.9', '3',\n",
       "       '2.7', '2.2', '2', '9.5', '2.1', '3.6', '2.8', '1.8', '3.8', '0',\n",
       "       '1.6', '9.6', '2.4', '1.7', '1.1', '0.3', '1.5', '0.7', '1.2',\n",
       "       '2.3', '0.5', '1.3', '0.2', '0.6', '1.4', '0.9', '1', '9.7'],\n",
       "      dtype=object)"
      ]
     },
     "execution_count": 28,
     "metadata": {},
     "output_type": "execute_result"
    }
   ],
   "source": [
    "data['user_score'].unique()"
   ]
  },
  {
   "cell_type": "markdown",
   "metadata": {},
   "source": [
    "посмотрел уникальные значения"
   ]
  },
  {
   "cell_type": "code",
   "execution_count": 29,
   "metadata": {},
   "outputs": [
    {
     "data": {
      "text/html": [
       "<div>\n",
       "<style scoped>\n",
       "    .dataframe tbody tr th:only-of-type {\n",
       "        vertical-align: middle;\n",
       "    }\n",
       "\n",
       "    .dataframe tbody tr th {\n",
       "        vertical-align: top;\n",
       "    }\n",
       "\n",
       "    .dataframe thead th {\n",
       "        text-align: right;\n",
       "    }\n",
       "</style>\n",
       "<table border=\"1\" class=\"dataframe\">\n",
       "  <thead>\n",
       "    <tr style=\"text-align: right;\">\n",
       "      <th></th>\n",
       "      <th>name</th>\n",
       "      <th>platform</th>\n",
       "      <th>year_of_release</th>\n",
       "      <th>genre</th>\n",
       "      <th>na_sales</th>\n",
       "      <th>eu_sales</th>\n",
       "      <th>jp_sales</th>\n",
       "      <th>other_sales</th>\n",
       "      <th>critic_score</th>\n",
       "      <th>user_score</th>\n",
       "      <th>rating</th>\n",
       "    </tr>\n",
       "  </thead>\n",
       "  <tbody>\n",
       "    <tr>\n",
       "      <th>119</th>\n",
       "      <td>Zumba Fitness</td>\n",
       "      <td>Wii</td>\n",
       "      <td>2010</td>\n",
       "      <td>Sports</td>\n",
       "      <td>3.45</td>\n",
       "      <td>2.59</td>\n",
       "      <td>0.0</td>\n",
       "      <td>0.66</td>\n",
       "      <td>NaN</td>\n",
       "      <td>tbd</td>\n",
       "      <td>E</td>\n",
       "    </tr>\n",
       "    <tr>\n",
       "      <th>301</th>\n",
       "      <td>Namco Museum: 50th Anniversary</td>\n",
       "      <td>PS2</td>\n",
       "      <td>2005</td>\n",
       "      <td>Misc</td>\n",
       "      <td>2.08</td>\n",
       "      <td>1.35</td>\n",
       "      <td>0.0</td>\n",
       "      <td>0.54</td>\n",
       "      <td>61.0</td>\n",
       "      <td>tbd</td>\n",
       "      <td>E10+</td>\n",
       "    </tr>\n",
       "    <tr>\n",
       "      <th>520</th>\n",
       "      <td>Zumba Fitness 2</td>\n",
       "      <td>Wii</td>\n",
       "      <td>2011</td>\n",
       "      <td>Sports</td>\n",
       "      <td>1.51</td>\n",
       "      <td>1.03</td>\n",
       "      <td>0.0</td>\n",
       "      <td>0.27</td>\n",
       "      <td>NaN</td>\n",
       "      <td>tbd</td>\n",
       "      <td>T</td>\n",
       "    </tr>\n",
       "    <tr>\n",
       "      <th>645</th>\n",
       "      <td>uDraw Studio</td>\n",
       "      <td>Wii</td>\n",
       "      <td>2010</td>\n",
       "      <td>Misc</td>\n",
       "      <td>1.65</td>\n",
       "      <td>0.57</td>\n",
       "      <td>0.0</td>\n",
       "      <td>0.20</td>\n",
       "      <td>71.0</td>\n",
       "      <td>tbd</td>\n",
       "      <td>E</td>\n",
       "    </tr>\n",
       "    <tr>\n",
       "      <th>718</th>\n",
       "      <td>Just Dance Kids</td>\n",
       "      <td>Wii</td>\n",
       "      <td>2010</td>\n",
       "      <td>Misc</td>\n",
       "      <td>1.52</td>\n",
       "      <td>0.54</td>\n",
       "      <td>0.0</td>\n",
       "      <td>0.18</td>\n",
       "      <td>NaN</td>\n",
       "      <td>tbd</td>\n",
       "      <td>E</td>\n",
       "    </tr>\n",
       "    <tr>\n",
       "      <th>...</th>\n",
       "      <td>...</td>\n",
       "      <td>...</td>\n",
       "      <td>...</td>\n",
       "      <td>...</td>\n",
       "      <td>...</td>\n",
       "      <td>...</td>\n",
       "      <td>...</td>\n",
       "      <td>...</td>\n",
       "      <td>...</td>\n",
       "      <td>...</td>\n",
       "      <td>...</td>\n",
       "    </tr>\n",
       "    <tr>\n",
       "      <th>16695</th>\n",
       "      <td>Planet Monsters</td>\n",
       "      <td>GBA</td>\n",
       "      <td>2001</td>\n",
       "      <td>Action</td>\n",
       "      <td>0.01</td>\n",
       "      <td>0.00</td>\n",
       "      <td>0.0</td>\n",
       "      <td>0.00</td>\n",
       "      <td>67.0</td>\n",
       "      <td>tbd</td>\n",
       "      <td>E</td>\n",
       "    </tr>\n",
       "    <tr>\n",
       "      <th>16697</th>\n",
       "      <td>Bust-A-Move 3000</td>\n",
       "      <td>GC</td>\n",
       "      <td>2003</td>\n",
       "      <td>Puzzle</td>\n",
       "      <td>0.01</td>\n",
       "      <td>0.00</td>\n",
       "      <td>0.0</td>\n",
       "      <td>0.00</td>\n",
       "      <td>53.0</td>\n",
       "      <td>tbd</td>\n",
       "      <td>E</td>\n",
       "    </tr>\n",
       "    <tr>\n",
       "      <th>16698</th>\n",
       "      <td>Mega Brain Boost</td>\n",
       "      <td>DS</td>\n",
       "      <td>2008</td>\n",
       "      <td>Puzzle</td>\n",
       "      <td>0.01</td>\n",
       "      <td>0.00</td>\n",
       "      <td>0.0</td>\n",
       "      <td>0.00</td>\n",
       "      <td>48.0</td>\n",
       "      <td>tbd</td>\n",
       "      <td>E</td>\n",
       "    </tr>\n",
       "    <tr>\n",
       "      <th>16704</th>\n",
       "      <td>Plushees</td>\n",
       "      <td>DS</td>\n",
       "      <td>2008</td>\n",
       "      <td>Simulation</td>\n",
       "      <td>0.01</td>\n",
       "      <td>0.00</td>\n",
       "      <td>0.0</td>\n",
       "      <td>0.00</td>\n",
       "      <td>NaN</td>\n",
       "      <td>tbd</td>\n",
       "      <td>E</td>\n",
       "    </tr>\n",
       "    <tr>\n",
       "      <th>16706</th>\n",
       "      <td>Men in Black II: Alien Escape</td>\n",
       "      <td>GC</td>\n",
       "      <td>2003</td>\n",
       "      <td>Shooter</td>\n",
       "      <td>0.01</td>\n",
       "      <td>0.00</td>\n",
       "      <td>0.0</td>\n",
       "      <td>0.00</td>\n",
       "      <td>NaN</td>\n",
       "      <td>tbd</td>\n",
       "      <td>T</td>\n",
       "    </tr>\n",
       "  </tbody>\n",
       "</table>\n",
       "<p>2376 rows × 11 columns</p>\n",
       "</div>"
      ],
      "text/plain": [
       "                                 name platform  year_of_release       genre  \\\n",
       "119                     Zumba Fitness      Wii             2010      Sports   \n",
       "301    Namco Museum: 50th Anniversary      PS2             2005        Misc   \n",
       "520                   Zumba Fitness 2      Wii             2011      Sports   \n",
       "645                      uDraw Studio      Wii             2010        Misc   \n",
       "718                   Just Dance Kids      Wii             2010        Misc   \n",
       "...                               ...      ...              ...         ...   \n",
       "16695                 Planet Monsters      GBA             2001      Action   \n",
       "16697                Bust-A-Move 3000       GC             2003      Puzzle   \n",
       "16698                Mega Brain Boost       DS             2008      Puzzle   \n",
       "16704                        Plushees       DS             2008  Simulation   \n",
       "16706   Men in Black II: Alien Escape       GC             2003     Shooter   \n",
       "\n",
       "       na_sales  eu_sales  jp_sales  other_sales  critic_score user_score  \\\n",
       "119        3.45      2.59       0.0         0.66           NaN        tbd   \n",
       "301        2.08      1.35       0.0         0.54          61.0        tbd   \n",
       "520        1.51      1.03       0.0         0.27           NaN        tbd   \n",
       "645        1.65      0.57       0.0         0.20          71.0        tbd   \n",
       "718        1.52      0.54       0.0         0.18           NaN        tbd   \n",
       "...         ...       ...       ...          ...           ...        ...   \n",
       "16695      0.01      0.00       0.0         0.00          67.0        tbd   \n",
       "16697      0.01      0.00       0.0         0.00          53.0        tbd   \n",
       "16698      0.01      0.00       0.0         0.00          48.0        tbd   \n",
       "16704      0.01      0.00       0.0         0.00           NaN        tbd   \n",
       "16706      0.01      0.00       0.0         0.00           NaN        tbd   \n",
       "\n",
       "      rating  \n",
       "119        E  \n",
       "301     E10+  \n",
       "520        T  \n",
       "645        E  \n",
       "718        E  \n",
       "...      ...  \n",
       "16695      E  \n",
       "16697      E  \n",
       "16698      E  \n",
       "16704      E  \n",
       "16706      T  \n",
       "\n",
       "[2376 rows x 11 columns]"
      ]
     },
     "execution_count": 29,
     "metadata": {},
     "output_type": "execute_result"
    }
   ],
   "source": [
    "data_tbd = data[data['user_score'] == 'tbd']\n",
    "data_tbd"
   ]
  },
  {
   "cell_type": "markdown",
   "metadata": {},
   "source": [
    "новая таблица, где только tbd"
   ]
  },
  {
   "cell_type": "code",
   "execution_count": 30,
   "metadata": {},
   "outputs": [
    {
     "data": {
      "text/html": [
       "<div>\n",
       "<style scoped>\n",
       "    .dataframe tbody tr th:only-of-type {\n",
       "        vertical-align: middle;\n",
       "    }\n",
       "\n",
       "    .dataframe tbody tr th {\n",
       "        vertical-align: top;\n",
       "    }\n",
       "\n",
       "    .dataframe thead th {\n",
       "        text-align: right;\n",
       "    }\n",
       "</style>\n",
       "<table border=\"1\" class=\"dataframe\">\n",
       "  <thead>\n",
       "    <tr style=\"text-align: right;\">\n",
       "      <th></th>\n",
       "      <th>user_score</th>\n",
       "    </tr>\n",
       "    <tr>\n",
       "      <th>year_of_release</th>\n",
       "      <th></th>\n",
       "    </tr>\n",
       "  </thead>\n",
       "  <tbody>\n",
       "    <tr>\n",
       "      <th>1997</th>\n",
       "      <td>1</td>\n",
       "    </tr>\n",
       "    <tr>\n",
       "      <th>1999</th>\n",
       "      <td>8</td>\n",
       "    </tr>\n",
       "    <tr>\n",
       "      <th>2000</th>\n",
       "      <td>43</td>\n",
       "    </tr>\n",
       "    <tr>\n",
       "      <th>2001</th>\n",
       "      <td>82</td>\n",
       "    </tr>\n",
       "    <tr>\n",
       "      <th>2002</th>\n",
       "      <td>192</td>\n",
       "    </tr>\n",
       "    <tr>\n",
       "      <th>2003</th>\n",
       "      <td>95</td>\n",
       "    </tr>\n",
       "    <tr>\n",
       "      <th>2004</th>\n",
       "      <td>107</td>\n",
       "    </tr>\n",
       "    <tr>\n",
       "      <th>2005</th>\n",
       "      <td>121</td>\n",
       "    </tr>\n",
       "    <tr>\n",
       "      <th>2006</th>\n",
       "      <td>124</td>\n",
       "    </tr>\n",
       "    <tr>\n",
       "      <th>2007</th>\n",
       "      <td>192</td>\n",
       "    </tr>\n",
       "    <tr>\n",
       "      <th>2008</th>\n",
       "      <td>326</td>\n",
       "    </tr>\n",
       "    <tr>\n",
       "      <th>2009</th>\n",
       "      <td>405</td>\n",
       "    </tr>\n",
       "    <tr>\n",
       "      <th>2010</th>\n",
       "      <td>331</td>\n",
       "    </tr>\n",
       "    <tr>\n",
       "      <th>2011</th>\n",
       "      <td>217</td>\n",
       "    </tr>\n",
       "    <tr>\n",
       "      <th>2012</th>\n",
       "      <td>24</td>\n",
       "    </tr>\n",
       "    <tr>\n",
       "      <th>2013</th>\n",
       "      <td>15</td>\n",
       "    </tr>\n",
       "    <tr>\n",
       "      <th>2014</th>\n",
       "      <td>21</td>\n",
       "    </tr>\n",
       "    <tr>\n",
       "      <th>2015</th>\n",
       "      <td>38</td>\n",
       "    </tr>\n",
       "    <tr>\n",
       "      <th>2016</th>\n",
       "      <td>34</td>\n",
       "    </tr>\n",
       "  </tbody>\n",
       "</table>\n",
       "</div>"
      ],
      "text/plain": [
       "                 user_score\n",
       "year_of_release            \n",
       "1997                      1\n",
       "1999                      8\n",
       "2000                     43\n",
       "2001                     82\n",
       "2002                    192\n",
       "2003                     95\n",
       "2004                    107\n",
       "2005                    121\n",
       "2006                    124\n",
       "2007                    192\n",
       "2008                    326\n",
       "2009                    405\n",
       "2010                    331\n",
       "2011                    217\n",
       "2012                     24\n",
       "2013                     15\n",
       "2014                     21\n",
       "2015                     38\n",
       "2016                     34"
      ]
     },
     "execution_count": 30,
     "metadata": {},
     "output_type": "execute_result"
    }
   ],
   "source": [
    "stat_tbd = data_tbd.pivot_table(index='year_of_release', values='user_score', aggfunc='count')\n",
    "stat_tbd"
   ]
  },
  {
   "cell_type": "markdown",
   "metadata": {},
   "source": [
    "сколько раз встречается 'tbd' по годам"
   ]
  },
  {
   "cell_type": "code",
   "execution_count": 31,
   "metadata": {},
   "outputs": [
    {
     "data": {
      "text/plain": [
       "0"
      ]
     },
     "execution_count": 31,
     "metadata": {},
     "output_type": "execute_result"
    }
   ],
   "source": [
    "data.duplicated().sum()"
   ]
  },
  {
   "cell_type": "markdown",
   "metadata": {},
   "source": [
    "нет полных дубликатов"
   ]
  },
  {
   "cell_type": "code",
   "execution_count": 32,
   "metadata": {},
   "outputs": [
    {
     "data": {
      "text/html": [
       "<div>\n",
       "<style scoped>\n",
       "    .dataframe tbody tr th:only-of-type {\n",
       "        vertical-align: middle;\n",
       "    }\n",
       "\n",
       "    .dataframe tbody tr th {\n",
       "        vertical-align: top;\n",
       "    }\n",
       "\n",
       "    .dataframe thead th {\n",
       "        text-align: right;\n",
       "    }\n",
       "</style>\n",
       "<table border=\"1\" class=\"dataframe\">\n",
       "  <thead>\n",
       "    <tr style=\"text-align: right;\">\n",
       "      <th></th>\n",
       "      <th>year_of_release</th>\n",
       "      <th>na_sales</th>\n",
       "      <th>eu_sales</th>\n",
       "      <th>jp_sales</th>\n",
       "      <th>other_sales</th>\n",
       "      <th>critic_score</th>\n",
       "    </tr>\n",
       "  </thead>\n",
       "  <tbody>\n",
       "    <tr>\n",
       "      <th>count</th>\n",
       "      <td>2376.000000</td>\n",
       "      <td>2376.000000</td>\n",
       "      <td>2376.000000</td>\n",
       "      <td>2376.000000</td>\n",
       "      <td>2376.000000</td>\n",
       "      <td>1056.000000</td>\n",
       "    </tr>\n",
       "    <tr>\n",
       "      <th>mean</th>\n",
       "      <td>2007.450337</td>\n",
       "      <td>0.125539</td>\n",
       "      <td>0.043674</td>\n",
       "      <td>0.002782</td>\n",
       "      <td>0.015905</td>\n",
       "      <td>60.766098</td>\n",
       "    </tr>\n",
       "    <tr>\n",
       "      <th>std</th>\n",
       "      <td>3.484229</td>\n",
       "      <td>0.176593</td>\n",
       "      <td>0.112068</td>\n",
       "      <td>0.026395</td>\n",
       "      <td>0.039411</td>\n",
       "      <td>11.190603</td>\n",
       "    </tr>\n",
       "    <tr>\n",
       "      <th>min</th>\n",
       "      <td>1997.000000</td>\n",
       "      <td>0.000000</td>\n",
       "      <td>0.000000</td>\n",
       "      <td>0.000000</td>\n",
       "      <td>0.000000</td>\n",
       "      <td>23.000000</td>\n",
       "    </tr>\n",
       "    <tr>\n",
       "      <th>25%</th>\n",
       "      <td>2005.000000</td>\n",
       "      <td>0.030000</td>\n",
       "      <td>0.000000</td>\n",
       "      <td>0.000000</td>\n",
       "      <td>0.000000</td>\n",
       "      <td>54.000000</td>\n",
       "    </tr>\n",
       "    <tr>\n",
       "      <th>50%</th>\n",
       "      <td>2008.000000</td>\n",
       "      <td>0.070000</td>\n",
       "      <td>0.010000</td>\n",
       "      <td>0.000000</td>\n",
       "      <td>0.010000</td>\n",
       "      <td>62.000000</td>\n",
       "    </tr>\n",
       "    <tr>\n",
       "      <th>75%</th>\n",
       "      <td>2010.000000</td>\n",
       "      <td>0.150000</td>\n",
       "      <td>0.040000</td>\n",
       "      <td>0.000000</td>\n",
       "      <td>0.020000</td>\n",
       "      <td>69.000000</td>\n",
       "    </tr>\n",
       "    <tr>\n",
       "      <th>max</th>\n",
       "      <td>2016.000000</td>\n",
       "      <td>3.450000</td>\n",
       "      <td>2.590000</td>\n",
       "      <td>0.860000</td>\n",
       "      <td>1.090000</td>\n",
       "      <td>90.000000</td>\n",
       "    </tr>\n",
       "  </tbody>\n",
       "</table>\n",
       "</div>"
      ],
      "text/plain": [
       "       year_of_release     na_sales     eu_sales     jp_sales  other_sales  \\\n",
       "count      2376.000000  2376.000000  2376.000000  2376.000000  2376.000000   \n",
       "mean       2007.450337     0.125539     0.043674     0.002782     0.015905   \n",
       "std           3.484229     0.176593     0.112068     0.026395     0.039411   \n",
       "min        1997.000000     0.000000     0.000000     0.000000     0.000000   \n",
       "25%        2005.000000     0.030000     0.000000     0.000000     0.000000   \n",
       "50%        2008.000000     0.070000     0.010000     0.000000     0.010000   \n",
       "75%        2010.000000     0.150000     0.040000     0.000000     0.020000   \n",
       "max        2016.000000     3.450000     2.590000     0.860000     1.090000   \n",
       "\n",
       "       critic_score  \n",
       "count   1056.000000  \n",
       "mean      60.766098  \n",
       "std       11.190603  \n",
       "min       23.000000  \n",
       "25%       54.000000  \n",
       "50%       62.000000  \n",
       "75%       69.000000  \n",
       "max       90.000000  "
      ]
     },
     "execution_count": 32,
     "metadata": {},
     "output_type": "execute_result"
    }
   ],
   "source": [
    "data_tbd.describe()"
   ]
  },
  {
   "cell_type": "markdown",
   "metadata": {},
   "source": [
    "у tbd средняя оценка критиков ниже на 8 пунктов, так же видно, что игры с такой пользоватлеьской оценкой почти не продаются в Японии. "
   ]
  },
  {
   "cell_type": "code",
   "execution_count": 33,
   "metadata": {},
   "outputs": [],
   "source": [
    "stat_score = data.pivot_table(index='name',  values='user_score', aggfunc='count')"
   ]
  },
  {
   "cell_type": "code",
   "execution_count": 34,
   "metadata": {},
   "outputs": [
    {
     "data": {
      "text/plain": [
       "name\n",
       "Need for Speed: Most Wanted     9\n",
       "Cars                            8\n",
       "LEGO Marvel Super Heroes        8\n",
       "FIFA Soccer 13                  8\n",
       "Lego Batman 3: Beyond Gotham    8\n",
       "                               ..\n",
       "Let's Ride! Dreamer             0\n",
       "Let's Make a Soccer Team!       0\n",
       "Let's Draw!                     0\n",
       "Let's Cheer                     0\n",
       "¡Shin Chan Flipa en colores!    0\n",
       "Name: user_score, Length: 11426, dtype: int64"
      ]
     },
     "execution_count": 34,
     "metadata": {},
     "output_type": "execute_result"
    }
   ],
   "source": [
    "stat_score['user_score'].sort_values(ascending=False)"
   ]
  },
  {
   "cell_type": "code",
   "execution_count": 35,
   "metadata": {
    "scrolled": true
   },
   "outputs": [
    {
     "data": {
      "text/plain": [
       "<AxesSubplot:>"
      ]
     },
     "execution_count": 35,
     "metadata": {},
     "output_type": "execute_result"
    },
    {
     "data": {
      "image/png": "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\n",
      "text/plain": [
       "<Figure size 432x288 with 1 Axes>"
      ]
     },
     "metadata": {
      "needs_background": "light"
     },
     "output_type": "display_data"
    }
   ],
   "source": [
    "stat_score['user_score'].hist(bins=9)"
   ]
  },
  {
   "cell_type": "markdown",
   "metadata": {},
   "source": [
    "почти треть игр не имеет ни одной оценки, еще порядка четверти имеют одну оценку и оставшаяся часть игр имеют от 2 до 9 оценок пользователей. 'tbd' в оценках пользователей чаще всего встречается в 2009 году - 405 раз, а в 2016 году - всего 34 раза. Поскольку мы будем опираться на данные 2016 года, для прогнозирования продаж в 2017 году, то это значение можно не учитывать "
   ]
  },
  {
   "cell_type": "code",
   "execution_count": 36,
   "metadata": {},
   "outputs": [
    {
     "data": {
      "text/plain": [
       "name                  0\n",
       "platform              0\n",
       "year_of_release       0\n",
       "genre                 0\n",
       "na_sales              0\n",
       "eu_sales              0\n",
       "jp_sales              0\n",
       "other_sales           0\n",
       "critic_score       8461\n",
       "user_score         6605\n",
       "rating             6676\n",
       "dtype: int64"
      ]
     },
     "execution_count": 36,
     "metadata": {},
     "output_type": "execute_result"
    }
   ],
   "source": [
    "data.isna().sum()"
   ]
  },
  {
   "cell_type": "code",
   "execution_count": 37,
   "metadata": {},
   "outputs": [
    {
     "data": {
      "text/plain": [
       "name                  0\n",
       "platform              0\n",
       "year_of_release       0\n",
       "genre                 0\n",
       "na_sales              0\n",
       "eu_sales              0\n",
       "jp_sales              0\n",
       "other_sales           0\n",
       "critic_score       8461\n",
       "user_score            0\n",
       "rating             6676\n",
       "dtype: int64"
      ]
     },
     "execution_count": 37,
     "metadata": {},
     "output_type": "execute_result"
    }
   ],
   "source": [
    "data['user_score'] = data['user_score'].replace('tbd', 44.4)\n",
    "data['user_score'] = data['user_score'].fillna(44.4)\n",
    "data['user_score'] = data['user_score'].astype('float64')\n",
    "data.isna().sum()"
   ]
  },
  {
   "cell_type": "markdown",
   "metadata": {},
   "source": [
    "<div class=\"alert alert-success\">\n",
    "<font size=\"4\", color= \"seagreen\"><b>✔️ Комментарий ревьюера</b></font>\n",
    "    <br /> \n",
    "    <font size=\"3\", color = \"black\">\n",
    "<br />\n",
    "Верно, по своей сути tbd и является Nan. Отлично, что определяешь неявные пропущенные значения и заполняешь пропуски и tbd одинаково"
   ]
  },
  {
   "cell_type": "markdown",
   "metadata": {},
   "source": [
    "пропуски в оценках пользователей заменил на заглушки и на них же заменил tbd, чтобы потом их можно было отфильтровать"
   ]
  },
  {
   "cell_type": "code",
   "execution_count": 38,
   "metadata": {},
   "outputs": [
    {
     "data": {
      "text/plain": [
       "name                  0\n",
       "platform              0\n",
       "year_of_release       0\n",
       "genre                 0\n",
       "na_sales              0\n",
       "eu_sales              0\n",
       "jp_sales              0\n",
       "other_sales           0\n",
       "critic_score       8461\n",
       "user_score            0\n",
       "rating                0\n",
       "dtype: int64"
      ]
     },
     "execution_count": 38,
     "metadata": {},
     "output_type": "execute_result"
    }
   ],
   "source": [
    "data['rating'] = data['rating'].fillna('no_rate')\n",
    "data.isna().sum()"
   ]
  },
  {
   "cell_type": "markdown",
   "metadata": {},
   "source": [
    "заменил пропуски рейтинга на no_rate"
   ]
  },
  {
   "cell_type": "code",
   "execution_count": 39,
   "metadata": {},
   "outputs": [
    {
     "data": {
      "text/html": [
       "<div>\n",
       "<style scoped>\n",
       "    .dataframe tbody tr th:only-of-type {\n",
       "        vertical-align: middle;\n",
       "    }\n",
       "\n",
       "    .dataframe tbody tr th {\n",
       "        vertical-align: top;\n",
       "    }\n",
       "\n",
       "    .dataframe thead th {\n",
       "        text-align: right;\n",
       "    }\n",
       "</style>\n",
       "<table border=\"1\" class=\"dataframe\">\n",
       "  <thead>\n",
       "    <tr style=\"text-align: right;\">\n",
       "      <th></th>\n",
       "      <th>name</th>\n",
       "    </tr>\n",
       "    <tr>\n",
       "      <th>rating</th>\n",
       "      <th></th>\n",
       "    </tr>\n",
       "  </thead>\n",
       "  <tbody>\n",
       "    <tr>\n",
       "      <th>no_rate</th>\n",
       "      <td>6676</td>\n",
       "    </tr>\n",
       "    <tr>\n",
       "      <th>E</th>\n",
       "      <td>3921</td>\n",
       "    </tr>\n",
       "    <tr>\n",
       "      <th>T</th>\n",
       "      <td>2905</td>\n",
       "    </tr>\n",
       "    <tr>\n",
       "      <th>M</th>\n",
       "      <td>1536</td>\n",
       "    </tr>\n",
       "    <tr>\n",
       "      <th>E10+</th>\n",
       "      <td>1393</td>\n",
       "    </tr>\n",
       "    <tr>\n",
       "      <th>EC</th>\n",
       "      <td>8</td>\n",
       "    </tr>\n",
       "    <tr>\n",
       "      <th>K-A</th>\n",
       "      <td>3</td>\n",
       "    </tr>\n",
       "    <tr>\n",
       "      <th>AO</th>\n",
       "      <td>1</td>\n",
       "    </tr>\n",
       "    <tr>\n",
       "      <th>RP</th>\n",
       "      <td>1</td>\n",
       "    </tr>\n",
       "  </tbody>\n",
       "</table>\n",
       "</div>"
      ],
      "text/plain": [
       "         name\n",
       "rating       \n",
       "no_rate  6676\n",
       "E        3921\n",
       "T        2905\n",
       "M        1536\n",
       "E10+     1393\n",
       "EC          8\n",
       "K-A         3\n",
       "AO          1\n",
       "RP          1"
      ]
     },
     "execution_count": 39,
     "metadata": {},
     "output_type": "execute_result"
    }
   ],
   "source": [
    "rate_stat = data.pivot_table(index='rating', values='name', aggfunc='count')\n",
    "rate_stat.sort_values(by='name', ascending=False)"
   ]
  },
  {
   "cell_type": "code",
   "execution_count": 40,
   "metadata": {},
   "outputs": [
    {
     "data": {
      "text/plain": [
       "array(['E', 'no_rate', 'M', 'T', 'E10+', 'EC', 'RP'], dtype=object)"
      ]
     },
     "execution_count": 40,
     "metadata": {},
     "output_type": "execute_result"
    }
   ],
   "source": [
    "data['rating'] = data['rating'].replace('K-A', 'E')\n",
    "data['rating'] = data['rating'].replace('AO', 'M')\n",
    "rate_stat.sort_values(by='name', ascending=False)\n",
    "data['rating'].unique()"
   ]
  },
  {
   "cell_type": "markdown",
   "metadata": {},
   "source": [
    "- E - для всех от 6 лет\n",
    "- T - 13+\n",
    "- M - 18+\n",
    "- E10+ - 10+\n",
    "- EC - 3-6 лет\n",
    "- K-A - +6\n",
    "- AO - +18\n",
    "- RP - еще не вышли и ожидают рейтинга\n",
    "\n",
    "Поэтому можно объединить K-A и Е, а также М и АО"
   ]
  },
  {
   "cell_type": "markdown",
   "metadata": {},
   "source": [
    "<div class=\"alert alert-danger\">\n",
    "<font size=\"4\"><b>❌ Комментарий ревьюера</b></font>\n",
    "    <br /> \n",
    "    <font size=\"3\", color = \"black\">\n",
    "     <br /> стоит посмотреть на пропуски в названии и жанре, и выбрать другое решение по обработке\n",
    "        \n",
    "<b>Исправил</b>"
   ]
  },
  {
   "cell_type": "code",
   "execution_count": 41,
   "metadata": {},
   "outputs": [
    {
     "data": {
      "text/plain": [
       "0        82.54\n",
       "1        40.24\n",
       "2        35.52\n",
       "3        32.77\n",
       "4        31.38\n",
       "         ...  \n",
       "16710     0.01\n",
       "16711     0.01\n",
       "16712     0.01\n",
       "16713     0.01\n",
       "16714     0.01\n",
       "Name: all_sales, Length: 16444, dtype: float64"
      ]
     },
     "execution_count": 41,
     "metadata": {},
     "output_type": "execute_result"
    }
   ],
   "source": [
    "data['all_sales'] = data[['na_sales','eu_sales','jp_sales', 'other_sales']].sum(axis = 1)\n",
    "data['all_sales']"
   ]
  },
  {
   "cell_type": "markdown",
   "metadata": {},
   "source": [
    "суммарные продажи по всем регионам"
   ]
  },
  {
   "cell_type": "markdown",
   "metadata": {},
   "source": [
    "<div style=\"border:solid steelblue 3px; padding: 20px\">\n",
    "<font size=\"4\">🍕<b> Комментарий ревьюера</b></font>\n",
    "<br /> \n",
    "<font size=\"3\", color = \"black\">\n",
    "<br />\n",
    "можно\n",
    "    \n",
    "    df['total_sales'] = df[['na_sales','eu_sales','jp_sales', 'other_sales']].sum(axis = 1)\n",
    "\n",
    "<b>Исправил</b>    "
   ]
  },
  {
   "cell_type": "code",
   "execution_count": 42,
   "metadata": {},
   "outputs": [
    {
     "data": {
      "text/html": [
       "<div>\n",
       "<style scoped>\n",
       "    .dataframe tbody tr th:only-of-type {\n",
       "        vertical-align: middle;\n",
       "    }\n",
       "\n",
       "    .dataframe tbody tr th {\n",
       "        vertical-align: top;\n",
       "    }\n",
       "\n",
       "    .dataframe thead th {\n",
       "        text-align: right;\n",
       "    }\n",
       "</style>\n",
       "<table border=\"1\" class=\"dataframe\">\n",
       "  <thead>\n",
       "    <tr style=\"text-align: right;\">\n",
       "      <th></th>\n",
       "      <th>name</th>\n",
       "      <th>platform</th>\n",
       "      <th>year_of_release</th>\n",
       "      <th>genre</th>\n",
       "      <th>na_sales</th>\n",
       "      <th>eu_sales</th>\n",
       "      <th>jp_sales</th>\n",
       "      <th>other_sales</th>\n",
       "      <th>critic_score</th>\n",
       "      <th>user_score</th>\n",
       "      <th>rating</th>\n",
       "      <th>all_sales</th>\n",
       "    </tr>\n",
       "  </thead>\n",
       "  <tbody>\n",
       "    <tr>\n",
       "      <th>0</th>\n",
       "      <td>Wii Sports</td>\n",
       "      <td>Wii</td>\n",
       "      <td>2006</td>\n",
       "      <td>Sports</td>\n",
       "      <td>41.36</td>\n",
       "      <td>28.96</td>\n",
       "      <td>3.77</td>\n",
       "      <td>8.45</td>\n",
       "      <td>76.0</td>\n",
       "      <td>8.0</td>\n",
       "      <td>E</td>\n",
       "      <td>82.54</td>\n",
       "    </tr>\n",
       "    <tr>\n",
       "      <th>1</th>\n",
       "      <td>Super Mario Bros.</td>\n",
       "      <td>NES</td>\n",
       "      <td>1985</td>\n",
       "      <td>Platform</td>\n",
       "      <td>29.08</td>\n",
       "      <td>3.58</td>\n",
       "      <td>6.81</td>\n",
       "      <td>0.77</td>\n",
       "      <td>NaN</td>\n",
       "      <td>44.4</td>\n",
       "      <td>no_rate</td>\n",
       "      <td>40.24</td>\n",
       "    </tr>\n",
       "    <tr>\n",
       "      <th>2</th>\n",
       "      <td>Mario Kart Wii</td>\n",
       "      <td>Wii</td>\n",
       "      <td>2008</td>\n",
       "      <td>Racing</td>\n",
       "      <td>15.68</td>\n",
       "      <td>12.76</td>\n",
       "      <td>3.79</td>\n",
       "      <td>3.29</td>\n",
       "      <td>82.0</td>\n",
       "      <td>8.3</td>\n",
       "      <td>E</td>\n",
       "      <td>35.52</td>\n",
       "    </tr>\n",
       "    <tr>\n",
       "      <th>3</th>\n",
       "      <td>Wii Sports Resort</td>\n",
       "      <td>Wii</td>\n",
       "      <td>2009</td>\n",
       "      <td>Sports</td>\n",
       "      <td>15.61</td>\n",
       "      <td>10.93</td>\n",
       "      <td>3.28</td>\n",
       "      <td>2.95</td>\n",
       "      <td>80.0</td>\n",
       "      <td>8.0</td>\n",
       "      <td>E</td>\n",
       "      <td>32.77</td>\n",
       "    </tr>\n",
       "    <tr>\n",
       "      <th>4</th>\n",
       "      <td>Pokemon Red/Pokemon Blue</td>\n",
       "      <td>GB</td>\n",
       "      <td>1996</td>\n",
       "      <td>Role-Playing</td>\n",
       "      <td>11.27</td>\n",
       "      <td>8.89</td>\n",
       "      <td>10.22</td>\n",
       "      <td>1.00</td>\n",
       "      <td>NaN</td>\n",
       "      <td>44.4</td>\n",
       "      <td>no_rate</td>\n",
       "      <td>31.38</td>\n",
       "    </tr>\n",
       "    <tr>\n",
       "      <th>5</th>\n",
       "      <td>Tetris</td>\n",
       "      <td>GB</td>\n",
       "      <td>1989</td>\n",
       "      <td>Puzzle</td>\n",
       "      <td>23.20</td>\n",
       "      <td>2.26</td>\n",
       "      <td>4.22</td>\n",
       "      <td>0.58</td>\n",
       "      <td>NaN</td>\n",
       "      <td>44.4</td>\n",
       "      <td>no_rate</td>\n",
       "      <td>30.26</td>\n",
       "    </tr>\n",
       "    <tr>\n",
       "      <th>6</th>\n",
       "      <td>New Super Mario Bros.</td>\n",
       "      <td>DS</td>\n",
       "      <td>2006</td>\n",
       "      <td>Platform</td>\n",
       "      <td>11.28</td>\n",
       "      <td>9.14</td>\n",
       "      <td>6.50</td>\n",
       "      <td>2.88</td>\n",
       "      <td>89.0</td>\n",
       "      <td>8.5</td>\n",
       "      <td>E</td>\n",
       "      <td>29.80</td>\n",
       "    </tr>\n",
       "    <tr>\n",
       "      <th>7</th>\n",
       "      <td>Wii Play</td>\n",
       "      <td>Wii</td>\n",
       "      <td>2006</td>\n",
       "      <td>Misc</td>\n",
       "      <td>13.96</td>\n",
       "      <td>9.18</td>\n",
       "      <td>2.93</td>\n",
       "      <td>2.84</td>\n",
       "      <td>58.0</td>\n",
       "      <td>6.6</td>\n",
       "      <td>E</td>\n",
       "      <td>28.91</td>\n",
       "    </tr>\n",
       "    <tr>\n",
       "      <th>8</th>\n",
       "      <td>New Super Mario Bros. Wii</td>\n",
       "      <td>Wii</td>\n",
       "      <td>2009</td>\n",
       "      <td>Platform</td>\n",
       "      <td>14.44</td>\n",
       "      <td>6.94</td>\n",
       "      <td>4.70</td>\n",
       "      <td>2.24</td>\n",
       "      <td>87.0</td>\n",
       "      <td>8.4</td>\n",
       "      <td>E</td>\n",
       "      <td>28.32</td>\n",
       "    </tr>\n",
       "    <tr>\n",
       "      <th>9</th>\n",
       "      <td>Duck Hunt</td>\n",
       "      <td>NES</td>\n",
       "      <td>1984</td>\n",
       "      <td>Shooter</td>\n",
       "      <td>26.93</td>\n",
       "      <td>0.63</td>\n",
       "      <td>0.28</td>\n",
       "      <td>0.47</td>\n",
       "      <td>NaN</td>\n",
       "      <td>44.4</td>\n",
       "      <td>no_rate</td>\n",
       "      <td>28.31</td>\n",
       "    </tr>\n",
       "    <tr>\n",
       "      <th>10</th>\n",
       "      <td>Nintendogs</td>\n",
       "      <td>DS</td>\n",
       "      <td>2005</td>\n",
       "      <td>Simulation</td>\n",
       "      <td>9.05</td>\n",
       "      <td>10.95</td>\n",
       "      <td>1.93</td>\n",
       "      <td>2.74</td>\n",
       "      <td>NaN</td>\n",
       "      <td>44.4</td>\n",
       "      <td>no_rate</td>\n",
       "      <td>24.67</td>\n",
       "    </tr>\n",
       "    <tr>\n",
       "      <th>11</th>\n",
       "      <td>Mario Kart DS</td>\n",
       "      <td>DS</td>\n",
       "      <td>2005</td>\n",
       "      <td>Racing</td>\n",
       "      <td>9.71</td>\n",
       "      <td>7.47</td>\n",
       "      <td>4.13</td>\n",
       "      <td>1.90</td>\n",
       "      <td>91.0</td>\n",
       "      <td>8.6</td>\n",
       "      <td>E</td>\n",
       "      <td>23.21</td>\n",
       "    </tr>\n",
       "    <tr>\n",
       "      <th>12</th>\n",
       "      <td>Pokemon Gold/Pokemon Silver</td>\n",
       "      <td>GB</td>\n",
       "      <td>1999</td>\n",
       "      <td>Role-Playing</td>\n",
       "      <td>9.00</td>\n",
       "      <td>6.18</td>\n",
       "      <td>7.20</td>\n",
       "      <td>0.71</td>\n",
       "      <td>NaN</td>\n",
       "      <td>44.4</td>\n",
       "      <td>no_rate</td>\n",
       "      <td>23.09</td>\n",
       "    </tr>\n",
       "    <tr>\n",
       "      <th>13</th>\n",
       "      <td>Wii Fit</td>\n",
       "      <td>Wii</td>\n",
       "      <td>2007</td>\n",
       "      <td>Sports</td>\n",
       "      <td>8.92</td>\n",
       "      <td>8.03</td>\n",
       "      <td>3.60</td>\n",
       "      <td>2.15</td>\n",
       "      <td>80.0</td>\n",
       "      <td>7.7</td>\n",
       "      <td>E</td>\n",
       "      <td>22.70</td>\n",
       "    </tr>\n",
       "    <tr>\n",
       "      <th>14</th>\n",
       "      <td>Kinect Adventures!</td>\n",
       "      <td>X360</td>\n",
       "      <td>2010</td>\n",
       "      <td>Misc</td>\n",
       "      <td>15.00</td>\n",
       "      <td>4.89</td>\n",
       "      <td>0.24</td>\n",
       "      <td>1.69</td>\n",
       "      <td>61.0</td>\n",
       "      <td>6.3</td>\n",
       "      <td>E</td>\n",
       "      <td>21.82</td>\n",
       "    </tr>\n",
       "    <tr>\n",
       "      <th>15</th>\n",
       "      <td>Wii Fit Plus</td>\n",
       "      <td>Wii</td>\n",
       "      <td>2009</td>\n",
       "      <td>Sports</td>\n",
       "      <td>9.01</td>\n",
       "      <td>8.49</td>\n",
       "      <td>2.53</td>\n",
       "      <td>1.77</td>\n",
       "      <td>80.0</td>\n",
       "      <td>7.4</td>\n",
       "      <td>E</td>\n",
       "      <td>21.80</td>\n",
       "    </tr>\n",
       "    <tr>\n",
       "      <th>16</th>\n",
       "      <td>Grand Theft Auto V</td>\n",
       "      <td>PS3</td>\n",
       "      <td>2013</td>\n",
       "      <td>Action</td>\n",
       "      <td>7.02</td>\n",
       "      <td>9.09</td>\n",
       "      <td>0.98</td>\n",
       "      <td>3.96</td>\n",
       "      <td>97.0</td>\n",
       "      <td>8.2</td>\n",
       "      <td>M</td>\n",
       "      <td>21.05</td>\n",
       "    </tr>\n",
       "    <tr>\n",
       "      <th>17</th>\n",
       "      <td>Grand Theft Auto: San Andreas</td>\n",
       "      <td>PS2</td>\n",
       "      <td>2004</td>\n",
       "      <td>Action</td>\n",
       "      <td>9.43</td>\n",
       "      <td>0.40</td>\n",
       "      <td>0.41</td>\n",
       "      <td>10.57</td>\n",
       "      <td>95.0</td>\n",
       "      <td>9.0</td>\n",
       "      <td>M</td>\n",
       "      <td>20.81</td>\n",
       "    </tr>\n",
       "    <tr>\n",
       "      <th>18</th>\n",
       "      <td>Super Mario World</td>\n",
       "      <td>SNES</td>\n",
       "      <td>1990</td>\n",
       "      <td>Platform</td>\n",
       "      <td>12.78</td>\n",
       "      <td>3.75</td>\n",
       "      <td>3.54</td>\n",
       "      <td>0.55</td>\n",
       "      <td>NaN</td>\n",
       "      <td>44.4</td>\n",
       "      <td>no_rate</td>\n",
       "      <td>20.62</td>\n",
       "    </tr>\n",
       "    <tr>\n",
       "      <th>19</th>\n",
       "      <td>Brain Age: Train Your Brain in Minutes a Day</td>\n",
       "      <td>DS</td>\n",
       "      <td>2005</td>\n",
       "      <td>Misc</td>\n",
       "      <td>4.74</td>\n",
       "      <td>9.20</td>\n",
       "      <td>4.16</td>\n",
       "      <td>2.04</td>\n",
       "      <td>77.0</td>\n",
       "      <td>7.9</td>\n",
       "      <td>E</td>\n",
       "      <td>20.14</td>\n",
       "    </tr>\n",
       "  </tbody>\n",
       "</table>\n",
       "</div>"
      ],
      "text/plain": [
       "                                            name platform  year_of_release  \\\n",
       "0                                     Wii Sports      Wii             2006   \n",
       "1                              Super Mario Bros.      NES             1985   \n",
       "2                                 Mario Kart Wii      Wii             2008   \n",
       "3                              Wii Sports Resort      Wii             2009   \n",
       "4                       Pokemon Red/Pokemon Blue       GB             1996   \n",
       "5                                         Tetris       GB             1989   \n",
       "6                          New Super Mario Bros.       DS             2006   \n",
       "7                                       Wii Play      Wii             2006   \n",
       "8                      New Super Mario Bros. Wii      Wii             2009   \n",
       "9                                      Duck Hunt      NES             1984   \n",
       "10                                    Nintendogs       DS             2005   \n",
       "11                                 Mario Kart DS       DS             2005   \n",
       "12                   Pokemon Gold/Pokemon Silver       GB             1999   \n",
       "13                                       Wii Fit      Wii             2007   \n",
       "14                            Kinect Adventures!     X360             2010   \n",
       "15                                  Wii Fit Plus      Wii             2009   \n",
       "16                            Grand Theft Auto V      PS3             2013   \n",
       "17                 Grand Theft Auto: San Andreas      PS2             2004   \n",
       "18                             Super Mario World     SNES             1990   \n",
       "19  Brain Age: Train Your Brain in Minutes a Day       DS             2005   \n",
       "\n",
       "           genre  na_sales  eu_sales  jp_sales  other_sales  critic_score  \\\n",
       "0         Sports     41.36     28.96      3.77         8.45          76.0   \n",
       "1       Platform     29.08      3.58      6.81         0.77           NaN   \n",
       "2         Racing     15.68     12.76      3.79         3.29          82.0   \n",
       "3         Sports     15.61     10.93      3.28         2.95          80.0   \n",
       "4   Role-Playing     11.27      8.89     10.22         1.00           NaN   \n",
       "5         Puzzle     23.20      2.26      4.22         0.58           NaN   \n",
       "6       Platform     11.28      9.14      6.50         2.88          89.0   \n",
       "7           Misc     13.96      9.18      2.93         2.84          58.0   \n",
       "8       Platform     14.44      6.94      4.70         2.24          87.0   \n",
       "9        Shooter     26.93      0.63      0.28         0.47           NaN   \n",
       "10    Simulation      9.05     10.95      1.93         2.74           NaN   \n",
       "11        Racing      9.71      7.47      4.13         1.90          91.0   \n",
       "12  Role-Playing      9.00      6.18      7.20         0.71           NaN   \n",
       "13        Sports      8.92      8.03      3.60         2.15          80.0   \n",
       "14          Misc     15.00      4.89      0.24         1.69          61.0   \n",
       "15        Sports      9.01      8.49      2.53         1.77          80.0   \n",
       "16        Action      7.02      9.09      0.98         3.96          97.0   \n",
       "17        Action      9.43      0.40      0.41        10.57          95.0   \n",
       "18      Platform     12.78      3.75      3.54         0.55           NaN   \n",
       "19          Misc      4.74      9.20      4.16         2.04          77.0   \n",
       "\n",
       "    user_score   rating  all_sales  \n",
       "0          8.0        E      82.54  \n",
       "1         44.4  no_rate      40.24  \n",
       "2          8.3        E      35.52  \n",
       "3          8.0        E      32.77  \n",
       "4         44.4  no_rate      31.38  \n",
       "5         44.4  no_rate      30.26  \n",
       "6          8.5        E      29.80  \n",
       "7          6.6        E      28.91  \n",
       "8          8.4        E      28.32  \n",
       "9         44.4  no_rate      28.31  \n",
       "10        44.4  no_rate      24.67  \n",
       "11         8.6        E      23.21  \n",
       "12        44.4  no_rate      23.09  \n",
       "13         7.7        E      22.70  \n",
       "14         6.3        E      21.82  \n",
       "15         7.4        E      21.80  \n",
       "16         8.2        M      21.05  \n",
       "17         9.0        M      20.81  \n",
       "18        44.4  no_rate      20.62  \n",
       "19         7.9        E      20.14  "
      ]
     },
     "execution_count": 42,
     "metadata": {},
     "output_type": "execute_result"
    }
   ],
   "source": [
    "data.head(20)"
   ]
  },
  {
   "cell_type": "code",
   "execution_count": 43,
   "metadata": {},
   "outputs": [
    {
     "name": "stdout",
     "output_type": "stream",
     "text": [
      "<class 'pandas.core.frame.DataFrame'>\n",
      "Int64Index: 16444 entries, 0 to 16714\n",
      "Data columns (total 12 columns):\n",
      " #   Column           Non-Null Count  Dtype  \n",
      "---  ------           --------------  -----  \n",
      " 0   name             16444 non-null  object \n",
      " 1   platform         16444 non-null  object \n",
      " 2   year_of_release  16444 non-null  int64  \n",
      " 3   genre            16444 non-null  object \n",
      " 4   na_sales         16444 non-null  float64\n",
      " 5   eu_sales         16444 non-null  float64\n",
      " 6   jp_sales         16444 non-null  float64\n",
      " 7   other_sales      16444 non-null  float64\n",
      " 8   critic_score     7983 non-null   float64\n",
      " 9   user_score       16444 non-null  float64\n",
      " 10  rating           16444 non-null  object \n",
      " 11  all_sales        16444 non-null  float64\n",
      "dtypes: float64(7), int64(1), object(4)\n",
      "memory usage: 1.6+ MB\n"
     ]
    }
   ],
   "source": [
    "data.info()"
   ]
  },
  {
   "cell_type": "markdown",
   "metadata": {},
   "source": [
    "<div class=\"alert alert-danger\">\n",
    "<font size=\"4\"><b>❌ Комментарий ревьюера</b></font>\n",
    "    <br /> \n",
    "    <font size=\"3\", color = \"black\">\n",
    "<br /> тип данных стоит поменять на целочисленный \n",
    "        \n",
    "        2   year_of_release  16446 non-null  datetime64[ns]\n",
    " \n",
    "        \n",
    "<b>Исправил</b>  \n",
    "        \n",
    "        "
   ]
  },
  {
   "cell_type": "markdown",
   "metadata": {},
   "source": [
    "<div class=\"alert alert-danger\">\n",
    "<font size=\"4\"><b>❌ Комментарий ревьюера</b></font>\n",
    "    <br /> \n",
    "    <font size=\"3\", color = \"black\">\n",
    "<br />          \n",
    "Рейтинг — категориальные данные, стоит внимательно взглянуть на содержимое и предложить чем заполнить пропуски, возможно это поможет найти необычные различия в поведении клиентов, допом можно подумать над сокращением количества категорий\n",
    "        \n",
    "Т.к. записи с пропусками не учитываются при группировке данных, мы не сможем выявить реальный портрет клиента\n",
    "        \n",
    "<b>Исправил</b>"
   ]
  },
  {
   "cell_type": "markdown",
   "metadata": {},
   "source": [
    "<b>Шаг 3 - анализ данных<b>"
   ]
  },
  {
   "cell_type": "code",
   "execution_count": 44,
   "metadata": {},
   "outputs": [
    {
     "data": {
      "text/html": [
       "<div>\n",
       "<style scoped>\n",
       "    .dataframe tbody tr th:only-of-type {\n",
       "        vertical-align: middle;\n",
       "    }\n",
       "\n",
       "    .dataframe tbody tr th {\n",
       "        vertical-align: top;\n",
       "    }\n",
       "\n",
       "    .dataframe thead th {\n",
       "        text-align: right;\n",
       "    }\n",
       "</style>\n",
       "<table border=\"1\" class=\"dataframe\">\n",
       "  <thead>\n",
       "    <tr style=\"text-align: right;\">\n",
       "      <th></th>\n",
       "      <th>name</th>\n",
       "    </tr>\n",
       "    <tr>\n",
       "      <th>year_of_release</th>\n",
       "      <th></th>\n",
       "    </tr>\n",
       "  </thead>\n",
       "  <tbody>\n",
       "    <tr>\n",
       "      <th>1980</th>\n",
       "      <td>9</td>\n",
       "    </tr>\n",
       "    <tr>\n",
       "      <th>1981</th>\n",
       "      <td>46</td>\n",
       "    </tr>\n",
       "    <tr>\n",
       "      <th>1982</th>\n",
       "      <td>36</td>\n",
       "    </tr>\n",
       "    <tr>\n",
       "      <th>1983</th>\n",
       "      <td>17</td>\n",
       "    </tr>\n",
       "    <tr>\n",
       "      <th>1984</th>\n",
       "      <td>14</td>\n",
       "    </tr>\n",
       "    <tr>\n",
       "      <th>1985</th>\n",
       "      <td>14</td>\n",
       "    </tr>\n",
       "    <tr>\n",
       "      <th>1986</th>\n",
       "      <td>21</td>\n",
       "    </tr>\n",
       "    <tr>\n",
       "      <th>1987</th>\n",
       "      <td>16</td>\n",
       "    </tr>\n",
       "    <tr>\n",
       "      <th>1988</th>\n",
       "      <td>15</td>\n",
       "    </tr>\n",
       "    <tr>\n",
       "      <th>1989</th>\n",
       "      <td>17</td>\n",
       "    </tr>\n",
       "    <tr>\n",
       "      <th>1990</th>\n",
       "      <td>16</td>\n",
       "    </tr>\n",
       "    <tr>\n",
       "      <th>1991</th>\n",
       "      <td>41</td>\n",
       "    </tr>\n",
       "    <tr>\n",
       "      <th>1992</th>\n",
       "      <td>43</td>\n",
       "    </tr>\n",
       "    <tr>\n",
       "      <th>1993</th>\n",
       "      <td>60</td>\n",
       "    </tr>\n",
       "    <tr>\n",
       "      <th>1994</th>\n",
       "      <td>121</td>\n",
       "    </tr>\n",
       "    <tr>\n",
       "      <th>1995</th>\n",
       "      <td>219</td>\n",
       "    </tr>\n",
       "    <tr>\n",
       "      <th>1996</th>\n",
       "      <td>263</td>\n",
       "    </tr>\n",
       "    <tr>\n",
       "      <th>1997</th>\n",
       "      <td>289</td>\n",
       "    </tr>\n",
       "    <tr>\n",
       "      <th>1998</th>\n",
       "      <td>379</td>\n",
       "    </tr>\n",
       "    <tr>\n",
       "      <th>1999</th>\n",
       "      <td>338</td>\n",
       "    </tr>\n",
       "    <tr>\n",
       "      <th>2000</th>\n",
       "      <td>350</td>\n",
       "    </tr>\n",
       "    <tr>\n",
       "      <th>2001</th>\n",
       "      <td>482</td>\n",
       "    </tr>\n",
       "    <tr>\n",
       "      <th>2002</th>\n",
       "      <td>829</td>\n",
       "    </tr>\n",
       "    <tr>\n",
       "      <th>2003</th>\n",
       "      <td>775</td>\n",
       "    </tr>\n",
       "    <tr>\n",
       "      <th>2004</th>\n",
       "      <td>762</td>\n",
       "    </tr>\n",
       "    <tr>\n",
       "      <th>2005</th>\n",
       "      <td>939</td>\n",
       "    </tr>\n",
       "    <tr>\n",
       "      <th>2006</th>\n",
       "      <td>1006</td>\n",
       "    </tr>\n",
       "    <tr>\n",
       "      <th>2007</th>\n",
       "      <td>1197</td>\n",
       "    </tr>\n",
       "    <tr>\n",
       "      <th>2008</th>\n",
       "      <td>1427</td>\n",
       "    </tr>\n",
       "    <tr>\n",
       "      <th>2009</th>\n",
       "      <td>1426</td>\n",
       "    </tr>\n",
       "    <tr>\n",
       "      <th>2010</th>\n",
       "      <td>1255</td>\n",
       "    </tr>\n",
       "    <tr>\n",
       "      <th>2011</th>\n",
       "      <td>1136</td>\n",
       "    </tr>\n",
       "    <tr>\n",
       "      <th>2012</th>\n",
       "      <td>653</td>\n",
       "    </tr>\n",
       "    <tr>\n",
       "      <th>2013</th>\n",
       "      <td>544</td>\n",
       "    </tr>\n",
       "    <tr>\n",
       "      <th>2014</th>\n",
       "      <td>581</td>\n",
       "    </tr>\n",
       "    <tr>\n",
       "      <th>2015</th>\n",
       "      <td>606</td>\n",
       "    </tr>\n",
       "    <tr>\n",
       "      <th>2016</th>\n",
       "      <td>502</td>\n",
       "    </tr>\n",
       "  </tbody>\n",
       "</table>\n",
       "</div>"
      ],
      "text/plain": [
       "                 name\n",
       "year_of_release      \n",
       "1980                9\n",
       "1981               46\n",
       "1982               36\n",
       "1983               17\n",
       "1984               14\n",
       "1985               14\n",
       "1986               21\n",
       "1987               16\n",
       "1988               15\n",
       "1989               17\n",
       "1990               16\n",
       "1991               41\n",
       "1992               43\n",
       "1993               60\n",
       "1994              121\n",
       "1995              219\n",
       "1996              263\n",
       "1997              289\n",
       "1998              379\n",
       "1999              338\n",
       "2000              350\n",
       "2001              482\n",
       "2002              829\n",
       "2003              775\n",
       "2004              762\n",
       "2005              939\n",
       "2006             1006\n",
       "2007             1197\n",
       "2008             1427\n",
       "2009             1426\n",
       "2010             1255\n",
       "2011             1136\n",
       "2012              653\n",
       "2013              544\n",
       "2014              581\n",
       "2015              606\n",
       "2016              502"
      ]
     },
     "execution_count": 44,
     "metadata": {},
     "output_type": "execute_result"
    }
   ],
   "source": [
    "game_stat = data.pivot_table(index='year_of_release', values='name', aggfunc='count')\n",
    "game_stat"
   ]
  },
  {
   "cell_type": "markdown",
   "metadata": {},
   "source": [
    "пик выпуска игр пришелся на 2008-2009 гг, потом число новых релизов неуклонно снижалось. Возможно это связано с экономическоим кризисом 2008-2009 гг."
   ]
  },
  {
   "cell_type": "code",
   "execution_count": 45,
   "metadata": {},
   "outputs": [
    {
     "data": {
      "text/plain": [
       "platform\n",
       "PS2     1233.56\n",
       "X360     961.24\n",
       "PS3      931.34\n",
       "Wii      891.18\n",
       "DS       802.78\n",
       "PS       727.58\n",
       "PS4      314.14\n",
       "GBA      312.88\n",
       "PSP      289.53\n",
       "3DS      257.81\n",
       "PC       255.76\n",
       "GB       254.43\n",
       "XB       251.57\n",
       "NES      251.05\n",
       "N64      218.01\n",
       "SNES     200.04\n",
       "GC       196.73\n",
       "XOne     159.32\n",
       "2600      86.48\n",
       "WiiU      82.19\n",
       "PSV       53.81\n",
       "SAT       33.59\n",
       "GEN       28.35\n",
       "DC        15.95\n",
       "SCD        1.86\n",
       "NG         1.44\n",
       "WS         1.42\n",
       "TG16       0.16\n",
       "3DO        0.10\n",
       "GG         0.04\n",
       "PCFX       0.03\n",
       "Name: all_sales, dtype: float64"
      ]
     },
     "execution_count": 45,
     "metadata": {},
     "output_type": "execute_result"
    }
   ],
   "source": [
    "platform_stat = data.pivot_table(index='platform', values='all_sales', aggfunc='sum')\n",
    "platform_stat['all_sales'].sort_values(ascending=False)"
   ]
  },
  {
   "cell_type": "markdown",
   "metadata": {},
   "source": [
    "популярные платформы по числу проданных копий игр (млн шт)"
   ]
  },
  {
   "cell_type": "code",
   "execution_count": 46,
   "metadata": {},
   "outputs": [
    {
     "data": {
      "text/html": [
       "<div>\n",
       "<style scoped>\n",
       "    .dataframe tbody tr th:only-of-type {\n",
       "        vertical-align: middle;\n",
       "    }\n",
       "\n",
       "    .dataframe tbody tr th {\n",
       "        vertical-align: top;\n",
       "    }\n",
       "\n",
       "    .dataframe thead th {\n",
       "        text-align: right;\n",
       "    }\n",
       "</style>\n",
       "<table border=\"1\" class=\"dataframe\">\n",
       "  <thead>\n",
       "    <tr style=\"text-align: right;\">\n",
       "      <th></th>\n",
       "      <th>name</th>\n",
       "      <th>platform</th>\n",
       "      <th>year_of_release</th>\n",
       "      <th>genre</th>\n",
       "      <th>na_sales</th>\n",
       "      <th>eu_sales</th>\n",
       "      <th>jp_sales</th>\n",
       "      <th>other_sales</th>\n",
       "      <th>critic_score</th>\n",
       "      <th>user_score</th>\n",
       "      <th>rating</th>\n",
       "      <th>all_sales</th>\n",
       "    </tr>\n",
       "  </thead>\n",
       "  <tbody>\n",
       "    <tr>\n",
       "      <th>0</th>\n",
       "      <td>Wii Sports</td>\n",
       "      <td>Wii</td>\n",
       "      <td>2006</td>\n",
       "      <td>Sports</td>\n",
       "      <td>41.36</td>\n",
       "      <td>28.96</td>\n",
       "      <td>3.77</td>\n",
       "      <td>8.45</td>\n",
       "      <td>76.0</td>\n",
       "      <td>8.0</td>\n",
       "      <td>E</td>\n",
       "      <td>82.54</td>\n",
       "    </tr>\n",
       "    <tr>\n",
       "      <th>2</th>\n",
       "      <td>Mario Kart Wii</td>\n",
       "      <td>Wii</td>\n",
       "      <td>2008</td>\n",
       "      <td>Racing</td>\n",
       "      <td>15.68</td>\n",
       "      <td>12.76</td>\n",
       "      <td>3.79</td>\n",
       "      <td>3.29</td>\n",
       "      <td>82.0</td>\n",
       "      <td>8.3</td>\n",
       "      <td>E</td>\n",
       "      <td>35.52</td>\n",
       "    </tr>\n",
       "    <tr>\n",
       "      <th>3</th>\n",
       "      <td>Wii Sports Resort</td>\n",
       "      <td>Wii</td>\n",
       "      <td>2009</td>\n",
       "      <td>Sports</td>\n",
       "      <td>15.61</td>\n",
       "      <td>10.93</td>\n",
       "      <td>3.28</td>\n",
       "      <td>2.95</td>\n",
       "      <td>80.0</td>\n",
       "      <td>8.0</td>\n",
       "      <td>E</td>\n",
       "      <td>32.77</td>\n",
       "    </tr>\n",
       "    <tr>\n",
       "      <th>6</th>\n",
       "      <td>New Super Mario Bros.</td>\n",
       "      <td>DS</td>\n",
       "      <td>2006</td>\n",
       "      <td>Platform</td>\n",
       "      <td>11.28</td>\n",
       "      <td>9.14</td>\n",
       "      <td>6.50</td>\n",
       "      <td>2.88</td>\n",
       "      <td>89.0</td>\n",
       "      <td>8.5</td>\n",
       "      <td>E</td>\n",
       "      <td>29.80</td>\n",
       "    </tr>\n",
       "    <tr>\n",
       "      <th>7</th>\n",
       "      <td>Wii Play</td>\n",
       "      <td>Wii</td>\n",
       "      <td>2006</td>\n",
       "      <td>Misc</td>\n",
       "      <td>13.96</td>\n",
       "      <td>9.18</td>\n",
       "      <td>2.93</td>\n",
       "      <td>2.84</td>\n",
       "      <td>58.0</td>\n",
       "      <td>6.6</td>\n",
       "      <td>E</td>\n",
       "      <td>28.91</td>\n",
       "    </tr>\n",
       "    <tr>\n",
       "      <th>...</th>\n",
       "      <td>...</td>\n",
       "      <td>...</td>\n",
       "      <td>...</td>\n",
       "      <td>...</td>\n",
       "      <td>...</td>\n",
       "      <td>...</td>\n",
       "      <td>...</td>\n",
       "      <td>...</td>\n",
       "      <td>...</td>\n",
       "      <td>...</td>\n",
       "      <td>...</td>\n",
       "      <td>...</td>\n",
       "    </tr>\n",
       "    <tr>\n",
       "      <th>16700</th>\n",
       "      <td>Mezase!! Tsuri Master DS</td>\n",
       "      <td>DS</td>\n",
       "      <td>2009</td>\n",
       "      <td>Sports</td>\n",
       "      <td>0.00</td>\n",
       "      <td>0.00</td>\n",
       "      <td>0.01</td>\n",
       "      <td>0.00</td>\n",
       "      <td>NaN</td>\n",
       "      <td>44.4</td>\n",
       "      <td>no_rate</td>\n",
       "      <td>0.01</td>\n",
       "    </tr>\n",
       "    <tr>\n",
       "      <th>16704</th>\n",
       "      <td>Plushees</td>\n",
       "      <td>DS</td>\n",
       "      <td>2008</td>\n",
       "      <td>Simulation</td>\n",
       "      <td>0.01</td>\n",
       "      <td>0.00</td>\n",
       "      <td>0.00</td>\n",
       "      <td>0.00</td>\n",
       "      <td>NaN</td>\n",
       "      <td>44.4</td>\n",
       "      <td>E</td>\n",
       "      <td>0.01</td>\n",
       "    </tr>\n",
       "    <tr>\n",
       "      <th>16709</th>\n",
       "      <td>SCORE International Baja 1000: The Official Game</td>\n",
       "      <td>PS2</td>\n",
       "      <td>2008</td>\n",
       "      <td>Racing</td>\n",
       "      <td>0.00</td>\n",
       "      <td>0.00</td>\n",
       "      <td>0.00</td>\n",
       "      <td>0.00</td>\n",
       "      <td>NaN</td>\n",
       "      <td>44.4</td>\n",
       "      <td>no_rate</td>\n",
       "      <td>0.00</td>\n",
       "    </tr>\n",
       "    <tr>\n",
       "      <th>16710</th>\n",
       "      <td>Samurai Warriors: Sanada Maru</td>\n",
       "      <td>PS3</td>\n",
       "      <td>2016</td>\n",
       "      <td>Action</td>\n",
       "      <td>0.00</td>\n",
       "      <td>0.00</td>\n",
       "      <td>0.01</td>\n",
       "      <td>0.00</td>\n",
       "      <td>NaN</td>\n",
       "      <td>44.4</td>\n",
       "      <td>no_rate</td>\n",
       "      <td>0.01</td>\n",
       "    </tr>\n",
       "    <tr>\n",
       "      <th>16711</th>\n",
       "      <td>LMA Manager 2007</td>\n",
       "      <td>X360</td>\n",
       "      <td>2006</td>\n",
       "      <td>Sports</td>\n",
       "      <td>0.00</td>\n",
       "      <td>0.01</td>\n",
       "      <td>0.00</td>\n",
       "      <td>0.00</td>\n",
       "      <td>NaN</td>\n",
       "      <td>44.4</td>\n",
       "      <td>no_rate</td>\n",
       "      <td>0.01</td>\n",
       "    </tr>\n",
       "  </tbody>\n",
       "</table>\n",
       "<p>9262 rows × 12 columns</p>\n",
       "</div>"
      ],
      "text/plain": [
       "                                                   name platform  \\\n",
       "0                                            Wii Sports      Wii   \n",
       "2                                        Mario Kart Wii      Wii   \n",
       "3                                     Wii Sports Resort      Wii   \n",
       "6                                 New Super Mario Bros.       DS   \n",
       "7                                              Wii Play      Wii   \n",
       "...                                                 ...      ...   \n",
       "16700                          Mezase!! Tsuri Master DS       DS   \n",
       "16704                                          Plushees       DS   \n",
       "16709  SCORE International Baja 1000: The Official Game      PS2   \n",
       "16710                     Samurai Warriors: Sanada Maru      PS3   \n",
       "16711                                  LMA Manager 2007     X360   \n",
       "\n",
       "       year_of_release       genre  na_sales  eu_sales  jp_sales  other_sales  \\\n",
       "0                 2006      Sports     41.36     28.96      3.77         8.45   \n",
       "2                 2008      Racing     15.68     12.76      3.79         3.29   \n",
       "3                 2009      Sports     15.61     10.93      3.28         2.95   \n",
       "6                 2006    Platform     11.28      9.14      6.50         2.88   \n",
       "7                 2006        Misc     13.96      9.18      2.93         2.84   \n",
       "...                ...         ...       ...       ...       ...          ...   \n",
       "16700             2009      Sports      0.00      0.00      0.01         0.00   \n",
       "16704             2008  Simulation      0.01      0.00      0.00         0.00   \n",
       "16709             2008      Racing      0.00      0.00      0.00         0.00   \n",
       "16710             2016      Action      0.00      0.00      0.01         0.00   \n",
       "16711             2006      Sports      0.00      0.01      0.00         0.00   \n",
       "\n",
       "       critic_score  user_score   rating  all_sales  \n",
       "0              76.0         8.0        E      82.54  \n",
       "2              82.0         8.3        E      35.52  \n",
       "3              80.0         8.0        E      32.77  \n",
       "6              89.0         8.5        E      29.80  \n",
       "7              58.0         6.6        E      28.91  \n",
       "...             ...         ...      ...        ...  \n",
       "16700           NaN        44.4  no_rate       0.01  \n",
       "16704           NaN        44.4        E       0.01  \n",
       "16709           NaN        44.4  no_rate       0.00  \n",
       "16710           NaN        44.4  no_rate       0.01  \n",
       "16711           NaN        44.4  no_rate       0.01  \n",
       "\n",
       "[9262 rows x 12 columns]"
      ]
     },
     "execution_count": 46,
     "metadata": {},
     "output_type": "execute_result"
    }
   ],
   "source": [
    "list_main_platform = ['PS2', 'X360', 'PS3', 'Wii', 'DS', 'PS']\n",
    "data_main_platform = data.query('platform in @list_main_platform')\n",
    "data_main_platform"
   ]
  },
  {
   "cell_type": "code",
   "execution_count": 47,
   "metadata": {},
   "outputs": [
    {
     "data": {
      "text/html": [
       "<div>\n",
       "<style scoped>\n",
       "    .dataframe tbody tr th:only-of-type {\n",
       "        vertical-align: middle;\n",
       "    }\n",
       "\n",
       "    .dataframe tbody tr th {\n",
       "        vertical-align: top;\n",
       "    }\n",
       "\n",
       "    .dataframe thead th {\n",
       "        text-align: right;\n",
       "    }\n",
       "</style>\n",
       "<table border=\"1\" class=\"dataframe\">\n",
       "  <thead>\n",
       "    <tr style=\"text-align: right;\">\n",
       "      <th>platform</th>\n",
       "      <th>DS</th>\n",
       "      <th>PS</th>\n",
       "      <th>PS2</th>\n",
       "      <th>PS3</th>\n",
       "      <th>Wii</th>\n",
       "      <th>X360</th>\n",
       "    </tr>\n",
       "    <tr>\n",
       "      <th>year_of_release</th>\n",
       "      <th></th>\n",
       "      <th></th>\n",
       "      <th></th>\n",
       "      <th></th>\n",
       "      <th></th>\n",
       "      <th></th>\n",
       "    </tr>\n",
       "  </thead>\n",
       "  <tbody>\n",
       "    <tr>\n",
       "      <th>1985</th>\n",
       "      <td>0.02</td>\n",
       "      <td>NaN</td>\n",
       "      <td>NaN</td>\n",
       "      <td>NaN</td>\n",
       "      <td>NaN</td>\n",
       "      <td>NaN</td>\n",
       "    </tr>\n",
       "    <tr>\n",
       "      <th>1994</th>\n",
       "      <td>NaN</td>\n",
       "      <td>6.03</td>\n",
       "      <td>NaN</td>\n",
       "      <td>NaN</td>\n",
       "      <td>NaN</td>\n",
       "      <td>NaN</td>\n",
       "    </tr>\n",
       "    <tr>\n",
       "      <th>1995</th>\n",
       "      <td>NaN</td>\n",
       "      <td>35.96</td>\n",
       "      <td>NaN</td>\n",
       "      <td>NaN</td>\n",
       "      <td>NaN</td>\n",
       "      <td>NaN</td>\n",
       "    </tr>\n",
       "    <tr>\n",
       "      <th>1996</th>\n",
       "      <td>NaN</td>\n",
       "      <td>94.70</td>\n",
       "      <td>NaN</td>\n",
       "      <td>NaN</td>\n",
       "      <td>NaN</td>\n",
       "      <td>NaN</td>\n",
       "    </tr>\n",
       "    <tr>\n",
       "      <th>1997</th>\n",
       "      <td>NaN</td>\n",
       "      <td>136.17</td>\n",
       "      <td>NaN</td>\n",
       "      <td>NaN</td>\n",
       "      <td>NaN</td>\n",
       "      <td>NaN</td>\n",
       "    </tr>\n",
       "    <tr>\n",
       "      <th>1998</th>\n",
       "      <td>NaN</td>\n",
       "      <td>169.49</td>\n",
       "      <td>NaN</td>\n",
       "      <td>NaN</td>\n",
       "      <td>NaN</td>\n",
       "      <td>NaN</td>\n",
       "    </tr>\n",
       "    <tr>\n",
       "      <th>1999</th>\n",
       "      <td>NaN</td>\n",
       "      <td>144.53</td>\n",
       "      <td>NaN</td>\n",
       "      <td>NaN</td>\n",
       "      <td>NaN</td>\n",
       "      <td>NaN</td>\n",
       "    </tr>\n",
       "    <tr>\n",
       "      <th>2000</th>\n",
       "      <td>NaN</td>\n",
       "      <td>96.37</td>\n",
       "      <td>39.17</td>\n",
       "      <td>NaN</td>\n",
       "      <td>NaN</td>\n",
       "      <td>NaN</td>\n",
       "    </tr>\n",
       "    <tr>\n",
       "      <th>2001</th>\n",
       "      <td>NaN</td>\n",
       "      <td>35.59</td>\n",
       "      <td>166.43</td>\n",
       "      <td>NaN</td>\n",
       "      <td>NaN</td>\n",
       "      <td>NaN</td>\n",
       "    </tr>\n",
       "    <tr>\n",
       "      <th>2002</th>\n",
       "      <td>NaN</td>\n",
       "      <td>6.67</td>\n",
       "      <td>205.38</td>\n",
       "      <td>NaN</td>\n",
       "      <td>NaN</td>\n",
       "      <td>NaN</td>\n",
       "    </tr>\n",
       "    <tr>\n",
       "      <th>2003</th>\n",
       "      <td>NaN</td>\n",
       "      <td>2.07</td>\n",
       "      <td>184.31</td>\n",
       "      <td>NaN</td>\n",
       "      <td>NaN</td>\n",
       "      <td>NaN</td>\n",
       "    </tr>\n",
       "    <tr>\n",
       "      <th>2004</th>\n",
       "      <td>17.27</td>\n",
       "      <td>NaN</td>\n",
       "      <td>211.81</td>\n",
       "      <td>NaN</td>\n",
       "      <td>NaN</td>\n",
       "      <td>NaN</td>\n",
       "    </tr>\n",
       "    <tr>\n",
       "      <th>2005</th>\n",
       "      <td>130.14</td>\n",
       "      <td>NaN</td>\n",
       "      <td>160.66</td>\n",
       "      <td>NaN</td>\n",
       "      <td>NaN</td>\n",
       "      <td>8.25</td>\n",
       "    </tr>\n",
       "    <tr>\n",
       "      <th>2006</th>\n",
       "      <td>119.81</td>\n",
       "      <td>NaN</td>\n",
       "      <td>103.42</td>\n",
       "      <td>20.96</td>\n",
       "      <td>137.15</td>\n",
       "      <td>51.62</td>\n",
       "    </tr>\n",
       "    <tr>\n",
       "      <th>2007</th>\n",
       "      <td>146.94</td>\n",
       "      <td>NaN</td>\n",
       "      <td>75.99</td>\n",
       "      <td>73.19</td>\n",
       "      <td>152.77</td>\n",
       "      <td>95.41</td>\n",
       "    </tr>\n",
       "    <tr>\n",
       "      <th>2008</th>\n",
       "      <td>145.31</td>\n",
       "      <td>NaN</td>\n",
       "      <td>53.90</td>\n",
       "      <td>118.52</td>\n",
       "      <td>171.32</td>\n",
       "      <td>135.26</td>\n",
       "    </tr>\n",
       "    <tr>\n",
       "      <th>2009</th>\n",
       "      <td>119.54</td>\n",
       "      <td>NaN</td>\n",
       "      <td>26.40</td>\n",
       "      <td>130.93</td>\n",
       "      <td>206.97</td>\n",
       "      <td>120.29</td>\n",
       "    </tr>\n",
       "    <tr>\n",
       "      <th>2010</th>\n",
       "      <td>85.02</td>\n",
       "      <td>NaN</td>\n",
       "      <td>5.64</td>\n",
       "      <td>142.17</td>\n",
       "      <td>127.95</td>\n",
       "      <td>170.03</td>\n",
       "    </tr>\n",
       "    <tr>\n",
       "      <th>2011</th>\n",
       "      <td>26.18</td>\n",
       "      <td>NaN</td>\n",
       "      <td>0.45</td>\n",
       "      <td>156.78</td>\n",
       "      <td>59.65</td>\n",
       "      <td>143.84</td>\n",
       "    </tr>\n",
       "    <tr>\n",
       "      <th>2012</th>\n",
       "      <td>11.01</td>\n",
       "      <td>NaN</td>\n",
       "      <td>NaN</td>\n",
       "      <td>107.36</td>\n",
       "      <td>21.71</td>\n",
       "      <td>99.74</td>\n",
       "    </tr>\n",
       "    <tr>\n",
       "      <th>2013</th>\n",
       "      <td>1.54</td>\n",
       "      <td>NaN</td>\n",
       "      <td>NaN</td>\n",
       "      <td>113.25</td>\n",
       "      <td>8.59</td>\n",
       "      <td>88.58</td>\n",
       "    </tr>\n",
       "    <tr>\n",
       "      <th>2014</th>\n",
       "      <td>NaN</td>\n",
       "      <td>NaN</td>\n",
       "      <td>NaN</td>\n",
       "      <td>47.76</td>\n",
       "      <td>3.75</td>\n",
       "      <td>34.74</td>\n",
       "    </tr>\n",
       "    <tr>\n",
       "      <th>2015</th>\n",
       "      <td>NaN</td>\n",
       "      <td>NaN</td>\n",
       "      <td>NaN</td>\n",
       "      <td>16.82</td>\n",
       "      <td>1.14</td>\n",
       "      <td>11.96</td>\n",
       "    </tr>\n",
       "    <tr>\n",
       "      <th>2016</th>\n",
       "      <td>NaN</td>\n",
       "      <td>NaN</td>\n",
       "      <td>NaN</td>\n",
       "      <td>3.60</td>\n",
       "      <td>0.18</td>\n",
       "      <td>1.52</td>\n",
       "    </tr>\n",
       "  </tbody>\n",
       "</table>\n",
       "</div>"
      ],
      "text/plain": [
       "platform             DS      PS     PS2     PS3     Wii    X360\n",
       "year_of_release                                                \n",
       "1985               0.02     NaN     NaN     NaN     NaN     NaN\n",
       "1994                NaN    6.03     NaN     NaN     NaN     NaN\n",
       "1995                NaN   35.96     NaN     NaN     NaN     NaN\n",
       "1996                NaN   94.70     NaN     NaN     NaN     NaN\n",
       "1997                NaN  136.17     NaN     NaN     NaN     NaN\n",
       "1998                NaN  169.49     NaN     NaN     NaN     NaN\n",
       "1999                NaN  144.53     NaN     NaN     NaN     NaN\n",
       "2000                NaN   96.37   39.17     NaN     NaN     NaN\n",
       "2001                NaN   35.59  166.43     NaN     NaN     NaN\n",
       "2002                NaN    6.67  205.38     NaN     NaN     NaN\n",
       "2003                NaN    2.07  184.31     NaN     NaN     NaN\n",
       "2004              17.27     NaN  211.81     NaN     NaN     NaN\n",
       "2005             130.14     NaN  160.66     NaN     NaN    8.25\n",
       "2006             119.81     NaN  103.42   20.96  137.15   51.62\n",
       "2007             146.94     NaN   75.99   73.19  152.77   95.41\n",
       "2008             145.31     NaN   53.90  118.52  171.32  135.26\n",
       "2009             119.54     NaN   26.40  130.93  206.97  120.29\n",
       "2010              85.02     NaN    5.64  142.17  127.95  170.03\n",
       "2011              26.18     NaN    0.45  156.78   59.65  143.84\n",
       "2012              11.01     NaN     NaN  107.36   21.71   99.74\n",
       "2013               1.54     NaN     NaN  113.25    8.59   88.58\n",
       "2014                NaN     NaN     NaN   47.76    3.75   34.74\n",
       "2015                NaN     NaN     NaN   16.82    1.14   11.96\n",
       "2016                NaN     NaN     NaN    3.60    0.18    1.52"
      ]
     },
     "execution_count": 47,
     "metadata": {},
     "output_type": "execute_result"
    }
   ],
   "source": [
    "data_stat_main_platform = data_main_platform.pivot_table(index='year_of_release', columns='platform', values='all_sales', aggfunc='sum')\n",
    "data_stat_main_platform"
   ]
  },
  {
   "cell_type": "code",
   "execution_count": 48,
   "metadata": {},
   "outputs": [
    {
     "data": {
      "text/html": [
       "<div>\n",
       "<style scoped>\n",
       "    .dataframe tbody tr th:only-of-type {\n",
       "        vertical-align: middle;\n",
       "    }\n",
       "\n",
       "    .dataframe tbody tr th {\n",
       "        vertical-align: top;\n",
       "    }\n",
       "\n",
       "    .dataframe thead th {\n",
       "        text-align: right;\n",
       "    }\n",
       "</style>\n",
       "<table border=\"1\" class=\"dataframe\">\n",
       "  <thead>\n",
       "    <tr style=\"text-align: right;\">\n",
       "      <th></th>\n",
       "      <th>max</th>\n",
       "      <th>min</th>\n",
       "      <th>years_of_life</th>\n",
       "    </tr>\n",
       "    <tr>\n",
       "      <th>platform</th>\n",
       "      <th></th>\n",
       "      <th></th>\n",
       "      <th></th>\n",
       "    </tr>\n",
       "  </thead>\n",
       "  <tbody>\n",
       "    <tr>\n",
       "      <th>DS</th>\n",
       "      <td>2013</td>\n",
       "      <td>1985</td>\n",
       "      <td>28</td>\n",
       "    </tr>\n",
       "    <tr>\n",
       "      <th>PS</th>\n",
       "      <td>2003</td>\n",
       "      <td>1994</td>\n",
       "      <td>9</td>\n",
       "    </tr>\n",
       "    <tr>\n",
       "      <th>PS2</th>\n",
       "      <td>2011</td>\n",
       "      <td>2000</td>\n",
       "      <td>11</td>\n",
       "    </tr>\n",
       "    <tr>\n",
       "      <th>PS3</th>\n",
       "      <td>2016</td>\n",
       "      <td>2006</td>\n",
       "      <td>10</td>\n",
       "    </tr>\n",
       "    <tr>\n",
       "      <th>Wii</th>\n",
       "      <td>2016</td>\n",
       "      <td>2006</td>\n",
       "      <td>10</td>\n",
       "    </tr>\n",
       "    <tr>\n",
       "      <th>X360</th>\n",
       "      <td>2016</td>\n",
       "      <td>2005</td>\n",
       "      <td>11</td>\n",
       "    </tr>\n",
       "  </tbody>\n",
       "</table>\n",
       "</div>"
      ],
      "text/plain": [
       "           max   min  years_of_life\n",
       "platform                           \n",
       "DS        2013  1985             28\n",
       "PS        2003  1994              9\n",
       "PS2       2011  2000             11\n",
       "PS3       2016  2006             10\n",
       "Wii       2016  2006             10\n",
       "X360      2016  2005             11"
      ]
     },
     "execution_count": 48,
     "metadata": {},
     "output_type": "execute_result"
    }
   ],
   "source": [
    "years_and_platforms = data.query('platform in @list_main_platform').pivot_table(index='platform',values='year_of_release',aggfunc=('max','min'))\n",
    "years_and_platforms['years_of_life'] = years_and_platforms['max'] - years_and_platforms['min']\n",
    "years_and_platforms"
   ]
  },
  {
   "cell_type": "markdown",
   "metadata": {},
   "source": [
    "в среднем платформа живет 10 лет, в качестве актуального промежутка возьмем 5 лет, чтобы платформы были на пике или подходили к нему, но не сильно падали"
   ]
  },
  {
   "cell_type": "markdown",
   "metadata": {},
   "source": [
    "<div class=\"alert alert-success\">\n",
    "<font size=\"4\", color= \"seagreen\"><b>✔️ Комментарий ревьюера</b></font>\n",
    "    <br /> \n",
    "    <font size=\"3\", color = \"black\">\n",
    "<br /> классный расчет времени существования платформ, молодец"
   ]
  },
  {
   "cell_type": "code",
   "execution_count": 49,
   "metadata": {
    "scrolled": true
   },
   "outputs": [
    {
     "data": {
      "text/html": [
       "<div>\n",
       "<style scoped>\n",
       "    .dataframe tbody tr th:only-of-type {\n",
       "        vertical-align: middle;\n",
       "    }\n",
       "\n",
       "    .dataframe tbody tr th {\n",
       "        vertical-align: top;\n",
       "    }\n",
       "\n",
       "    .dataframe thead th {\n",
       "        text-align: right;\n",
       "    }\n",
       "</style>\n",
       "<table border=\"1\" class=\"dataframe\">\n",
       "  <thead>\n",
       "    <tr style=\"text-align: right;\">\n",
       "      <th></th>\n",
       "      <th>name</th>\n",
       "      <th>platform</th>\n",
       "      <th>year_of_release</th>\n",
       "      <th>genre</th>\n",
       "      <th>na_sales</th>\n",
       "      <th>eu_sales</th>\n",
       "      <th>jp_sales</th>\n",
       "      <th>other_sales</th>\n",
       "      <th>critic_score</th>\n",
       "      <th>user_score</th>\n",
       "      <th>rating</th>\n",
       "      <th>all_sales</th>\n",
       "    </tr>\n",
       "  </thead>\n",
       "  <tbody>\n",
       "    <tr>\n",
       "      <th>31</th>\n",
       "      <td>Call of Duty: Black Ops 3</td>\n",
       "      <td>PS4</td>\n",
       "      <td>2015</td>\n",
       "      <td>Shooter</td>\n",
       "      <td>6.03</td>\n",
       "      <td>5.86</td>\n",
       "      <td>0.36</td>\n",
       "      <td>2.38</td>\n",
       "      <td>NaN</td>\n",
       "      <td>44.4</td>\n",
       "      <td>no_rate</td>\n",
       "      <td>14.63</td>\n",
       "    </tr>\n",
       "    <tr>\n",
       "      <th>42</th>\n",
       "      <td>Grand Theft Auto V</td>\n",
       "      <td>PS4</td>\n",
       "      <td>2014</td>\n",
       "      <td>Action</td>\n",
       "      <td>3.96</td>\n",
       "      <td>6.31</td>\n",
       "      <td>0.38</td>\n",
       "      <td>1.97</td>\n",
       "      <td>97.0</td>\n",
       "      <td>8.3</td>\n",
       "      <td>M</td>\n",
       "      <td>12.62</td>\n",
       "    </tr>\n",
       "    <tr>\n",
       "      <th>47</th>\n",
       "      <td>Pokemon Omega Ruby/Pokemon Alpha Sapphire</td>\n",
       "      <td>3DS</td>\n",
       "      <td>2014</td>\n",
       "      <td>Role-Playing</td>\n",
       "      <td>4.35</td>\n",
       "      <td>3.49</td>\n",
       "      <td>3.10</td>\n",
       "      <td>0.74</td>\n",
       "      <td>NaN</td>\n",
       "      <td>44.4</td>\n",
       "      <td>no_rate</td>\n",
       "      <td>11.68</td>\n",
       "    </tr>\n",
       "    <tr>\n",
       "      <th>77</th>\n",
       "      <td>FIFA 16</td>\n",
       "      <td>PS4</td>\n",
       "      <td>2015</td>\n",
       "      <td>Sports</td>\n",
       "      <td>1.12</td>\n",
       "      <td>6.12</td>\n",
       "      <td>0.06</td>\n",
       "      <td>1.28</td>\n",
       "      <td>82.0</td>\n",
       "      <td>4.3</td>\n",
       "      <td>E</td>\n",
       "      <td>8.58</td>\n",
       "    </tr>\n",
       "    <tr>\n",
       "      <th>87</th>\n",
       "      <td>Star Wars Battlefront (2015)</td>\n",
       "      <td>PS4</td>\n",
       "      <td>2015</td>\n",
       "      <td>Shooter</td>\n",
       "      <td>2.99</td>\n",
       "      <td>3.49</td>\n",
       "      <td>0.22</td>\n",
       "      <td>1.28</td>\n",
       "      <td>NaN</td>\n",
       "      <td>44.4</td>\n",
       "      <td>no_rate</td>\n",
       "      <td>7.98</td>\n",
       "    </tr>\n",
       "    <tr>\n",
       "      <th>...</th>\n",
       "      <td>...</td>\n",
       "      <td>...</td>\n",
       "      <td>...</td>\n",
       "      <td>...</td>\n",
       "      <td>...</td>\n",
       "      <td>...</td>\n",
       "      <td>...</td>\n",
       "      <td>...</td>\n",
       "      <td>...</td>\n",
       "      <td>...</td>\n",
       "      <td>...</td>\n",
       "      <td>...</td>\n",
       "    </tr>\n",
       "    <tr>\n",
       "      <th>16703</th>\n",
       "      <td>Strawberry Nauts</td>\n",
       "      <td>PSV</td>\n",
       "      <td>2016</td>\n",
       "      <td>Adventure</td>\n",
       "      <td>0.00</td>\n",
       "      <td>0.00</td>\n",
       "      <td>0.01</td>\n",
       "      <td>0.00</td>\n",
       "      <td>NaN</td>\n",
       "      <td>44.4</td>\n",
       "      <td>no_rate</td>\n",
       "      <td>0.01</td>\n",
       "    </tr>\n",
       "    <tr>\n",
       "      <th>16707</th>\n",
       "      <td>Aiyoku no Eustia</td>\n",
       "      <td>PSV</td>\n",
       "      <td>2014</td>\n",
       "      <td>Misc</td>\n",
       "      <td>0.00</td>\n",
       "      <td>0.00</td>\n",
       "      <td>0.01</td>\n",
       "      <td>0.00</td>\n",
       "      <td>NaN</td>\n",
       "      <td>44.4</td>\n",
       "      <td>no_rate</td>\n",
       "      <td>0.01</td>\n",
       "    </tr>\n",
       "    <tr>\n",
       "      <th>16710</th>\n",
       "      <td>Samurai Warriors: Sanada Maru</td>\n",
       "      <td>PS3</td>\n",
       "      <td>2016</td>\n",
       "      <td>Action</td>\n",
       "      <td>0.00</td>\n",
       "      <td>0.00</td>\n",
       "      <td>0.01</td>\n",
       "      <td>0.00</td>\n",
       "      <td>NaN</td>\n",
       "      <td>44.4</td>\n",
       "      <td>no_rate</td>\n",
       "      <td>0.01</td>\n",
       "    </tr>\n",
       "    <tr>\n",
       "      <th>16712</th>\n",
       "      <td>Haitaka no Psychedelica</td>\n",
       "      <td>PSV</td>\n",
       "      <td>2016</td>\n",
       "      <td>Adventure</td>\n",
       "      <td>0.00</td>\n",
       "      <td>0.00</td>\n",
       "      <td>0.01</td>\n",
       "      <td>0.00</td>\n",
       "      <td>NaN</td>\n",
       "      <td>44.4</td>\n",
       "      <td>no_rate</td>\n",
       "      <td>0.01</td>\n",
       "    </tr>\n",
       "    <tr>\n",
       "      <th>16714</th>\n",
       "      <td>Winning Post 8 2016</td>\n",
       "      <td>PSV</td>\n",
       "      <td>2016</td>\n",
       "      <td>Simulation</td>\n",
       "      <td>0.00</td>\n",
       "      <td>0.00</td>\n",
       "      <td>0.01</td>\n",
       "      <td>0.00</td>\n",
       "      <td>NaN</td>\n",
       "      <td>44.4</td>\n",
       "      <td>no_rate</td>\n",
       "      <td>0.01</td>\n",
       "    </tr>\n",
       "  </tbody>\n",
       "</table>\n",
       "<p>1689 rows × 12 columns</p>\n",
       "</div>"
      ],
      "text/plain": [
       "                                            name platform  year_of_release  \\\n",
       "31                     Call of Duty: Black Ops 3      PS4             2015   \n",
       "42                            Grand Theft Auto V      PS4             2014   \n",
       "47     Pokemon Omega Ruby/Pokemon Alpha Sapphire      3DS             2014   \n",
       "77                                       FIFA 16      PS4             2015   \n",
       "87                  Star Wars Battlefront (2015)      PS4             2015   \n",
       "...                                          ...      ...              ...   \n",
       "16703                           Strawberry Nauts      PSV             2016   \n",
       "16707                           Aiyoku no Eustia      PSV             2014   \n",
       "16710              Samurai Warriors: Sanada Maru      PS3             2016   \n",
       "16712                    Haitaka no Psychedelica      PSV             2016   \n",
       "16714                        Winning Post 8 2016      PSV             2016   \n",
       "\n",
       "              genre  na_sales  eu_sales  jp_sales  other_sales  critic_score  \\\n",
       "31          Shooter      6.03      5.86      0.36         2.38           NaN   \n",
       "42           Action      3.96      6.31      0.38         1.97          97.0   \n",
       "47     Role-Playing      4.35      3.49      3.10         0.74           NaN   \n",
       "77           Sports      1.12      6.12      0.06         1.28          82.0   \n",
       "87          Shooter      2.99      3.49      0.22         1.28           NaN   \n",
       "...             ...       ...       ...       ...          ...           ...   \n",
       "16703     Adventure      0.00      0.00      0.01         0.00           NaN   \n",
       "16707          Misc      0.00      0.00      0.01         0.00           NaN   \n",
       "16710        Action      0.00      0.00      0.01         0.00           NaN   \n",
       "16712     Adventure      0.00      0.00      0.01         0.00           NaN   \n",
       "16714    Simulation      0.00      0.00      0.01         0.00           NaN   \n",
       "\n",
       "       user_score   rating  all_sales  \n",
       "31           44.4  no_rate      14.63  \n",
       "42            8.3        M      12.62  \n",
       "47           44.4  no_rate      11.68  \n",
       "77            4.3        E       8.58  \n",
       "87           44.4  no_rate       7.98  \n",
       "...           ...      ...        ...  \n",
       "16703        44.4  no_rate       0.01  \n",
       "16707        44.4  no_rate       0.01  \n",
       "16710        44.4  no_rate       0.01  \n",
       "16712        44.4  no_rate       0.01  \n",
       "16714        44.4  no_rate       0.01  \n",
       "\n",
       "[1689 rows x 12 columns]"
      ]
     },
     "execution_count": 49,
     "metadata": {},
     "output_type": "execute_result"
    }
   ],
   "source": [
    "data_last_3_years = data.query('year_of_release > 2013')\n",
    "data_last_3_years"
   ]
  },
  {
   "cell_type": "markdown",
   "metadata": {},
   "source": [
    "в качестве периода для прогнозирования продаж возьму три года - 2014, 2015 и 2016 - тем более по 2016 году данные неполные"
   ]
  },
  {
   "cell_type": "markdown",
   "metadata": {},
   "source": [
    "<div class=\"alert alert-danger\">\n",
    "<font size=\"4\"><b>❌ Комментарий ревьюера</b></font>\n",
    "    <br /> \n",
    "    <font size=\"3\", color = \"black\">\n",
    "<br />Для целей прогнозирования продаж на следующий год даже в традиционных бизнесах редко берут данные более чем за 2-3 года. А в такой динамично меняющейся индустрии, как компьютерные игры и вовсе не стоит брать слишком большой временной интервал - иначе обязательно захватишь уже отжившие тренды. Но и слишком короткий период тоже брать не стоит\n",
    "        \n",
    "<b>Исправил</b>        "
   ]
  },
  {
   "cell_type": "code",
   "execution_count": 50,
   "metadata": {},
   "outputs": [
    {
     "data": {
      "text/html": [
       "<div>\n",
       "<style scoped>\n",
       "    .dataframe tbody tr th:only-of-type {\n",
       "        vertical-align: middle;\n",
       "    }\n",
       "\n",
       "    .dataframe tbody tr th {\n",
       "        vertical-align: top;\n",
       "    }\n",
       "\n",
       "    .dataframe thead th {\n",
       "        text-align: right;\n",
       "    }\n",
       "</style>\n",
       "<table border=\"1\" class=\"dataframe\">\n",
       "  <thead>\n",
       "    <tr style=\"text-align: right;\">\n",
       "      <th>platform</th>\n",
       "      <th>3DS</th>\n",
       "      <th>PC</th>\n",
       "      <th>PS3</th>\n",
       "      <th>PS4</th>\n",
       "      <th>PSP</th>\n",
       "      <th>PSV</th>\n",
       "      <th>Wii</th>\n",
       "      <th>WiiU</th>\n",
       "      <th>X360</th>\n",
       "      <th>XOne</th>\n",
       "    </tr>\n",
       "    <tr>\n",
       "      <th>year_of_release</th>\n",
       "      <th></th>\n",
       "      <th></th>\n",
       "      <th></th>\n",
       "      <th></th>\n",
       "      <th></th>\n",
       "      <th></th>\n",
       "      <th></th>\n",
       "      <th></th>\n",
       "      <th></th>\n",
       "      <th></th>\n",
       "    </tr>\n",
       "  </thead>\n",
       "  <tbody>\n",
       "    <tr>\n",
       "      <th>2014</th>\n",
       "      <td>43.76</td>\n",
       "      <td>13.28</td>\n",
       "      <td>47.76</td>\n",
       "      <td>100.00</td>\n",
       "      <td>0.24</td>\n",
       "      <td>11.90</td>\n",
       "      <td>3.75</td>\n",
       "      <td>22.03</td>\n",
       "      <td>34.74</td>\n",
       "      <td>54.07</td>\n",
       "    </tr>\n",
       "    <tr>\n",
       "      <th>2015</th>\n",
       "      <td>27.78</td>\n",
       "      <td>8.52</td>\n",
       "      <td>16.82</td>\n",
       "      <td>118.90</td>\n",
       "      <td>0.12</td>\n",
       "      <td>6.25</td>\n",
       "      <td>1.14</td>\n",
       "      <td>16.35</td>\n",
       "      <td>11.96</td>\n",
       "      <td>60.14</td>\n",
       "    </tr>\n",
       "    <tr>\n",
       "      <th>2016</th>\n",
       "      <td>15.14</td>\n",
       "      <td>5.25</td>\n",
       "      <td>3.60</td>\n",
       "      <td>69.25</td>\n",
       "      <td>NaN</td>\n",
       "      <td>4.25</td>\n",
       "      <td>0.18</td>\n",
       "      <td>4.60</td>\n",
       "      <td>1.52</td>\n",
       "      <td>26.15</td>\n",
       "    </tr>\n",
       "  </tbody>\n",
       "</table>\n",
       "</div>"
      ],
      "text/plain": [
       "platform           3DS     PC    PS3     PS4   PSP    PSV   Wii   WiiU   X360  \\\n",
       "year_of_release                                                                 \n",
       "2014             43.76  13.28  47.76  100.00  0.24  11.90  3.75  22.03  34.74   \n",
       "2015             27.78   8.52  16.82  118.90  0.12   6.25  1.14  16.35  11.96   \n",
       "2016             15.14   5.25   3.60   69.25   NaN   4.25  0.18   4.60   1.52   \n",
       "\n",
       "platform          XOne  \n",
       "year_of_release         \n",
       "2014             54.07  \n",
       "2015             60.14  \n",
       "2016             26.15  "
      ]
     },
     "execution_count": 50,
     "metadata": {},
     "output_type": "execute_result"
    }
   ],
   "source": [
    "data_last_3_years_stat = data_last_3_years.pivot_table(index='year_of_release', \n",
    "                                                         columns='platform', values='all_sales', aggfunc='sum')\n",
    "data_last_3_years_stat"
   ]
  },
  {
   "cell_type": "code",
   "execution_count": 51,
   "metadata": {},
   "outputs": [],
   "source": [
    "data_actualy = data_last_3_years.query(\"platform in ['3DS', 'PC', 'PS3', 'PS4', 'PSV', 'Wii', 'WiiU', 'X360', 'XOne']\")"
   ]
  },
  {
   "cell_type": "code",
   "execution_count": 52,
   "metadata": {},
   "outputs": [
    {
     "data": {
      "text/html": [
       "<div>\n",
       "<style scoped>\n",
       "    .dataframe tbody tr th:only-of-type {\n",
       "        vertical-align: middle;\n",
       "    }\n",
       "\n",
       "    .dataframe tbody tr th {\n",
       "        vertical-align: top;\n",
       "    }\n",
       "\n",
       "    .dataframe thead th {\n",
       "        text-align: right;\n",
       "    }\n",
       "</style>\n",
       "<table border=\"1\" class=\"dataframe\">\n",
       "  <thead>\n",
       "    <tr style=\"text-align: right;\">\n",
       "      <th>platform</th>\n",
       "      <th>3DS</th>\n",
       "      <th>PC</th>\n",
       "      <th>PS3</th>\n",
       "      <th>PS4</th>\n",
       "      <th>PSV</th>\n",
       "      <th>Wii</th>\n",
       "      <th>WiiU</th>\n",
       "      <th>X360</th>\n",
       "      <th>XOne</th>\n",
       "    </tr>\n",
       "    <tr>\n",
       "      <th>year_of_release</th>\n",
       "      <th></th>\n",
       "      <th></th>\n",
       "      <th></th>\n",
       "      <th></th>\n",
       "      <th></th>\n",
       "      <th></th>\n",
       "      <th></th>\n",
       "      <th></th>\n",
       "      <th></th>\n",
       "    </tr>\n",
       "  </thead>\n",
       "  <tbody>\n",
       "    <tr>\n",
       "      <th>2014</th>\n",
       "      <td>43.76</td>\n",
       "      <td>13.28</td>\n",
       "      <td>47.76</td>\n",
       "      <td>100.00</td>\n",
       "      <td>11.90</td>\n",
       "      <td>3.75</td>\n",
       "      <td>22.03</td>\n",
       "      <td>34.74</td>\n",
       "      <td>54.07</td>\n",
       "    </tr>\n",
       "    <tr>\n",
       "      <th>2015</th>\n",
       "      <td>27.78</td>\n",
       "      <td>8.52</td>\n",
       "      <td>16.82</td>\n",
       "      <td>118.90</td>\n",
       "      <td>6.25</td>\n",
       "      <td>1.14</td>\n",
       "      <td>16.35</td>\n",
       "      <td>11.96</td>\n",
       "      <td>60.14</td>\n",
       "    </tr>\n",
       "    <tr>\n",
       "      <th>2016</th>\n",
       "      <td>15.14</td>\n",
       "      <td>5.25</td>\n",
       "      <td>3.60</td>\n",
       "      <td>69.25</td>\n",
       "      <td>4.25</td>\n",
       "      <td>0.18</td>\n",
       "      <td>4.60</td>\n",
       "      <td>1.52</td>\n",
       "      <td>26.15</td>\n",
       "    </tr>\n",
       "  </tbody>\n",
       "</table>\n",
       "</div>"
      ],
      "text/plain": [
       "platform           3DS     PC    PS3     PS4    PSV   Wii   WiiU   X360   XOne\n",
       "year_of_release                                                               \n",
       "2014             43.76  13.28  47.76  100.00  11.90  3.75  22.03  34.74  54.07\n",
       "2015             27.78   8.52  16.82  118.90   6.25  1.14  16.35  11.96  60.14\n",
       "2016             15.14   5.25   3.60   69.25   4.25  0.18   4.60   1.52  26.15"
      ]
     },
     "execution_count": 52,
     "metadata": {},
     "output_type": "execute_result"
    }
   ],
   "source": [
    "data_actualy_stat = data_actualy.pivot_table(index='year_of_release', \n",
    "                                                         columns='platform', values='all_sales', aggfunc='sum')\n",
    "data_actualy_stat"
   ]
  },
  {
   "cell_type": "markdown",
   "metadata": {},
   "source": [
    "в итоге остались 9 платформ, которые на 2016 год существуют, по ним и имеет смысл делать анализ"
   ]
  },
  {
   "cell_type": "code",
   "execution_count": 53,
   "metadata": {
    "scrolled": true
   },
   "outputs": [
    {
     "data": {
      "text/plain": [
       "<AxesSubplot:xlabel='year_of_release'>"
      ]
     },
     "execution_count": 53,
     "metadata": {},
     "output_type": "execute_result"
    },
    {
     "data": {
      "image/png": "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\n",
      "text/plain": [
       "<Figure size 432x288 with 1 Axes>"
      ]
     },
     "metadata": {
      "needs_background": "light"
     },
     "output_type": "display_data"
    }
   ],
   "source": [
    "data_actualy_stat.plot()"
   ]
  },
  {
   "cell_type": "markdown",
   "metadata": {},
   "source": [
    "лучше всех себя ведут только две платформы: PS4 и XOne - они единственные, которые показали рост до 2015 года"
   ]
  },
  {
   "cell_type": "code",
   "execution_count": 54,
   "metadata": {},
   "outputs": [
    {
     "data": {
      "image/png": "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\n",
      "text/plain": [
       "<Figure size 864x360 with 1 Axes>"
      ]
     },
     "metadata": {
      "needs_background": "light"
     },
     "output_type": "display_data"
    }
   ],
   "source": [
    "data_actualy.boxplot(column='all_sales', by='platform', figsize=(12,5));\n",
    "plt.ylim(0,1)\n",
    "plt.title('Размах продаж по платформам')\n",
    "plt.suptitle('')\n",
    "plt.show()"
   ]
  },
  {
   "cell_type": "markdown",
   "metadata": {},
   "source": [
    "самая популярная платформа - Wii - у нее выше всех находится верхний ус, но больше медиана все же у PS4. Можно выделить пятерку платформ, которые являются лидерами - PS3, PS4, WiiU, X360 и XOne. Но учитывая динамику роста, будем считать самой перспективной платформу PS4, а не X360. Почему PS4, а не XOne? во-первых по диаграмме размах у них практически одинаковые показатели. Во-вторых объем продаж PS4 почти в два раза больше, чем у XOne"
   ]
  },
  {
   "cell_type": "markdown",
   "metadata": {},
   "source": [
    "<div class=\"alert alert-success\">\n",
    "<font size=\"4\", color= \"seagreen\"><b>✔️ Комментарий ревьюера</b></font>\n",
    "    <br /> \n",
    "    <font size=\"3\", color = \"black\">\n",
    "<br />Отлично, ты используешь диаграмму размаха для определения успешности платформы, молодец"
   ]
  },
  {
   "cell_type": "markdown",
   "metadata": {},
   "source": [
    "<div class=\"alert alert-warning\", style=\"border:solid coral 3px; padding: 20px\">\n",
    "<font size=\"4\", color = \"DimGrey\"><b>⚠️ Комментарий ревьюера</b></font>\n",
    "    <br /> \n",
    "    <font size=\"3\", color = \"black\">\n",
    "<br />\n",
    "        \n",
    "Для более полной оценки продаж на платформах стоит добавить график со 100% масштабом "
   ]
  },
  {
   "cell_type": "code",
   "execution_count": 55,
   "metadata": {},
   "outputs": [
    {
     "data": {
      "text/html": [
       "<div>\n",
       "<style scoped>\n",
       "    .dataframe tbody tr th:only-of-type {\n",
       "        vertical-align: middle;\n",
       "    }\n",
       "\n",
       "    .dataframe tbody tr th {\n",
       "        vertical-align: top;\n",
       "    }\n",
       "\n",
       "    .dataframe thead th {\n",
       "        text-align: right;\n",
       "    }\n",
       "</style>\n",
       "<table border=\"1\" class=\"dataframe\">\n",
       "  <thead>\n",
       "    <tr style=\"text-align: right;\">\n",
       "      <th></th>\n",
       "      <th>name</th>\n",
       "      <th>platform</th>\n",
       "      <th>year_of_release</th>\n",
       "      <th>genre</th>\n",
       "      <th>na_sales</th>\n",
       "      <th>eu_sales</th>\n",
       "      <th>jp_sales</th>\n",
       "      <th>other_sales</th>\n",
       "      <th>critic_score</th>\n",
       "      <th>user_score</th>\n",
       "      <th>rating</th>\n",
       "      <th>all_sales</th>\n",
       "    </tr>\n",
       "  </thead>\n",
       "  <tbody>\n",
       "    <tr>\n",
       "      <th>31</th>\n",
       "      <td>Call of Duty: Black Ops 3</td>\n",
       "      <td>PS4</td>\n",
       "      <td>2015</td>\n",
       "      <td>Shooter</td>\n",
       "      <td>6.03</td>\n",
       "      <td>5.86</td>\n",
       "      <td>0.36</td>\n",
       "      <td>2.38</td>\n",
       "      <td>NaN</td>\n",
       "      <td>44.4</td>\n",
       "      <td>no_rate</td>\n",
       "      <td>14.63</td>\n",
       "    </tr>\n",
       "    <tr>\n",
       "      <th>42</th>\n",
       "      <td>Grand Theft Auto V</td>\n",
       "      <td>PS4</td>\n",
       "      <td>2014</td>\n",
       "      <td>Action</td>\n",
       "      <td>3.96</td>\n",
       "      <td>6.31</td>\n",
       "      <td>0.38</td>\n",
       "      <td>1.97</td>\n",
       "      <td>97.0</td>\n",
       "      <td>8.3</td>\n",
       "      <td>M</td>\n",
       "      <td>12.62</td>\n",
       "    </tr>\n",
       "    <tr>\n",
       "      <th>77</th>\n",
       "      <td>FIFA 16</td>\n",
       "      <td>PS4</td>\n",
       "      <td>2015</td>\n",
       "      <td>Sports</td>\n",
       "      <td>1.12</td>\n",
       "      <td>6.12</td>\n",
       "      <td>0.06</td>\n",
       "      <td>1.28</td>\n",
       "      <td>82.0</td>\n",
       "      <td>4.3</td>\n",
       "      <td>E</td>\n",
       "      <td>8.58</td>\n",
       "    </tr>\n",
       "    <tr>\n",
       "      <th>87</th>\n",
       "      <td>Star Wars Battlefront (2015)</td>\n",
       "      <td>PS4</td>\n",
       "      <td>2015</td>\n",
       "      <td>Shooter</td>\n",
       "      <td>2.99</td>\n",
       "      <td>3.49</td>\n",
       "      <td>0.22</td>\n",
       "      <td>1.28</td>\n",
       "      <td>NaN</td>\n",
       "      <td>44.4</td>\n",
       "      <td>no_rate</td>\n",
       "      <td>7.98</td>\n",
       "    </tr>\n",
       "    <tr>\n",
       "      <th>92</th>\n",
       "      <td>Call of Duty: Advanced Warfare</td>\n",
       "      <td>PS4</td>\n",
       "      <td>2014</td>\n",
       "      <td>Shooter</td>\n",
       "      <td>2.81</td>\n",
       "      <td>3.48</td>\n",
       "      <td>0.14</td>\n",
       "      <td>1.23</td>\n",
       "      <td>83.0</td>\n",
       "      <td>5.7</td>\n",
       "      <td>M</td>\n",
       "      <td>7.66</td>\n",
       "    </tr>\n",
       "    <tr>\n",
       "      <th>...</th>\n",
       "      <td>...</td>\n",
       "      <td>...</td>\n",
       "      <td>...</td>\n",
       "      <td>...</td>\n",
       "      <td>...</td>\n",
       "      <td>...</td>\n",
       "      <td>...</td>\n",
       "      <td>...</td>\n",
       "      <td>...</td>\n",
       "      <td>...</td>\n",
       "      <td>...</td>\n",
       "      <td>...</td>\n",
       "    </tr>\n",
       "    <tr>\n",
       "      <th>16500</th>\n",
       "      <td>Root Letter</td>\n",
       "      <td>PS4</td>\n",
       "      <td>2016</td>\n",
       "      <td>Adventure</td>\n",
       "      <td>0.00</td>\n",
       "      <td>0.00</td>\n",
       "      <td>0.01</td>\n",
       "      <td>0.00</td>\n",
       "      <td>69.0</td>\n",
       "      <td>7.5</td>\n",
       "      <td>no_rate</td>\n",
       "      <td>0.01</td>\n",
       "    </tr>\n",
       "    <tr>\n",
       "      <th>16503</th>\n",
       "      <td>Shin Hayarigami 2</td>\n",
       "      <td>PS4</td>\n",
       "      <td>2016</td>\n",
       "      <td>Adventure</td>\n",
       "      <td>0.00</td>\n",
       "      <td>0.00</td>\n",
       "      <td>0.01</td>\n",
       "      <td>0.00</td>\n",
       "      <td>NaN</td>\n",
       "      <td>44.4</td>\n",
       "      <td>no_rate</td>\n",
       "      <td>0.01</td>\n",
       "    </tr>\n",
       "    <tr>\n",
       "      <th>16526</th>\n",
       "      <td>Dungeons 2</td>\n",
       "      <td>PS4</td>\n",
       "      <td>2016</td>\n",
       "      <td>Role-Playing</td>\n",
       "      <td>0.01</td>\n",
       "      <td>0.00</td>\n",
       "      <td>0.00</td>\n",
       "      <td>0.00</td>\n",
       "      <td>61.0</td>\n",
       "      <td>7.9</td>\n",
       "      <td>T</td>\n",
       "      <td>0.01</td>\n",
       "    </tr>\n",
       "    <tr>\n",
       "      <th>16530</th>\n",
       "      <td>Carmageddon: Max Damage</td>\n",
       "      <td>PS4</td>\n",
       "      <td>2016</td>\n",
       "      <td>Action</td>\n",
       "      <td>0.01</td>\n",
       "      <td>0.00</td>\n",
       "      <td>0.00</td>\n",
       "      <td>0.00</td>\n",
       "      <td>51.0</td>\n",
       "      <td>5.5</td>\n",
       "      <td>M</td>\n",
       "      <td>0.01</td>\n",
       "    </tr>\n",
       "    <tr>\n",
       "      <th>16585</th>\n",
       "      <td>Farming 2017 - The Simulation</td>\n",
       "      <td>PS4</td>\n",
       "      <td>2016</td>\n",
       "      <td>Simulation</td>\n",
       "      <td>0.00</td>\n",
       "      <td>0.01</td>\n",
       "      <td>0.00</td>\n",
       "      <td>0.00</td>\n",
       "      <td>NaN</td>\n",
       "      <td>44.4</td>\n",
       "      <td>no_rate</td>\n",
       "      <td>0.01</td>\n",
       "    </tr>\n",
       "  </tbody>\n",
       "</table>\n",
       "<p>376 rows × 12 columns</p>\n",
       "</div>"
      ],
      "text/plain": [
       "                                 name platform  year_of_release         genre  \\\n",
       "31          Call of Duty: Black Ops 3      PS4             2015       Shooter   \n",
       "42                 Grand Theft Auto V      PS4             2014        Action   \n",
       "77                            FIFA 16      PS4             2015        Sports   \n",
       "87       Star Wars Battlefront (2015)      PS4             2015       Shooter   \n",
       "92     Call of Duty: Advanced Warfare      PS4             2014       Shooter   \n",
       "...                               ...      ...              ...           ...   \n",
       "16500                     Root Letter      PS4             2016     Adventure   \n",
       "16503               Shin Hayarigami 2      PS4             2016     Adventure   \n",
       "16526                      Dungeons 2      PS4             2016  Role-Playing   \n",
       "16530         Carmageddon: Max Damage      PS4             2016        Action   \n",
       "16585   Farming 2017 - The Simulation      PS4             2016    Simulation   \n",
       "\n",
       "       na_sales  eu_sales  jp_sales  other_sales  critic_score  user_score  \\\n",
       "31         6.03      5.86      0.36         2.38           NaN        44.4   \n",
       "42         3.96      6.31      0.38         1.97          97.0         8.3   \n",
       "77         1.12      6.12      0.06         1.28          82.0         4.3   \n",
       "87         2.99      3.49      0.22         1.28           NaN        44.4   \n",
       "92         2.81      3.48      0.14         1.23          83.0         5.7   \n",
       "...         ...       ...       ...          ...           ...         ...   \n",
       "16500      0.00      0.00      0.01         0.00          69.0         7.5   \n",
       "16503      0.00      0.00      0.01         0.00           NaN        44.4   \n",
       "16526      0.01      0.00      0.00         0.00          61.0         7.9   \n",
       "16530      0.01      0.00      0.00         0.00          51.0         5.5   \n",
       "16585      0.00      0.01      0.00         0.00           NaN        44.4   \n",
       "\n",
       "        rating  all_sales  \n",
       "31     no_rate      14.63  \n",
       "42           M      12.62  \n",
       "77           E       8.58  \n",
       "87     no_rate       7.98  \n",
       "92           M       7.66  \n",
       "...        ...        ...  \n",
       "16500  no_rate       0.01  \n",
       "16503  no_rate       0.01  \n",
       "16526        T       0.01  \n",
       "16530        M       0.01  \n",
       "16585  no_rate       0.01  \n",
       "\n",
       "[376 rows x 12 columns]"
      ]
     },
     "execution_count": 55,
     "metadata": {},
     "output_type": "execute_result"
    }
   ],
   "source": [
    "data_PS4 = data_actualy.query('platform == \"PS4\"')\n",
    "data_PS4"
   ]
  },
  {
   "cell_type": "code",
   "execution_count": 56,
   "metadata": {
    "scrolled": true
   },
   "outputs": [
    {
     "data": {
      "text/html": [
       "<div>\n",
       "<style scoped>\n",
       "    .dataframe tbody tr th:only-of-type {\n",
       "        vertical-align: middle;\n",
       "    }\n",
       "\n",
       "    .dataframe tbody tr th {\n",
       "        vertical-align: top;\n",
       "    }\n",
       "\n",
       "    .dataframe thead th {\n",
       "        text-align: right;\n",
       "    }\n",
       "</style>\n",
       "<table border=\"1\" class=\"dataframe\">\n",
       "  <thead>\n",
       "    <tr style=\"text-align: right;\">\n",
       "      <th></th>\n",
       "      <th>user_score</th>\n",
       "      <th>critic_score</th>\n",
       "      <th>all_sales</th>\n",
       "    </tr>\n",
       "  </thead>\n",
       "  <tbody>\n",
       "    <tr>\n",
       "      <th>user_score</th>\n",
       "      <td>1.000000</td>\n",
       "      <td>0.546434</td>\n",
       "      <td>-0.040132</td>\n",
       "    </tr>\n",
       "    <tr>\n",
       "      <th>critic_score</th>\n",
       "      <td>0.546434</td>\n",
       "      <td>1.000000</td>\n",
       "      <td>0.401903</td>\n",
       "    </tr>\n",
       "    <tr>\n",
       "      <th>all_sales</th>\n",
       "      <td>-0.040132</td>\n",
       "      <td>0.401903</td>\n",
       "      <td>1.000000</td>\n",
       "    </tr>\n",
       "  </tbody>\n",
       "</table>\n",
       "</div>"
      ],
      "text/plain": [
       "              user_score  critic_score  all_sales\n",
       "user_score      1.000000      0.546434  -0.040132\n",
       "critic_score    0.546434      1.000000   0.401903\n",
       "all_sales      -0.040132      0.401903   1.000000"
      ]
     },
     "execution_count": 56,
     "metadata": {},
     "output_type": "execute_result"
    }
   ],
   "source": [
    "data_PS4 = data_PS4.query('user_score != 44.4').copy()\n",
    "data_PS4[['user_score', 'critic_score', 'all_sales']].corr()"
   ]
  },
  {
   "cell_type": "markdown",
   "metadata": {},
   "source": [
    "довльно сильная положительная связь между продажами и оценками критиков и слабая отрицательная связь между продажами и пользовательскими оценками"
   ]
  },
  {
   "cell_type": "markdown",
   "metadata": {},
   "source": [
    "<div class=\"alert alert-danger\">\n",
    "<font size=\"4\"><b>❌ Комментарий ревьюера</b></font>\n",
    "    <br /> \n",
    "    <font size=\"3\", color = \"black\">\n",
    "<br />\n",
    "стоит избавиться от нулевых заглушек при расчете коэф. корреляции и строительстве графиков\n",
    "\n",
    "<b>Исправил</b>"
   ]
  },
  {
   "cell_type": "code",
   "execution_count": 57,
   "metadata": {},
   "outputs": [
    {
     "data": {
      "text/html": [
       "<div>\n",
       "<style scoped>\n",
       "    .dataframe tbody tr th:only-of-type {\n",
       "        vertical-align: middle;\n",
       "    }\n",
       "\n",
       "    .dataframe tbody tr th {\n",
       "        vertical-align: top;\n",
       "    }\n",
       "\n",
       "    .dataframe thead th {\n",
       "        text-align: right;\n",
       "    }\n",
       "</style>\n",
       "<table border=\"1\" class=\"dataframe\">\n",
       "  <thead>\n",
       "    <tr style=\"text-align: right;\">\n",
       "      <th></th>\n",
       "      <th>name</th>\n",
       "      <th>platform</th>\n",
       "      <th>year_of_release</th>\n",
       "      <th>genre</th>\n",
       "      <th>na_sales</th>\n",
       "      <th>eu_sales</th>\n",
       "      <th>jp_sales</th>\n",
       "      <th>other_sales</th>\n",
       "      <th>critic_score</th>\n",
       "      <th>user_score</th>\n",
       "      <th>rating</th>\n",
       "      <th>all_sales</th>\n",
       "    </tr>\n",
       "  </thead>\n",
       "  <tbody>\n",
       "    <tr>\n",
       "      <th>42</th>\n",
       "      <td>Grand Theft Auto V</td>\n",
       "      <td>PS4</td>\n",
       "      <td>2014</td>\n",
       "      <td>Action</td>\n",
       "      <td>3.96</td>\n",
       "      <td>6.31</td>\n",
       "      <td>0.38</td>\n",
       "      <td>1.97</td>\n",
       "      <td>97.0</td>\n",
       "      <td>8.3</td>\n",
       "      <td>M</td>\n",
       "      <td>12.62</td>\n",
       "    </tr>\n",
       "    <tr>\n",
       "      <th>77</th>\n",
       "      <td>FIFA 16</td>\n",
       "      <td>PS4</td>\n",
       "      <td>2015</td>\n",
       "      <td>Sports</td>\n",
       "      <td>1.12</td>\n",
       "      <td>6.12</td>\n",
       "      <td>0.06</td>\n",
       "      <td>1.28</td>\n",
       "      <td>82.0</td>\n",
       "      <td>4.3</td>\n",
       "      <td>E</td>\n",
       "      <td>8.58</td>\n",
       "    </tr>\n",
       "    <tr>\n",
       "      <th>92</th>\n",
       "      <td>Call of Duty: Advanced Warfare</td>\n",
       "      <td>PS4</td>\n",
       "      <td>2014</td>\n",
       "      <td>Shooter</td>\n",
       "      <td>2.81</td>\n",
       "      <td>3.48</td>\n",
       "      <td>0.14</td>\n",
       "      <td>1.23</td>\n",
       "      <td>83.0</td>\n",
       "      <td>5.7</td>\n",
       "      <td>M</td>\n",
       "      <td>7.66</td>\n",
       "    </tr>\n",
       "  </tbody>\n",
       "</table>\n",
       "</div>"
      ],
      "text/plain": [
       "                              name platform  year_of_release    genre  \\\n",
       "42              Grand Theft Auto V      PS4             2014   Action   \n",
       "77                         FIFA 16      PS4             2015   Sports   \n",
       "92  Call of Duty: Advanced Warfare      PS4             2014  Shooter   \n",
       "\n",
       "    na_sales  eu_sales  jp_sales  other_sales  critic_score  user_score  \\\n",
       "42      3.96      6.31      0.38         1.97          97.0         8.3   \n",
       "77      1.12      6.12      0.06         1.28          82.0         4.3   \n",
       "92      2.81      3.48      0.14         1.23          83.0         5.7   \n",
       "\n",
       "   rating  all_sales  \n",
       "42      M      12.62  \n",
       "77      E       8.58  \n",
       "92      M       7.66  "
      ]
     },
     "execution_count": 57,
     "metadata": {},
     "output_type": "execute_result"
    }
   ],
   "source": [
    "# check\n",
    "data_PS4.head(3)"
   ]
  },
  {
   "cell_type": "code",
   "execution_count": 58,
   "metadata": {},
   "outputs": [
    {
     "name": "stdout",
     "output_type": "stream",
     "text": [
      "<class 'pandas.core.frame.DataFrame'>\n",
      "Int64Index: 16444 entries, 0 to 16714\n",
      "Data columns (total 12 columns):\n",
      " #   Column           Non-Null Count  Dtype  \n",
      "---  ------           --------------  -----  \n",
      " 0   name             16444 non-null  object \n",
      " 1   platform         16444 non-null  object \n",
      " 2   year_of_release  16444 non-null  int64  \n",
      " 3   genre            16444 non-null  object \n",
      " 4   na_sales         16444 non-null  float64\n",
      " 5   eu_sales         16444 non-null  float64\n",
      " 6   jp_sales         16444 non-null  float64\n",
      " 7   other_sales      16444 non-null  float64\n",
      " 8   critic_score     7983 non-null   float64\n",
      " 9   user_score       16444 non-null  float64\n",
      " 10  rating           16444 non-null  object \n",
      " 11  all_sales        16444 non-null  float64\n",
      "dtypes: float64(7), int64(1), object(4)\n",
      "memory usage: 1.6+ MB\n"
     ]
    }
   ],
   "source": [
    "data.info()"
   ]
  },
  {
   "cell_type": "code",
   "execution_count": 59,
   "metadata": {
    "scrolled": true
   },
   "outputs": [
    {
     "data": {
      "text/plain": [
       "<AxesSubplot:xlabel='user_score', ylabel='all_sales'>"
      ]
     },
     "execution_count": 59,
     "metadata": {},
     "output_type": "execute_result"
    },
    {
     "data": {
      "image/png": "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\n",
      "text/plain": [
       "<Figure size 432x288 with 1 Axes>"
      ]
     },
     "metadata": {
      "needs_background": "light"
     },
     "output_type": "display_data"
    }
   ],
   "source": [
    "data_PS4.plot(x='user_score', y='all_sales', kind='scatter')"
   ]
  },
  {
   "cell_type": "markdown",
   "metadata": {},
   "source": [
    "на графике почти не видна связь между оценками пользователей и ростом числа проданных игр"
   ]
  },
  {
   "cell_type": "code",
   "execution_count": 60,
   "metadata": {},
   "outputs": [
    {
     "data": {
      "text/plain": [
       "<AxesSubplot:xlabel='critic_score', ylabel='all_sales'>"
      ]
     },
     "execution_count": 60,
     "metadata": {},
     "output_type": "execute_result"
    },
    {
     "data": {
      "image/png": "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\n",
      "text/plain": [
       "<Figure size 432x288 with 1 Axes>"
      ]
     },
     "metadata": {
      "needs_background": "light"
     },
     "output_type": "display_data"
    }
   ],
   "source": [
    "data_PS4.plot(x='critic_score', y='all_sales', kind='scatter')"
   ]
  },
  {
   "cell_type": "markdown",
   "metadata": {},
   "source": [
    "на графике видна связь между оценками критиков и ростом числа проданных игр - облако смещено вправо вверх"
   ]
  },
  {
   "cell_type": "code",
   "execution_count": 61,
   "metadata": {},
   "outputs": [],
   "source": [
    "data_PC = data_actualy.query('platform == \"PC\"')\n",
    "data_PC = data_PC.query('user_score != 44.4').copy()"
   ]
  },
  {
   "cell_type": "code",
   "execution_count": 62,
   "metadata": {},
   "outputs": [
    {
     "data": {
      "text/html": [
       "<div>\n",
       "<style scoped>\n",
       "    .dataframe tbody tr th:only-of-type {\n",
       "        vertical-align: middle;\n",
       "    }\n",
       "\n",
       "    .dataframe tbody tr th {\n",
       "        vertical-align: top;\n",
       "    }\n",
       "\n",
       "    .dataframe thead th {\n",
       "        text-align: right;\n",
       "    }\n",
       "</style>\n",
       "<table border=\"1\" class=\"dataframe\">\n",
       "  <thead>\n",
       "    <tr style=\"text-align: right;\">\n",
       "      <th></th>\n",
       "      <th>user_score</th>\n",
       "      <th>critic_score</th>\n",
       "      <th>all_sales</th>\n",
       "    </tr>\n",
       "  </thead>\n",
       "  <tbody>\n",
       "    <tr>\n",
       "      <th>user_score</th>\n",
       "      <td>1.000000</td>\n",
       "      <td>0.466099</td>\n",
       "      <td>-0.071597</td>\n",
       "    </tr>\n",
       "    <tr>\n",
       "      <th>critic_score</th>\n",
       "      <td>0.466099</td>\n",
       "      <td>1.000000</td>\n",
       "      <td>0.172061</td>\n",
       "    </tr>\n",
       "    <tr>\n",
       "      <th>all_sales</th>\n",
       "      <td>-0.071597</td>\n",
       "      <td>0.172061</td>\n",
       "      <td>1.000000</td>\n",
       "    </tr>\n",
       "  </tbody>\n",
       "</table>\n",
       "</div>"
      ],
      "text/plain": [
       "              user_score  critic_score  all_sales\n",
       "user_score      1.000000      0.466099  -0.071597\n",
       "critic_score    0.466099      1.000000   0.172061\n",
       "all_sales      -0.071597      0.172061   1.000000"
      ]
     },
     "execution_count": 62,
     "metadata": {},
     "output_type": "execute_result"
    }
   ],
   "source": [
    "data_PC[['user_score', 'critic_score', 'all_sales']].corr()"
   ]
  },
  {
   "cell_type": "code",
   "execution_count": 63,
   "metadata": {},
   "outputs": [
    {
     "data": {
      "text/plain": [
       "<AxesSubplot:xlabel='user_score', ylabel='all_sales'>"
      ]
     },
     "execution_count": 63,
     "metadata": {},
     "output_type": "execute_result"
    },
    {
     "data": {
      "image/png": "iVBORw0KGgoAAAANSUhEUgAAAYMAAAEGCAYAAACHGfl5AAAAOXRFWHRTb2Z0d2FyZQBNYXRwbG90bGliIHZlcnNpb24zLjMuNCwgaHR0cHM6Ly9tYXRwbG90bGliLm9yZy8QVMy6AAAACXBIWXMAAAsTAAALEwEAmpwYAAAhAElEQVR4nO3de5hcdZ3n8fenujudQIBgklHIxbAG3UUlAVouE+RhQF1QFmYGFHQFdXUZHRxxvIA6zyI6O7rEGR0VH1kERkG8IFHM4+IFhRXiA0gnNOGqm1E0CQghBJJA0unLd/+oU6G6uq7ddepUdX9ez5MnVXVOV33PqVPne36X8/spIjAzs+ktl3UAZmaWPScDMzNzMjAzMycDMzPDycDMzIDurAOYiHnz5sWSJUuyDsPMrKOsXbv2qYiYX25ZRyaDJUuW0N/fn3UYZmYdRdIfKi1zNZGZmTkZmJmZk4GZmeFkYGZmOBmYmRlOBtZiW3cOct/GZ9i6czDrUMysSEd2LbXO9MOBzVy8aj09uRxDo6OsPPNwTl++IOuwzAyXDKxFtu4c5OJV69k9NMqOwWF2D41y0ar1LiGYtYlUk4GkmZJ+Lek+SQ9K+lSZdXolfVfSBkl3S1qSZkyWjU3bdtGTG3u49eRybNq2K6OIzKxY2iWDQeCkiFgGLAdOkXRsyTrvBrZFxFLgC8BlKcdkGVh44CyGRkfHvDY0OsrCA2dlFJGZFUs1GUTezuRpT/KvdGq1M4BvJI9vBE6WpDTjstabO7uXlWcezsyeHPv1djOzJ8fKMw9n7uzerEMzM1rQgCypC1gLLAW+EhF3l6yyANgIEBHDkp4F5gJPlbzP+cD5AIsXL047bEvB6csXsGLpPDZt28XCA2c5EZi1kdQbkCNiJCKWAwuBoyW9aoLvc2VE9EVE3/z5ZQfdsw4wd3YvyxbNcSIwazMt600UEc8AtwGnlCzaDCwCkNQNHABsbVVcZmaWfm+i+ZLmJI9nAa8HHilZbTXwjuTxWcCtEVHarmBmZilKu83gIOAbSbtBDrghIn4k6dNAf0SsBq4GrpO0AXgaOCflmMzMrESqySAi1gNHlHn9kqLHu4E3pxmHmZlV5zuQzczMycDMzJwMzMwMJwMzM8PJwMzMcDIwMzOcDMzMDCcDMzPDycDMzHAyMDMznAzMzAwnAzMzw8nAzMxwMjAzM5wMzMwMJwMzM8PJwMzMcDIwMzOcDMzMDCcDMzPDycDMzHAyMDMznAzMzAwnAzMzI+VkIGmRpNskPSTpQUkXllnnREnPShpI/l2SZkxmZjZed8rvPwx8OCLWSdoPWCvploh4qGS9OyLitJRjMTOzClItGUTE4xGxLnm8A3gYWJDmZ5qZWeNa1mYgaQlwBHB3mcXHSbpP0o8lvbLC358vqV9S/5YtW9IM1cxs2mlJMpA0G1gFfDAitpcsXge8NCKWAV8Gbir3HhFxZUT0RUTf/PnzU43XzGy6ST0ZSOohnwiuj4jvly6PiO0RsTN5fDPQI2le2nGZmdkL0u5NJOBq4OGI+HyFdV6SrIeko5OYtqYZl5mZjZV2b6IVwLnA/ZIGktc+ASwGiIgrgLOA90kaBnYB50REpByXmZkVSTUZRMQaQDXWuRy4PM04zMysOt+BbGZmTgZmZuZkYGZmOBmYmRlOBmZmhpOBmZnhZGBmZjgZmJkZTgZmZoaTgZmZ4WRgZmY4GZiZGU4GZmaGk4GZmeFkYGZmOBmYmRlOBmZmhpOBmZnhZGBmZjgZmJkZTgZmZoaTgZmZ4WRgZmaknAwkLZJ0m6SHJD0o6cIy60jSlyRtkLRe0pFpxmRmZuN1p/z+w8CHI2KdpP2AtZJuiYiHitY5FTg0+XcM8NXkfzMza5FUSwYR8XhErEse7wAeBhaUrHYGcG3k3QXMkXRQmnGZmdlYLWszkLQEOAK4u2TRAmBj0fNNjE8YZmaWopYkA0mzgVXAByNi+wTf43xJ/ZL6t2zZ0twAzcymudSTgaQe8ong+oj4fplVNgOLip4vTF4bIyKujIi+iOibP39+OsGamU1TafcmEnA18HBEfL7CaquB85JeRccCz0bE42nGZWZmY6Xdm2gFcC5wv6SB5LVPAIsBIuIK4GbgjcAG4HngXSnHZGZmJVJNBhGxBlCNdQK4IM04zMysOt+BbGZmTgZmZuZkYGZmOBmYmRlOBmZmhpOBmZnhZGBmZjSQDCStlLS/pB5Jv5C0RdLb0wzOzMxao5GSwRuSQeZOAx4FlgIfTSMoMzNrrUaSQeFu5TcB34uIZ1OIx8zMMtDIcBQ/kvQIsAt4n6T5wO50wjIzs1aqu2QQER8D/hzoi4gh8oPKnZFWYGZm1jqNNCDvA/wt+TmKAQ4G+tIIyszMWquRNoN/A/aQLx1AfgKa/9n0iMzMrOUaSQYvi4iVwBBARDxPjeGpzcysMzSSDPZImgUEgKSXAYOpRGVmZi3VSG+iTwI/ARZJup78LGbvTCMoMzNrrbqTQUTcImkdcCz56qELI+Kp1CIzM7OWqZkMJB1Z8lJhsvrFkhZHxLrmh2VmZq1UT8ngX6osC+CkJsViZmYZqZkMIuIvWhGImZllp5EGZCS9CjgMmFl4LSKubXZQZmbWWnUnA0mfBE4knwxuBk4F1gBOBmZmHa6R+wzOAk4G/hQR7wKWAQekEpWZmbVUI8lgV0SMAsOS9geeBBZV+wNJ10h6UtIDFZafKOlZSQPJv0saiMfMzJqkkTaDfklzgK8Ba4GdwJ01/ubrwOVUr0q6IyJOayAOMzNrskZuOvvb5OEVkn4C7B8R62v8ze2SlkwiPjMza4FGhrBeIWnf5OnxwDslvbQJMRwn6T5JP5b0yiqff76kfkn9W7ZsacLHmplZQSNtBl8Fnpe0DPgw8O9MvifROuClEbEM+DJwU6UVI+LKiOiLiL758+dP8mPNzKxYI8lgOCKC/Oxml0fEV4D9JvPhEbE9InYmj28GeiTNm8x7mplZ4xpJBjskfRx4O/B/JOWAnsl8uKSXSFLy+Ogknq2TeU8zM2tcI72JzgbeBrw7Iv4kaTHwuWp/IOnb5G9UmydpE/lhsHsAIuIK8vcuvE/SMLALOCcpfZiZWQupWedeSXdGxHFNebMa+vr6or+/vxUfZWY2ZUhaGxFl565vpJqolpm1VzEzs3bUzGTg6h0zsw7VzGRgZmYdqpnJQE18LzMza6FmJoNzm/heZmbWQvXMgbyD8u0BAiIi9if/oOzIpGbTzdadg2zatouFB85i7uzerMMxq0s9015O6i5js+nkhwObuXjVenpyOYZGR1l55uGcvnxB1mGZ1VRPyeBF1ZZHxNPNC8esc23dOcjFq9aze2iU3YwCcNGq9axYOs8lBGt79dyBvJZ8NVFxA3HheQD/IYW4zDrOpm276Mnl9iYCgJ5cjk3bdjkZWNurp5rokMLjpJRwKL7BzGychQfOYmh0dMxrQ6OjLDxwVkYRmdWvkfkM3gP8EvgJcGnyv6epNEvMnd3LyjMPZ2ZPjv16u5nZk2PlmYe7VGAdoZGB6i4EXgPcFRF/Iek/Ap9JJyyzznT68gWsWDrPvYms4zSSDHZHxG5JSOqNiEckvSK1yMw61NzZvU4CGXP33sY1kgw2SZpDfjayWyRtA/6QRlBmZhPl7r0TU3cyiIi/Sh5eKuk24ADy7QZmZm3B3XsnrpGSwV4R8ctmB2JmNlnu3jtxHrXUzKYMd++dOCcDM5sy3L134iZUTWRm1q7cvXdinAzMbMpx997GuZrIzMycDMzMzMnAzMxIORlIukbSk5LKzoKmvC9J2iBpvaQj04zHzMzKS7tk8HXglCrLTyU/JPahwPnAV1OOx8zMykg1GUTE7UC1mdDOAK6NvLuAOZIOSjMmMzMbL+s2gwXAxqLnm5LXzMyshbJOBnWTdL6kfkn9W7ZsyTocM7MpJetksBlYVPR8YfLaOBFxZUT0RUTf/PnzWxKcmdl0kXUyWA2cl/QqOhZ4NiIezzgmM7NpJ9XhKCR9GzgRmCdpE/BJoAcgIq4AbgbeCGwAngfelWY8Zu3Is3JZO0g1GUTEW2ssD+CCNGMwa2eelcvaRdbVRGbTVvGsXDsGh9k9NMpFq9azdedg1qHZNORkYJaRwqxcxQqzcpm1mpOBWUY8K5e1EycDs4x4Vi5rJ57cxixDnpXL2oWTgVnGPCuXtQNXE5mZmZOBmZk5GZiZGU4GZm1v685B7tv4jG9Gs1S5AdmsjXm4CiuW5jhWTgZmbap4uIrd5G9Ou2jVelYsnefeR9NQ2hcGriYya1MersIKWjGOlZOBWZvycBVW0IoLAycDszbl4Sqap9Mb4VtxYeA2A7M25uEqJm8qNMIXLgwuKtmOZh4PTgZmbS7L4So6fRa2qdQIn/aFgZOBmZU1Fa6oC3XthUQAL9S1d1oygHQvDNxmYGbjTJVZ2NwIXz8nAzMbZ6p0a3UjfP1cTWQ2hTSrjn8qXVG7Eb4+TgbTQKc3Alp9mlnH34reK63kOSNqczKY4qZCI6DVlkavmdIraoD7Nj7ji4opyslgCptK3eqsurR6zRSuqKfTRcV0LUmn3oAs6RRJv5G0QdLHyix/p6QtkgaSf+9JO6bpYqo0AlptadbxT5WeRfX44cBmVlx2K2+/6m5WXHYrqwc2Zx1Sy6SaDCR1AV8BTgUOA94q6bAyq343IpYn/65KM6bpZCo1Alp1afaamS4XFdMp6ZWTdjXR0cCGiPgdgKTvAGcAD6X8ucbUawScrkqrLSpVY6TVa2a6XFRMtRvUGpV2MlgAbCx6vgk4psx6Z0o6Afgt8PcRsbF0BUnnA+cDLF68OIVQpyZ3q+tspXX1bzlqITes3VSx7j6NXjNT/aKikFz3ndE1LZJeJYqI9N5cOgs4JSLekzw/FzgmIt5ftM5cYGdEDEr6G+DsiDip2vv29fVFf39/anHb1NOJjYJbdw6y4rJb2T00WnGdmT05fnXxSS3Zpk7ch7WMS7Z9C7mhv3Ky7XSS1kZEX7llaZcMNgOLip4vTF7bKyK2Fj29CliZckw2zXRqT5hy1RalWlmNMdX66pfrbXdD/yZ+9P7jeW7PyJRKevVIuzfRPcChkg6RNAM4B1hdvIKkg4qeng48nHJMNkWVG7O+ExsFC9tRrtqi1HSqxmi2Sg3jz+0ZYdmiOdMqEUDKJYOIGJb0fuCnQBdwTUQ8KOnTQH9ErAY+IOl0YBh4GnhnmjHZ1FTp6r/TGgVrVVuUq8Zox+3oBNOlYbxeqbYZpMVtBlasXN16oS4dqLis3U6ilbajtNpiKtbd15LWNq8e2DyuYbwTqhAnKss2A7PUVbv6X7ZoTuY9Yeo9kVXajkK1RcFUq7uvJc02H/e2e4GTgXW8WsX9LH/wjZzIOq3aohUllGYNqVIt1umWXCvxfAbW8eq5+3bu7N6WNwo22njdSWPvt2rYhmbc/Tydh5hohEsGNiW0Y3F/Io3X7bgdpVoxAGKzbgTzYI31czKwKaPdivsTrfZpt+0olXYPrXpuBKv3czqtN1mWnAysbXV6r5lmDePQyH5oxT5r1QipzbgRrNPaYbLkZGBtqVPvGi412WqfRvZDq/ZZmmMV1dujqh1inWqcDKztTLV63olW+zSyH1q9zzpphNROaIdpB+5NZG1nuoyfX8umbbuI0bE3hcZolN0PWeyzyfbQ2vDEDm7s38iGJ3aMec80elRl0Zus07hkYG3H9bx5+87oYnBkbDIYHAn2ndE1bt0s9lmt9olqyy+56X6uveuPe5+fd9xiPn3GqwFfyWfFJQNrO53U3z5Nz+0ZobvkF9qdy79eqtX7rFbf/WrLNzyxY0wiALj2zj+OKyH4Sr61XDKwtuy1U+7qsN4Zv6aKfWd0MVwyaOnwKGVLBtC6K+pa7RO1lq/Z8FTZ912z4SmWvni/psU4lY+NNDgZTHPt3GunuOF1uk1CAvkSwMye3LiB68qVDApacY9Crb77tZbPqxBfpdcb1epjeqokHlcTTWOdMtZ/uTivvfOPk4q73NwH7aZSff9k2gGasd212idqLT/uZXPpymnM8pxg/1ndk/4+Wn1MT6WhLpwMprFW9EBpxsmnXJylGok7jR9wGsml2e0AzdruWnHNnd3LW45aOOZv3tK3cMzyL7xlGb3dOXq7c3QJunLiguvvnfT3kcYxXem7nUjiaeeLEFcTtalmFj0rvVfaPVCaVVwvF2epeuNOoz9+Jwyx3OztrhbX1p2D3LB205j1b+jfxIUnv3zveqcvX8BhB+3Pmg1P8ZmbH2bPSDA0MjzpuJp9TFf7bhsd6qKdq2TBJYO21Mwr12rvlWYPlGYU1wtXUcC4OM87bvGE4m72lWMzt7PaaKbFPWsmcnWZxhVzpbgefGx7zfsjfjiwmdMuX8PKn/6GPSXdZycTV+GY7u0W+/R00dutCR/Ttb7bRhJPJ1TJumTQZpp5BVfPe6XVA2WyA4SVu4r60fuPZ2DjMyxfNIelL96PC09+ecNxN/vKsRnbedGN99GlHCMxyufOWlb1anGiV5etLAXuGRmten9E8XFZzmTjyn+yQECo+spV1PpuGxnqohMGzHMyaDPNPGjqfa80eqBM5uRTLol96IYBunI5ZnSNPQk2GnehPru4n3txfXajJrudH75hIOk+mu8h9KEbBiom/slcKKQxRk/xMNOlcZUq7gVV7s5qgH16uhglWHnm4QDct/GZhrsRF/bRYFGf3ItWreewg/ZveKC7er7bei+mOuFGSieDNtPMgybLA3AyJ59ySWx4FIZHR/f+yCdTWqpVn92IyWzng49tL3sfwYOPbeeEl88ft/5kLxSaWQosLgkMjoyiOuZSLxx35e6sBlh51uEc97K5rNnwFCsuu7VqN+JK21FuH8Vo8MYvr6G3q7HSVDMTaCcMmOdk0GaacdAUX0WlfQBWu2Kb6MmnngbjnlyOBx/bzgGzehp674meUBvZThh7VVvJ9l17yr6+edvzZf++Gcl9MqXADU/sYGDjMyyZu0/NkkBPl8gJZnR1jTvuyt0/0dstdg+NsO25PePe+9o786W4WqVEKL+P8okn2FPhQmIyx3Aj1XztPsyGoo6M3m76+vqiv78/6zBSNdHeROXqlNM6ACfbO6LaNq4e2Lw3ie0ZGWE0YKjoarI7R8UTQq3PXHHZreNu5PrVxSdV3DdpDSN9+2+f5Lxr7hn3+owu0dvdVfbvi/dLK3uklI4lJAp183ndOchpbNyHHbT/mDaegnLfAcDs3i72jASKKFtyqKT0+yveR4PDI+RyGvNZ+/V28833HMOyRXMmdQxv3TnIMZ/5+ZjSXXcO7v7E69ruRF8gaW1E9JVdNp2SQTvfKdiM2CZyoptonPvO6OK0y9eM+6x6JyGp50dYvE+++PPfjjkZ5QTF1c6NbOfqgc185HsDiBzBKP/85uUVTwCN7NNG9//WnYMc+9lfjElypcr9ffF+2fbcnjEn3DSG7NjwxA5e94Xba6539XlHse35IZYvmsODj2+v+v0WTthdUtU7quvR2yW+9o7XjCklFh+np3zx9rInbKDs91XrGC6898ann+f937533PLP/tWr6OnKjUuC7aBaMki9mkjSKcAXgS7gqoj4XyXLe4FrgaOArcDZEfFos+NotNdGKzWr/3ErpyMsV09cb91svQ2hhSqNcvX8pe2PjWxn/6NPkz//5D+7/w9PV9zf9e7TrTsHue2RJxkdGXu1W+hSWS6uubN7+Zc3L+OjN66nKyeGRkbpKrmKrdbgX3q1fvzSudzz6NN7j/GzX7OI796zcdLH/EDSvbcaAe/71r30duV7E42MjjI8StVebIcdtD+r73uMK/7vBvZUrxWsanAk+O/X9o8pJa5YOu+F2DS2HJN/Xrl94dQv3UFPrvw+G/MbGC6fxD7+gwf2Pi4ejbXdpZoMJHUBXwFeD2wC7pG0OiIeKlrt3cC2iFgq6RzgMuDsZsbRaK+NVmpmV9JWT0dYqlbdbEGjSatS75Ni9W5npREzzzt2SdmruHr2aeEE0SWNO6lVGnK6oLgeuVDaqme7ym3Hmg1bk0cje7er+PlEj/klc/epuU4Ae4ZH9373pQaHRsd8v9X22UQMDr/QuaC4TWFwZHTczVQzu7v2lpbKty/A0Mj4fVbPb6BUtWOr3aR909nRwIaI+F1E7AG+A5xRss4ZwDeSxzcCJ6uQupukWq+NrDXzZqA0byIrF+fMnhwzusR+vd3M6BIze+rbjkaTVqXeJzO6aHg7K13lVnq91j4tPkGUq+6oNbBc4TOWJVUK9X5/9Vytl5roMf+n7ZO/MSqAp3bsBmrvs8kaHs0nhx2Dw+wZHn/PQ+FYK/1ue8qcDYv3WaXfQE+X2GdGF10VzqYT+a6ykHY10QJgY9HzTcAxldaJiGFJzwJzgfLj3E5IpavK7NtLmn0138rpCAFu/sBreW7PSENXtY32mKo0eueV5x7FAbNmNLSdyyvMo1vpdai+T8uVcko18l3W+/1Vi7e6xo/5p3bunuBnjXXfpmc5+bCX1NxnxT2Rdg8PMzTJfDGzJ8foaIxp3C5302WlNoDCPqv0G/hx8hsYGh7hrP9917jlE/+uWqtjupZKOh84H2Dx4sUN/e0rDz6Ani6Naajr6RKvPPiApsY4EWn0P07jJrJKcRYXfxvZjkaSVqWT6SsPPqDh7Vz64v0477jFRVUo+XrdWsX4Svu00gli3xldjERM6Lus5/srtx2ljeqlJnrMH790PvDwuNdndEFvd/e4ewF2Dw1T7ubiEw7N1+PXs8+Kq85O/dIdVRvZu3KiO5dPHuV6nsELFy3ljrXC/l544Kyq54l6fgMTObbaRaq9iSQdB1waEf85ef5xgIj4bNE6P03WuVNSN/AnYH5UCWwivYlWD2ze21A3Mhp87qz2GiSqnXs6FZvMVIeT0ewulYU+883o8VEa2/847TBedfABLfkui7fjoce3jznGz37NQr57z6amHPOX/PD+cSe50uFAir/7D37nXu7Y24YBr106l+vec+ze543ss9LfbrntKr6w+NWGpyZ8rNRznqh1jDfz2Gq2zLqWJif33wInA5uBe4C3RcSDRetcALw6It6bNCD/dUS8pdr7TsWupVZbO39/7RJbmrPBNXqS6//9Vm7/f09xwqHz6Dtkbs1Yq2l0uyaz3e3yXaYh0/sMJL0R+FfyXUuviYh/kvRpoD8iVkuaCVwHHAE8DZwTEb+r9p7T4aYzM7Nmy/Q+g4i4Gbi55LVLih7vBt6cdhxmZlaZ5zMwMzMnAzMzczIwMzOcDMzMjA4dtVTSFuAPWcdRxjyaeud0U7VrbO0aFzi2iWjXuKB9Y2tlXC+NiPEzJ9GhyaBdSeqv1G0ra+0aW7vGBY5tIto1Lmjf2NolLlcTmZmZk4GZmTkZNNuVWQdQRbvG1q5xgWObiHaNC9o3traIy20GZmbmkoGZmTkZmJkZTgZNIWmRpNskPSTpQUkXZh1TgaSZkn4t6b4ktk9lHVMxSV2S7pX0o6xjKSbpUUn3SxqQ1DZD5EqaI+lGSY9IejiZMyRzkl6R7KvCv+2SPph1XACS/j459h+Q9O1kpOS2IOnCJK4Hs95fbjNoAkkHAQdFxDpJ+wFrgb+MiIcyDo1kPul9I2KnpB5gDXBhRIyfny8Dkj4E9AH7R8RpWcdTIOlRoC8i2uomJUnfAO6IiKskzQD2iYhnMg5rDEld5OcvOSYiMr05VNIC8sf8YRGxS9INwM0R8fUs4wKQ9Cry88IfDewBfgK8NyI2ZBGPSwZNEBGPR8S65PEO8nMEtsU0apG3M3nak/xriysASQuBNwFXZR1LJ5B0AHACcDVAROxpt0SQOBn496wTQZFuYFYy2dY+wGMZx1Pwn4C7I+L5iBgGfgn8dVbBOBk0maQl5CfquTvjUPZKqmIGgCeBWyKiXWL7V+AiqDKbfHYC+Jmktcn82+3gEGAL8G9J1dpVkvbNOqgyzgG+nXUQABGxGfhn4I/A48CzEfGzbKPa6wHgtZLmStoHeCOwKKtgnAyaSNJsYBXwwYjYnnU8BRExEhHLgYXA0UnxNFOSTgOejIi1WcdSwfERcSRwKnCBpBOyDoj8Fe6RwFcj4gjgOeBj2YY0VlJ1dTrwvaxjAZB0IHAG+UR6MLCvpLdnG1VeRDwMXAb8jHwV0QAwklU8TgZNktTHrwKuj4jvZx1POUmVwm3AKRmHArACOD2pm/8OcJKkb2Yb0guSK0oi4kngB+TrdbO2CdhUVLK7kXxyaCenAusi4omsA0m8Dvh9RGyJiCHg+8CfZxzTXhFxdUQcFREnANvIzxmfCSeDJkgaaa8GHo6Iz2cdTzFJ8yXNSR7PAl4PPJJpUEBEfDwiFkbEEvLVCrdGRFtcsUnaN+kIQFIN8wbyRfpMRcSfgI2SXpG8dDKQeSeFEm+lTaqIEn8EjpW0T/I7PZl8m15bkPRnyf+LybcXfCurWFKfA3maWAGcC9yf1M0DfCKZ/zlrBwHfSHp45IAbIqKtunG2oRcDP8ifO+gGvhURP8k2pL3+Drg+qY75HfCujOPZK0mcrwf+JutYCiLibkk3AuuAYeBe2mT4h8QqSXOBIeCCLDsEuGupmZm5msjMzJwMzMwMJwMzM8PJwMzMcDIwMzOcDMwmLBnrZsp8jk1vTgY2bUhaIumBoucfkXSppA8kw4+vl/SdZNm+kq5Jhv++V9IZyevvlLRa0q3ALyp8zkGSbk+Gcn5A0muT10+RtC4ZTvwXyWsvknRT8tl3STo8ef1SSddJ+hVwXXLz4CpJ9yT/VqS7t2y68RWHWX58n0MiYrBwtzbwD+Tviv5vyWu/lvTzZNmRwOER8XSF93sb8NOI+KfkZr99JM0HvgacEBG/l/SiZN1PAfdGxF9KOgm4FlieLDuM/BhJuyR9C/hCRKxJ7lb9KflRL82awsnADNaTv6v3JuCm5LU3kB876SPJ85nA4uTxLVUSAcA9wDXJeFU3RcSApBOB2yPi9wBFf388cGby2q3JCJb7J8tWR8Su5PHrgMOSu6IB9pc0u2h4crNJcTKw6WSYsVWjhRmv3kR+noD/AvyDpFcDAs6MiN8Uv4GkY8iPFlpRRNyejHL6JuDrkj5PfhCyRhV/Tg44NiJ2T+B9zGpym4FNJ08Af5ZcffcCp5H/DSyKiNuAi4EDgNnkq2H+LhncDElH1Pshkl4KPBERXyM/cc+RwF3ACZIOSdYpVBPdAfzX5LUTgacqDH/+M/LjEhU+Y3m98ZjVwyUDmzYiYkjSp4Ffk5+W8RGgC/hmMouYgC9FxDOS/pH85DvrJeWA35NPHvU4EfiopCFgJ3BeRGxJJsn5fvJ+T5If1O1S8lVK64HngXdUeM8PAF9J1usGbgfe28j2m1XjgerMzMzVRGZm5moiswlLGpqvK3l5MCKOySIes8lwNZGZmbmayMzMnAzMzAwnAzMzw8nAzMxwMjAzM+D/AyW2mA/rlDBUAAAAAElFTkSuQmCC\n",
      "text/plain": [
       "<Figure size 432x288 with 1 Axes>"
      ]
     },
     "metadata": {
      "needs_background": "light"
     },
     "output_type": "display_data"
    }
   ],
   "source": [
    "data_PC.plot(x='user_score', y='all_sales', kind='scatter')"
   ]
  },
  {
   "cell_type": "code",
   "execution_count": 64,
   "metadata": {},
   "outputs": [
    {
     "data": {
      "text/plain": [
       "<AxesSubplot:xlabel='critic_score', ylabel='all_sales'>"
      ]
     },
     "execution_count": 64,
     "metadata": {},
     "output_type": "execute_result"
    },
    {
     "data": {
      "image/png": "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\n",
      "text/plain": [
       "<Figure size 432x288 with 1 Axes>"
      ]
     },
     "metadata": {
      "needs_background": "light"
     },
     "output_type": "display_data"
    }
   ],
   "source": [
    "data_PC.plot(x='critic_score', y='all_sales', kind='scatter')"
   ]
  },
  {
   "cell_type": "markdown",
   "metadata": {},
   "source": [
    "аналогично по платформе PC видно, что на продажи рейтинги критиков и пользователей почти не влияют "
   ]
  },
  {
   "cell_type": "markdown",
   "metadata": {},
   "source": [
    "<div class=\"alert alert-success\">\n",
    "<font size=\"4\", color= \"seagreen\"><b>✔️ Комментарий ревьюера</b></font>\n",
    "    <br /> \n",
    "    <font size=\"3\", color = \"black\">\n",
    "<br />Сравнение показателей на нескольких платформах, позволяет набрать вес твоему исследованию, молодец"
   ]
  },
  {
   "cell_type": "code",
   "execution_count": 65,
   "metadata": {},
   "outputs": [
    {
     "data": {
      "image/png": "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\n",
      "text/plain": [
       "<Figure size 864x360 with 1 Axes>"
      ]
     },
     "metadata": {
      "needs_background": "light"
     },
     "output_type": "display_data"
    }
   ],
   "source": [
    "data_actualy.boxplot(column='all_sales', by='genre', figsize=(12,5))\n",
    "plt.ylim(0,2)\n",
    "plt.title('Продажи игр по жанрам')\n",
    "plt.suptitle('')\n",
    "plt.show()"
   ]
  },
  {
   "cell_type": "markdown",
   "metadata": {},
   "source": [
    "Самый прибыльный жанр - шутер, а самые неприбыльные - приключения и пазл"
   ]
  },
  {
   "cell_type": "markdown",
   "metadata": {},
   "source": [
    "<div class=\"alert alert-warning\", style=\"border:solid coral 3px; padding: 20px\">\n",
    "<font size=\"4\", color = \"DimGrey\"><b>⚠️ Комментарий ревьюера</b></font>\n",
    "    <br /> \n",
    "    <font size=\"3\", color = \"black\">\n",
    "<br />\n",
    "        \n",
    "Для более полной оценки продаж в жанрах стоит добавить график со 100% масштабом "
   ]
  },
  {
   "cell_type": "markdown",
   "metadata": {},
   "source": [
    "<b>Шаг 4 - портрет пользователя</b>"
   ]
  },
  {
   "cell_type": "code",
   "execution_count": 66,
   "metadata": {},
   "outputs": [
    {
     "data": {
      "text/plain": [
       "array(['no_rate', 'M', 'E', 'T', 'E10+'], dtype=object)"
      ]
     },
     "execution_count": 66,
     "metadata": {},
     "output_type": "execute_result"
    }
   ],
   "source": [
    "data_actualy['rating'].unique()"
   ]
  },
  {
   "cell_type": "code",
   "execution_count": 67,
   "metadata": {},
   "outputs": [
    {
     "data": {
      "text/html": [
       "<div>\n",
       "<style scoped>\n",
       "    .dataframe tbody tr th:only-of-type {\n",
       "        vertical-align: middle;\n",
       "    }\n",
       "\n",
       "    .dataframe tbody tr th {\n",
       "        vertical-align: top;\n",
       "    }\n",
       "\n",
       "    .dataframe thead th {\n",
       "        text-align: right;\n",
       "    }\n",
       "</style>\n",
       "<table border=\"1\" class=\"dataframe\">\n",
       "  <thead>\n",
       "    <tr style=\"text-align: right;\">\n",
       "      <th></th>\n",
       "      <th>eu_sales</th>\n",
       "      <th>jp_sales</th>\n",
       "      <th>na_sales</th>\n",
       "      <th>other_sales</th>\n",
       "    </tr>\n",
       "    <tr>\n",
       "      <th>rating</th>\n",
       "      <th></th>\n",
       "      <th></th>\n",
       "      <th></th>\n",
       "      <th></th>\n",
       "    </tr>\n",
       "  </thead>\n",
       "  <tbody>\n",
       "    <tr>\n",
       "      <th>E</th>\n",
       "      <td>58.06</td>\n",
       "      <td>8.94</td>\n",
       "      <td>50.74</td>\n",
       "      <td>15.39</td>\n",
       "    </tr>\n",
       "    <tr>\n",
       "      <th>E10+</th>\n",
       "      <td>26.16</td>\n",
       "      <td>4.46</td>\n",
       "      <td>33.23</td>\n",
       "      <td>7.83</td>\n",
       "    </tr>\n",
       "    <tr>\n",
       "      <th>M</th>\n",
       "      <td>93.44</td>\n",
       "      <td>8.01</td>\n",
       "      <td>96.42</td>\n",
       "      <td>28.67</td>\n",
       "    </tr>\n",
       "    <tr>\n",
       "      <th>T</th>\n",
       "      <td>34.07</td>\n",
       "      <td>14.78</td>\n",
       "      <td>38.95</td>\n",
       "      <td>11.33</td>\n",
       "    </tr>\n",
       "    <tr>\n",
       "      <th>no_rate</th>\n",
       "      <td>58.95</td>\n",
       "      <td>56.54</td>\n",
       "      <td>64.72</td>\n",
       "      <td>18.40</td>\n",
       "    </tr>\n",
       "  </tbody>\n",
       "</table>\n",
       "</div>"
      ],
      "text/plain": [
       "         eu_sales  jp_sales  na_sales  other_sales\n",
       "rating                                            \n",
       "E           58.06      8.94     50.74        15.39\n",
       "E10+        26.16      4.46     33.23         7.83\n",
       "M           93.44      8.01     96.42        28.67\n",
       "T           34.07     14.78     38.95        11.33\n",
       "no_rate     58.95     56.54     64.72        18.40"
      ]
     },
     "execution_count": 67,
     "metadata": {},
     "output_type": "execute_result"
    }
   ],
   "source": [
    "data_actualy.query('user_score != 44.4').copy()\n",
    "data_actualy.pivot_table(index='rating', values=['na_sales', 'eu_sales', 'jp_sales', 'other_sales'], aggfunc='sum')"
   ]
  },
  {
   "cell_type": "code",
   "execution_count": 68,
   "metadata": {},
   "outputs": [
    {
     "data": {
      "text/plain": [
       "<AxesSubplot:xlabel='rating'>"
      ]
     },
     "execution_count": 68,
     "metadata": {},
     "output_type": "execute_result"
    },
    {
     "data": {
      "image/png": "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\n",
      "text/plain": [
       "<Figure size 432x288 with 1 Axes>"
      ]
     },
     "metadata": {
      "needs_background": "light"
     },
     "output_type": "display_data"
    }
   ],
   "source": [
    "data_actualy.pivot_table(index='rating', values=['na_sales', 'eu_sales', 'jp_sales', 'other_sales'], aggfunc='sum').plot()"
   ]
  },
  {
   "cell_type": "markdown",
   "metadata": {},
   "source": [
    "в Японии известные рейтинги почти не влияют на продажи или влияют, но слабо - почти прямая линия, тогда как в Европе и Америке рейтинги самые продавыемы игры имеют рейтинг - М - 18+. В Японии же игры для 13+ продаются в большем количестве, чем для 18+"
   ]
  },
  {
   "cell_type": "markdown",
   "metadata": {},
   "source": [
    "<div class=\"alert alert-danger\">\n",
    "<font size=\"4\"><b>❌ Комментарий ревьюера</b></font>\n",
    "    <br /> \n",
    "    <font size=\"3\", color = \"black\">\n",
    "<br />\n",
    "При твоем способе подсчета игры без рейтинга оказываются полностью исключенными из анализа. Но продажи именно этих игр могут указать на ключевое различие в регионах\n",
    "        \n",
    "Стоит поработать со столбцом рейтингов, заменить пропуски, посмотреть на частотность использования всех категорий рейтинга\n",
    "        \n",
    "<b>Исправил</b>"
   ]
  },
  {
   "cell_type": "code",
   "execution_count": 69,
   "metadata": {},
   "outputs": [
    {
     "data": {
      "text/html": [
       "<div>\n",
       "<style scoped>\n",
       "    .dataframe tbody tr th:only-of-type {\n",
       "        vertical-align: middle;\n",
       "    }\n",
       "\n",
       "    .dataframe tbody tr th {\n",
       "        vertical-align: top;\n",
       "    }\n",
       "\n",
       "    .dataframe thead th {\n",
       "        text-align: right;\n",
       "    }\n",
       "</style>\n",
       "<table border=\"1\" class=\"dataframe\">\n",
       "  <thead>\n",
       "    <tr style=\"text-align: right;\">\n",
       "      <th></th>\n",
       "      <th>name</th>\n",
       "      <th>platform</th>\n",
       "      <th>year_of_release</th>\n",
       "      <th>genre</th>\n",
       "      <th>na_sales</th>\n",
       "      <th>eu_sales</th>\n",
       "      <th>jp_sales</th>\n",
       "      <th>other_sales</th>\n",
       "      <th>critic_score</th>\n",
       "      <th>user_score</th>\n",
       "      <th>rating</th>\n",
       "      <th>all_sales</th>\n",
       "    </tr>\n",
       "  </thead>\n",
       "  <tbody>\n",
       "    <tr>\n",
       "      <th>31</th>\n",
       "      <td>Call of Duty: Black Ops 3</td>\n",
       "      <td>PS4</td>\n",
       "      <td>2015</td>\n",
       "      <td>Shooter</td>\n",
       "      <td>6.03</td>\n",
       "      <td>5.86</td>\n",
       "      <td>0.36</td>\n",
       "      <td>2.38</td>\n",
       "      <td>NaN</td>\n",
       "      <td>44.4</td>\n",
       "      <td>no_rate</td>\n",
       "      <td>14.63</td>\n",
       "    </tr>\n",
       "    <tr>\n",
       "      <th>42</th>\n",
       "      <td>Grand Theft Auto V</td>\n",
       "      <td>PS4</td>\n",
       "      <td>2014</td>\n",
       "      <td>Action</td>\n",
       "      <td>3.96</td>\n",
       "      <td>6.31</td>\n",
       "      <td>0.38</td>\n",
       "      <td>1.97</td>\n",
       "      <td>97.0</td>\n",
       "      <td>8.3</td>\n",
       "      <td>M</td>\n",
       "      <td>12.62</td>\n",
       "    </tr>\n",
       "    <tr>\n",
       "      <th>47</th>\n",
       "      <td>Pokemon Omega Ruby/Pokemon Alpha Sapphire</td>\n",
       "      <td>3DS</td>\n",
       "      <td>2014</td>\n",
       "      <td>Role-Playing</td>\n",
       "      <td>4.35</td>\n",
       "      <td>3.49</td>\n",
       "      <td>3.10</td>\n",
       "      <td>0.74</td>\n",
       "      <td>NaN</td>\n",
       "      <td>44.4</td>\n",
       "      <td>no_rate</td>\n",
       "      <td>11.68</td>\n",
       "    </tr>\n",
       "    <tr>\n",
       "      <th>77</th>\n",
       "      <td>FIFA 16</td>\n",
       "      <td>PS4</td>\n",
       "      <td>2015</td>\n",
       "      <td>Sports</td>\n",
       "      <td>1.12</td>\n",
       "      <td>6.12</td>\n",
       "      <td>0.06</td>\n",
       "      <td>1.28</td>\n",
       "      <td>82.0</td>\n",
       "      <td>4.3</td>\n",
       "      <td>E</td>\n",
       "      <td>8.58</td>\n",
       "    </tr>\n",
       "    <tr>\n",
       "      <th>87</th>\n",
       "      <td>Star Wars Battlefront (2015)</td>\n",
       "      <td>PS4</td>\n",
       "      <td>2015</td>\n",
       "      <td>Shooter</td>\n",
       "      <td>2.99</td>\n",
       "      <td>3.49</td>\n",
       "      <td>0.22</td>\n",
       "      <td>1.28</td>\n",
       "      <td>NaN</td>\n",
       "      <td>44.4</td>\n",
       "      <td>no_rate</td>\n",
       "      <td>7.98</td>\n",
       "    </tr>\n",
       "    <tr>\n",
       "      <th>...</th>\n",
       "      <td>...</td>\n",
       "      <td>...</td>\n",
       "      <td>...</td>\n",
       "      <td>...</td>\n",
       "      <td>...</td>\n",
       "      <td>...</td>\n",
       "      <td>...</td>\n",
       "      <td>...</td>\n",
       "      <td>...</td>\n",
       "      <td>...</td>\n",
       "      <td>...</td>\n",
       "      <td>...</td>\n",
       "    </tr>\n",
       "    <tr>\n",
       "      <th>16703</th>\n",
       "      <td>Strawberry Nauts</td>\n",
       "      <td>PSV</td>\n",
       "      <td>2016</td>\n",
       "      <td>Adventure</td>\n",
       "      <td>0.00</td>\n",
       "      <td>0.00</td>\n",
       "      <td>0.01</td>\n",
       "      <td>0.00</td>\n",
       "      <td>NaN</td>\n",
       "      <td>44.4</td>\n",
       "      <td>no_rate</td>\n",
       "      <td>0.01</td>\n",
       "    </tr>\n",
       "    <tr>\n",
       "      <th>16707</th>\n",
       "      <td>Aiyoku no Eustia</td>\n",
       "      <td>PSV</td>\n",
       "      <td>2014</td>\n",
       "      <td>Misc</td>\n",
       "      <td>0.00</td>\n",
       "      <td>0.00</td>\n",
       "      <td>0.01</td>\n",
       "      <td>0.00</td>\n",
       "      <td>NaN</td>\n",
       "      <td>44.4</td>\n",
       "      <td>no_rate</td>\n",
       "      <td>0.01</td>\n",
       "    </tr>\n",
       "    <tr>\n",
       "      <th>16710</th>\n",
       "      <td>Samurai Warriors: Sanada Maru</td>\n",
       "      <td>PS3</td>\n",
       "      <td>2016</td>\n",
       "      <td>Action</td>\n",
       "      <td>0.00</td>\n",
       "      <td>0.00</td>\n",
       "      <td>0.01</td>\n",
       "      <td>0.00</td>\n",
       "      <td>NaN</td>\n",
       "      <td>44.4</td>\n",
       "      <td>no_rate</td>\n",
       "      <td>0.01</td>\n",
       "    </tr>\n",
       "    <tr>\n",
       "      <th>16712</th>\n",
       "      <td>Haitaka no Psychedelica</td>\n",
       "      <td>PSV</td>\n",
       "      <td>2016</td>\n",
       "      <td>Adventure</td>\n",
       "      <td>0.00</td>\n",
       "      <td>0.00</td>\n",
       "      <td>0.01</td>\n",
       "      <td>0.00</td>\n",
       "      <td>NaN</td>\n",
       "      <td>44.4</td>\n",
       "      <td>no_rate</td>\n",
       "      <td>0.01</td>\n",
       "    </tr>\n",
       "    <tr>\n",
       "      <th>16714</th>\n",
       "      <td>Winning Post 8 2016</td>\n",
       "      <td>PSV</td>\n",
       "      <td>2016</td>\n",
       "      <td>Simulation</td>\n",
       "      <td>0.00</td>\n",
       "      <td>0.00</td>\n",
       "      <td>0.01</td>\n",
       "      <td>0.00</td>\n",
       "      <td>NaN</td>\n",
       "      <td>44.4</td>\n",
       "      <td>no_rate</td>\n",
       "      <td>0.01</td>\n",
       "    </tr>\n",
       "  </tbody>\n",
       "</table>\n",
       "<p>1676 rows × 12 columns</p>\n",
       "</div>"
      ],
      "text/plain": [
       "                                            name platform  year_of_release  \\\n",
       "31                     Call of Duty: Black Ops 3      PS4             2015   \n",
       "42                            Grand Theft Auto V      PS4             2014   \n",
       "47     Pokemon Omega Ruby/Pokemon Alpha Sapphire      3DS             2014   \n",
       "77                                       FIFA 16      PS4             2015   \n",
       "87                  Star Wars Battlefront (2015)      PS4             2015   \n",
       "...                                          ...      ...              ...   \n",
       "16703                           Strawberry Nauts      PSV             2016   \n",
       "16707                           Aiyoku no Eustia      PSV             2014   \n",
       "16710              Samurai Warriors: Sanada Maru      PS3             2016   \n",
       "16712                    Haitaka no Psychedelica      PSV             2016   \n",
       "16714                        Winning Post 8 2016      PSV             2016   \n",
       "\n",
       "              genre  na_sales  eu_sales  jp_sales  other_sales  critic_score  \\\n",
       "31          Shooter      6.03      5.86      0.36         2.38           NaN   \n",
       "42           Action      3.96      6.31      0.38         1.97          97.0   \n",
       "47     Role-Playing      4.35      3.49      3.10         0.74           NaN   \n",
       "77           Sports      1.12      6.12      0.06         1.28          82.0   \n",
       "87          Shooter      2.99      3.49      0.22         1.28           NaN   \n",
       "...             ...       ...       ...       ...          ...           ...   \n",
       "16703     Adventure      0.00      0.00      0.01         0.00           NaN   \n",
       "16707          Misc      0.00      0.00      0.01         0.00           NaN   \n",
       "16710        Action      0.00      0.00      0.01         0.00           NaN   \n",
       "16712     Adventure      0.00      0.00      0.01         0.00           NaN   \n",
       "16714    Simulation      0.00      0.00      0.01         0.00           NaN   \n",
       "\n",
       "       user_score   rating  all_sales  \n",
       "31           44.4  no_rate      14.63  \n",
       "42            8.3        M      12.62  \n",
       "47           44.4  no_rate      11.68  \n",
       "77            4.3        E       8.58  \n",
       "87           44.4  no_rate       7.98  \n",
       "...           ...      ...        ...  \n",
       "16703        44.4  no_rate       0.01  \n",
       "16707        44.4  no_rate       0.01  \n",
       "16710        44.4  no_rate       0.01  \n",
       "16712        44.4  no_rate       0.01  \n",
       "16714        44.4  no_rate       0.01  \n",
       "\n",
       "[1676 rows x 12 columns]"
      ]
     },
     "execution_count": 69,
     "metadata": {},
     "output_type": "execute_result"
    }
   ],
   "source": [
    "data_actualy"
   ]
  },
  {
   "cell_type": "code",
   "execution_count": 70,
   "metadata": {},
   "outputs": [
    {
     "data": {
      "text/html": [
       "<div>\n",
       "<style scoped>\n",
       "    .dataframe tbody tr th:only-of-type {\n",
       "        vertical-align: middle;\n",
       "    }\n",
       "\n",
       "    .dataframe tbody tr th {\n",
       "        vertical-align: top;\n",
       "    }\n",
       "\n",
       "    .dataframe thead th {\n",
       "        text-align: right;\n",
       "    }\n",
       "</style>\n",
       "<table border=\"1\" class=\"dataframe\">\n",
       "  <thead>\n",
       "    <tr style=\"text-align: right;\">\n",
       "      <th></th>\n",
       "      <th>eu_sales</th>\n",
       "      <th>jp_sales</th>\n",
       "      <th>na_sales</th>\n",
       "      <th>other_sales</th>\n",
       "    </tr>\n",
       "    <tr>\n",
       "      <th>platform</th>\n",
       "      <th></th>\n",
       "      <th></th>\n",
       "      <th></th>\n",
       "      <th></th>\n",
       "    </tr>\n",
       "  </thead>\n",
       "  <tbody>\n",
       "    <tr>\n",
       "      <th>3DS</th>\n",
       "      <td>16.12</td>\n",
       "      <td>44.24</td>\n",
       "      <td>22.64</td>\n",
       "      <td>3.68</td>\n",
       "    </tr>\n",
       "    <tr>\n",
       "      <th>PC</th>\n",
       "      <td>17.97</td>\n",
       "      <td>0.00</td>\n",
       "      <td>7.23</td>\n",
       "      <td>1.85</td>\n",
       "    </tr>\n",
       "    <tr>\n",
       "      <th>PS3</th>\n",
       "      <td>25.54</td>\n",
       "      <td>11.22</td>\n",
       "      <td>22.05</td>\n",
       "      <td>9.37</td>\n",
       "    </tr>\n",
       "    <tr>\n",
       "      <th>PS4</th>\n",
       "      <td>130.04</td>\n",
       "      <td>15.02</td>\n",
       "      <td>98.61</td>\n",
       "      <td>44.48</td>\n",
       "    </tr>\n",
       "    <tr>\n",
       "      <th>PSV</th>\n",
       "      <td>3.53</td>\n",
       "      <td>14.54</td>\n",
       "      <td>2.52</td>\n",
       "      <td>1.81</td>\n",
       "    </tr>\n",
       "    <tr>\n",
       "      <th>Wii</th>\n",
       "      <td>2.59</td>\n",
       "      <td>0.00</td>\n",
       "      <td>2.08</td>\n",
       "      <td>0.40</td>\n",
       "    </tr>\n",
       "    <tr>\n",
       "      <th>WiiU</th>\n",
       "      <td>13.15</td>\n",
       "      <td>7.31</td>\n",
       "      <td>19.36</td>\n",
       "      <td>3.16</td>\n",
       "    </tr>\n",
       "    <tr>\n",
       "      <th>X360</th>\n",
       "      <td>15.49</td>\n",
       "      <td>0.08</td>\n",
       "      <td>28.30</td>\n",
       "      <td>4.35</td>\n",
       "    </tr>\n",
       "    <tr>\n",
       "      <th>XOne</th>\n",
       "      <td>46.25</td>\n",
       "      <td>0.32</td>\n",
       "      <td>81.27</td>\n",
       "      <td>12.52</td>\n",
       "    </tr>\n",
       "  </tbody>\n",
       "</table>\n",
       "</div>"
      ],
      "text/plain": [
       "          eu_sales  jp_sales  na_sales  other_sales\n",
       "platform                                           \n",
       "3DS          16.12     44.24     22.64         3.68\n",
       "PC           17.97      0.00      7.23         1.85\n",
       "PS3          25.54     11.22     22.05         9.37\n",
       "PS4         130.04     15.02     98.61        44.48\n",
       "PSV           3.53     14.54      2.52         1.81\n",
       "Wii           2.59      0.00      2.08         0.40\n",
       "WiiU         13.15      7.31     19.36         3.16\n",
       "X360         15.49      0.08     28.30         4.35\n",
       "XOne         46.25      0.32     81.27        12.52"
      ]
     },
     "execution_count": 70,
     "metadata": {},
     "output_type": "execute_result"
    }
   ],
   "source": [
    "data_actualy.pivot_table(index='platform', values=['na_sales', 'eu_sales', 'jp_sales', 'other_sales'], aggfunc='sum')"
   ]
  },
  {
   "cell_type": "code",
   "execution_count": 71,
   "metadata": {},
   "outputs": [
    {
     "data": {
      "text/html": [
       "<div>\n",
       "<style scoped>\n",
       "    .dataframe tbody tr th:only-of-type {\n",
       "        vertical-align: middle;\n",
       "    }\n",
       "\n",
       "    .dataframe tbody tr th {\n",
       "        vertical-align: top;\n",
       "    }\n",
       "\n",
       "    .dataframe thead th {\n",
       "        text-align: right;\n",
       "    }\n",
       "</style>\n",
       "<table border=\"1\" class=\"dataframe\">\n",
       "  <thead>\n",
       "    <tr style=\"text-align: right;\">\n",
       "      <th></th>\n",
       "      <th>na_sales</th>\n",
       "      <th>proportion</th>\n",
       "    </tr>\n",
       "    <tr>\n",
       "      <th>platform</th>\n",
       "      <th></th>\n",
       "      <th></th>\n",
       "    </tr>\n",
       "  </thead>\n",
       "  <tbody>\n",
       "    <tr>\n",
       "      <th>PS4</th>\n",
       "      <td>98.61</td>\n",
       "      <td>0.389963</td>\n",
       "    </tr>\n",
       "    <tr>\n",
       "      <th>XOne</th>\n",
       "      <td>81.27</td>\n",
       "      <td>0.321390</td>\n",
       "    </tr>\n",
       "    <tr>\n",
       "      <th>X360</th>\n",
       "      <td>28.30</td>\n",
       "      <td>0.111915</td>\n",
       "    </tr>\n",
       "    <tr>\n",
       "      <th>3DS</th>\n",
       "      <td>22.64</td>\n",
       "      <td>0.089532</td>\n",
       "    </tr>\n",
       "    <tr>\n",
       "      <th>PS3</th>\n",
       "      <td>22.05</td>\n",
       "      <td>0.087199</td>\n",
       "    </tr>\n",
       "  </tbody>\n",
       "</table>\n",
       "</div>"
      ],
      "text/plain": [
       "          na_sales  proportion\n",
       "platform                      \n",
       "PS4          98.61    0.389963\n",
       "XOne         81.27    0.321390\n",
       "X360         28.30    0.111915\n",
       "3DS          22.64    0.089532\n",
       "PS3          22.05    0.087199"
      ]
     },
     "execution_count": 71,
     "metadata": {},
     "output_type": "execute_result"
    }
   ],
   "source": [
    "stat_na = data_actualy.pivot_table(index='platform', values=['na_sales'], \n",
    "                         aggfunc='sum').sort_values(by='na_sales', ascending=False).head(5)\n",
    "stat_na['proportion'] = stat_na['na_sales'] / stat_na['na_sales'].sum() \n",
    "stat_na"
   ]
  },
  {
   "cell_type": "code",
   "execution_count": 72,
   "metadata": {},
   "outputs": [
    {
     "data": {
      "text/html": [
       "<div>\n",
       "<style scoped>\n",
       "    .dataframe tbody tr th:only-of-type {\n",
       "        vertical-align: middle;\n",
       "    }\n",
       "\n",
       "    .dataframe tbody tr th {\n",
       "        vertical-align: top;\n",
       "    }\n",
       "\n",
       "    .dataframe thead th {\n",
       "        text-align: right;\n",
       "    }\n",
       "</style>\n",
       "<table border=\"1\" class=\"dataframe\">\n",
       "  <thead>\n",
       "    <tr style=\"text-align: right;\">\n",
       "      <th></th>\n",
       "      <th>eu_sales</th>\n",
       "      <th>proportion</th>\n",
       "    </tr>\n",
       "    <tr>\n",
       "      <th>platform</th>\n",
       "      <th></th>\n",
       "      <th></th>\n",
       "    </tr>\n",
       "  </thead>\n",
       "  <tbody>\n",
       "    <tr>\n",
       "      <th>PS4</th>\n",
       "      <td>130.04</td>\n",
       "      <td>0.551204</td>\n",
       "    </tr>\n",
       "    <tr>\n",
       "      <th>XOne</th>\n",
       "      <td>46.25</td>\n",
       "      <td>0.196041</td>\n",
       "    </tr>\n",
       "    <tr>\n",
       "      <th>PS3</th>\n",
       "      <td>25.54</td>\n",
       "      <td>0.108257</td>\n",
       "    </tr>\n",
       "    <tr>\n",
       "      <th>PC</th>\n",
       "      <td>17.97</td>\n",
       "      <td>0.076170</td>\n",
       "    </tr>\n",
       "    <tr>\n",
       "      <th>3DS</th>\n",
       "      <td>16.12</td>\n",
       "      <td>0.068328</td>\n",
       "    </tr>\n",
       "  </tbody>\n",
       "</table>\n",
       "</div>"
      ],
      "text/plain": [
       "          eu_sales  proportion\n",
       "platform                      \n",
       "PS4         130.04    0.551204\n",
       "XOne         46.25    0.196041\n",
       "PS3          25.54    0.108257\n",
       "PC           17.97    0.076170\n",
       "3DS          16.12    0.068328"
      ]
     },
     "execution_count": 72,
     "metadata": {},
     "output_type": "execute_result"
    }
   ],
   "source": [
    "stat_eu = data_actualy.pivot_table(index='platform', values=['eu_sales'], \n",
    "                         aggfunc='sum').sort_values(by='eu_sales', ascending=False).head(5)\n",
    "stat_eu['proportion'] = stat_eu['eu_sales'] / stat_eu['eu_sales'].sum() \n",
    "stat_eu"
   ]
  },
  {
   "cell_type": "code",
   "execution_count": 73,
   "metadata": {
    "scrolled": true
   },
   "outputs": [
    {
     "data": {
      "text/html": [
       "<div>\n",
       "<style scoped>\n",
       "    .dataframe tbody tr th:only-of-type {\n",
       "        vertical-align: middle;\n",
       "    }\n",
       "\n",
       "    .dataframe tbody tr th {\n",
       "        vertical-align: top;\n",
       "    }\n",
       "\n",
       "    .dataframe thead th {\n",
       "        text-align: right;\n",
       "    }\n",
       "</style>\n",
       "<table border=\"1\" class=\"dataframe\">\n",
       "  <thead>\n",
       "    <tr style=\"text-align: right;\">\n",
       "      <th></th>\n",
       "      <th>jp_sales</th>\n",
       "      <th>proportion</th>\n",
       "    </tr>\n",
       "    <tr>\n",
       "      <th>platform</th>\n",
       "      <th></th>\n",
       "      <th></th>\n",
       "    </tr>\n",
       "  </thead>\n",
       "  <tbody>\n",
       "    <tr>\n",
       "      <th>3DS</th>\n",
       "      <td>44.24</td>\n",
       "      <td>0.479151</td>\n",
       "    </tr>\n",
       "    <tr>\n",
       "      <th>PS4</th>\n",
       "      <td>15.02</td>\n",
       "      <td>0.162677</td>\n",
       "    </tr>\n",
       "    <tr>\n",
       "      <th>PSV</th>\n",
       "      <td>14.54</td>\n",
       "      <td>0.157479</td>\n",
       "    </tr>\n",
       "    <tr>\n",
       "      <th>PS3</th>\n",
       "      <td>11.22</td>\n",
       "      <td>0.121521</td>\n",
       "    </tr>\n",
       "    <tr>\n",
       "      <th>WiiU</th>\n",
       "      <td>7.31</td>\n",
       "      <td>0.079173</td>\n",
       "    </tr>\n",
       "  </tbody>\n",
       "</table>\n",
       "</div>"
      ],
      "text/plain": [
       "          jp_sales  proportion\n",
       "platform                      \n",
       "3DS          44.24    0.479151\n",
       "PS4          15.02    0.162677\n",
       "PSV          14.54    0.157479\n",
       "PS3          11.22    0.121521\n",
       "WiiU          7.31    0.079173"
      ]
     },
     "execution_count": 73,
     "metadata": {},
     "output_type": "execute_result"
    }
   ],
   "source": [
    "stat_jp = data_actualy.pivot_table(index='platform', values=['jp_sales'], \n",
    "                         aggfunc='sum').sort_values(by='jp_sales', ascending=False).head(5)\n",
    "stat_jp['proportion'] = stat_jp['jp_sales'] / stat_jp['jp_sales'].sum() \n",
    "stat_jp"
   ]
  },
  {
   "cell_type": "markdown",
   "metadata": {},
   "source": [
    "мы видим, что предпочтения игрков из Европы и США - почти совпадают. Небольшие различия есть в модели приставок - PS4 или PS3. Но более 50% японских пользователей отдают предпочтение Nitendo - 3DS, тогда как в Европе и Америке эта платформа занимает только 5-е место."
   ]
  },
  {
   "cell_type": "code",
   "execution_count": 74,
   "metadata": {},
   "outputs": [
    {
     "data": {
      "image/png": "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\n",
      "text/plain": [
       "<Figure size 1008x504 with 3 Axes>"
      ]
     },
     "metadata": {
      "needs_background": "light"
     },
     "output_type": "display_data"
    }
   ],
   "source": [
    "fig = plt.figure(figsize=(14, 7))\n",
    "\n",
    "fig.suptitle('Продажи по разным платформам в США, Европе и Японии', fontsize=16)\n",
    "\n",
    "ax_1 = fig.add_subplot(3, 2, 1)\n",
    "ax_2 = fig.add_subplot(3, 2, 4)\n",
    "ax_3 = fig.add_subplot(3, 2, 5)\n",
    "\n",
    "#  Методы, отображающие данные:\n",
    "\n",
    "#  Добавление заголовков:\n",
    "ax_1.set(title = 'Продажи в Японии')\n",
    "ax_2.set(title = 'Продажи в Европе')\n",
    "ax_3.set(title = 'Продажи в США')\n",
    "\n",
    "\n",
    "ax_1.plot(stat_jp['jp_sales'])\n",
    "ax_2.plot(stat_eu['eu_sales'])\n",
    "ax_3.plot(stat_na['na_sales'])\n",
    "\n",
    "\n",
    "\n",
    "\n",
    "plt.show()"
   ]
  },
  {
   "cell_type": "code",
   "execution_count": 75,
   "metadata": {},
   "outputs": [
    {
     "data": {
      "text/html": [
       "<div>\n",
       "<style scoped>\n",
       "    .dataframe tbody tr th:only-of-type {\n",
       "        vertical-align: middle;\n",
       "    }\n",
       "\n",
       "    .dataframe tbody tr th {\n",
       "        vertical-align: top;\n",
       "    }\n",
       "\n",
       "    .dataframe thead th {\n",
       "        text-align: right;\n",
       "    }\n",
       "</style>\n",
       "<table border=\"1\" class=\"dataframe\">\n",
       "  <thead>\n",
       "    <tr style=\"text-align: right;\">\n",
       "      <th></th>\n",
       "      <th>eu_sales</th>\n",
       "      <th>jp_sales</th>\n",
       "      <th>na_sales</th>\n",
       "      <th>other_sales</th>\n",
       "    </tr>\n",
       "    <tr>\n",
       "      <th>genre</th>\n",
       "      <th></th>\n",
       "      <th></th>\n",
       "      <th></th>\n",
       "      <th></th>\n",
       "    </tr>\n",
       "  </thead>\n",
       "  <tbody>\n",
       "    <tr>\n",
       "      <th>Action</th>\n",
       "      <td>74.68</td>\n",
       "      <td>29.38</td>\n",
       "      <td>72.53</td>\n",
       "      <td>22.57</td>\n",
       "    </tr>\n",
       "    <tr>\n",
       "      <th>Adventure</th>\n",
       "      <td>6.49</td>\n",
       "      <td>3.55</td>\n",
       "      <td>5.64</td>\n",
       "      <td>1.82</td>\n",
       "    </tr>\n",
       "    <tr>\n",
       "      <th>Fighting</th>\n",
       "      <td>6.69</td>\n",
       "      <td>6.37</td>\n",
       "      <td>12.43</td>\n",
       "      <td>2.73</td>\n",
       "    </tr>\n",
       "    <tr>\n",
       "      <th>Misc</th>\n",
       "      <td>12.86</td>\n",
       "      <td>5.59</td>\n",
       "      <td>15.05</td>\n",
       "      <td>4.03</td>\n",
       "    </tr>\n",
       "    <tr>\n",
       "      <th>Platform</th>\n",
       "      <td>6.80</td>\n",
       "      <td>2.69</td>\n",
       "      <td>6.79</td>\n",
       "      <td>1.81</td>\n",
       "    </tr>\n",
       "    <tr>\n",
       "      <th>Puzzle</th>\n",
       "      <td>0.52</td>\n",
       "      <td>0.93</td>\n",
       "      <td>0.65</td>\n",
       "      <td>0.11</td>\n",
       "    </tr>\n",
       "    <tr>\n",
       "      <th>Racing</th>\n",
       "      <td>14.13</td>\n",
       "      <td>1.76</td>\n",
       "      <td>8.74</td>\n",
       "      <td>2.89</td>\n",
       "    </tr>\n",
       "    <tr>\n",
       "      <th>Role-Playing</th>\n",
       "      <td>28.17</td>\n",
       "      <td>31.16</td>\n",
       "      <td>33.47</td>\n",
       "      <td>8.64</td>\n",
       "    </tr>\n",
       "    <tr>\n",
       "      <th>Shooter</th>\n",
       "      <td>65.52</td>\n",
       "      <td>4.87</td>\n",
       "      <td>79.02</td>\n",
       "      <td>21.53</td>\n",
       "    </tr>\n",
       "    <tr>\n",
       "      <th>Simulation</th>\n",
       "      <td>7.30</td>\n",
       "      <td>2.31</td>\n",
       "      <td>2.63</td>\n",
       "      <td>0.89</td>\n",
       "    </tr>\n",
       "    <tr>\n",
       "      <th>Sports</th>\n",
       "      <td>45.73</td>\n",
       "      <td>3.17</td>\n",
       "      <td>46.13</td>\n",
       "      <td>14.36</td>\n",
       "    </tr>\n",
       "    <tr>\n",
       "      <th>Strategy</th>\n",
       "      <td>1.79</td>\n",
       "      <td>0.95</td>\n",
       "      <td>0.98</td>\n",
       "      <td>0.24</td>\n",
       "    </tr>\n",
       "  </tbody>\n",
       "</table>\n",
       "</div>"
      ],
      "text/plain": [
       "              eu_sales  jp_sales  na_sales  other_sales\n",
       "genre                                                  \n",
       "Action           74.68     29.38     72.53        22.57\n",
       "Adventure         6.49      3.55      5.64         1.82\n",
       "Fighting          6.69      6.37     12.43         2.73\n",
       "Misc             12.86      5.59     15.05         4.03\n",
       "Platform          6.80      2.69      6.79         1.81\n",
       "Puzzle            0.52      0.93      0.65         0.11\n",
       "Racing           14.13      1.76      8.74         2.89\n",
       "Role-Playing     28.17     31.16     33.47         8.64\n",
       "Shooter          65.52      4.87     79.02        21.53\n",
       "Simulation        7.30      2.31      2.63         0.89\n",
       "Sports           45.73      3.17     46.13        14.36\n",
       "Strategy          1.79      0.95      0.98         0.24"
      ]
     },
     "execution_count": 75,
     "metadata": {},
     "output_type": "execute_result"
    }
   ],
   "source": [
    "data_actualy.pivot_table(index='genre', values=['na_sales', 'eu_sales', 'jp_sales', 'other_sales'], aggfunc='sum')"
   ]
  },
  {
   "cell_type": "code",
   "execution_count": 76,
   "metadata": {},
   "outputs": [
    {
     "data": {
      "text/html": [
       "<div>\n",
       "<style scoped>\n",
       "    .dataframe tbody tr th:only-of-type {\n",
       "        vertical-align: middle;\n",
       "    }\n",
       "\n",
       "    .dataframe tbody tr th {\n",
       "        vertical-align: top;\n",
       "    }\n",
       "\n",
       "    .dataframe thead th {\n",
       "        text-align: right;\n",
       "    }\n",
       "</style>\n",
       "<table border=\"1\" class=\"dataframe\">\n",
       "  <thead>\n",
       "    <tr style=\"text-align: right;\">\n",
       "      <th></th>\n",
       "      <th>na_sales</th>\n",
       "      <th>proportion</th>\n",
       "    </tr>\n",
       "    <tr>\n",
       "      <th>genre</th>\n",
       "      <th></th>\n",
       "      <th></th>\n",
       "    </tr>\n",
       "  </thead>\n",
       "  <tbody>\n",
       "    <tr>\n",
       "      <th>Shooter</th>\n",
       "      <td>79.02</td>\n",
       "      <td>0.320959</td>\n",
       "    </tr>\n",
       "    <tr>\n",
       "      <th>Action</th>\n",
       "      <td>72.53</td>\n",
       "      <td>0.294598</td>\n",
       "    </tr>\n",
       "    <tr>\n",
       "      <th>Sports</th>\n",
       "      <td>46.13</td>\n",
       "      <td>0.187368</td>\n",
       "    </tr>\n",
       "    <tr>\n",
       "      <th>Role-Playing</th>\n",
       "      <td>33.47</td>\n",
       "      <td>0.135946</td>\n",
       "    </tr>\n",
       "    <tr>\n",
       "      <th>Misc</th>\n",
       "      <td>15.05</td>\n",
       "      <td>0.061129</td>\n",
       "    </tr>\n",
       "  </tbody>\n",
       "</table>\n",
       "</div>"
      ],
      "text/plain": [
       "              na_sales  proportion\n",
       "genre                             \n",
       "Shooter          79.02    0.320959\n",
       "Action           72.53    0.294598\n",
       "Sports           46.13    0.187368\n",
       "Role-Playing     33.47    0.135946\n",
       "Misc             15.05    0.061129"
      ]
     },
     "execution_count": 76,
     "metadata": {},
     "output_type": "execute_result"
    }
   ],
   "source": [
    "stat_genre_na = data_actualy.pivot_table(index='genre', values=['na_sales'], \n",
    "                         aggfunc='sum').sort_values(by='na_sales', ascending=False).head(5)\n",
    "stat_genre_na['proportion'] = stat_genre_na['na_sales'] / stat_genre_na['na_sales'].sum() \n",
    "stat_genre_na"
   ]
  },
  {
   "cell_type": "code",
   "execution_count": 77,
   "metadata": {},
   "outputs": [
    {
     "data": {
      "text/html": [
       "<div>\n",
       "<style scoped>\n",
       "    .dataframe tbody tr th:only-of-type {\n",
       "        vertical-align: middle;\n",
       "    }\n",
       "\n",
       "    .dataframe tbody tr th {\n",
       "        vertical-align: top;\n",
       "    }\n",
       "\n",
       "    .dataframe thead th {\n",
       "        text-align: right;\n",
       "    }\n",
       "</style>\n",
       "<table border=\"1\" class=\"dataframe\">\n",
       "  <thead>\n",
       "    <tr style=\"text-align: right;\">\n",
       "      <th></th>\n",
       "      <th>eu_sales</th>\n",
       "      <th>proportion</th>\n",
       "    </tr>\n",
       "    <tr>\n",
       "      <th>genre</th>\n",
       "      <th></th>\n",
       "      <th></th>\n",
       "    </tr>\n",
       "  </thead>\n",
       "  <tbody>\n",
       "    <tr>\n",
       "      <th>Action</th>\n",
       "      <td>74.68</td>\n",
       "      <td>0.327214</td>\n",
       "    </tr>\n",
       "    <tr>\n",
       "      <th>Shooter</th>\n",
       "      <td>65.52</td>\n",
       "      <td>0.287079</td>\n",
       "    </tr>\n",
       "    <tr>\n",
       "      <th>Sports</th>\n",
       "      <td>45.73</td>\n",
       "      <td>0.200368</td>\n",
       "    </tr>\n",
       "    <tr>\n",
       "      <th>Role-Playing</th>\n",
       "      <td>28.17</td>\n",
       "      <td>0.123428</td>\n",
       "    </tr>\n",
       "    <tr>\n",
       "      <th>Racing</th>\n",
       "      <td>14.13</td>\n",
       "      <td>0.061911</td>\n",
       "    </tr>\n",
       "  </tbody>\n",
       "</table>\n",
       "</div>"
      ],
      "text/plain": [
       "              eu_sales  proportion\n",
       "genre                             \n",
       "Action           74.68    0.327214\n",
       "Shooter          65.52    0.287079\n",
       "Sports           45.73    0.200368\n",
       "Role-Playing     28.17    0.123428\n",
       "Racing           14.13    0.061911"
      ]
     },
     "execution_count": 77,
     "metadata": {},
     "output_type": "execute_result"
    }
   ],
   "source": [
    "stat_genre_eu = data_actualy.pivot_table(index='genre', values=['eu_sales'], \n",
    "                         aggfunc='sum').sort_values(by='eu_sales', ascending=False).head(5)\n",
    "stat_genre_eu['proportion'] = stat_genre_eu['eu_sales'] / stat_genre_eu['eu_sales'].sum() \n",
    "stat_genre_eu"
   ]
  },
  {
   "cell_type": "code",
   "execution_count": 78,
   "metadata": {},
   "outputs": [
    {
     "data": {
      "text/html": [
       "<div>\n",
       "<style scoped>\n",
       "    .dataframe tbody tr th:only-of-type {\n",
       "        vertical-align: middle;\n",
       "    }\n",
       "\n",
       "    .dataframe tbody tr th {\n",
       "        vertical-align: top;\n",
       "    }\n",
       "\n",
       "    .dataframe thead th {\n",
       "        text-align: right;\n",
       "    }\n",
       "</style>\n",
       "<table border=\"1\" class=\"dataframe\">\n",
       "  <thead>\n",
       "    <tr style=\"text-align: right;\">\n",
       "      <th></th>\n",
       "      <th>jp_sales</th>\n",
       "      <th>proportion</th>\n",
       "    </tr>\n",
       "    <tr>\n",
       "      <th>genre</th>\n",
       "      <th></th>\n",
       "      <th></th>\n",
       "    </tr>\n",
       "  </thead>\n",
       "  <tbody>\n",
       "    <tr>\n",
       "      <th>Role-Playing</th>\n",
       "      <td>31.16</td>\n",
       "      <td>0.402740</td>\n",
       "    </tr>\n",
       "    <tr>\n",
       "      <th>Action</th>\n",
       "      <td>29.38</td>\n",
       "      <td>0.379734</td>\n",
       "    </tr>\n",
       "    <tr>\n",
       "      <th>Fighting</th>\n",
       "      <td>6.37</td>\n",
       "      <td>0.082332</td>\n",
       "    </tr>\n",
       "    <tr>\n",
       "      <th>Misc</th>\n",
       "      <td>5.59</td>\n",
       "      <td>0.072250</td>\n",
       "    </tr>\n",
       "    <tr>\n",
       "      <th>Shooter</th>\n",
       "      <td>4.87</td>\n",
       "      <td>0.062944</td>\n",
       "    </tr>\n",
       "  </tbody>\n",
       "</table>\n",
       "</div>"
      ],
      "text/plain": [
       "              jp_sales  proportion\n",
       "genre                             \n",
       "Role-Playing     31.16    0.402740\n",
       "Action           29.38    0.379734\n",
       "Fighting          6.37    0.082332\n",
       "Misc              5.59    0.072250\n",
       "Shooter           4.87    0.062944"
      ]
     },
     "execution_count": 78,
     "metadata": {},
     "output_type": "execute_result"
    }
   ],
   "source": [
    "stat_genre_jp = data_actualy.pivot_table(index='genre', values=['jp_sales'], \n",
    "                         aggfunc='sum').sort_values(by='jp_sales', ascending=False).head(5)\n",
    "stat_genre_jp['proportion'] = stat_genre_jp['jp_sales'] / stat_genre_jp['jp_sales'].sum() \n",
    "stat_genre_jp"
   ]
  },
  {
   "cell_type": "code",
   "execution_count": 79,
   "metadata": {},
   "outputs": [
    {
     "data": {
      "image/png": "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\n",
      "text/plain": [
       "<Figure size 1008x504 with 3 Axes>"
      ]
     },
     "metadata": {
      "needs_background": "light"
     },
     "output_type": "display_data"
    }
   ],
   "source": [
    "fig = plt.figure(figsize=(14, 7))\n",
    "\n",
    "fig.suptitle('Продажи по разным жанрам в США, Европе и Японии', fontsize=16)\n",
    "\n",
    "ax_1 = fig.add_subplot(3, 2, 1)\n",
    "ax_2 = fig.add_subplot(3, 2, 4)\n",
    "ax_3 = fig.add_subplot(3, 2, 5)\n",
    "\n",
    "#  Методы, отображающие данные:\n",
    "\n",
    "#  Добавление заголовков:\n",
    "ax_1.set(title = 'Продажи в Японии')\n",
    "ax_2.set(title = 'Продажи в Европе')\n",
    "ax_3.set(title = 'Продажи в США')\n",
    "\n",
    "\n",
    "ax_1.plot(stat_genre_jp['jp_sales'])\n",
    "ax_2.plot(stat_genre_eu['eu_sales'])\n",
    "ax_3.plot(stat_genre_na['na_sales'])\n",
    "\n",
    "\n",
    "\n",
    "\n",
    "plt.show()"
   ]
  },
  {
   "cell_type": "markdown",
   "metadata": {},
   "source": [
    "И снова мы видим, что жанровые предпочтения пользователей сильно различаются - с одной стороны пользователи из Европы и Америки - их вкусы практичсеки совпадают, а с другой - игроки из Японии, у которых на первом месте стоит Role-playing. Тогда как у первой группы пользователей этот жанр находится только на 4-м месте."
   ]
  },
  {
   "cell_type": "markdown",
   "metadata": {},
   "source": [
    "<div class=\"alert alert-danger\">\n",
    "<font size=\"4\"><b>❌ Комментарий ревьюера</b></font>\n",
    "    <br /> \n",
    "    <font size=\"3\", color = \"black\">\n",
    "<br /> Портреты клиентов рассчитаны, молодец, сильное влияние на портрет оказывает период с 2010 г. ..., можем совершить ошибку при формировании рекомендации маркетологам\n",
    "        \n",
    "Стоит оформить графики раздела TOП-5:\n",
    "\n",
    "+ для каждого ТОП-5 - построить 3 графика рядом с помощью subplots, оптимальнее сравнивать три региона по каждому виду портрета вместе;\n",
    "+ оформить \"двухуровневый заголовок\" - и у всех трех графиков вместе, и у каждого из трех по отдельности;\n",
    "+ при анализе платформ и жанров стоит все, что не вошло в ТОП-5, объединять в категорию \"другие\" - так картина анализа будет более полной\n",
    "\n",
    "        \n",
    "Если столкнешься с трудностью выполнения данного пункта — присылай код, который не получился и вопрос, подумаем вместе\n",
    "        \n",
    "https://nagornyy.me/it/vizualizatsiia-dannykh-v-matplotlib/?ysclid=l4q3l4q0p8940570437\n",
    "    \n",
    "https://pandas.pydata.org/pandas-docs/stable/reference/api/pandas.DataFrame.append.html?highlight=append#pandas.DataFrame.append\n",
    "        \n",
    "<b>Исправил</b>"
   ]
  },
  {
   "cell_type": "markdown",
   "metadata": {},
   "source": [
    "<b>Шаг 5 - гипотезы</b>"
   ]
  },
  {
   "cell_type": "markdown",
   "metadata": {},
   "source": [
    "Нулевая гипотеза - рейтинги XOne и PC - одинаковые, ненулевая гипотеза - рейтинги разные"
   ]
  },
  {
   "cell_type": "markdown",
   "metadata": {},
   "source": [
    "<div class=\"alert alert-success\">\n",
    "<font size=\"4\", color= \"seagreen\"><b>✔️ Комментарий ревьюера</b></font>\n",
    "    <br /> \n",
    "    <font size=\"3\", color = \"black\">\n",
    "<br /> гипотезы сформулированы верно"
   ]
  },
  {
   "cell_type": "markdown",
   "metadata": {},
   "source": [
    "<div class=\"alert alert-warning\", style=\"border:solid coral 3px; padding: 20px\">\n",
    "<font size=\"4\", color = \"DimGrey\"><b>⚠️ Комментарий ревьюера</b></font>\n",
    "    <br /> \n",
    "    <font size=\"3\", color = \"black\">\n",
    "<br />импорт библиотек стоит выносить на первые строки проекта, так коллегам будет удобнее настроить свои рабочие места под наши требования\n",
    "        \n",
    "<b>Исправлено</b>"
   ]
  },
  {
   "cell_type": "code",
   "execution_count": 80,
   "metadata": {},
   "outputs": [
    {
     "name": "stdout",
     "output_type": "stream",
     "text": [
      "0.045583036685321016\n"
     ]
    }
   ],
   "source": [
    "#data_actualy_tbd = data_actualy.query('user_score != 777')\n",
    "\n",
    "XOne_user_score = data_actualy[data_actualy['platform'] == 'XOne']['user_score']\n",
    "PC_user_score = data_actualy[data_actualy['platform'] == 'PC']['user_score']\n",
    "\n",
    "alpha = 0.05\n",
    "results = st.ttest_ind(XOne_user_score, PC_user_score)\n",
    "\n",
    "print(results.pvalue) "
   ]
  },
  {
   "cell_type": "markdown",
   "metadata": {},
   "source": [
    "p.value оказался менее 0.05, поэтому мы отвергаем нулевую гипотезу, что рейтинги платформ XOne и PC - одинаковые"
   ]
  },
  {
   "cell_type": "markdown",
   "metadata": {},
   "source": [
    "<div class=\"alert alert-success\">\n",
    "<font size=\"4\", color= \"seagreen\"><b>✔️ Комментарий ревьюера</b></font>\n",
    "    <br /> \n",
    "    <font size=\"3\", color = \"black\">\n",
    "<br /> важно удалить пропуски и «заглушки» перед проведением теста, молодец"
   ]
  },
  {
   "cell_type": "markdown",
   "metadata": {},
   "source": [
    "<div class=\"alert alert-danger\">\n",
    "<font size=\"4\"><b>❌ Комментарий ревьюера</b></font>\n",
    "    <br /> \n",
    "    <font size=\"3\", color = \"black\">\n",
    "<br />\n",
    "стоит выравнивать периоды использования платформ, одна из приставок вышла на рынок совсем недавно ..."
   ]
  },
  {
   "cell_type": "markdown",
   "metadata": {},
   "source": [
    "<div class=\"alert alert-danger\">\n",
    "<font size=\"4\"><b>❌ Комментарий ревьюера</b></font>\n",
    "    <br /> \n",
    "    <font size=\"3\", color = \"black\">\n",
    "<br /> Что означает на языке статистики p-значение: 0.6267602271422398"
   ]
  },
  {
   "cell_type": "markdown",
   "metadata": {},
   "source": [
    "Нулевая гипотеза - рейтинги жанров Action и Sports - одинаковые, ненулевая гипотеза - рейтинги разные"
   ]
  },
  {
   "cell_type": "code",
   "execution_count": 81,
   "metadata": {},
   "outputs": [
    {
     "name": "stdout",
     "output_type": "stream",
     "text": [
      "8.508618628679105e-15\n"
     ]
    }
   ],
   "source": [
    "Action_user_score = data_actualy[data_actualy['genre'] == 'Action']['user_score']\n",
    "Sports_user_score = data_actualy[data_actualy['genre'] == 'Sports']['user_score']\n",
    "\n",
    "alpha = 0.05\n",
    "results = st.ttest_ind(Action_user_score, Sports_user_score)\n",
    "\n",
    "print(results.pvalue) "
   ]
  },
  {
   "cell_type": "markdown",
   "metadata": {},
   "source": [
    "отвергаем нулевую гипотезу, что рейтинги жанров Action и Sports - одинаковые"
   ]
  },
  {
   "cell_type": "markdown",
   "metadata": {},
   "source": [
    "<div style=\"border:solid steelblue 3px; padding: 20px\">\n",
    "<font size=\"4\">🍕<b> Комментарий ревьюера</b></font>\n",
    "<br /> \n",
    "<font size=\"3\", color = \"black\">\n",
    "<br />\n",
    "    \n",
    "    /tmp/ipykernel_1032/268736057.py:1: UserWarning: Boolean Series key will be reindexed to match DataFrame index.\n",
    "      Action_user_score = data_actualy_tbd[data_actualy['genre'] == 'Action']['user_score']\n",
    "    /tmp/ipykernel_1032/268736057.py:2: UserWarning: Boolean Series key will be reindexed to match DataFrame index.\n",
    "      Sports_user_score = data_actualy_tbd[data_actualy['genre'] == 'Sports']['user_score']\n",
    "    \n",
    "    \n",
    "позволит избежат ошибки фильтрация условия в одном и том же датасете    \n",
    "    \n",
    "    Action_user_score = data_actualy_tbd[data_actualy_tbd['genre'] == 'Action']['user_score']\n",
    "    \n",
    "    Action_user_score = data_actualy_tbd[data_actualy['genre'] == 'Action']['user_score']"
   ]
  },
  {
   "cell_type": "markdown",
   "metadata": {},
   "source": [
    "<b>Выводы</b>\n",
    "\n",
    "Мы узнали, что средний срок жизни одной платформы - порядка 10 лет, потом она \"умирает\". Исключение составляет только PC, что и логично, так как люди пользовались и будут продолжать пользоваться персональными компьютерами. Благодаря большому массиву данных мы смогли выбрать популярную платформу, которой оказалась PS4 - ее показатели оказались лучшими среди остальных платформ.\n",
    "\n",
    "При этом стоит оговорится, все зависит от того на какую аудиторию вы планируете направить свои усилия. Если речь идет о Японии, то там пользовательские предпочтения сильно отличаются от американских и европейских. \n",
    "\n",
    "Также заметно, что индустрия игровых платформ находится в упадке и продажи падают: кто-то больще, кто меньше, но общий тренд - снижение числа продаж.\n",
    "\n",
    "Из жанров самым популярным оказался шуттер. Но опять-таки если рассматривать отдельно Японию, то там самый популярный жанр - игра за главного героя. Что тоже необходимо учитывать, если вы решите продавать свои игры на японском рынке.\n",
    "\n",
    "Также стало неожиданностью, что пользовательские рейтинги и рейтинг критиков если и влияют на продажи, то довольно слабо. При этом пользовательские рейтинги почти совсем не влияют, а рейтинги критиков имеют немного больше влияния, но его все равно нельзя назвать существенным.\n",
    "\n",
    "Также не подвтердидись гипотезы, что рейтинги жанров Action и Sports и платформ XOne и PC -  одинаковые. "
   ]
  },
  {
   "cell_type": "markdown",
   "metadata": {
    "id": "5DJMblQvJCrC"
   },
   "source": [
    "<div class=\"alert alert-danger\">\n",
    "<font size=\"4\"><b>❌ Комментарий ревьюера</b></font>\n",
    "    <br /> \n",
    "    <font size=\"3\", color = \"black\">\n",
    "<br />Итоговый вывод технически составлен грамотно, можно добавить больше цифр, для сравнения рынков\n",
    "        \n",
    "обязательно пересмотреть итоговый вывод после исправления всех комментариев, можно добавить названия самых актуальных платформ, жанров и рейтингов, какую долю они занимают на исследуемых рынках"
   ]
  },
  {
   "cell_type": "markdown",
   "metadata": {
    "id": "0P7rdLlsJCrC"
   },
   "source": [
    "<div class=\"alert alert-success\">\n",
    "<font size=\"5\", color= \"seagreen\"><b>✔️ Комментарий ревьюера</b></font>\n",
    "    <br /> \n",
    "    <font size=\"3\", color = \"black\">\n",
    "<br />   \n",
    "Ты выполнил практически все пункты проекта, молодец! Проведен значительный объем исследования \n",
    "        \n",
    "Критические ❌ комментарии связаны с неточностями: \n",
    "\n",
    " + добавить название\n",
    " \n",
    " + удалить пропуски (минимальное  кол-во)\n",
    " + изменить тип данных\n",
    " + обработка пропусков в столбце рейтингов\n",
    " + сократить категории в рейтингах — на твое усмотрение\n",
    " + самое важное — переопределить актуальный период\n",
    " + исправить исследование зависимости по платформам конкурентам (от оценок критиков и пользователей)        \n",
    " + построить графики в ТОП-5 и пересмотреть раздел рейтингов\n",
    " + в разделе проверки гипотез подправить выборки плюс можно более подробно расшифровать значение p_value \n",
    " + перепроверить промежуточные и итоговый выводы после всех исправлений\n",
    " + дополнить итоговый вывод\n",
    "\n",
    "Если будут вопросы про мои комментарии - задавай, если какой-то формат взаимодействия не устраивает или есть какие-то другие пожелания - пиши :)\n",
    "\n",
    "<div class=\"alert alert-success\">\n",
    "    <font size=\"5\", color= \"seagreen\"><b>Жду твой проект и твои комментарии 🤝</b></font><br />"
   ]
  },
  {
   "cell_type": "markdown",
   "metadata": {
    "id": "HBmBYqbPJCrC"
   },
   "source": [
    "<div style=\"border:solid steelblue 3px; padding: 20px\">\n",
    "<font size=\"4\">🍕<b> Комментарий ревьюера</b></font>\n",
    "<br /> \n",
    "<font size=\"3\", color = \"black\">\n",
    "<br />\n",
    "Может пригодиться  \n",
    "    \n",
    "[Подборка статей о работе с библиотеками для анализа данных на языке Python](https://dfedorov.spb.ru/pandas/)\n",
    "    \n",
    "   \n",
    "[Визуализация](https://dfedorov.spb.ru/pandas/%D0%AD%D1%84%D1%84%D0%B5%D0%BA%D1%82%D0%B8%D0%B2%D0%BD%D0%BE%D0%B5%20%D0%B8%D1%81%D0%BF%D0%BE%D0%BB%D1%8C%D0%B7%D0%BE%D0%B2%D0%B0%D0%BD%D0%B8%D0%B5%20Matplotlib.html)\n",
    "\n",
    "\n",
    "[Искусство статистики](https://www.mann-ivanov-ferber.ru/books/iskusstvo-statistiki/)\n",
    "        \n",
    "[Постер «Графики, которые убеждают всех»](https://www.notion.so/6c5ae8ceb8b5411e907c93c9b5e6a44e)        \n",
    "        \n",
    "        \n",
    "В помощь — как реализовать интерактивный план проекта вручную (для собственных проектов), смотри по <a href=\"https://stackoverflow.com/questions/49535664/how-to-hyperlink-in-a-jupyter-notebook/49717704\">ссылке</a>\n",
    "    \n",
    "пара ссылок и по разделам проекта можно будет переходить без пролистывания всего кода, особенно актуально на проектах длина которых >  10 страниц (и там где не установлен плагин TOC)      "
   ]
  },
  {
   "cell_type": "code",
   "execution_count": null,
   "metadata": {},
   "outputs": [],
   "source": []
  }
 ],
 "metadata": {
  "ExecuteTimeLog": [
   {
    "duration": 429,
    "start_time": "2022-07-25T08:03:35.649Z"
   },
   {
    "duration": 91,
    "start_time": "2022-07-25T08:04:55.063Z"
   },
   {
    "duration": 27,
    "start_time": "2022-07-25T08:05:03.335Z"
   },
   {
    "duration": 66,
    "start_time": "2022-07-25T08:07:56.732Z"
   },
   {
    "duration": 6,
    "start_time": "2022-07-25T08:08:01.734Z"
   },
   {
    "duration": 16,
    "start_time": "2022-07-25T08:08:13.928Z"
   },
   {
    "duration": 11,
    "start_time": "2022-07-25T08:08:41.101Z"
   },
   {
    "duration": 32,
    "start_time": "2022-07-25T08:08:53.696Z"
   },
   {
    "duration": 817,
    "start_time": "2022-07-25T09:29:05.881Z"
   },
   {
    "duration": 1436,
    "start_time": "2022-07-25T09:31:44.644Z"
   },
   {
    "duration": 24,
    "start_time": "2022-07-25T09:32:06.755Z"
   },
   {
    "duration": 8,
    "start_time": "2022-07-25T09:37:43.303Z"
   },
   {
    "duration": 8,
    "start_time": "2022-07-25T09:37:50.988Z"
   },
   {
    "duration": 7,
    "start_time": "2022-07-25T09:40:19.867Z"
   },
   {
    "duration": 8,
    "start_time": "2022-07-25T09:40:34.452Z"
   },
   {
    "duration": 79,
    "start_time": "2022-07-25T09:42:18.974Z"
   },
   {
    "duration": 25,
    "start_time": "2022-07-25T09:42:25.616Z"
   },
   {
    "duration": 24,
    "start_time": "2022-07-25T09:46:16.161Z"
   },
   {
    "duration": 18,
    "start_time": "2022-07-25T09:48:45.032Z"
   },
   {
    "duration": 13,
    "start_time": "2022-07-25T09:48:59.934Z"
   },
   {
    "duration": 10,
    "start_time": "2022-07-25T09:49:15.948Z"
   },
   {
    "duration": 11,
    "start_time": "2022-07-25T09:49:28.931Z"
   },
   {
    "duration": 11,
    "start_time": "2022-07-25T09:49:41.080Z"
   },
   {
    "duration": 22,
    "start_time": "2022-07-25T09:50:46.064Z"
   },
   {
    "duration": 22,
    "start_time": "2022-07-25T09:50:52.881Z"
   },
   {
    "duration": 20,
    "start_time": "2022-07-25T09:50:57.345Z"
   },
   {
    "duration": 406,
    "start_time": "2022-07-25T09:51:25.362Z"
   },
   {
    "duration": 52,
    "start_time": "2022-07-25T09:51:25.769Z"
   },
   {
    "duration": 26,
    "start_time": "2022-07-25T09:51:25.823Z"
   },
   {
    "duration": 14,
    "start_time": "2022-07-25T09:51:25.850Z"
   },
   {
    "duration": 27,
    "start_time": "2022-07-25T09:51:25.866Z"
   },
   {
    "duration": 20,
    "start_time": "2022-07-25T09:51:25.895Z"
   },
   {
    "duration": 910,
    "start_time": "2022-07-25T09:51:25.916Z"
   },
   {
    "duration": 0,
    "start_time": "2022-07-25T09:51:26.828Z"
   },
   {
    "duration": 973,
    "start_time": "2022-07-25T09:52:24.533Z"
   },
   {
    "duration": 1198,
    "start_time": "2022-07-25T09:52:45.273Z"
   },
   {
    "duration": 1117,
    "start_time": "2022-07-25T09:53:18.771Z"
   },
   {
    "duration": 1019,
    "start_time": "2022-07-25T09:53:39.145Z"
   },
   {
    "duration": 15,
    "start_time": "2022-07-25T09:54:01.540Z"
   },
   {
    "duration": 12,
    "start_time": "2022-07-25T09:54:16.744Z"
   },
   {
    "duration": 14,
    "start_time": "2022-07-25T09:54:28.049Z"
   },
   {
    "duration": 20,
    "start_time": "2022-07-25T09:54:40.996Z"
   },
   {
    "duration": 6,
    "start_time": "2022-07-25T09:55:14.997Z"
   },
   {
    "duration": 914,
    "start_time": "2022-07-25T09:55:20.840Z"
   },
   {
    "duration": 18,
    "start_time": "2022-07-25T09:55:48.835Z"
   },
   {
    "duration": 13,
    "start_time": "2022-07-25T09:56:12.787Z"
   },
   {
    "duration": 49,
    "start_time": "2022-07-25T10:03:33.351Z"
   },
   {
    "duration": 55,
    "start_time": "2022-07-25T10:04:30.585Z"
   },
   {
    "duration": 58,
    "start_time": "2022-07-25T10:04:35.340Z"
   },
   {
    "duration": 19,
    "start_time": "2022-07-25T10:04:38.312Z"
   },
   {
    "duration": 412,
    "start_time": "2022-07-25T10:04:48.142Z"
   },
   {
    "duration": 54,
    "start_time": "2022-07-25T10:04:48.556Z"
   },
   {
    "duration": 24,
    "start_time": "2022-07-25T10:04:48.612Z"
   },
   {
    "duration": 15,
    "start_time": "2022-07-25T10:04:48.638Z"
   },
   {
    "duration": 38,
    "start_time": "2022-07-25T10:04:48.654Z"
   },
   {
    "duration": 4,
    "start_time": "2022-07-25T10:04:48.694Z"
   },
   {
    "duration": 1935,
    "start_time": "2022-07-25T10:04:48.699Z"
   },
   {
    "duration": 0,
    "start_time": "2022-07-25T10:04:50.637Z"
   },
   {
    "duration": 414,
    "start_time": "2022-07-25T10:06:20.395Z"
   },
   {
    "duration": 366,
    "start_time": "2022-07-25T10:06:37.401Z"
   },
   {
    "duration": 52,
    "start_time": "2022-07-25T10:06:37.769Z"
   },
   {
    "duration": 26,
    "start_time": "2022-07-25T10:06:37.823Z"
   },
   {
    "duration": 15,
    "start_time": "2022-07-25T10:06:37.852Z"
   },
   {
    "duration": 31,
    "start_time": "2022-07-25T10:06:37.869Z"
   },
   {
    "duration": 5,
    "start_time": "2022-07-25T10:06:37.901Z"
   },
   {
    "duration": 13,
    "start_time": "2022-07-25T10:06:37.908Z"
   },
   {
    "duration": 691,
    "start_time": "2022-07-25T10:06:37.923Z"
   },
   {
    "duration": 6,
    "start_time": "2022-07-25T10:07:04.965Z"
   },
   {
    "duration": 23,
    "start_time": "2022-07-25T10:07:20.026Z"
   },
   {
    "duration": 70,
    "start_time": "2022-07-25T10:08:16.589Z"
   },
   {
    "duration": 122,
    "start_time": "2022-07-25T10:08:32.898Z"
   },
   {
    "duration": 185,
    "start_time": "2022-07-25T10:08:44.698Z"
   },
   {
    "duration": 137,
    "start_time": "2022-07-25T10:09:31.356Z"
   },
   {
    "duration": 146,
    "start_time": "2022-07-25T10:09:42.430Z"
   },
   {
    "duration": 114,
    "start_time": "2022-07-25T10:10:29.696Z"
   },
   {
    "duration": 101,
    "start_time": "2022-07-25T10:11:05.092Z"
   },
   {
    "duration": 130,
    "start_time": "2022-07-25T10:11:14.185Z"
   },
   {
    "duration": 127,
    "start_time": "2022-07-25T10:11:25.376Z"
   },
   {
    "duration": 119,
    "start_time": "2022-07-25T10:11:34.037Z"
   },
   {
    "duration": 12,
    "start_time": "2022-07-25T10:40:45.390Z"
   },
   {
    "duration": 27,
    "start_time": "2022-07-25T10:40:54.836Z"
   },
   {
    "duration": 20,
    "start_time": "2022-07-25T10:41:08.057Z"
   },
   {
    "duration": 22,
    "start_time": "2022-07-25T10:41:29.049Z"
   },
   {
    "duration": 97,
    "start_time": "2022-07-25T10:41:44.137Z"
   },
   {
    "duration": 24,
    "start_time": "2022-07-25T10:42:02.295Z"
   },
   {
    "duration": 139,
    "start_time": "2022-07-25T10:43:14.389Z"
   },
   {
    "duration": 131,
    "start_time": "2022-07-25T10:43:42.195Z"
   },
   {
    "duration": 117,
    "start_time": "2022-07-25T10:43:50.775Z"
   },
   {
    "duration": 127,
    "start_time": "2022-07-25T10:44:28.599Z"
   },
   {
    "duration": 142,
    "start_time": "2022-07-25T10:44:52.413Z"
   },
   {
    "duration": 130,
    "start_time": "2022-07-25T10:58:45.304Z"
   },
   {
    "duration": 9,
    "start_time": "2022-07-25T10:59:13.110Z"
   },
   {
    "duration": 8,
    "start_time": "2022-07-25T10:59:23.002Z"
   },
   {
    "duration": 35,
    "start_time": "2022-07-25T10:59:35.818Z"
   },
   {
    "duration": 431,
    "start_time": "2022-07-25T11:00:17.731Z"
   },
   {
    "duration": 52,
    "start_time": "2022-07-25T11:00:18.164Z"
   },
   {
    "duration": 27,
    "start_time": "2022-07-25T11:00:18.218Z"
   },
   {
    "duration": 17,
    "start_time": "2022-07-25T11:00:18.246Z"
   },
   {
    "duration": 37,
    "start_time": "2022-07-25T11:00:18.266Z"
   },
   {
    "duration": 4,
    "start_time": "2022-07-25T11:00:18.305Z"
   },
   {
    "duration": 22,
    "start_time": "2022-07-25T11:00:18.311Z"
   },
   {
    "duration": 38,
    "start_time": "2022-07-25T11:00:18.334Z"
   },
   {
    "duration": 375,
    "start_time": "2022-07-25T11:00:18.374Z"
   },
   {
    "duration": 144,
    "start_time": "2022-07-25T11:00:18.750Z"
   },
   {
    "duration": 159,
    "start_time": "2022-07-25T11:00:18.895Z"
   },
   {
    "duration": 153,
    "start_time": "2022-07-25T11:00:19.056Z"
   },
   {
    "duration": 24,
    "start_time": "2022-07-25T11:08:05.188Z"
   },
   {
    "duration": 6,
    "start_time": "2022-07-25T11:08:40.034Z"
   },
   {
    "duration": 8,
    "start_time": "2022-07-25T11:09:21.535Z"
   },
   {
    "duration": 6,
    "start_time": "2022-07-25T11:10:06.148Z"
   },
   {
    "duration": 7,
    "start_time": "2022-07-25T11:11:33.206Z"
   },
   {
    "duration": 6,
    "start_time": "2022-07-25T11:12:53.386Z"
   },
   {
    "duration": 76,
    "start_time": "2022-07-25T11:13:17.141Z"
   },
   {
    "duration": 8,
    "start_time": "2022-07-25T11:13:23.843Z"
   },
   {
    "duration": 9,
    "start_time": "2022-07-25T11:13:30.131Z"
   },
   {
    "duration": 8,
    "start_time": "2022-07-25T11:15:05.043Z"
   },
   {
    "duration": 18,
    "start_time": "2022-07-25T11:16:46.346Z"
   },
   {
    "duration": 15,
    "start_time": "2022-07-25T11:18:07.210Z"
   },
   {
    "duration": 13,
    "start_time": "2022-07-25T11:19:11.142Z"
   },
   {
    "duration": 882,
    "start_time": "2022-07-25T11:20:27.170Z"
   },
   {
    "duration": 7,
    "start_time": "2022-07-25T11:21:15.085Z"
   },
   {
    "duration": 10,
    "start_time": "2022-07-25T11:21:39.905Z"
   },
   {
    "duration": 12,
    "start_time": "2022-07-25T11:21:50.947Z"
   },
   {
    "duration": 11,
    "start_time": "2022-07-25T11:24:47.846Z"
   },
   {
    "duration": 14,
    "start_time": "2022-07-25T11:24:59.084Z"
   },
   {
    "duration": 33,
    "start_time": "2022-07-25T11:26:50.375Z"
   },
   {
    "duration": 14,
    "start_time": "2022-07-25T11:27:25.871Z"
   },
   {
    "duration": 13,
    "start_time": "2022-07-25T11:27:32.048Z"
   },
   {
    "duration": 13,
    "start_time": "2022-07-25T11:27:36.117Z"
   },
   {
    "duration": 5,
    "start_time": "2022-07-25T11:28:07.247Z"
   },
   {
    "duration": 26,
    "start_time": "2022-07-25T11:28:19.093Z"
   },
   {
    "duration": 29,
    "start_time": "2022-07-25T11:29:08.893Z"
   },
   {
    "duration": 27,
    "start_time": "2022-07-25T11:29:34.706Z"
   },
   {
    "duration": 401,
    "start_time": "2022-07-25T11:30:23.374Z"
   },
   {
    "duration": 50,
    "start_time": "2022-07-25T11:30:23.777Z"
   },
   {
    "duration": 25,
    "start_time": "2022-07-25T11:30:23.829Z"
   },
   {
    "duration": 15,
    "start_time": "2022-07-25T11:30:23.856Z"
   },
   {
    "duration": 35,
    "start_time": "2022-07-25T11:30:23.873Z"
   },
   {
    "duration": 5,
    "start_time": "2022-07-25T11:30:23.910Z"
   },
   {
    "duration": 20,
    "start_time": "2022-07-25T11:30:23.917Z"
   },
   {
    "duration": 48,
    "start_time": "2022-07-25T11:30:23.939Z"
   },
   {
    "duration": 350,
    "start_time": "2022-07-25T11:30:23.988Z"
   },
   {
    "duration": 127,
    "start_time": "2022-07-25T11:30:24.340Z"
   },
   {
    "duration": 127,
    "start_time": "2022-07-25T11:30:24.469Z"
   },
   {
    "duration": 140,
    "start_time": "2022-07-25T11:30:24.598Z"
   },
   {
    "duration": 29,
    "start_time": "2022-07-25T11:30:24.740Z"
   },
   {
    "duration": 5,
    "start_time": "2022-07-25T11:30:24.771Z"
   },
   {
    "duration": 21,
    "start_time": "2022-07-25T11:30:24.777Z"
   },
   {
    "duration": 9,
    "start_time": "2022-07-25T11:30:24.799Z"
   },
   {
    "duration": 8,
    "start_time": "2022-07-25T11:30:24.810Z"
   },
   {
    "duration": 7,
    "start_time": "2022-07-25T11:30:24.820Z"
   },
   {
    "duration": 101,
    "start_time": "2022-07-25T11:30:24.829Z"
   },
   {
    "duration": 0,
    "start_time": "2022-07-25T11:30:24.932Z"
   },
   {
    "duration": 22,
    "start_time": "2022-07-25T11:31:23.239Z"
   },
   {
    "duration": 8,
    "start_time": "2022-07-25T11:33:09.341Z"
   },
   {
    "duration": 10,
    "start_time": "2022-07-25T11:33:21.084Z"
   },
   {
    "duration": 12,
    "start_time": "2022-07-25T11:33:31.113Z"
   },
   {
    "duration": 28,
    "start_time": "2022-07-25T11:36:58.440Z"
   },
   {
    "duration": 8,
    "start_time": "2022-07-25T11:37:27.203Z"
   },
   {
    "duration": 19,
    "start_time": "2022-07-25T11:37:35.850Z"
   },
   {
    "duration": 25,
    "start_time": "2022-07-25T11:37:41.692Z"
   },
   {
    "duration": 13,
    "start_time": "2022-07-25T11:42:38.866Z"
   },
   {
    "duration": 6,
    "start_time": "2022-07-25T11:42:55.438Z"
   },
   {
    "duration": 35,
    "start_time": "2022-07-25T13:44:40.192Z"
   },
   {
    "duration": 21,
    "start_time": "2022-07-25T13:51:23.263Z"
   },
   {
    "duration": 18,
    "start_time": "2022-07-25T13:53:32.060Z"
   },
   {
    "duration": 25,
    "start_time": "2022-07-25T13:55:16.052Z"
   },
   {
    "duration": 17,
    "start_time": "2022-07-25T13:56:22.753Z"
   },
   {
    "duration": 16,
    "start_time": "2022-07-25T13:56:45.719Z"
   },
   {
    "duration": 25,
    "start_time": "2022-07-25T13:57:21.317Z"
   },
   {
    "duration": 28,
    "start_time": "2022-07-25T13:58:44.669Z"
   },
   {
    "duration": 72,
    "start_time": "2022-07-25T13:59:10.321Z"
   },
   {
    "duration": 8635,
    "start_time": "2022-07-25T13:59:18.538Z"
   },
   {
    "duration": 51,
    "start_time": "2022-07-25T14:02:16.293Z"
   },
   {
    "duration": 32,
    "start_time": "2022-07-25T14:02:24.124Z"
   },
   {
    "duration": 29,
    "start_time": "2022-07-25T14:02:42.086Z"
   },
   {
    "duration": 26,
    "start_time": "2022-07-25T14:02:58.297Z"
   },
   {
    "duration": 41,
    "start_time": "2022-07-25T14:03:16.341Z"
   },
   {
    "duration": 34,
    "start_time": "2022-07-25T14:03:31.389Z"
   },
   {
    "duration": 26,
    "start_time": "2022-07-25T14:03:49.684Z"
   },
   {
    "duration": 27,
    "start_time": "2022-07-25T14:04:23.503Z"
   },
   {
    "duration": 43,
    "start_time": "2022-07-25T14:04:46.047Z"
   },
   {
    "duration": 34,
    "start_time": "2022-07-25T14:04:56.715Z"
   },
   {
    "duration": 26,
    "start_time": "2022-07-25T14:05:19.653Z"
   },
   {
    "duration": 26,
    "start_time": "2022-07-25T14:05:25.724Z"
   },
   {
    "duration": 24,
    "start_time": "2022-07-25T14:10:22.200Z"
   },
   {
    "duration": 21,
    "start_time": "2022-07-25T14:10:47.564Z"
   },
   {
    "duration": 6,
    "start_time": "2022-07-25T14:11:12.227Z"
   },
   {
    "duration": 20,
    "start_time": "2022-07-25T14:11:26.338Z"
   },
   {
    "duration": 9,
    "start_time": "2022-07-25T14:11:28.651Z"
   },
   {
    "duration": 8,
    "start_time": "2022-07-25T14:11:43.250Z"
   },
   {
    "duration": 8,
    "start_time": "2022-07-25T14:12:00.130Z"
   },
   {
    "duration": 8,
    "start_time": "2022-07-25T14:13:58.243Z"
   },
   {
    "duration": 125,
    "start_time": "2022-07-25T14:14:11.926Z"
   },
   {
    "duration": 110,
    "start_time": "2022-07-25T14:14:37.130Z"
   },
   {
    "duration": 918,
    "start_time": "2022-07-25T14:15:30.144Z"
   },
   {
    "duration": 112,
    "start_time": "2022-07-25T14:15:45.032Z"
   },
   {
    "duration": 108,
    "start_time": "2022-07-25T14:15:59.668Z"
   },
   {
    "duration": 117,
    "start_time": "2022-07-25T14:16:14.427Z"
   },
   {
    "duration": 110,
    "start_time": "2022-07-25T14:16:26.490Z"
   },
   {
    "duration": 133,
    "start_time": "2022-07-25T14:16:38.845Z"
   },
   {
    "duration": 134,
    "start_time": "2022-07-25T14:17:54.997Z"
   },
   {
    "duration": 116,
    "start_time": "2022-07-25T14:18:10.947Z"
   },
   {
    "duration": 5,
    "start_time": "2022-07-25T14:32:27.717Z"
   },
   {
    "duration": 6,
    "start_time": "2022-07-25T14:32:45.451Z"
   },
   {
    "duration": 22,
    "start_time": "2022-07-25T14:33:35.922Z"
   },
   {
    "duration": 21,
    "start_time": "2022-07-25T14:34:05.324Z"
   },
   {
    "duration": 49,
    "start_time": "2022-07-26T09:50:28.594Z"
   },
   {
    "duration": 370,
    "start_time": "2022-07-26T09:50:43.010Z"
   },
   {
    "duration": 100,
    "start_time": "2022-07-26T09:50:43.382Z"
   },
   {
    "duration": 27,
    "start_time": "2022-07-26T09:50:43.484Z"
   },
   {
    "duration": 13,
    "start_time": "2022-07-26T09:50:43.513Z"
   },
   {
    "duration": 28,
    "start_time": "2022-07-26T09:50:43.528Z"
   },
   {
    "duration": 8,
    "start_time": "2022-07-26T09:50:43.557Z"
   },
   {
    "duration": 31,
    "start_time": "2022-07-26T09:50:43.566Z"
   },
   {
    "duration": 27,
    "start_time": "2022-07-26T09:50:43.599Z"
   },
   {
    "duration": 505,
    "start_time": "2022-07-26T09:50:43.627Z"
   },
   {
    "duration": 138,
    "start_time": "2022-07-26T09:50:44.134Z"
   },
   {
    "duration": 142,
    "start_time": "2022-07-26T09:50:44.274Z"
   },
   {
    "duration": 139,
    "start_time": "2022-07-26T09:50:44.417Z"
   },
   {
    "duration": 23,
    "start_time": "2022-07-26T09:50:44.557Z"
   },
   {
    "duration": 4,
    "start_time": "2022-07-26T09:50:44.583Z"
   },
   {
    "duration": 9,
    "start_time": "2022-07-26T09:50:44.589Z"
   },
   {
    "duration": 9,
    "start_time": "2022-07-26T09:50:44.599Z"
   },
   {
    "duration": 5,
    "start_time": "2022-07-26T09:50:44.609Z"
   },
   {
    "duration": 7,
    "start_time": "2022-07-26T09:50:44.616Z"
   },
   {
    "duration": 99,
    "start_time": "2022-07-26T09:50:44.624Z"
   },
   {
    "duration": 13,
    "start_time": "2022-07-26T09:50:44.725Z"
   },
   {
    "duration": 28,
    "start_time": "2022-07-26T09:50:44.740Z"
   },
   {
    "duration": 23,
    "start_time": "2022-07-26T09:50:44.770Z"
   },
   {
    "duration": 20,
    "start_time": "2022-07-26T09:50:44.795Z"
   },
   {
    "duration": 7,
    "start_time": "2022-07-26T09:50:44.817Z"
   },
   {
    "duration": 140,
    "start_time": "2022-07-26T09:50:44.826Z"
   },
   {
    "duration": 5,
    "start_time": "2022-07-26T09:50:44.968Z"
   },
   {
    "duration": 22,
    "start_time": "2022-07-26T09:50:44.975Z"
   },
   {
    "duration": 10,
    "start_time": "2022-07-26T09:50:44.999Z"
   },
   {
    "duration": 7,
    "start_time": "2022-07-26T09:51:12.183Z"
   },
   {
    "duration": 7,
    "start_time": "2022-07-26T09:51:44.030Z"
   },
   {
    "duration": 68,
    "start_time": "2022-07-26T09:53:55.640Z"
   },
   {
    "duration": 9,
    "start_time": "2022-07-26T09:54:08.833Z"
   },
   {
    "duration": 6,
    "start_time": "2022-07-26T09:54:11.137Z"
   },
   {
    "duration": 15,
    "start_time": "2022-07-26T09:54:38.906Z"
   },
   {
    "duration": 368,
    "start_time": "2022-07-26T10:01:39.725Z"
   },
   {
    "duration": 50,
    "start_time": "2022-07-26T10:01:40.095Z"
   },
   {
    "duration": 25,
    "start_time": "2022-07-26T10:01:40.148Z"
   },
   {
    "duration": 16,
    "start_time": "2022-07-26T10:01:40.175Z"
   },
   {
    "duration": 27,
    "start_time": "2022-07-26T10:01:40.192Z"
   },
   {
    "duration": 3,
    "start_time": "2022-07-26T10:01:40.221Z"
   },
   {
    "duration": 39,
    "start_time": "2022-07-26T10:01:40.226Z"
   },
   {
    "duration": 25,
    "start_time": "2022-07-26T10:01:40.266Z"
   },
   {
    "duration": 358,
    "start_time": "2022-07-26T10:01:40.293Z"
   },
   {
    "duration": 147,
    "start_time": "2022-07-26T10:01:40.654Z"
   },
   {
    "duration": 140,
    "start_time": "2022-07-26T10:01:40.802Z"
   },
   {
    "duration": 140,
    "start_time": "2022-07-26T10:01:40.944Z"
   },
   {
    "duration": 19,
    "start_time": "2022-07-26T10:01:41.086Z"
   },
   {
    "duration": 5,
    "start_time": "2022-07-26T10:01:41.107Z"
   },
   {
    "duration": 23,
    "start_time": "2022-07-26T10:01:41.113Z"
   },
   {
    "duration": 7,
    "start_time": "2022-07-26T10:01:41.138Z"
   },
   {
    "duration": 7,
    "start_time": "2022-07-26T10:01:41.146Z"
   },
   {
    "duration": 7,
    "start_time": "2022-07-26T10:01:41.164Z"
   },
   {
    "duration": 27,
    "start_time": "2022-07-26T10:01:41.172Z"
   },
   {
    "duration": 18,
    "start_time": "2022-07-26T10:01:41.201Z"
   },
   {
    "duration": 18,
    "start_time": "2022-07-26T10:01:41.220Z"
   },
   {
    "duration": 44,
    "start_time": "2022-07-26T10:01:41.240Z"
   },
   {
    "duration": 20,
    "start_time": "2022-07-26T10:01:41.286Z"
   },
   {
    "duration": 6,
    "start_time": "2022-07-26T10:01:41.308Z"
   },
   {
    "duration": 150,
    "start_time": "2022-07-26T10:01:41.315Z"
   },
   {
    "duration": 5,
    "start_time": "2022-07-26T10:01:41.467Z"
   },
   {
    "duration": 26,
    "start_time": "2022-07-26T10:01:41.473Z"
   },
   {
    "duration": 8,
    "start_time": "2022-07-26T10:01:41.502Z"
   },
   {
    "duration": 13,
    "start_time": "2022-07-26T10:01:41.512Z"
   },
   {
    "duration": 37,
    "start_time": "2022-07-26T10:01:41.527Z"
   },
   {
    "duration": 12,
    "start_time": "2022-07-26T10:02:51.258Z"
   },
   {
    "duration": 4,
    "start_time": "2022-07-26T10:13:57.766Z"
   },
   {
    "duration": 8,
    "start_time": "2022-07-26T10:14:01.014Z"
   },
   {
    "duration": 14,
    "start_time": "2022-07-26T10:14:03.319Z"
   },
   {
    "duration": 392,
    "start_time": "2022-07-26T10:14:16.225Z"
   },
   {
    "duration": 53,
    "start_time": "2022-07-26T10:14:16.620Z"
   },
   {
    "duration": 29,
    "start_time": "2022-07-26T10:14:16.675Z"
   },
   {
    "duration": 13,
    "start_time": "2022-07-26T10:14:16.706Z"
   },
   {
    "duration": 28,
    "start_time": "2022-07-26T10:14:16.721Z"
   },
   {
    "duration": 4,
    "start_time": "2022-07-26T10:14:16.763Z"
   },
   {
    "duration": 23,
    "start_time": "2022-07-26T10:14:16.768Z"
   },
   {
    "duration": 24,
    "start_time": "2022-07-26T10:14:16.793Z"
   },
   {
    "duration": 363,
    "start_time": "2022-07-26T10:14:16.819Z"
   },
   {
    "duration": 137,
    "start_time": "2022-07-26T10:14:17.185Z"
   },
   {
    "duration": 150,
    "start_time": "2022-07-26T10:14:17.324Z"
   },
   {
    "duration": 144,
    "start_time": "2022-07-26T10:14:17.475Z"
   },
   {
    "duration": 19,
    "start_time": "2022-07-26T10:14:17.621Z"
   },
   {
    "duration": 10,
    "start_time": "2022-07-26T10:14:17.641Z"
   },
   {
    "duration": 18,
    "start_time": "2022-07-26T10:14:17.652Z"
   },
   {
    "duration": 8,
    "start_time": "2022-07-26T10:14:17.672Z"
   },
   {
    "duration": 5,
    "start_time": "2022-07-26T10:14:17.682Z"
   },
   {
    "duration": 7,
    "start_time": "2022-07-26T10:14:17.688Z"
   },
   {
    "duration": 23,
    "start_time": "2022-07-26T10:14:17.697Z"
   },
   {
    "duration": 14,
    "start_time": "2022-07-26T10:14:17.721Z"
   },
   {
    "duration": 17,
    "start_time": "2022-07-26T10:14:17.764Z"
   },
   {
    "duration": 24,
    "start_time": "2022-07-26T10:14:17.783Z"
   },
   {
    "duration": 21,
    "start_time": "2022-07-26T10:14:17.809Z"
   },
   {
    "duration": 33,
    "start_time": "2022-07-26T10:14:17.832Z"
   },
   {
    "duration": 136,
    "start_time": "2022-07-26T10:14:17.867Z"
   },
   {
    "duration": 5,
    "start_time": "2022-07-26T10:14:18.005Z"
   },
   {
    "duration": 22,
    "start_time": "2022-07-26T10:14:18.012Z"
   },
   {
    "duration": 5,
    "start_time": "2022-07-26T10:14:18.038Z"
   },
   {
    "duration": 13,
    "start_time": "2022-07-26T10:14:18.064Z"
   },
   {
    "duration": 15,
    "start_time": "2022-07-26T10:14:18.079Z"
   },
   {
    "duration": 5,
    "start_time": "2022-07-26T10:14:18.096Z"
   },
   {
    "duration": 11,
    "start_time": "2022-07-26T10:17:52.936Z"
   },
   {
    "duration": 15,
    "start_time": "2022-07-26T10:18:03.415Z"
   },
   {
    "duration": 229,
    "start_time": "2022-07-26T10:20:12.404Z"
   },
   {
    "duration": 151,
    "start_time": "2022-07-26T10:21:21.931Z"
   },
   {
    "duration": 186,
    "start_time": "2022-07-26T10:22:36.746Z"
   },
   {
    "duration": 17,
    "start_time": "2022-07-26T10:29:05.086Z"
   },
   {
    "duration": 16,
    "start_time": "2022-07-26T10:30:37.171Z"
   },
   {
    "duration": 16,
    "start_time": "2022-07-26T10:30:44.819Z"
   },
   {
    "duration": 427,
    "start_time": "2022-07-26T10:31:09.231Z"
   },
   {
    "duration": 51,
    "start_time": "2022-07-26T10:31:09.660Z"
   },
   {
    "duration": 25,
    "start_time": "2022-07-26T10:31:09.712Z"
   },
   {
    "duration": 23,
    "start_time": "2022-07-26T10:31:09.739Z"
   },
   {
    "duration": 34,
    "start_time": "2022-07-26T10:31:09.764Z"
   },
   {
    "duration": 15,
    "start_time": "2022-07-26T10:31:09.800Z"
   },
   {
    "duration": 27,
    "start_time": "2022-07-26T10:31:09.816Z"
   },
   {
    "duration": 26,
    "start_time": "2022-07-26T10:31:09.844Z"
   },
   {
    "duration": 336,
    "start_time": "2022-07-26T10:31:09.871Z"
   },
   {
    "duration": 131,
    "start_time": "2022-07-26T10:31:10.209Z"
   },
   {
    "duration": 154,
    "start_time": "2022-07-26T10:31:10.342Z"
   },
   {
    "duration": 154,
    "start_time": "2022-07-26T10:31:10.498Z"
   },
   {
    "duration": 32,
    "start_time": "2022-07-26T10:31:10.654Z"
   },
   {
    "duration": 7,
    "start_time": "2022-07-26T10:31:10.689Z"
   },
   {
    "duration": 12,
    "start_time": "2022-07-26T10:31:10.697Z"
   },
   {
    "duration": 10,
    "start_time": "2022-07-26T10:31:10.711Z"
   },
   {
    "duration": 8,
    "start_time": "2022-07-26T10:31:10.723Z"
   },
   {
    "duration": 12,
    "start_time": "2022-07-26T10:31:10.733Z"
   },
   {
    "duration": 21,
    "start_time": "2022-07-26T10:31:10.763Z"
   },
   {
    "duration": 12,
    "start_time": "2022-07-26T10:31:10.786Z"
   },
   {
    "duration": 15,
    "start_time": "2022-07-26T10:31:10.799Z"
   },
   {
    "duration": 49,
    "start_time": "2022-07-26T10:31:10.816Z"
   },
   {
    "duration": 19,
    "start_time": "2022-07-26T10:31:10.867Z"
   },
   {
    "duration": 6,
    "start_time": "2022-07-26T10:31:10.888Z"
   },
   {
    "duration": 126,
    "start_time": "2022-07-26T10:31:10.896Z"
   },
   {
    "duration": 4,
    "start_time": "2022-07-26T10:31:11.024Z"
   },
   {
    "duration": 35,
    "start_time": "2022-07-26T10:31:11.029Z"
   },
   {
    "duration": 3,
    "start_time": "2022-07-26T10:31:11.066Z"
   },
   {
    "duration": 22,
    "start_time": "2022-07-26T10:31:11.070Z"
   },
   {
    "duration": 28,
    "start_time": "2022-07-26T10:31:11.093Z"
   },
   {
    "duration": 7,
    "start_time": "2022-07-26T10:31:11.122Z"
   },
   {
    "duration": 26,
    "start_time": "2022-07-26T10:31:11.130Z"
   },
   {
    "duration": 19,
    "start_time": "2022-07-26T10:31:11.157Z"
   },
   {
    "duration": 17,
    "start_time": "2022-07-26T10:31:49.945Z"
   },
   {
    "duration": 17,
    "start_time": "2022-07-26T10:32:05.639Z"
   },
   {
    "duration": 9,
    "start_time": "2022-07-26T10:32:18.122Z"
   },
   {
    "duration": 16,
    "start_time": "2022-07-26T10:37:45.430Z"
   },
   {
    "duration": 15,
    "start_time": "2022-07-26T10:39:03.542Z"
   },
   {
    "duration": 13,
    "start_time": "2022-07-26T10:39:39.763Z"
   },
   {
    "duration": 46,
    "start_time": "2022-07-26T10:43:54.386Z"
   },
   {
    "duration": 47,
    "start_time": "2022-07-26T10:44:11.505Z"
   },
   {
    "duration": 965,
    "start_time": "2022-07-26T10:44:18.132Z"
   },
   {
    "duration": 78,
    "start_time": "2022-07-26T10:44:33.440Z"
   },
   {
    "duration": 11,
    "start_time": "2022-07-26T10:45:38.214Z"
   },
   {
    "duration": 13,
    "start_time": "2022-07-26T10:45:56.068Z"
   },
   {
    "duration": 10,
    "start_time": "2022-07-26T10:47:28.665Z"
   },
   {
    "duration": 12,
    "start_time": "2022-07-26T10:47:50.990Z"
   },
   {
    "duration": 816,
    "start_time": "2022-07-26T10:48:27.455Z"
   },
   {
    "duration": 16,
    "start_time": "2022-07-26T10:49:10.428Z"
   },
   {
    "duration": 15,
    "start_time": "2022-07-26T10:50:39.014Z"
   },
   {
    "duration": 14,
    "start_time": "2022-07-26T11:09:56.452Z"
   },
   {
    "duration": 20,
    "start_time": "2022-07-26T11:57:59.528Z"
   },
   {
    "duration": 66,
    "start_time": "2022-07-26T11:58:07.765Z"
   },
   {
    "duration": 3,
    "start_time": "2022-07-26T11:59:05.303Z"
   },
   {
    "duration": 12,
    "start_time": "2022-07-26T11:59:07.404Z"
   },
   {
    "duration": 9,
    "start_time": "2022-07-26T11:59:37.608Z"
   },
   {
    "duration": 12,
    "start_time": "2022-07-26T11:59:46.847Z"
   },
   {
    "duration": 27,
    "start_time": "2022-07-26T12:03:17.382Z"
   },
   {
    "duration": 3,
    "start_time": "2022-07-26T12:03:51.859Z"
   },
   {
    "duration": 12,
    "start_time": "2022-07-26T12:04:10.330Z"
   },
   {
    "duration": 36,
    "start_time": "2022-07-26T12:17:42.413Z"
   },
   {
    "duration": 3,
    "start_time": "2022-07-26T12:18:01.543Z"
   },
   {
    "duration": 23,
    "start_time": "2022-07-26T12:18:06.428Z"
   },
   {
    "duration": 23,
    "start_time": "2022-07-26T12:19:04.536Z"
   },
   {
    "duration": 376,
    "start_time": "2022-07-26T12:19:25.559Z"
   },
   {
    "duration": 56,
    "start_time": "2022-07-26T12:19:25.937Z"
   },
   {
    "duration": 24,
    "start_time": "2022-07-26T12:19:25.995Z"
   },
   {
    "duration": 12,
    "start_time": "2022-07-26T12:19:26.021Z"
   },
   {
    "duration": 26,
    "start_time": "2022-07-26T12:19:26.035Z"
   },
   {
    "duration": 5,
    "start_time": "2022-07-26T12:19:26.063Z"
   },
   {
    "duration": 21,
    "start_time": "2022-07-26T12:19:26.069Z"
   },
   {
    "duration": 20,
    "start_time": "2022-07-26T12:19:26.092Z"
   },
   {
    "duration": 329,
    "start_time": "2022-07-26T12:19:26.134Z"
   },
   {
    "duration": 120,
    "start_time": "2022-07-26T12:19:26.466Z"
   },
   {
    "duration": 129,
    "start_time": "2022-07-26T12:19:26.587Z"
   },
   {
    "duration": 130,
    "start_time": "2022-07-26T12:19:26.717Z"
   },
   {
    "duration": 19,
    "start_time": "2022-07-26T12:19:26.849Z"
   },
   {
    "duration": 5,
    "start_time": "2022-07-26T12:19:26.869Z"
   },
   {
    "duration": 8,
    "start_time": "2022-07-26T12:19:26.875Z"
   },
   {
    "duration": 8,
    "start_time": "2022-07-26T12:19:26.884Z"
   },
   {
    "duration": 12,
    "start_time": "2022-07-26T12:19:26.893Z"
   },
   {
    "duration": 30,
    "start_time": "2022-07-26T12:19:26.907Z"
   },
   {
    "duration": 21,
    "start_time": "2022-07-26T12:19:26.938Z"
   },
   {
    "duration": 13,
    "start_time": "2022-07-26T12:19:26.960Z"
   },
   {
    "duration": 15,
    "start_time": "2022-07-26T12:19:26.974Z"
   },
   {
    "duration": 45,
    "start_time": "2022-07-26T12:19:26.990Z"
   },
   {
    "duration": 20,
    "start_time": "2022-07-26T12:19:27.036Z"
   },
   {
    "duration": 8,
    "start_time": "2022-07-26T12:19:27.058Z"
   },
   {
    "duration": 127,
    "start_time": "2022-07-26T12:19:27.067Z"
   },
   {
    "duration": 4,
    "start_time": "2022-07-26T12:19:27.196Z"
   },
   {
    "duration": 22,
    "start_time": "2022-07-26T12:19:27.201Z"
   },
   {
    "duration": 4,
    "start_time": "2022-07-26T12:19:27.234Z"
   },
   {
    "duration": 14,
    "start_time": "2022-07-26T12:19:27.239Z"
   },
   {
    "duration": 13,
    "start_time": "2022-07-26T12:19:27.254Z"
   },
   {
    "duration": 4,
    "start_time": "2022-07-26T12:19:27.269Z"
   },
   {
    "duration": 17,
    "start_time": "2022-07-26T12:19:27.274Z"
   },
   {
    "duration": 11,
    "start_time": "2022-07-26T12:19:27.292Z"
   },
   {
    "duration": 40,
    "start_time": "2022-07-26T12:19:27.304Z"
   },
   {
    "duration": 2,
    "start_time": "2022-07-26T12:19:27.346Z"
   },
   {
    "duration": 152,
    "start_time": "2022-07-26T12:19:27.350Z"
   },
   {
    "duration": 25,
    "start_time": "2022-07-26T12:20:06.439Z"
   },
   {
    "duration": 26,
    "start_time": "2022-07-26T12:20:19.917Z"
   },
   {
    "duration": 31,
    "start_time": "2022-07-26T12:20:42.728Z"
   },
   {
    "duration": 8,
    "start_time": "2022-07-26T12:25:15.266Z"
   },
   {
    "duration": 186,
    "start_time": "2022-07-26T12:25:31.212Z"
   },
   {
    "duration": 12,
    "start_time": "2022-07-26T12:26:10.949Z"
   },
   {
    "duration": 15,
    "start_time": "2022-07-26T12:26:19.998Z"
   },
   {
    "duration": 15,
    "start_time": "2022-07-26T12:26:34.540Z"
   },
   {
    "duration": 15,
    "start_time": "2022-07-26T12:27:55.605Z"
   },
   {
    "duration": 11,
    "start_time": "2022-07-26T12:28:22.179Z"
   },
   {
    "duration": 13,
    "start_time": "2022-07-26T12:28:32.111Z"
   },
   {
    "duration": 11,
    "start_time": "2022-07-26T12:29:01.351Z"
   },
   {
    "duration": 6,
    "start_time": "2022-07-26T12:29:32.993Z"
   },
   {
    "duration": 12,
    "start_time": "2022-07-26T12:29:44.254Z"
   },
   {
    "duration": 5,
    "start_time": "2022-07-26T12:41:36.707Z"
   },
   {
    "duration": 50,
    "start_time": "2022-07-26T12:43:56.947Z"
   },
   {
    "duration": 9,
    "start_time": "2022-07-26T12:44:14.779Z"
   },
   {
    "duration": 66,
    "start_time": "2022-07-26T12:44:38.800Z"
   },
   {
    "duration": 25,
    "start_time": "2022-07-26T12:44:49.737Z"
   },
   {
    "duration": 26,
    "start_time": "2022-07-26T12:50:15.693Z"
   },
   {
    "duration": 403,
    "start_time": "2022-07-26T12:50:33.147Z"
   },
   {
    "duration": 53,
    "start_time": "2022-07-26T12:50:33.551Z"
   },
   {
    "duration": 26,
    "start_time": "2022-07-26T12:50:33.606Z"
   },
   {
    "duration": 13,
    "start_time": "2022-07-26T12:50:33.635Z"
   },
   {
    "duration": 28,
    "start_time": "2022-07-26T12:50:33.650Z"
   },
   {
    "duration": 3,
    "start_time": "2022-07-26T12:50:33.681Z"
   },
   {
    "duration": 27,
    "start_time": "2022-07-26T12:50:33.686Z"
   },
   {
    "duration": 28,
    "start_time": "2022-07-26T12:50:33.733Z"
   },
   {
    "duration": 362,
    "start_time": "2022-07-26T12:50:33.763Z"
   },
   {
    "duration": 126,
    "start_time": "2022-07-26T12:50:34.128Z"
   },
   {
    "duration": 132,
    "start_time": "2022-07-26T12:50:34.256Z"
   },
   {
    "duration": 126,
    "start_time": "2022-07-26T12:50:34.390Z"
   },
   {
    "duration": 30,
    "start_time": "2022-07-26T12:50:34.518Z"
   },
   {
    "duration": 5,
    "start_time": "2022-07-26T12:50:34.550Z"
   },
   {
    "duration": 8,
    "start_time": "2022-07-26T12:50:34.557Z"
   },
   {
    "duration": 7,
    "start_time": "2022-07-26T12:50:34.567Z"
   },
   {
    "duration": 8,
    "start_time": "2022-07-26T12:50:34.576Z"
   },
   {
    "duration": 8,
    "start_time": "2022-07-26T12:50:34.585Z"
   },
   {
    "duration": 56,
    "start_time": "2022-07-26T12:50:34.594Z"
   },
   {
    "duration": 12,
    "start_time": "2022-07-26T12:50:34.652Z"
   },
   {
    "duration": 24,
    "start_time": "2022-07-26T12:50:34.666Z"
   },
   {
    "duration": 20,
    "start_time": "2022-07-26T12:50:34.692Z"
   },
   {
    "duration": 39,
    "start_time": "2022-07-26T12:50:34.713Z"
   },
   {
    "duration": 8,
    "start_time": "2022-07-26T12:50:34.753Z"
   },
   {
    "duration": 125,
    "start_time": "2022-07-26T12:50:34.763Z"
   },
   {
    "duration": 4,
    "start_time": "2022-07-26T12:50:34.890Z"
   },
   {
    "duration": 24,
    "start_time": "2022-07-26T12:50:34.896Z"
   },
   {
    "duration": 4,
    "start_time": "2022-07-26T12:50:34.933Z"
   },
   {
    "duration": 15,
    "start_time": "2022-07-26T12:50:34.938Z"
   },
   {
    "duration": 13,
    "start_time": "2022-07-26T12:50:34.954Z"
   },
   {
    "duration": 5,
    "start_time": "2022-07-26T12:50:34.968Z"
   },
   {
    "duration": 18,
    "start_time": "2022-07-26T12:50:34.974Z"
   },
   {
    "duration": 12,
    "start_time": "2022-07-26T12:50:34.994Z"
   },
   {
    "duration": 41,
    "start_time": "2022-07-26T12:50:35.007Z"
   },
   {
    "duration": 157,
    "start_time": "2022-07-26T12:50:35.050Z"
   },
   {
    "duration": 0,
    "start_time": "2022-07-26T12:50:35.209Z"
   },
   {
    "duration": 0,
    "start_time": "2022-07-26T12:50:35.211Z"
   },
   {
    "duration": 24,
    "start_time": "2022-07-26T12:50:57.729Z"
   },
   {
    "duration": 195,
    "start_time": "2022-07-26T12:51:06.576Z"
   },
   {
    "duration": 23,
    "start_time": "2022-07-26T12:51:37.842Z"
   },
   {
    "duration": 103,
    "start_time": "2022-07-26T12:51:49.932Z"
   },
   {
    "duration": 12,
    "start_time": "2022-07-26T12:52:10.394Z"
   },
   {
    "duration": 21,
    "start_time": "2022-07-26T12:52:13.665Z"
   },
   {
    "duration": 16,
    "start_time": "2022-07-26T12:52:33.137Z"
   },
   {
    "duration": 16,
    "start_time": "2022-07-26T12:52:45.083Z"
   },
   {
    "duration": 14,
    "start_time": "2022-07-26T12:57:16.655Z"
   },
   {
    "duration": 73,
    "start_time": "2022-07-26T13:00:43.028Z"
   },
   {
    "duration": 28,
    "start_time": "2022-07-26T13:01:20.426Z"
   },
   {
    "duration": 23,
    "start_time": "2022-07-26T13:02:09.796Z"
   },
   {
    "duration": 22,
    "start_time": "2022-07-26T13:03:12.098Z"
   },
   {
    "duration": 26,
    "start_time": "2022-07-26T13:03:16.949Z"
   },
   {
    "duration": 23,
    "start_time": "2022-07-26T13:06:24.646Z"
   },
   {
    "duration": 31,
    "start_time": "2022-07-26T13:06:29.112Z"
   },
   {
    "duration": 51,
    "start_time": "2022-07-27T14:01:34.013Z"
   },
   {
    "duration": 374,
    "start_time": "2022-07-27T14:01:53.284Z"
   },
   {
    "duration": 92,
    "start_time": "2022-07-27T14:01:53.660Z"
   },
   {
    "duration": 25,
    "start_time": "2022-07-27T14:01:53.753Z"
   },
   {
    "duration": 13,
    "start_time": "2022-07-27T14:01:53.780Z"
   },
   {
    "duration": 27,
    "start_time": "2022-07-27T14:01:53.794Z"
   },
   {
    "duration": 3,
    "start_time": "2022-07-27T14:01:53.823Z"
   },
   {
    "duration": 29,
    "start_time": "2022-07-27T14:01:53.827Z"
   },
   {
    "duration": 22,
    "start_time": "2022-07-27T14:01:53.858Z"
   },
   {
    "duration": 488,
    "start_time": "2022-07-27T14:01:53.882Z"
   },
   {
    "duration": 135,
    "start_time": "2022-07-27T14:01:54.372Z"
   },
   {
    "duration": 142,
    "start_time": "2022-07-27T14:01:54.509Z"
   },
   {
    "duration": 156,
    "start_time": "2022-07-27T14:01:54.652Z"
   },
   {
    "duration": 28,
    "start_time": "2022-07-27T14:01:54.810Z"
   },
   {
    "duration": 8,
    "start_time": "2022-07-27T14:01:54.839Z"
   },
   {
    "duration": 13,
    "start_time": "2022-07-27T14:01:54.849Z"
   },
   {
    "duration": 8,
    "start_time": "2022-07-27T14:01:54.864Z"
   },
   {
    "duration": 6,
    "start_time": "2022-07-27T14:01:54.874Z"
   },
   {
    "duration": 8,
    "start_time": "2022-07-27T14:01:54.881Z"
   },
   {
    "duration": 87,
    "start_time": "2022-07-27T14:01:54.890Z"
   },
   {
    "duration": 14,
    "start_time": "2022-07-27T14:01:54.979Z"
   },
   {
    "duration": 16,
    "start_time": "2022-07-27T14:01:54.994Z"
   },
   {
    "duration": 41,
    "start_time": "2022-07-27T14:01:55.011Z"
   },
   {
    "duration": 20,
    "start_time": "2022-07-27T14:01:55.054Z"
   },
   {
    "duration": 8,
    "start_time": "2022-07-27T14:01:55.076Z"
   },
   {
    "duration": 135,
    "start_time": "2022-07-27T14:01:55.086Z"
   },
   {
    "duration": 5,
    "start_time": "2022-07-27T14:01:55.236Z"
   },
   {
    "duration": 22,
    "start_time": "2022-07-27T14:01:55.243Z"
   },
   {
    "duration": 5,
    "start_time": "2022-07-27T14:01:55.268Z"
   },
   {
    "duration": 16,
    "start_time": "2022-07-27T14:01:55.274Z"
   },
   {
    "duration": 15,
    "start_time": "2022-07-27T14:01:55.291Z"
   },
   {
    "duration": 30,
    "start_time": "2022-07-27T14:01:55.308Z"
   },
   {
    "duration": 20,
    "start_time": "2022-07-27T14:01:55.340Z"
   },
   {
    "duration": 13,
    "start_time": "2022-07-27T14:01:55.362Z"
   },
   {
    "duration": 15,
    "start_time": "2022-07-27T14:01:55.376Z"
   },
   {
    "duration": 45,
    "start_time": "2022-07-27T14:01:55.393Z"
   },
   {
    "duration": 40,
    "start_time": "2022-07-27T14:01:55.440Z"
   },
   {
    "duration": 15,
    "start_time": "2022-07-27T14:01:55.482Z"
   },
   {
    "duration": 21,
    "start_time": "2022-07-27T14:02:18.474Z"
   },
   {
    "duration": 21,
    "start_time": "2022-07-27T14:03:04.851Z"
   },
   {
    "duration": 26,
    "start_time": "2022-07-27T14:04:38.437Z"
   },
   {
    "duration": 24,
    "start_time": "2022-07-27T14:05:40.454Z"
   },
   {
    "duration": 31,
    "start_time": "2022-07-27T14:05:44.238Z"
   },
   {
    "duration": 21,
    "start_time": "2022-07-27T14:05:47.272Z"
   },
   {
    "duration": 41,
    "start_time": "2022-07-27T14:09:44.021Z"
   },
   {
    "duration": 7,
    "start_time": "2022-07-27T14:09:56.737Z"
   },
   {
    "duration": 6,
    "start_time": "2022-07-27T14:10:00.404Z"
   },
   {
    "duration": 22,
    "start_time": "2022-07-27T14:10:10.183Z"
   },
   {
    "duration": 110,
    "start_time": "2022-07-27T14:13:30.714Z"
   },
   {
    "duration": 13,
    "start_time": "2022-07-27T14:13:42.767Z"
   },
   {
    "duration": 33,
    "start_time": "2022-07-27T14:13:57.944Z"
   },
   {
    "duration": 9,
    "start_time": "2022-07-27T14:21:49.011Z"
   },
   {
    "duration": 30,
    "start_time": "2022-07-27T14:22:45.235Z"
   },
   {
    "duration": 649,
    "start_time": "2022-07-27T14:39:11.432Z"
   },
   {
    "duration": 239,
    "start_time": "2022-07-27T14:39:23.683Z"
   },
   {
    "duration": 279,
    "start_time": "2022-07-27T14:47:49.019Z"
   },
   {
    "duration": 3,
    "start_time": "2022-07-27T14:53:25.232Z"
   },
   {
    "duration": 4,
    "start_time": "2022-07-27T14:53:28.963Z"
   },
   {
    "duration": 207,
    "start_time": "2022-07-27T14:53:43.612Z"
   },
   {
    "duration": 277,
    "start_time": "2022-07-27T14:54:00.508Z"
   },
   {
    "duration": 205,
    "start_time": "2022-07-27T14:54:28.614Z"
   },
   {
    "duration": 215,
    "start_time": "2022-07-27T14:56:12.755Z"
   },
   {
    "duration": 212,
    "start_time": "2022-07-27T14:56:20.189Z"
   },
   {
    "duration": 207,
    "start_time": "2022-07-27T14:59:58.175Z"
   },
   {
    "duration": 86,
    "start_time": "2022-07-27T15:00:13.910Z"
   },
   {
    "duration": 192,
    "start_time": "2022-07-27T15:00:21.591Z"
   },
   {
    "duration": 355,
    "start_time": "2022-07-27T15:00:28.704Z"
   },
   {
    "duration": 201,
    "start_time": "2022-07-27T15:00:36.937Z"
   },
   {
    "duration": 187,
    "start_time": "2022-07-27T15:01:14.057Z"
   },
   {
    "duration": 193,
    "start_time": "2022-07-27T15:01:25.222Z"
   },
   {
    "duration": 210,
    "start_time": "2022-07-27T15:01:32.938Z"
   },
   {
    "duration": 281,
    "start_time": "2022-07-27T15:01:41.857Z"
   },
   {
    "duration": 198,
    "start_time": "2022-07-27T15:01:52.027Z"
   },
   {
    "duration": 209,
    "start_time": "2022-07-27T15:02:00.729Z"
   },
   {
    "duration": 244,
    "start_time": "2022-07-27T15:02:08.741Z"
   },
   {
    "duration": 62,
    "start_time": "2022-07-27T15:02:22.104Z"
   },
   {
    "duration": 195,
    "start_time": "2022-07-27T15:02:27.209Z"
   },
   {
    "duration": 188,
    "start_time": "2022-07-27T15:03:41.061Z"
   },
   {
    "duration": 290,
    "start_time": "2022-07-27T15:03:50.185Z"
   },
   {
    "duration": 188,
    "start_time": "2022-07-27T15:03:55.678Z"
   },
   {
    "duration": 389,
    "start_time": "2022-07-27T15:06:34.852Z"
   },
   {
    "duration": 238,
    "start_time": "2022-07-27T15:06:35.243Z"
   },
   {
    "duration": 52,
    "start_time": "2022-07-27T15:06:35.483Z"
   },
   {
    "duration": 23,
    "start_time": "2022-07-27T15:06:35.537Z"
   },
   {
    "duration": 16,
    "start_time": "2022-07-27T15:06:35.561Z"
   },
   {
    "duration": 41,
    "start_time": "2022-07-27T15:06:35.579Z"
   },
   {
    "duration": 19,
    "start_time": "2022-07-27T15:06:35.621Z"
   },
   {
    "duration": 36,
    "start_time": "2022-07-27T15:06:35.641Z"
   },
   {
    "duration": 26,
    "start_time": "2022-07-27T15:06:35.678Z"
   },
   {
    "duration": 131,
    "start_time": "2022-07-27T15:06:35.707Z"
   },
   {
    "duration": 149,
    "start_time": "2022-07-27T15:06:35.840Z"
   },
   {
    "duration": 138,
    "start_time": "2022-07-27T15:06:35.991Z"
   },
   {
    "duration": 136,
    "start_time": "2022-07-27T15:06:36.137Z"
   },
   {
    "duration": 24,
    "start_time": "2022-07-27T15:06:36.275Z"
   },
   {
    "duration": 28,
    "start_time": "2022-07-27T15:06:36.300Z"
   },
   {
    "duration": 30,
    "start_time": "2022-07-27T15:06:36.329Z"
   },
   {
    "duration": 24,
    "start_time": "2022-07-27T15:06:36.361Z"
   },
   {
    "duration": 60,
    "start_time": "2022-07-27T15:06:36.387Z"
   },
   {
    "duration": 38,
    "start_time": "2022-07-27T15:06:36.448Z"
   },
   {
    "duration": 36,
    "start_time": "2022-07-27T15:06:36.487Z"
   },
   {
    "duration": 58,
    "start_time": "2022-07-27T15:06:36.525Z"
   },
   {
    "duration": 15,
    "start_time": "2022-07-27T15:06:36.584Z"
   },
   {
    "duration": 40,
    "start_time": "2022-07-27T15:06:36.601Z"
   },
   {
    "duration": 23,
    "start_time": "2022-07-27T15:06:36.643Z"
   },
   {
    "duration": 7,
    "start_time": "2022-07-27T15:06:36.668Z"
   },
   {
    "duration": 122,
    "start_time": "2022-07-27T15:06:36.676Z"
   },
   {
    "duration": 5,
    "start_time": "2022-07-27T15:06:36.800Z"
   },
   {
    "duration": 38,
    "start_time": "2022-07-27T15:06:36.808Z"
   },
   {
    "duration": 19,
    "start_time": "2022-07-27T15:06:36.848Z"
   },
   {
    "duration": 43,
    "start_time": "2022-07-27T15:06:36.868Z"
   },
   {
    "duration": 59,
    "start_time": "2022-07-27T15:06:36.913Z"
   },
   {
    "duration": 20,
    "start_time": "2022-07-27T15:06:36.974Z"
   },
   {
    "duration": 35,
    "start_time": "2022-07-27T15:06:36.996Z"
   },
   {
    "duration": 11,
    "start_time": "2022-07-27T15:06:37.033Z"
   },
   {
    "duration": 17,
    "start_time": "2022-07-27T15:06:37.046Z"
   },
   {
    "duration": 25,
    "start_time": "2022-07-27T15:06:37.065Z"
   },
   {
    "duration": 25,
    "start_time": "2022-07-27T15:06:37.091Z"
   },
   {
    "duration": 32,
    "start_time": "2022-07-27T15:06:37.117Z"
   },
   {
    "duration": 22,
    "start_time": "2022-07-27T15:06:37.150Z"
   },
   {
    "duration": 24,
    "start_time": "2022-07-27T15:06:37.174Z"
   },
   {
    "duration": 5,
    "start_time": "2022-07-27T15:06:37.200Z"
   },
   {
    "duration": 50,
    "start_time": "2022-07-27T15:06:37.207Z"
   },
   {
    "duration": 249,
    "start_time": "2022-07-27T15:06:37.259Z"
   },
   {
    "duration": 198,
    "start_time": "2022-07-27T15:06:37.510Z"
   },
   {
    "duration": 85,
    "start_time": "2022-07-27T15:12:54.447Z"
   },
   {
    "duration": 26,
    "start_time": "2022-07-27T15:13:34.550Z"
   },
   {
    "duration": 24,
    "start_time": "2022-07-27T15:14:30.809Z"
   },
   {
    "duration": 12,
    "start_time": "2022-07-27T15:22:36.015Z"
   },
   {
    "duration": 14,
    "start_time": "2022-07-27T15:23:35.750Z"
   },
   {
    "duration": 10,
    "start_time": "2022-07-27T15:25:38.634Z"
   },
   {
    "duration": 8,
    "start_time": "2022-07-27T15:25:49.455Z"
   },
   {
    "duration": 10,
    "start_time": "2022-07-27T15:26:55.961Z"
   },
   {
    "duration": 8,
    "start_time": "2022-07-27T15:27:06.935Z"
   },
   {
    "duration": 383,
    "start_time": "2022-07-27T15:30:02.858Z"
   },
   {
    "duration": 222,
    "start_time": "2022-07-27T15:30:03.242Z"
   },
   {
    "duration": 53,
    "start_time": "2022-07-27T15:30:03.466Z"
   },
   {
    "duration": 24,
    "start_time": "2022-07-27T15:30:03.521Z"
   },
   {
    "duration": 20,
    "start_time": "2022-07-27T15:30:03.546Z"
   },
   {
    "duration": 38,
    "start_time": "2022-07-27T15:30:03.568Z"
   },
   {
    "duration": 4,
    "start_time": "2022-07-27T15:30:03.608Z"
   },
   {
    "duration": 40,
    "start_time": "2022-07-27T15:30:03.613Z"
   },
   {
    "duration": 25,
    "start_time": "2022-07-27T15:30:03.655Z"
   },
   {
    "duration": 146,
    "start_time": "2022-07-27T15:30:03.682Z"
   },
   {
    "duration": 141,
    "start_time": "2022-07-27T15:30:03.836Z"
   },
   {
    "duration": 144,
    "start_time": "2022-07-27T15:30:03.979Z"
   },
   {
    "duration": 153,
    "start_time": "2022-07-27T15:30:04.125Z"
   },
   {
    "duration": 22,
    "start_time": "2022-07-27T15:30:04.282Z"
   },
   {
    "duration": 5,
    "start_time": "2022-07-27T15:30:04.306Z"
   },
   {
    "duration": 29,
    "start_time": "2022-07-27T15:30:04.313Z"
   },
   {
    "duration": 8,
    "start_time": "2022-07-27T15:30:04.344Z"
   },
   {
    "duration": 10,
    "start_time": "2022-07-27T15:30:04.354Z"
   },
   {
    "duration": 9,
    "start_time": "2022-07-27T15:30:04.365Z"
   },
   {
    "duration": 27,
    "start_time": "2022-07-27T15:30:04.376Z"
   },
   {
    "duration": 86,
    "start_time": "2022-07-27T15:30:04.405Z"
   },
   {
    "duration": 17,
    "start_time": "2022-07-27T15:30:04.493Z"
   },
   {
    "duration": 41,
    "start_time": "2022-07-27T15:30:04.512Z"
   },
   {
    "duration": 20,
    "start_time": "2022-07-27T15:30:04.554Z"
   },
   {
    "duration": 8,
    "start_time": "2022-07-27T15:30:04.576Z"
   },
   {
    "duration": 177,
    "start_time": "2022-07-27T15:30:04.586Z"
   },
   {
    "duration": 6,
    "start_time": "2022-07-27T15:30:04.764Z"
   },
   {
    "duration": 26,
    "start_time": "2022-07-27T15:30:04.775Z"
   },
   {
    "duration": 12,
    "start_time": "2022-07-27T15:30:04.803Z"
   },
   {
    "duration": 22,
    "start_time": "2022-07-27T15:30:04.817Z"
   },
   {
    "duration": 24,
    "start_time": "2022-07-27T15:30:04.841Z"
   },
   {
    "duration": 5,
    "start_time": "2022-07-27T15:30:04.868Z"
   },
   {
    "duration": 25,
    "start_time": "2022-07-27T15:30:04.876Z"
   },
   {
    "duration": 43,
    "start_time": "2022-07-27T15:30:04.904Z"
   },
   {
    "duration": 19,
    "start_time": "2022-07-27T15:30:04.950Z"
   },
   {
    "duration": 27,
    "start_time": "2022-07-27T15:30:04.971Z"
   },
   {
    "duration": 45,
    "start_time": "2022-07-27T15:30:05.000Z"
   },
   {
    "duration": 22,
    "start_time": "2022-07-27T15:30:05.047Z"
   },
   {
    "duration": 23,
    "start_time": "2022-07-27T15:30:05.071Z"
   },
   {
    "duration": 48,
    "start_time": "2022-07-27T15:30:05.095Z"
   },
   {
    "duration": 6,
    "start_time": "2022-07-27T15:30:05.145Z"
   },
   {
    "duration": 31,
    "start_time": "2022-07-27T15:30:05.153Z"
   },
   {
    "duration": 261,
    "start_time": "2022-07-27T15:30:05.185Z"
   },
   {
    "duration": 219,
    "start_time": "2022-07-27T15:30:05.447Z"
   },
   {
    "duration": 26,
    "start_time": "2022-07-27T15:30:05.667Z"
   },
   {
    "duration": 20,
    "start_time": "2022-07-27T15:30:05.694Z"
   },
   {
    "duration": 22,
    "start_time": "2022-07-27T15:30:05.715Z"
   },
   {
    "duration": 11,
    "start_time": "2022-07-27T15:31:00.297Z"
   },
   {
    "duration": 149,
    "start_time": "2022-07-27T15:39:45.044Z"
   },
   {
    "duration": 163,
    "start_time": "2022-07-27T15:40:41.363Z"
   },
   {
    "duration": 127,
    "start_time": "2022-07-27T15:41:17.776Z"
   },
   {
    "duration": 189,
    "start_time": "2022-07-27T15:41:43.041Z"
   },
   {
    "duration": 7,
    "start_time": "2022-07-27T15:56:56.747Z"
   },
   {
    "duration": 9,
    "start_time": "2022-07-27T15:57:20.659Z"
   },
   {
    "duration": 128,
    "start_time": "2022-07-27T15:59:13.748Z"
   },
   {
    "duration": 172,
    "start_time": "2022-07-27T15:59:35.831Z"
   },
   {
    "duration": 289,
    "start_time": "2022-07-27T16:02:33.992Z"
   },
   {
    "duration": 246,
    "start_time": "2022-07-27T16:03:16.724Z"
   },
   {
    "duration": 248,
    "start_time": "2022-07-27T16:03:51.479Z"
   },
   {
    "duration": 235,
    "start_time": "2022-07-27T16:08:25.723Z"
   },
   {
    "duration": 274,
    "start_time": "2022-07-27T16:08:34.125Z"
   },
   {
    "duration": 329,
    "start_time": "2022-07-27T16:08:43.399Z"
   },
   {
    "duration": 259,
    "start_time": "2022-07-27T16:08:53.838Z"
   },
   {
    "duration": 213,
    "start_time": "2022-07-27T16:09:43.134Z"
   },
   {
    "duration": 450,
    "start_time": "2022-07-27T16:17:23.925Z"
   },
   {
    "duration": 217,
    "start_time": "2022-07-27T16:17:24.377Z"
   },
   {
    "duration": 52,
    "start_time": "2022-07-27T16:17:24.596Z"
   },
   {
    "duration": 24,
    "start_time": "2022-07-27T16:17:24.650Z"
   },
   {
    "duration": 25,
    "start_time": "2022-07-27T16:17:24.676Z"
   },
   {
    "duration": 69,
    "start_time": "2022-07-27T16:17:24.703Z"
   },
   {
    "duration": 5,
    "start_time": "2022-07-27T16:17:24.774Z"
   },
   {
    "duration": 20,
    "start_time": "2022-07-27T16:17:24.781Z"
   },
   {
    "duration": 44,
    "start_time": "2022-07-27T16:17:24.803Z"
   },
   {
    "duration": 149,
    "start_time": "2022-07-27T16:17:24.849Z"
   },
   {
    "duration": 141,
    "start_time": "2022-07-27T16:17:24.999Z"
   },
   {
    "duration": 147,
    "start_time": "2022-07-27T16:17:25.143Z"
   },
   {
    "duration": 147,
    "start_time": "2022-07-27T16:17:25.291Z"
   },
   {
    "duration": 24,
    "start_time": "2022-07-27T16:17:25.439Z"
   },
   {
    "duration": 6,
    "start_time": "2022-07-27T16:17:25.464Z"
   },
   {
    "duration": 11,
    "start_time": "2022-07-27T16:17:25.472Z"
   },
   {
    "duration": 8,
    "start_time": "2022-07-27T16:17:25.484Z"
   },
   {
    "duration": 6,
    "start_time": "2022-07-27T16:17:25.495Z"
   },
   {
    "duration": 39,
    "start_time": "2022-07-27T16:17:25.504Z"
   },
   {
    "duration": 28,
    "start_time": "2022-07-27T16:17:25.545Z"
   },
   {
    "duration": 78,
    "start_time": "2022-07-27T16:17:25.575Z"
   },
   {
    "duration": 16,
    "start_time": "2022-07-27T16:17:25.654Z"
   },
   {
    "duration": 22,
    "start_time": "2022-07-27T16:17:25.672Z"
   },
   {
    "duration": 45,
    "start_time": "2022-07-27T16:17:25.696Z"
   },
   {
    "duration": 7,
    "start_time": "2022-07-27T16:17:25.743Z"
   },
   {
    "duration": 135,
    "start_time": "2022-07-27T16:17:25.751Z"
   },
   {
    "duration": 5,
    "start_time": "2022-07-27T16:17:25.888Z"
   },
   {
    "duration": 41,
    "start_time": "2022-07-27T16:17:25.896Z"
   },
   {
    "duration": 21,
    "start_time": "2022-07-27T16:17:25.939Z"
   },
   {
    "duration": 12,
    "start_time": "2022-07-27T16:17:25.962Z"
   },
   {
    "duration": 14,
    "start_time": "2022-07-27T16:17:25.976Z"
   },
   {
    "duration": 8,
    "start_time": "2022-07-27T16:17:25.991Z"
   },
   {
    "duration": 29,
    "start_time": "2022-07-27T16:17:26.001Z"
   },
   {
    "duration": 21,
    "start_time": "2022-07-27T16:17:26.037Z"
   },
   {
    "duration": 33,
    "start_time": "2022-07-27T16:17:26.060Z"
   },
   {
    "duration": 51,
    "start_time": "2022-07-27T16:17:26.095Z"
   },
   {
    "duration": 25,
    "start_time": "2022-07-27T16:17:26.148Z"
   },
   {
    "duration": 24,
    "start_time": "2022-07-27T16:17:26.175Z"
   },
   {
    "duration": 54,
    "start_time": "2022-07-27T16:17:26.201Z"
   },
   {
    "duration": 7,
    "start_time": "2022-07-27T16:17:26.257Z"
   },
   {
    "duration": 29,
    "start_time": "2022-07-27T16:17:26.266Z"
   },
   {
    "duration": 270,
    "start_time": "2022-07-27T16:17:26.297Z"
   },
   {
    "duration": 225,
    "start_time": "2022-07-27T16:17:26.569Z"
   },
   {
    "duration": 24,
    "start_time": "2022-07-27T16:17:26.796Z"
   },
   {
    "duration": 21,
    "start_time": "2022-07-27T16:17:26.823Z"
   },
   {
    "duration": 14,
    "start_time": "2022-07-27T16:17:26.846Z"
   },
   {
    "duration": 156,
    "start_time": "2022-07-27T16:17:26.862Z"
   },
   {
    "duration": 167,
    "start_time": "2022-07-27T16:17:27.019Z"
   },
   {
    "duration": 5,
    "start_time": "2022-07-27T16:17:27.188Z"
   },
   {
    "duration": 12,
    "start_time": "2022-07-27T16:17:27.194Z"
   },
   {
    "duration": 146,
    "start_time": "2022-07-27T16:17:27.207Z"
   },
   {
    "duration": 163,
    "start_time": "2022-07-27T16:17:27.355Z"
   },
   {
    "duration": 274,
    "start_time": "2022-07-27T16:17:27.519Z"
   },
   {
    "duration": 33,
    "start_time": "2022-07-27T16:21:52.328Z"
   },
   {
    "duration": 10,
    "start_time": "2022-07-27T16:21:59.647Z"
   },
   {
    "duration": 9,
    "start_time": "2022-07-27T16:22:05.226Z"
   },
   {
    "duration": 190,
    "start_time": "2022-07-27T16:22:15.324Z"
   },
   {
    "duration": 135,
    "start_time": "2022-07-27T16:22:21.184Z"
   },
   {
    "duration": 149,
    "start_time": "2022-07-27T16:22:32.624Z"
   },
   {
    "duration": 23,
    "start_time": "2022-07-27T16:27:41.347Z"
   },
   {
    "duration": 10,
    "start_time": "2022-07-27T16:27:50.809Z"
   },
   {
    "duration": 147,
    "start_time": "2022-07-27T16:28:56.224Z"
   },
   {
    "duration": 141,
    "start_time": "2022-07-27T16:29:05.124Z"
   },
   {
    "duration": 273,
    "start_time": "2022-07-27T16:30:37.037Z"
   },
   {
    "duration": 436,
    "start_time": "2022-07-28T15:55:04.544Z"
   },
   {
    "duration": 326,
    "start_time": "2022-07-28T15:55:04.982Z"
   },
   {
    "duration": 61,
    "start_time": "2022-07-28T15:55:05.310Z"
   },
   {
    "duration": 29,
    "start_time": "2022-07-28T15:55:05.374Z"
   },
   {
    "duration": 22,
    "start_time": "2022-07-28T15:55:05.406Z"
   },
   {
    "duration": 33,
    "start_time": "2022-07-28T15:55:05.430Z"
   },
   {
    "duration": 5,
    "start_time": "2022-07-28T15:55:05.465Z"
   },
   {
    "duration": 46,
    "start_time": "2022-07-28T15:55:05.471Z"
   },
   {
    "duration": 29,
    "start_time": "2022-07-28T15:55:05.519Z"
   },
   {
    "duration": 174,
    "start_time": "2022-07-28T15:55:05.551Z"
   },
   {
    "duration": 179,
    "start_time": "2022-07-28T15:55:05.727Z"
   },
   {
    "duration": 166,
    "start_time": "2022-07-28T15:55:05.908Z"
   },
   {
    "duration": 172,
    "start_time": "2022-07-28T15:55:06.076Z"
   },
   {
    "duration": 27,
    "start_time": "2022-07-28T15:55:06.250Z"
   },
   {
    "duration": 28,
    "start_time": "2022-07-28T15:55:06.279Z"
   },
   {
    "duration": 14,
    "start_time": "2022-07-28T15:55:06.309Z"
   },
   {
    "duration": 12,
    "start_time": "2022-07-28T15:55:06.325Z"
   },
   {
    "duration": 12,
    "start_time": "2022-07-28T15:55:06.339Z"
   },
   {
    "duration": 13,
    "start_time": "2022-07-28T15:55:06.353Z"
   },
   {
    "duration": 55,
    "start_time": "2022-07-28T15:55:06.368Z"
   },
   {
    "duration": 105,
    "start_time": "2022-07-28T15:55:06.425Z"
   },
   {
    "duration": 25,
    "start_time": "2022-07-28T15:55:06.532Z"
   },
   {
    "duration": 54,
    "start_time": "2022-07-28T15:55:06.559Z"
   },
   {
    "duration": 33,
    "start_time": "2022-07-28T15:55:06.616Z"
   },
   {
    "duration": 18,
    "start_time": "2022-07-28T15:55:06.651Z"
   },
   {
    "duration": 206,
    "start_time": "2022-07-28T15:55:06.672Z"
   },
   {
    "duration": 13,
    "start_time": "2022-07-28T15:55:06.880Z"
   },
   {
    "duration": 18,
    "start_time": "2022-07-28T15:55:06.908Z"
   },
   {
    "duration": 12,
    "start_time": "2022-07-28T15:55:06.928Z"
   },
   {
    "duration": 7,
    "start_time": "2022-07-28T15:55:06.942Z"
   },
   {
    "duration": 54,
    "start_time": "2022-07-28T15:55:06.951Z"
   },
   {
    "duration": 21,
    "start_time": "2022-07-28T15:55:07.007Z"
   },
   {
    "duration": 21,
    "start_time": "2022-07-28T15:55:07.031Z"
   },
   {
    "duration": 17,
    "start_time": "2022-07-28T15:55:07.054Z"
   },
   {
    "duration": 56,
    "start_time": "2022-07-28T15:55:07.073Z"
   },
   {
    "duration": 33,
    "start_time": "2022-07-28T15:55:07.131Z"
   },
   {
    "duration": 56,
    "start_time": "2022-07-28T15:55:07.166Z"
   },
   {
    "duration": 32,
    "start_time": "2022-07-28T15:55:07.224Z"
   },
   {
    "duration": 63,
    "start_time": "2022-07-28T15:55:07.258Z"
   },
   {
    "duration": 8,
    "start_time": "2022-07-28T15:55:07.323Z"
   },
   {
    "duration": 36,
    "start_time": "2022-07-28T15:55:07.332Z"
   },
   {
    "duration": 319,
    "start_time": "2022-07-28T15:55:07.370Z"
   },
   {
    "duration": 254,
    "start_time": "2022-07-28T15:55:07.690Z"
   },
   {
    "duration": 29,
    "start_time": "2022-07-28T15:55:07.946Z"
   },
   {
    "duration": 28,
    "start_time": "2022-07-28T15:55:07.978Z"
   },
   {
    "duration": 26,
    "start_time": "2022-07-28T15:55:08.007Z"
   },
   {
    "duration": 199,
    "start_time": "2022-07-28T15:55:08.035Z"
   },
   {
    "duration": 181,
    "start_time": "2022-07-28T15:55:08.237Z"
   },
   {
    "duration": 5,
    "start_time": "2022-07-28T15:55:08.420Z"
   },
   {
    "duration": 14,
    "start_time": "2022-07-28T15:55:08.427Z"
   },
   {
    "duration": 197,
    "start_time": "2022-07-28T15:55:08.445Z"
   },
   {
    "duration": 204,
    "start_time": "2022-07-28T15:55:08.645Z"
   },
   {
    "duration": 361,
    "start_time": "2022-07-28T15:55:08.851Z"
   },
   {
    "duration": 5,
    "start_time": "2022-07-28T15:55:09.214Z"
   },
   {
    "duration": 18,
    "start_time": "2022-07-28T15:55:09.221Z"
   },
   {
    "duration": 307,
    "start_time": "2022-07-28T15:55:09.241Z"
   },
   {
    "duration": 27,
    "start_time": "2022-07-28T15:55:09.551Z"
   },
   {
    "duration": 38,
    "start_time": "2022-07-28T15:55:09.580Z"
   },
   {
    "duration": 25,
    "start_time": "2022-07-28T15:55:09.620Z"
   },
   {
    "duration": 29,
    "start_time": "2022-07-28T15:55:09.647Z"
   },
   {
    "duration": 38,
    "start_time": "2022-07-28T15:55:09.678Z"
   },
   {
    "duration": 21,
    "start_time": "2022-07-28T15:55:09.717Z"
   },
   {
    "duration": 19,
    "start_time": "2022-07-28T15:55:09.739Z"
   },
   {
    "duration": 47,
    "start_time": "2022-07-28T15:55:09.760Z"
   },
   {
    "duration": 18,
    "start_time": "2022-07-28T15:55:09.809Z"
   },
   {
    "duration": 465,
    "start_time": "2022-07-28T15:55:09.829Z"
   },
   {
    "duration": 17,
    "start_time": "2022-07-28T15:55:10.297Z"
   },
   {
    "duration": 44,
    "start_time": "2022-07-28T15:55:10.316Z"
   },
   {
    "duration": 28,
    "start_time": "2022-07-28T16:03:04.323Z"
   },
   {
    "duration": 26,
    "start_time": "2022-07-28T16:05:17.497Z"
   },
   {
    "duration": 15,
    "start_time": "2022-07-28T16:05:30.274Z"
   },
   {
    "duration": 7,
    "start_time": "2022-07-28T16:11:46.498Z"
   },
   {
    "duration": 8,
    "start_time": "2022-07-28T16:11:55.161Z"
   },
   {
    "duration": 5,
    "start_time": "2022-07-28T16:12:32.332Z"
   },
   {
    "duration": 9,
    "start_time": "2022-07-28T16:12:54.508Z"
   },
   {
    "duration": 5,
    "start_time": "2022-07-28T16:13:10.797Z"
   },
   {
    "duration": 6,
    "start_time": "2022-07-28T16:13:14.829Z"
   },
   {
    "duration": 10,
    "start_time": "2022-07-28T16:13:25.013Z"
   },
   {
    "duration": 12,
    "start_time": "2022-07-28T16:14:51.441Z"
   },
   {
    "duration": 442,
    "start_time": "2022-07-28T16:19:45.213Z"
   },
   {
    "duration": 315,
    "start_time": "2022-07-28T16:19:45.657Z"
   },
   {
    "duration": 58,
    "start_time": "2022-07-28T16:19:45.973Z"
   },
   {
    "duration": 28,
    "start_time": "2022-07-28T16:19:46.034Z"
   },
   {
    "duration": 18,
    "start_time": "2022-07-28T16:19:46.064Z"
   },
   {
    "duration": 43,
    "start_time": "2022-07-28T16:19:46.104Z"
   },
   {
    "duration": 5,
    "start_time": "2022-07-28T16:19:46.149Z"
   },
   {
    "duration": 36,
    "start_time": "2022-07-28T16:19:46.156Z"
   },
   {
    "duration": 40,
    "start_time": "2022-07-28T16:19:46.194Z"
   },
   {
    "duration": 160,
    "start_time": "2022-07-28T16:19:46.237Z"
   },
   {
    "duration": 161,
    "start_time": "2022-07-28T16:19:46.399Z"
   },
   {
    "duration": 164,
    "start_time": "2022-07-28T16:19:46.562Z"
   },
   {
    "duration": 225,
    "start_time": "2022-07-28T16:19:46.728Z"
   },
   {
    "duration": 31,
    "start_time": "2022-07-28T16:19:46.955Z"
   },
   {
    "duration": 7,
    "start_time": "2022-07-28T16:19:47.004Z"
   },
   {
    "duration": 18,
    "start_time": "2022-07-28T16:19:47.013Z"
   },
   {
    "duration": 7,
    "start_time": "2022-07-28T16:19:47.033Z"
   },
   {
    "duration": 8,
    "start_time": "2022-07-28T16:19:47.042Z"
   },
   {
    "duration": 11,
    "start_time": "2022-07-28T16:19:47.051Z"
   },
   {
    "duration": 55,
    "start_time": "2022-07-28T16:19:47.063Z"
   },
   {
    "duration": 85,
    "start_time": "2022-07-28T16:19:47.120Z"
   },
   {
    "duration": 20,
    "start_time": "2022-07-28T16:19:47.207Z"
   },
   {
    "duration": 29,
    "start_time": "2022-07-28T16:19:47.229Z"
   },
   {
    "duration": 57,
    "start_time": "2022-07-28T16:19:47.260Z"
   },
   {
    "duration": 11,
    "start_time": "2022-07-28T16:19:47.319Z"
   },
   {
    "duration": 175,
    "start_time": "2022-07-28T16:19:47.332Z"
   },
   {
    "duration": 11,
    "start_time": "2022-07-28T16:19:47.509Z"
   },
   {
    "duration": 18,
    "start_time": "2022-07-28T16:19:47.525Z"
   },
   {
    "duration": 13,
    "start_time": "2022-07-28T16:19:47.545Z"
   },
   {
    "duration": 6,
    "start_time": "2022-07-28T16:19:47.560Z"
   },
   {
    "duration": 26,
    "start_time": "2022-07-28T16:19:47.605Z"
   },
   {
    "duration": 17,
    "start_time": "2022-07-28T16:19:47.633Z"
   },
   {
    "duration": 19,
    "start_time": "2022-07-28T16:19:47.652Z"
   },
   {
    "duration": 44,
    "start_time": "2022-07-28T16:19:47.673Z"
   },
   {
    "duration": 31,
    "start_time": "2022-07-28T16:19:47.720Z"
   },
   {
    "duration": 55,
    "start_time": "2022-07-28T16:19:47.753Z"
   },
   {
    "duration": 28,
    "start_time": "2022-07-28T16:19:47.809Z"
   },
   {
    "duration": 28,
    "start_time": "2022-07-28T16:19:47.839Z"
   },
   {
    "duration": 61,
    "start_time": "2022-07-28T16:19:47.869Z"
   },
   {
    "duration": 8,
    "start_time": "2022-07-28T16:19:47.932Z"
   },
   {
    "duration": 29,
    "start_time": "2022-07-28T16:19:47.942Z"
   },
   {
    "duration": 319,
    "start_time": "2022-07-28T16:19:47.973Z"
   },
   {
    "duration": 252,
    "start_time": "2022-07-28T16:19:48.294Z"
   },
   {
    "duration": 29,
    "start_time": "2022-07-28T16:19:48.549Z"
   },
   {
    "duration": 32,
    "start_time": "2022-07-28T16:19:48.580Z"
   },
   {
    "duration": 17,
    "start_time": "2022-07-28T16:19:48.614Z"
   },
   {
    "duration": 17,
    "start_time": "2022-07-28T16:19:48.633Z"
   },
   {
    "duration": 199,
    "start_time": "2022-07-28T16:19:48.652Z"
   },
   {
    "duration": 173,
    "start_time": "2022-07-28T16:19:48.853Z"
   },
   {
    "duration": 6,
    "start_time": "2022-07-28T16:19:49.028Z"
   },
   {
    "duration": 15,
    "start_time": "2022-07-28T16:19:49.035Z"
   },
   {
    "duration": 182,
    "start_time": "2022-07-28T16:19:49.051Z"
   },
   {
    "duration": 172,
    "start_time": "2022-07-28T16:19:49.235Z"
   },
   {
    "duration": 314,
    "start_time": "2022-07-28T16:19:49.409Z"
   },
   {
    "duration": 6,
    "start_time": "2022-07-28T16:19:49.725Z"
   },
   {
    "duration": 25,
    "start_time": "2022-07-28T16:19:49.733Z"
   },
   {
    "duration": 294,
    "start_time": "2022-07-28T16:19:49.760Z"
   },
   {
    "duration": 26,
    "start_time": "2022-07-28T16:19:50.057Z"
   },
   {
    "duration": 37,
    "start_time": "2022-07-28T16:19:50.085Z"
   },
   {
    "duration": 28,
    "start_time": "2022-07-28T16:19:50.124Z"
   },
   {
    "duration": 42,
    "start_time": "2022-07-28T16:19:50.154Z"
   },
   {
    "duration": 21,
    "start_time": "2022-07-28T16:19:50.205Z"
   },
   {
    "duration": 38,
    "start_time": "2022-07-28T16:19:50.228Z"
   },
   {
    "duration": 30,
    "start_time": "2022-07-28T16:19:50.268Z"
   },
   {
    "duration": 43,
    "start_time": "2022-07-28T16:19:50.300Z"
   },
   {
    "duration": 55,
    "start_time": "2022-07-28T16:19:50.345Z"
   },
   {
    "duration": 461,
    "start_time": "2022-07-28T16:19:50.403Z"
   },
   {
    "duration": 12,
    "start_time": "2022-07-28T16:19:50.866Z"
   },
   {
    "duration": 27,
    "start_time": "2022-07-28T16:19:50.880Z"
   },
   {
    "duration": 639,
    "start_time": "2022-07-29T06:56:33.140Z"
   },
   {
    "duration": 5,
    "start_time": "2022-07-29T06:57:14.160Z"
   },
   {
    "duration": 3,
    "start_time": "2022-07-29T06:57:25.831Z"
   },
   {
    "duration": 194,
    "start_time": "2022-07-29T06:58:17.054Z"
   },
   {
    "duration": 5,
    "start_time": "2022-07-29T07:00:17.698Z"
   },
   {
    "duration": 132,
    "start_time": "2022-07-29T07:00:20.450Z"
   },
   {
    "duration": 23,
    "start_time": "2022-07-29T07:00:46.946Z"
   },
   {
    "duration": 76,
    "start_time": "2022-07-29T07:00:49.088Z"
   },
   {
    "duration": 7,
    "start_time": "2022-07-29T07:01:36.008Z"
   },
   {
    "duration": 5,
    "start_time": "2022-07-29T07:03:14.468Z"
   },
   {
    "duration": 132,
    "start_time": "2022-07-29T07:03:19.485Z"
   },
   {
    "duration": 148,
    "start_time": "2022-07-29T07:03:26.148Z"
   },
   {
    "duration": 118,
    "start_time": "2022-07-29T07:06:41.389Z"
   },
   {
    "duration": 135,
    "start_time": "2022-07-29T07:06:46.810Z"
   },
   {
    "duration": 17,
    "start_time": "2022-07-29T07:06:51.699Z"
   },
   {
    "duration": 183,
    "start_time": "2022-07-29T07:07:06.787Z"
   },
   {
    "duration": 115,
    "start_time": "2022-07-29T07:07:12.718Z"
   },
   {
    "duration": 15,
    "start_time": "2022-07-29T07:07:15.585Z"
   },
   {
    "duration": 65,
    "start_time": "2022-07-29T07:07:20.606Z"
   },
   {
    "duration": 58,
    "start_time": "2022-07-29T07:07:27.950Z"
   },
   {
    "duration": 3,
    "start_time": "2022-07-29T07:07:34.788Z"
   },
   {
    "duration": 106,
    "start_time": "2022-07-29T07:07:47.566Z"
   },
   {
    "duration": 111,
    "start_time": "2022-07-29T07:08:12.076Z"
   },
   {
    "duration": 180,
    "start_time": "2022-07-29T07:08:18.343Z"
   },
   {
    "duration": 98,
    "start_time": "2022-07-29T07:08:34.018Z"
   },
   {
    "duration": 193,
    "start_time": "2022-07-29T07:08:40.975Z"
   },
   {
    "duration": 206,
    "start_time": "2022-07-29T07:09:11.751Z"
   },
   {
    "duration": 319,
    "start_time": "2022-07-29T07:09:18.033Z"
   },
   {
    "duration": 266,
    "start_time": "2022-07-29T07:10:49.233Z"
   },
   {
    "duration": 241,
    "start_time": "2022-07-29T07:12:19.091Z"
   },
   {
    "duration": 118,
    "start_time": "2022-07-29T07:12:33.488Z"
   },
   {
    "duration": 468,
    "start_time": "2022-07-29T07:13:22.646Z"
   },
   {
    "duration": 152,
    "start_time": "2022-07-29T07:14:10.110Z"
   },
   {
    "duration": 130,
    "start_time": "2022-07-29T07:15:00.753Z"
   },
   {
    "duration": 150,
    "start_time": "2022-07-29T07:15:35.866Z"
   },
   {
    "duration": 172,
    "start_time": "2022-07-29T07:15:58.083Z"
   },
   {
    "duration": 164,
    "start_time": "2022-07-29T07:16:03.614Z"
   },
   {
    "duration": 274,
    "start_time": "2022-07-29T07:19:18.787Z"
   },
   {
    "duration": 308,
    "start_time": "2022-07-29T07:19:56.701Z"
   },
   {
    "duration": 224,
    "start_time": "2022-07-29T07:20:12.597Z"
   },
   {
    "duration": 172,
    "start_time": "2022-07-29T07:32:19.165Z"
   },
   {
    "duration": 175,
    "start_time": "2022-07-29T07:32:29.584Z"
   },
   {
    "duration": 152,
    "start_time": "2022-07-29T07:32:57.340Z"
   },
   {
    "duration": 186,
    "start_time": "2022-07-29T07:33:08.601Z"
   },
   {
    "duration": 184,
    "start_time": "2022-07-29T07:33:47.789Z"
   },
   {
    "duration": 183,
    "start_time": "2022-07-29T07:33:55.064Z"
   },
   {
    "duration": 414,
    "start_time": "2022-07-29T07:54:33.014Z"
   },
   {
    "duration": 48,
    "start_time": "2022-07-29T07:57:02.456Z"
   },
   {
    "duration": 566,
    "start_time": "2022-07-29T07:57:16.380Z"
   },
   {
    "duration": 291,
    "start_time": "2022-07-29T07:57:16.949Z"
   },
   {
    "duration": 506,
    "start_time": "2022-07-29T07:57:17.241Z"
   },
   {
    "duration": 329,
    "start_time": "2022-07-29T07:57:17.749Z"
   },
   {
    "duration": 0,
    "start_time": "2022-07-29T07:57:18.082Z"
   },
   {
    "duration": 0,
    "start_time": "2022-07-29T07:57:18.083Z"
   },
   {
    "duration": 0,
    "start_time": "2022-07-29T07:57:18.085Z"
   },
   {
    "duration": 0,
    "start_time": "2022-07-29T07:57:18.086Z"
   },
   {
    "duration": 0,
    "start_time": "2022-07-29T07:57:18.087Z"
   },
   {
    "duration": 0,
    "start_time": "2022-07-29T07:57:18.088Z"
   },
   {
    "duration": 0,
    "start_time": "2022-07-29T07:57:18.089Z"
   },
   {
    "duration": 0,
    "start_time": "2022-07-29T07:57:18.104Z"
   },
   {
    "duration": 0,
    "start_time": "2022-07-29T07:57:18.106Z"
   },
   {
    "duration": 0,
    "start_time": "2022-07-29T07:57:18.107Z"
   },
   {
    "duration": 0,
    "start_time": "2022-07-29T07:57:18.109Z"
   },
   {
    "duration": 0,
    "start_time": "2022-07-29T07:57:18.110Z"
   },
   {
    "duration": 0,
    "start_time": "2022-07-29T07:57:18.111Z"
   },
   {
    "duration": 0,
    "start_time": "2022-07-29T07:57:18.114Z"
   },
   {
    "duration": 0,
    "start_time": "2022-07-29T07:57:18.115Z"
   },
   {
    "duration": 0,
    "start_time": "2022-07-29T07:57:18.116Z"
   },
   {
    "duration": 0,
    "start_time": "2022-07-29T07:57:18.117Z"
   },
   {
    "duration": 0,
    "start_time": "2022-07-29T07:57:18.119Z"
   },
   {
    "duration": 0,
    "start_time": "2022-07-29T07:57:18.126Z"
   },
   {
    "duration": 1,
    "start_time": "2022-07-29T07:57:18.127Z"
   },
   {
    "duration": 0,
    "start_time": "2022-07-29T07:57:18.129Z"
   },
   {
    "duration": 0,
    "start_time": "2022-07-29T07:57:18.131Z"
   },
   {
    "duration": 0,
    "start_time": "2022-07-29T07:57:18.132Z"
   },
   {
    "duration": 0,
    "start_time": "2022-07-29T07:57:18.133Z"
   },
   {
    "duration": 0,
    "start_time": "2022-07-29T07:57:18.134Z"
   },
   {
    "duration": 0,
    "start_time": "2022-07-29T07:57:18.135Z"
   },
   {
    "duration": 0,
    "start_time": "2022-07-29T07:57:18.137Z"
   },
   {
    "duration": 0,
    "start_time": "2022-07-29T07:57:18.138Z"
   },
   {
    "duration": 0,
    "start_time": "2022-07-29T07:57:18.139Z"
   },
   {
    "duration": 0,
    "start_time": "2022-07-29T07:57:18.140Z"
   },
   {
    "duration": 0,
    "start_time": "2022-07-29T07:57:18.141Z"
   },
   {
    "duration": 0,
    "start_time": "2022-07-29T07:57:18.142Z"
   },
   {
    "duration": 0,
    "start_time": "2022-07-29T07:57:18.143Z"
   },
   {
    "duration": 0,
    "start_time": "2022-07-29T07:57:18.145Z"
   },
   {
    "duration": 0,
    "start_time": "2022-07-29T07:57:18.146Z"
   },
   {
    "duration": 0,
    "start_time": "2022-07-29T07:57:18.147Z"
   },
   {
    "duration": 0,
    "start_time": "2022-07-29T07:57:18.205Z"
   },
   {
    "duration": 0,
    "start_time": "2022-07-29T07:57:18.206Z"
   },
   {
    "duration": 0,
    "start_time": "2022-07-29T07:57:18.208Z"
   },
   {
    "duration": 0,
    "start_time": "2022-07-29T07:57:18.210Z"
   },
   {
    "duration": 0,
    "start_time": "2022-07-29T07:57:18.211Z"
   },
   {
    "duration": 0,
    "start_time": "2022-07-29T07:57:18.212Z"
   },
   {
    "duration": 0,
    "start_time": "2022-07-29T07:57:18.214Z"
   },
   {
    "duration": 0,
    "start_time": "2022-07-29T07:57:18.216Z"
   },
   {
    "duration": 0,
    "start_time": "2022-07-29T07:57:18.217Z"
   },
   {
    "duration": 0,
    "start_time": "2022-07-29T07:57:18.219Z"
   },
   {
    "duration": 0,
    "start_time": "2022-07-29T07:57:18.220Z"
   },
   {
    "duration": 0,
    "start_time": "2022-07-29T07:57:18.226Z"
   },
   {
    "duration": 0,
    "start_time": "2022-07-29T07:57:18.228Z"
   },
   {
    "duration": 0,
    "start_time": "2022-07-29T07:57:18.230Z"
   },
   {
    "duration": 0,
    "start_time": "2022-07-29T07:57:18.232Z"
   },
   {
    "duration": 0,
    "start_time": "2022-07-29T07:57:18.234Z"
   },
   {
    "duration": 0,
    "start_time": "2022-07-29T07:57:18.236Z"
   },
   {
    "duration": 0,
    "start_time": "2022-07-29T07:57:18.237Z"
   },
   {
    "duration": 0,
    "start_time": "2022-07-29T07:57:18.239Z"
   },
   {
    "duration": 0,
    "start_time": "2022-07-29T07:57:18.240Z"
   },
   {
    "duration": 0,
    "start_time": "2022-07-29T07:57:18.242Z"
   },
   {
    "duration": 0,
    "start_time": "2022-07-29T07:57:18.247Z"
   },
   {
    "duration": 0,
    "start_time": "2022-07-29T07:57:18.248Z"
   },
   {
    "duration": 0,
    "start_time": "2022-07-29T07:57:18.249Z"
   },
   {
    "duration": 0,
    "start_time": "2022-07-29T07:57:18.250Z"
   },
   {
    "duration": 0,
    "start_time": "2022-07-29T07:57:18.251Z"
   },
   {
    "duration": 0,
    "start_time": "2022-07-29T07:57:18.251Z"
   },
   {
    "duration": 0,
    "start_time": "2022-07-29T07:57:18.305Z"
   },
   {
    "duration": 0,
    "start_time": "2022-07-29T07:57:18.308Z"
   },
   {
    "duration": 0,
    "start_time": "2022-07-29T07:57:18.309Z"
   },
   {
    "duration": 0,
    "start_time": "2022-07-29T07:57:18.311Z"
   },
   {
    "duration": 1,
    "start_time": "2022-07-29T07:57:18.313Z"
   },
   {
    "duration": 0,
    "start_time": "2022-07-29T07:57:18.318Z"
   },
   {
    "duration": 467,
    "start_time": "2022-07-29T07:58:26.910Z"
   },
   {
    "duration": 275,
    "start_time": "2022-07-29T07:58:27.379Z"
   },
   {
    "duration": 515,
    "start_time": "2022-07-29T07:58:27.655Z"
   },
   {
    "duration": 319,
    "start_time": "2022-07-29T07:58:28.174Z"
   },
   {
    "duration": 0,
    "start_time": "2022-07-29T07:58:28.504Z"
   },
   {
    "duration": 0,
    "start_time": "2022-07-29T07:58:28.505Z"
   },
   {
    "duration": 0,
    "start_time": "2022-07-29T07:58:28.506Z"
   },
   {
    "duration": 0,
    "start_time": "2022-07-29T07:58:28.507Z"
   },
   {
    "duration": 0,
    "start_time": "2022-07-29T07:58:28.508Z"
   },
   {
    "duration": 0,
    "start_time": "2022-07-29T07:58:28.509Z"
   },
   {
    "duration": 0,
    "start_time": "2022-07-29T07:58:28.511Z"
   },
   {
    "duration": 0,
    "start_time": "2022-07-29T07:58:28.512Z"
   },
   {
    "duration": 0,
    "start_time": "2022-07-29T07:58:28.513Z"
   },
   {
    "duration": 0,
    "start_time": "2022-07-29T07:58:28.515Z"
   },
   {
    "duration": 0,
    "start_time": "2022-07-29T07:58:28.516Z"
   },
   {
    "duration": 0,
    "start_time": "2022-07-29T07:58:28.518Z"
   },
   {
    "duration": 0,
    "start_time": "2022-07-29T07:58:28.520Z"
   },
   {
    "duration": 0,
    "start_time": "2022-07-29T07:58:28.521Z"
   },
   {
    "duration": 0,
    "start_time": "2022-07-29T07:58:28.523Z"
   },
   {
    "duration": 0,
    "start_time": "2022-07-29T07:58:28.525Z"
   },
   {
    "duration": 0,
    "start_time": "2022-07-29T07:58:28.527Z"
   },
   {
    "duration": 0,
    "start_time": "2022-07-29T07:58:28.528Z"
   },
   {
    "duration": 0,
    "start_time": "2022-07-29T07:58:28.529Z"
   },
   {
    "duration": 0,
    "start_time": "2022-07-29T07:58:28.530Z"
   },
   {
    "duration": 0,
    "start_time": "2022-07-29T07:58:28.532Z"
   },
   {
    "duration": 1,
    "start_time": "2022-07-29T07:58:28.533Z"
   },
   {
    "duration": 0,
    "start_time": "2022-07-29T07:58:28.535Z"
   },
   {
    "duration": 0,
    "start_time": "2022-07-29T07:58:28.536Z"
   },
   {
    "duration": 0,
    "start_time": "2022-07-29T07:58:28.538Z"
   },
   {
    "duration": 0,
    "start_time": "2022-07-29T07:58:28.539Z"
   },
   {
    "duration": 0,
    "start_time": "2022-07-29T07:58:28.540Z"
   },
   {
    "duration": 0,
    "start_time": "2022-07-29T07:58:28.542Z"
   },
   {
    "duration": 0,
    "start_time": "2022-07-29T07:58:28.543Z"
   },
   {
    "duration": 0,
    "start_time": "2022-07-29T07:58:28.605Z"
   },
   {
    "duration": 0,
    "start_time": "2022-07-29T07:58:28.606Z"
   },
   {
    "duration": 0,
    "start_time": "2022-07-29T07:58:28.608Z"
   },
   {
    "duration": 0,
    "start_time": "2022-07-29T07:58:28.610Z"
   },
   {
    "duration": 0,
    "start_time": "2022-07-29T07:58:28.611Z"
   },
   {
    "duration": 0,
    "start_time": "2022-07-29T07:58:28.613Z"
   },
   {
    "duration": 0,
    "start_time": "2022-07-29T07:58:28.614Z"
   },
   {
    "duration": 0,
    "start_time": "2022-07-29T07:58:28.617Z"
   },
   {
    "duration": 0,
    "start_time": "2022-07-29T07:58:28.618Z"
   },
   {
    "duration": 0,
    "start_time": "2022-07-29T07:58:28.619Z"
   },
   {
    "duration": 0,
    "start_time": "2022-07-29T07:58:28.621Z"
   },
   {
    "duration": 0,
    "start_time": "2022-07-29T07:58:28.622Z"
   },
   {
    "duration": 0,
    "start_time": "2022-07-29T07:58:28.624Z"
   },
   {
    "duration": 0,
    "start_time": "2022-07-29T07:58:28.625Z"
   },
   {
    "duration": 0,
    "start_time": "2022-07-29T07:58:28.626Z"
   },
   {
    "duration": 0,
    "start_time": "2022-07-29T07:58:28.627Z"
   },
   {
    "duration": 0,
    "start_time": "2022-07-29T07:58:28.629Z"
   },
   {
    "duration": 0,
    "start_time": "2022-07-29T07:58:28.630Z"
   },
   {
    "duration": 0,
    "start_time": "2022-07-29T07:58:28.632Z"
   },
   {
    "duration": 0,
    "start_time": "2022-07-29T07:58:28.633Z"
   },
   {
    "duration": 0,
    "start_time": "2022-07-29T07:58:28.634Z"
   },
   {
    "duration": 0,
    "start_time": "2022-07-29T07:58:28.636Z"
   },
   {
    "duration": 0,
    "start_time": "2022-07-29T07:58:28.636Z"
   },
   {
    "duration": 0,
    "start_time": "2022-07-29T07:58:28.638Z"
   },
   {
    "duration": 0,
    "start_time": "2022-07-29T07:58:28.640Z"
   },
   {
    "duration": 0,
    "start_time": "2022-07-29T07:58:28.704Z"
   },
   {
    "duration": 0,
    "start_time": "2022-07-29T07:58:28.706Z"
   },
   {
    "duration": 0,
    "start_time": "2022-07-29T07:58:28.708Z"
   },
   {
    "duration": 0,
    "start_time": "2022-07-29T07:58:28.709Z"
   },
   {
    "duration": 0,
    "start_time": "2022-07-29T07:58:28.711Z"
   },
   {
    "duration": 0,
    "start_time": "2022-07-29T07:58:28.713Z"
   },
   {
    "duration": 0,
    "start_time": "2022-07-29T07:58:28.714Z"
   },
   {
    "duration": 0,
    "start_time": "2022-07-29T07:58:28.716Z"
   },
   {
    "duration": 0,
    "start_time": "2022-07-29T07:58:28.717Z"
   },
   {
    "duration": 0,
    "start_time": "2022-07-29T07:58:28.718Z"
   },
   {
    "duration": 0,
    "start_time": "2022-07-29T07:58:28.720Z"
   },
   {
    "duration": 0,
    "start_time": "2022-07-29T07:58:28.721Z"
   },
   {
    "duration": 0,
    "start_time": "2022-07-29T07:58:28.722Z"
   },
   {
    "duration": 0,
    "start_time": "2022-07-29T07:58:28.724Z"
   },
   {
    "duration": 0,
    "start_time": "2022-07-29T07:58:28.725Z"
   },
   {
    "duration": 502,
    "start_time": "2022-07-29T07:58:58.773Z"
   },
   {
    "duration": 271,
    "start_time": "2022-07-29T07:58:59.278Z"
   },
   {
    "duration": 544,
    "start_time": "2022-07-29T07:58:59.551Z"
   },
   {
    "duration": 234,
    "start_time": "2022-07-29T07:59:00.098Z"
   },
   {
    "duration": 137,
    "start_time": "2022-07-29T07:59:00.333Z"
   },
   {
    "duration": 196,
    "start_time": "2022-07-29T07:59:00.472Z"
   },
   {
    "duration": 137,
    "start_time": "2022-07-29T07:59:00.670Z"
   },
   {
    "duration": 29,
    "start_time": "2022-07-29T07:59:00.809Z"
   },
   {
    "duration": 15,
    "start_time": "2022-07-29T07:59:00.841Z"
   },
   {
    "duration": 55,
    "start_time": "2022-07-29T07:59:00.859Z"
   },
   {
    "duration": 3,
    "start_time": "2022-07-29T07:59:00.916Z"
   },
   {
    "duration": 15,
    "start_time": "2022-07-29T07:59:00.920Z"
   },
   {
    "duration": 31,
    "start_time": "2022-07-29T07:59:00.937Z"
   },
   {
    "duration": 36,
    "start_time": "2022-07-29T07:59:00.969Z"
   },
   {
    "duration": 161,
    "start_time": "2022-07-29T07:59:01.007Z"
   },
   {
    "duration": 193,
    "start_time": "2022-07-29T07:59:01.170Z"
   },
   {
    "duration": 187,
    "start_time": "2022-07-29T07:59:01.365Z"
   },
   {
    "duration": 187,
    "start_time": "2022-07-29T07:59:01.553Z"
   },
   {
    "duration": 21,
    "start_time": "2022-07-29T07:59:01.743Z"
   },
   {
    "duration": 20,
    "start_time": "2022-07-29T07:59:01.766Z"
   },
   {
    "duration": 24,
    "start_time": "2022-07-29T07:59:01.788Z"
   },
   {
    "duration": 25,
    "start_time": "2022-07-29T07:59:01.814Z"
   },
   {
    "duration": 28,
    "start_time": "2022-07-29T07:59:01.841Z"
   },
   {
    "duration": 28,
    "start_time": "2022-07-29T07:59:01.871Z"
   },
   {
    "duration": 52,
    "start_time": "2022-07-29T07:59:01.901Z"
   },
   {
    "duration": 31,
    "start_time": "2022-07-29T07:59:01.955Z"
   },
   {
    "duration": 25,
    "start_time": "2022-07-29T07:59:01.988Z"
   },
   {
    "duration": 33,
    "start_time": "2022-07-29T07:59:02.019Z"
   },
   {
    "duration": 33,
    "start_time": "2022-07-29T07:59:02.054Z"
   },
   {
    "duration": 11,
    "start_time": "2022-07-29T07:59:02.105Z"
   },
   {
    "duration": 181,
    "start_time": "2022-07-29T07:59:02.118Z"
   },
   {
    "duration": 12,
    "start_time": "2022-07-29T07:59:02.301Z"
   },
   {
    "duration": 17,
    "start_time": "2022-07-29T07:59:02.315Z"
   },
   {
    "duration": 12,
    "start_time": "2022-07-29T07:59:02.334Z"
   },
   {
    "duration": 7,
    "start_time": "2022-07-29T07:59:02.347Z"
   },
   {
    "duration": 59,
    "start_time": "2022-07-29T07:59:02.355Z"
   },
   {
    "duration": 17,
    "start_time": "2022-07-29T07:59:02.416Z"
   },
   {
    "duration": 18,
    "start_time": "2022-07-29T07:59:02.434Z"
   },
   {
    "duration": 16,
    "start_time": "2022-07-29T07:59:02.453Z"
   },
   {
    "duration": 60,
    "start_time": "2022-07-29T07:59:02.471Z"
   },
   {
    "duration": 28,
    "start_time": "2022-07-29T07:59:02.533Z"
   },
   {
    "duration": 49,
    "start_time": "2022-07-29T07:59:02.563Z"
   },
   {
    "duration": 25,
    "start_time": "2022-07-29T07:59:02.615Z"
   },
   {
    "duration": 28,
    "start_time": "2022-07-29T07:59:02.643Z"
   },
   {
    "duration": 33,
    "start_time": "2022-07-29T07:59:02.673Z"
   },
   {
    "duration": 30,
    "start_time": "2022-07-29T07:59:02.708Z"
   },
   {
    "duration": 409,
    "start_time": "2022-07-29T07:59:02.740Z"
   },
   {
    "duration": 240,
    "start_time": "2022-07-29T07:59:03.151Z"
   },
   {
    "duration": 35,
    "start_time": "2022-07-29T07:59:03.392Z"
   },
   {
    "duration": 13,
    "start_time": "2022-07-29T07:59:03.429Z"
   },
   {
    "duration": 22,
    "start_time": "2022-07-29T07:59:03.444Z"
   },
   {
    "duration": 17,
    "start_time": "2022-07-29T07:59:03.468Z"
   },
   {
    "duration": 190,
    "start_time": "2022-07-29T07:59:03.504Z"
   },
   {
    "duration": 176,
    "start_time": "2022-07-29T07:59:03.696Z"
   },
   {
    "duration": 6,
    "start_time": "2022-07-29T07:59:03.874Z"
   },
   {
    "duration": 26,
    "start_time": "2022-07-29T07:59:03.882Z"
   },
   {
    "duration": 184,
    "start_time": "2022-07-29T07:59:03.910Z"
   },
   {
    "duration": 190,
    "start_time": "2022-07-29T07:59:04.096Z"
   },
   {
    "duration": 310,
    "start_time": "2022-07-29T07:59:04.288Z"
   },
   {
    "duration": 6,
    "start_time": "2022-07-29T07:59:04.600Z"
   },
   {
    "duration": 37,
    "start_time": "2022-07-29T07:59:04.608Z"
   },
   {
    "duration": 216,
    "start_time": "2022-07-29T07:59:04.647Z"
   },
   {
    "duration": 25,
    "start_time": "2022-07-29T07:59:04.865Z"
   },
   {
    "duration": 18,
    "start_time": "2022-07-29T07:59:04.905Z"
   },
   {
    "duration": 37,
    "start_time": "2022-07-29T07:59:04.925Z"
   },
   {
    "duration": 24,
    "start_time": "2022-07-29T07:59:04.964Z"
   },
   {
    "duration": 50,
    "start_time": "2022-07-29T07:59:04.990Z"
   },
   {
    "duration": 28,
    "start_time": "2022-07-29T07:59:05.042Z"
   },
   {
    "duration": 20,
    "start_time": "2022-07-29T07:59:05.073Z"
   },
   {
    "duration": 30,
    "start_time": "2022-07-29T07:59:05.094Z"
   },
   {
    "duration": 27,
    "start_time": "2022-07-29T07:59:05.126Z"
   },
   {
    "duration": 12,
    "start_time": "2022-07-29T07:59:05.155Z"
   },
   {
    "duration": 10,
    "start_time": "2022-07-29T07:59:05.170Z"
   },
   {
    "duration": 129,
    "start_time": "2022-07-29T08:03:33.439Z"
   },
   {
    "duration": 28,
    "start_time": "2022-07-29T08:03:49.248Z"
   },
   {
    "duration": 41,
    "start_time": "2022-07-29T08:04:06.613Z"
   },
   {
    "duration": 33,
    "start_time": "2022-07-29T08:05:09.464Z"
   },
   {
    "duration": 9,
    "start_time": "2022-07-29T08:05:37.314Z"
   },
   {
    "duration": 40,
    "start_time": "2022-07-29T08:06:32.580Z"
   },
   {
    "duration": 436,
    "start_time": "2022-07-29T08:07:38.652Z"
   },
   {
    "duration": 660,
    "start_time": "2022-07-29T08:07:39.090Z"
   },
   {
    "duration": 532,
    "start_time": "2022-07-29T08:07:39.752Z"
   },
   {
    "duration": 199,
    "start_time": "2022-07-29T08:07:40.287Z"
   },
   {
    "duration": 137,
    "start_time": "2022-07-29T08:07:40.488Z"
   },
   {
    "duration": 54,
    "start_time": "2022-07-29T08:07:40.627Z"
   },
   {
    "duration": 140,
    "start_time": "2022-07-29T08:07:40.683Z"
   },
   {
    "duration": 26,
    "start_time": "2022-07-29T08:07:40.824Z"
   },
   {
    "duration": 16,
    "start_time": "2022-07-29T08:07:40.851Z"
   },
   {
    "duration": 54,
    "start_time": "2022-07-29T08:07:40.870Z"
   },
   {
    "duration": 4,
    "start_time": "2022-07-29T08:07:40.926Z"
   },
   {
    "duration": 25,
    "start_time": "2022-07-29T08:07:40.932Z"
   },
   {
    "duration": 46,
    "start_time": "2022-07-29T08:07:40.959Z"
   },
   {
    "duration": 169,
    "start_time": "2022-07-29T08:07:41.007Z"
   },
   {
    "duration": 177,
    "start_time": "2022-07-29T08:07:41.178Z"
   },
   {
    "duration": 184,
    "start_time": "2022-07-29T08:07:41.357Z"
   },
   {
    "duration": 186,
    "start_time": "2022-07-29T08:07:41.543Z"
   },
   {
    "duration": 23,
    "start_time": "2022-07-29T08:07:41.731Z"
   },
   {
    "duration": 6,
    "start_time": "2022-07-29T08:07:41.756Z"
   },
   {
    "duration": 9,
    "start_time": "2022-07-29T08:07:41.764Z"
   },
   {
    "duration": 31,
    "start_time": "2022-07-29T08:07:41.774Z"
   },
   {
    "duration": 5,
    "start_time": "2022-07-29T08:07:41.807Z"
   },
   {
    "duration": 21,
    "start_time": "2022-07-29T08:07:41.814Z"
   },
   {
    "duration": 33,
    "start_time": "2022-07-29T08:07:41.837Z"
   },
   {
    "duration": 33,
    "start_time": "2022-07-29T08:07:41.872Z"
   },
   {
    "duration": 18,
    "start_time": "2022-07-29T08:07:41.907Z"
   },
   {
    "duration": 25,
    "start_time": "2022-07-29T08:07:41.926Z"
   },
   {
    "duration": 48,
    "start_time": "2022-07-29T08:07:41.956Z"
   },
   {
    "duration": 8,
    "start_time": "2022-07-29T08:07:42.006Z"
   },
   {
    "duration": 170,
    "start_time": "2022-07-29T08:07:42.016Z"
   },
   {
    "duration": 19,
    "start_time": "2022-07-29T08:07:42.188Z"
   },
   {
    "duration": 21,
    "start_time": "2022-07-29T08:07:42.209Z"
   },
   {
    "duration": 42,
    "start_time": "2022-07-29T08:07:42.231Z"
   },
   {
    "duration": 31,
    "start_time": "2022-07-29T08:07:42.274Z"
   },
   {
    "duration": 5,
    "start_time": "2022-07-29T08:07:42.307Z"
   },
   {
    "duration": 27,
    "start_time": "2022-07-29T08:07:42.314Z"
   },
   {
    "duration": 20,
    "start_time": "2022-07-29T08:07:42.343Z"
   },
   {
    "duration": 40,
    "start_time": "2022-07-29T08:07:42.365Z"
   },
   {
    "duration": 17,
    "start_time": "2022-07-29T08:07:42.407Z"
   },
   {
    "duration": 31,
    "start_time": "2022-07-29T08:07:42.426Z"
   },
   {
    "duration": 58,
    "start_time": "2022-07-29T08:07:42.459Z"
   },
   {
    "duration": 28,
    "start_time": "2022-07-29T08:07:42.519Z"
   },
   {
    "duration": 29,
    "start_time": "2022-07-29T08:07:42.549Z"
   },
   {
    "duration": 51,
    "start_time": "2022-07-29T08:07:42.580Z"
   },
   {
    "duration": 7,
    "start_time": "2022-07-29T08:07:42.632Z"
   },
   {
    "duration": 29,
    "start_time": "2022-07-29T08:07:42.640Z"
   },
   {
    "duration": 436,
    "start_time": "2022-07-29T08:07:42.671Z"
   },
   {
    "duration": 238,
    "start_time": "2022-07-29T08:07:43.109Z"
   },
   {
    "duration": 27,
    "start_time": "2022-07-29T08:07:43.349Z"
   },
   {
    "duration": 27,
    "start_time": "2022-07-29T08:07:43.378Z"
   },
   {
    "duration": 15,
    "start_time": "2022-07-29T08:07:43.407Z"
   },
   {
    "duration": 15,
    "start_time": "2022-07-29T08:07:43.424Z"
   },
   {
    "duration": 206,
    "start_time": "2022-07-29T08:07:43.441Z"
   },
   {
    "duration": 186,
    "start_time": "2022-07-29T08:07:43.649Z"
   },
   {
    "duration": 5,
    "start_time": "2022-07-29T08:07:43.837Z"
   },
   {
    "duration": 14,
    "start_time": "2022-07-29T08:07:43.844Z"
   },
   {
    "duration": 195,
    "start_time": "2022-07-29T08:07:43.860Z"
   },
   {
    "duration": 181,
    "start_time": "2022-07-29T08:07:44.056Z"
   },
   {
    "duration": 307,
    "start_time": "2022-07-29T08:07:44.239Z"
   },
   {
    "duration": 5,
    "start_time": "2022-07-29T08:07:44.548Z"
   },
   {
    "duration": 20,
    "start_time": "2022-07-29T08:07:44.555Z"
   },
   {
    "duration": 248,
    "start_time": "2022-07-29T08:07:44.577Z"
   },
   {
    "duration": 26,
    "start_time": "2022-07-29T08:07:44.827Z"
   },
   {
    "duration": 43,
    "start_time": "2022-07-29T08:07:44.855Z"
   },
   {
    "duration": 20,
    "start_time": "2022-07-29T08:07:44.900Z"
   },
   {
    "duration": 37,
    "start_time": "2022-07-29T08:07:44.921Z"
   },
   {
    "duration": 28,
    "start_time": "2022-07-29T08:07:44.960Z"
   },
   {
    "duration": 24,
    "start_time": "2022-07-29T08:07:44.990Z"
   },
   {
    "duration": 23,
    "start_time": "2022-07-29T08:07:45.016Z"
   },
   {
    "duration": 23,
    "start_time": "2022-07-29T08:07:45.042Z"
   },
   {
    "duration": 27,
    "start_time": "2022-07-29T08:07:45.067Z"
   },
   {
    "duration": 19,
    "start_time": "2022-07-29T08:07:45.105Z"
   },
   {
    "duration": 19,
    "start_time": "2022-07-29T08:07:45.126Z"
   },
   {
    "duration": 110,
    "start_time": "2022-07-29T08:16:13.220Z"
   },
   {
    "duration": 15,
    "start_time": "2022-07-29T08:17:02.314Z"
   },
   {
    "duration": 9,
    "start_time": "2022-07-29T08:18:11.220Z"
   },
   {
    "duration": 33,
    "start_time": "2022-07-29T08:18:29.558Z"
   },
   {
    "duration": 504,
    "start_time": "2022-07-29T08:19:00.108Z"
   },
   {
    "duration": 274,
    "start_time": "2022-07-29T08:19:00.614Z"
   },
   {
    "duration": 490,
    "start_time": "2022-07-29T08:19:00.890Z"
   },
   {
    "duration": 210,
    "start_time": "2022-07-29T08:19:01.382Z"
   },
   {
    "duration": 134,
    "start_time": "2022-07-29T08:19:01.594Z"
   },
   {
    "duration": 55,
    "start_time": "2022-07-29T08:19:01.730Z"
   },
   {
    "duration": 141,
    "start_time": "2022-07-29T08:19:01.787Z"
   },
   {
    "duration": 27,
    "start_time": "2022-07-29T08:19:01.930Z"
   },
   {
    "duration": 16,
    "start_time": "2022-07-29T08:19:01.959Z"
   },
   {
    "duration": 56,
    "start_time": "2022-07-29T08:19:01.979Z"
   },
   {
    "duration": 4,
    "start_time": "2022-07-29T08:19:02.037Z"
   },
   {
    "duration": 29,
    "start_time": "2022-07-29T08:19:02.044Z"
   },
   {
    "duration": 44,
    "start_time": "2022-07-29T08:19:02.075Z"
   },
   {
    "duration": 165,
    "start_time": "2022-07-29T08:19:02.121Z"
   },
   {
    "duration": 179,
    "start_time": "2022-07-29T08:19:02.288Z"
   },
   {
    "duration": 181,
    "start_time": "2022-07-29T08:19:02.469Z"
   },
   {
    "duration": 189,
    "start_time": "2022-07-29T08:19:02.652Z"
   },
   {
    "duration": 27,
    "start_time": "2022-07-29T08:19:02.843Z"
   },
   {
    "duration": 12,
    "start_time": "2022-07-29T08:19:02.871Z"
   },
   {
    "duration": 22,
    "start_time": "2022-07-29T08:19:02.885Z"
   },
   {
    "duration": 11,
    "start_time": "2022-07-29T08:19:02.909Z"
   },
   {
    "duration": 7,
    "start_time": "2022-07-29T08:19:02.921Z"
   },
   {
    "duration": 9,
    "start_time": "2022-07-29T08:19:02.929Z"
   },
   {
    "duration": 26,
    "start_time": "2022-07-29T08:19:02.940Z"
   },
   {
    "duration": 44,
    "start_time": "2022-07-29T08:19:02.968Z"
   },
   {
    "duration": 18,
    "start_time": "2022-07-29T08:19:03.013Z"
   },
   {
    "duration": 26,
    "start_time": "2022-07-29T08:19:03.033Z"
   },
   {
    "duration": 50,
    "start_time": "2022-07-29T08:19:03.063Z"
   },
   {
    "duration": 9,
    "start_time": "2022-07-29T08:19:03.115Z"
   },
   {
    "duration": 170,
    "start_time": "2022-07-29T08:19:03.126Z"
   },
   {
    "duration": 14,
    "start_time": "2022-07-29T08:19:03.298Z"
   },
   {
    "duration": 17,
    "start_time": "2022-07-29T08:19:03.314Z"
   },
   {
    "duration": 33,
    "start_time": "2022-07-29T08:19:03.333Z"
   },
   {
    "duration": 37,
    "start_time": "2022-07-29T08:19:03.368Z"
   },
   {
    "duration": 32,
    "start_time": "2022-07-29T08:19:03.407Z"
   },
   {
    "duration": 9,
    "start_time": "2022-07-29T08:19:03.441Z"
   },
   {
    "duration": 6,
    "start_time": "2022-07-29T08:19:03.452Z"
   },
   {
    "duration": 57,
    "start_time": "2022-07-29T08:19:03.460Z"
   },
   {
    "duration": 19,
    "start_time": "2022-07-29T08:19:03.518Z"
   },
   {
    "duration": 17,
    "start_time": "2022-07-29T08:19:03.539Z"
   },
   {
    "duration": 15,
    "start_time": "2022-07-29T08:19:03.558Z"
   },
   {
    "duration": 55,
    "start_time": "2022-07-29T08:19:03.574Z"
   },
   {
    "duration": 40,
    "start_time": "2022-07-29T08:19:03.631Z"
   },
   {
    "duration": 52,
    "start_time": "2022-07-29T08:19:03.673Z"
   },
   {
    "duration": 28,
    "start_time": "2022-07-29T08:19:03.727Z"
   },
   {
    "duration": 49,
    "start_time": "2022-07-29T08:19:03.757Z"
   },
   {
    "duration": 7,
    "start_time": "2022-07-29T08:19:03.809Z"
   },
   {
    "duration": 28,
    "start_time": "2022-07-29T08:19:03.818Z"
   },
   {
    "duration": 439,
    "start_time": "2022-07-29T08:19:03.848Z"
   },
   {
    "duration": 263,
    "start_time": "2022-07-29T08:19:04.289Z"
   },
   {
    "duration": 50,
    "start_time": "2022-07-29T08:19:04.554Z"
   },
   {
    "duration": 11,
    "start_time": "2022-07-29T08:19:04.605Z"
   },
   {
    "duration": 21,
    "start_time": "2022-07-29T08:19:04.618Z"
   },
   {
    "duration": 23,
    "start_time": "2022-07-29T08:19:04.641Z"
   },
   {
    "duration": 212,
    "start_time": "2022-07-29T08:19:04.666Z"
   },
   {
    "duration": 198,
    "start_time": "2022-07-29T08:19:04.880Z"
   },
   {
    "duration": 5,
    "start_time": "2022-07-29T08:19:05.081Z"
   },
   {
    "duration": 33,
    "start_time": "2022-07-29T08:19:05.088Z"
   },
   {
    "duration": 183,
    "start_time": "2022-07-29T08:19:05.123Z"
   },
   {
    "duration": 190,
    "start_time": "2022-07-29T08:19:05.307Z"
   },
   {
    "duration": 308,
    "start_time": "2022-07-29T08:19:05.504Z"
   },
   {
    "duration": 5,
    "start_time": "2022-07-29T08:19:05.814Z"
   },
   {
    "duration": 24,
    "start_time": "2022-07-29T08:19:05.821Z"
   },
   {
    "duration": 259,
    "start_time": "2022-07-29T08:19:05.847Z"
   },
   {
    "duration": 24,
    "start_time": "2022-07-29T08:19:06.108Z"
   },
   {
    "duration": 24,
    "start_time": "2022-07-29T08:19:06.134Z"
   },
   {
    "duration": 17,
    "start_time": "2022-07-29T08:19:06.160Z"
   },
   {
    "duration": 17,
    "start_time": "2022-07-29T08:19:06.205Z"
   },
   {
    "duration": 23,
    "start_time": "2022-07-29T08:19:06.225Z"
   },
   {
    "duration": 22,
    "start_time": "2022-07-29T08:19:06.251Z"
   },
   {
    "duration": 40,
    "start_time": "2022-07-29T08:19:06.276Z"
   },
   {
    "duration": 17,
    "start_time": "2022-07-29T08:19:06.319Z"
   },
   {
    "duration": 20,
    "start_time": "2022-07-29T08:19:06.338Z"
   },
   {
    "duration": 14,
    "start_time": "2022-07-29T08:19:06.360Z"
   },
   {
    "duration": 39,
    "start_time": "2022-07-29T08:19:06.376Z"
   },
   {
    "duration": 11,
    "start_time": "2022-07-29T08:20:05.119Z"
   },
   {
    "duration": 40,
    "start_time": "2022-07-29T08:20:08.141Z"
   },
   {
    "duration": 10,
    "start_time": "2022-07-29T08:20:12.893Z"
   },
   {
    "duration": 5,
    "start_time": "2022-07-29T08:20:18.082Z"
   },
   {
    "duration": 5,
    "start_time": "2022-07-29T08:23:15.875Z"
   },
   {
    "duration": 11,
    "start_time": "2022-07-29T08:23:29.311Z"
   },
   {
    "duration": 130,
    "start_time": "2022-07-29T08:26:34.922Z"
   },
   {
    "duration": 18,
    "start_time": "2022-07-29T08:29:09.023Z"
   },
   {
    "duration": 434,
    "start_time": "2022-07-29T08:29:21.215Z"
   },
   {
    "duration": 270,
    "start_time": "2022-07-29T08:29:21.651Z"
   },
   {
    "duration": 487,
    "start_time": "2022-07-29T08:29:21.922Z"
   },
   {
    "duration": 213,
    "start_time": "2022-07-29T08:29:22.411Z"
   },
   {
    "duration": 137,
    "start_time": "2022-07-29T08:29:22.626Z"
   },
   {
    "duration": 55,
    "start_time": "2022-07-29T08:29:22.766Z"
   },
   {
    "duration": 147,
    "start_time": "2022-07-29T08:29:22.824Z"
   },
   {
    "duration": 32,
    "start_time": "2022-07-29T08:29:22.973Z"
   },
   {
    "duration": 17,
    "start_time": "2022-07-29T08:29:23.007Z"
   },
   {
    "duration": 34,
    "start_time": "2022-07-29T08:29:23.026Z"
   },
   {
    "duration": 5,
    "start_time": "2022-07-29T08:29:23.062Z"
   },
   {
    "duration": 48,
    "start_time": "2022-07-29T08:29:23.068Z"
   },
   {
    "duration": 35,
    "start_time": "2022-07-29T08:29:23.118Z"
   },
   {
    "duration": 181,
    "start_time": "2022-07-29T08:29:23.155Z"
   },
   {
    "duration": 175,
    "start_time": "2022-07-29T08:29:23.338Z"
   },
   {
    "duration": 189,
    "start_time": "2022-07-29T08:29:23.515Z"
   },
   {
    "duration": 178,
    "start_time": "2022-07-29T08:29:23.706Z"
   },
   {
    "duration": 28,
    "start_time": "2022-07-29T08:29:23.886Z"
   },
   {
    "duration": 5,
    "start_time": "2022-07-29T08:29:23.916Z"
   },
   {
    "duration": 12,
    "start_time": "2022-07-29T08:29:23.923Z"
   },
   {
    "duration": 10,
    "start_time": "2022-07-29T08:29:23.937Z"
   },
   {
    "duration": 13,
    "start_time": "2022-07-29T08:29:23.949Z"
   },
   {
    "duration": 12,
    "start_time": "2022-07-29T08:29:23.964Z"
   },
   {
    "duration": 47,
    "start_time": "2022-07-29T08:29:23.978Z"
   },
   {
    "duration": 20,
    "start_time": "2022-07-29T08:29:24.027Z"
   },
   {
    "duration": 18,
    "start_time": "2022-07-29T08:29:24.048Z"
   },
   {
    "duration": 52,
    "start_time": "2022-07-29T08:29:24.068Z"
   },
   {
    "duration": 28,
    "start_time": "2022-07-29T08:29:24.125Z"
   },
   {
    "duration": 11,
    "start_time": "2022-07-29T08:29:24.155Z"
   },
   {
    "duration": 175,
    "start_time": "2022-07-29T08:29:24.168Z"
   },
   {
    "duration": 11,
    "start_time": "2022-07-29T08:29:24.345Z"
   },
   {
    "duration": 16,
    "start_time": "2022-07-29T08:29:24.357Z"
   },
   {
    "duration": 51,
    "start_time": "2022-07-29T08:29:24.375Z"
   },
   {
    "duration": 10,
    "start_time": "2022-07-29T08:29:24.428Z"
   },
   {
    "duration": 31,
    "start_time": "2022-07-29T08:29:24.441Z"
   },
   {
    "duration": 31,
    "start_time": "2022-07-29T08:29:24.474Z"
   },
   {
    "duration": 9,
    "start_time": "2022-07-29T08:29:24.507Z"
   },
   {
    "duration": 24,
    "start_time": "2022-07-29T08:29:24.517Z"
   },
   {
    "duration": 17,
    "start_time": "2022-07-29T08:29:24.543Z"
   },
   {
    "duration": 46,
    "start_time": "2022-07-29T08:29:24.562Z"
   },
   {
    "duration": 112,
    "start_time": "2022-07-29T08:29:24.610Z"
   },
   {
    "duration": 0,
    "start_time": "2022-07-29T08:29:24.724Z"
   },
   {
    "duration": 0,
    "start_time": "2022-07-29T08:29:24.725Z"
   },
   {
    "duration": 0,
    "start_time": "2022-07-29T08:29:24.726Z"
   },
   {
    "duration": 0,
    "start_time": "2022-07-29T08:29:24.727Z"
   },
   {
    "duration": 0,
    "start_time": "2022-07-29T08:29:24.729Z"
   },
   {
    "duration": 0,
    "start_time": "2022-07-29T08:29:24.730Z"
   },
   {
    "duration": 0,
    "start_time": "2022-07-29T08:29:24.732Z"
   },
   {
    "duration": 0,
    "start_time": "2022-07-29T08:29:24.734Z"
   },
   {
    "duration": 0,
    "start_time": "2022-07-29T08:29:24.735Z"
   },
   {
    "duration": 0,
    "start_time": "2022-07-29T08:29:24.736Z"
   },
   {
    "duration": 0,
    "start_time": "2022-07-29T08:29:24.738Z"
   },
   {
    "duration": 0,
    "start_time": "2022-07-29T08:29:24.739Z"
   },
   {
    "duration": 0,
    "start_time": "2022-07-29T08:29:24.741Z"
   },
   {
    "duration": 0,
    "start_time": "2022-07-29T08:29:24.742Z"
   },
   {
    "duration": 0,
    "start_time": "2022-07-29T08:29:24.744Z"
   },
   {
    "duration": 0,
    "start_time": "2022-07-29T08:29:24.745Z"
   },
   {
    "duration": 0,
    "start_time": "2022-07-29T08:29:24.746Z"
   },
   {
    "duration": 0,
    "start_time": "2022-07-29T08:29:24.747Z"
   },
   {
    "duration": 0,
    "start_time": "2022-07-29T08:29:24.748Z"
   },
   {
    "duration": 0,
    "start_time": "2022-07-29T08:29:24.749Z"
   },
   {
    "duration": 0,
    "start_time": "2022-07-29T08:29:24.751Z"
   },
   {
    "duration": 0,
    "start_time": "2022-07-29T08:29:24.752Z"
   },
   {
    "duration": 0,
    "start_time": "2022-07-29T08:29:24.753Z"
   },
   {
    "duration": 0,
    "start_time": "2022-07-29T08:29:24.805Z"
   },
   {
    "duration": 0,
    "start_time": "2022-07-29T08:29:24.807Z"
   },
   {
    "duration": 0,
    "start_time": "2022-07-29T08:29:24.808Z"
   },
   {
    "duration": 0,
    "start_time": "2022-07-29T08:29:24.809Z"
   },
   {
    "duration": 0,
    "start_time": "2022-07-29T08:29:24.810Z"
   },
   {
    "duration": 0,
    "start_time": "2022-07-29T08:29:24.811Z"
   },
   {
    "duration": 0,
    "start_time": "2022-07-29T08:29:24.812Z"
   },
   {
    "duration": 0,
    "start_time": "2022-07-29T08:29:24.813Z"
   },
   {
    "duration": 0,
    "start_time": "2022-07-29T08:29:24.815Z"
   },
   {
    "duration": 0,
    "start_time": "2022-07-29T08:29:24.816Z"
   },
   {
    "duration": 0,
    "start_time": "2022-07-29T08:29:24.817Z"
   },
   {
    "duration": 16,
    "start_time": "2022-07-29T08:30:24.034Z"
   },
   {
    "duration": 10,
    "start_time": "2022-07-29T08:50:45.818Z"
   },
   {
    "duration": 17,
    "start_time": "2022-07-29T08:50:51.530Z"
   },
   {
    "duration": 15,
    "start_time": "2022-07-29T08:51:02.787Z"
   },
   {
    "duration": 17,
    "start_time": "2022-07-29T08:51:28.245Z"
   },
   {
    "duration": 9,
    "start_time": "2022-07-29T09:04:40.859Z"
   },
   {
    "duration": 394,
    "start_time": "2022-07-29T09:04:51.365Z"
   },
   {
    "duration": 268,
    "start_time": "2022-07-29T09:04:51.762Z"
   },
   {
    "duration": 435,
    "start_time": "2022-07-29T09:04:52.032Z"
   },
   {
    "duration": 187,
    "start_time": "2022-07-29T09:04:52.469Z"
   },
   {
    "duration": 132,
    "start_time": "2022-07-29T09:04:52.657Z"
   },
   {
    "duration": 52,
    "start_time": "2022-07-29T09:04:52.791Z"
   },
   {
    "duration": 126,
    "start_time": "2022-07-29T09:04:52.845Z"
   },
   {
    "duration": 32,
    "start_time": "2022-07-29T09:04:52.973Z"
   },
   {
    "duration": 15,
    "start_time": "2022-07-29T09:04:53.006Z"
   },
   {
    "duration": 30,
    "start_time": "2022-07-29T09:04:53.024Z"
   },
   {
    "duration": 3,
    "start_time": "2022-07-29T09:04:53.055Z"
   },
   {
    "duration": 45,
    "start_time": "2022-07-29T09:04:53.060Z"
   },
   {
    "duration": 20,
    "start_time": "2022-07-29T09:04:53.107Z"
   },
   {
    "duration": 9,
    "start_time": "2022-07-29T09:04:53.129Z"
   },
   {
    "duration": 29,
    "start_time": "2022-07-29T09:04:53.140Z"
   },
   {
    "duration": 173,
    "start_time": "2022-07-29T09:04:53.171Z"
   },
   {
    "duration": 164,
    "start_time": "2022-07-29T09:04:53.346Z"
   },
   {
    "duration": 170,
    "start_time": "2022-07-29T09:04:53.512Z"
   },
   {
    "duration": 177,
    "start_time": "2022-07-29T09:04:53.684Z"
   },
   {
    "duration": 23,
    "start_time": "2022-07-29T09:04:53.864Z"
   },
   {
    "duration": 18,
    "start_time": "2022-07-29T09:04:53.889Z"
   },
   {
    "duration": 8,
    "start_time": "2022-07-29T09:04:53.909Z"
   },
   {
    "duration": 6,
    "start_time": "2022-07-29T09:04:53.919Z"
   },
   {
    "duration": 6,
    "start_time": "2022-07-29T09:04:53.927Z"
   },
   {
    "duration": 11,
    "start_time": "2022-07-29T09:04:53.935Z"
   },
   {
    "duration": 25,
    "start_time": "2022-07-29T09:04:53.948Z"
   },
   {
    "duration": 16,
    "start_time": "2022-07-29T09:04:54.003Z"
   },
   {
    "duration": 16,
    "start_time": "2022-07-29T09:04:54.024Z"
   },
   {
    "duration": 26,
    "start_time": "2022-07-29T09:04:54.042Z"
   },
   {
    "duration": 48,
    "start_time": "2022-07-29T09:04:54.069Z"
   },
   {
    "duration": 9,
    "start_time": "2022-07-29T09:04:54.119Z"
   },
   {
    "duration": 164,
    "start_time": "2022-07-29T09:04:54.130Z"
   },
   {
    "duration": 17,
    "start_time": "2022-07-29T09:04:54.296Z"
   },
   {
    "duration": 17,
    "start_time": "2022-07-29T09:04:54.315Z"
   },
   {
    "duration": 34,
    "start_time": "2022-07-29T09:04:54.334Z"
   },
   {
    "duration": 38,
    "start_time": "2022-07-29T09:04:54.370Z"
   },
   {
    "duration": 31,
    "start_time": "2022-07-29T09:04:54.410Z"
   },
   {
    "duration": 10,
    "start_time": "2022-07-29T09:04:54.444Z"
   },
   {
    "duration": 13,
    "start_time": "2022-07-29T09:04:54.455Z"
   },
   {
    "duration": 49,
    "start_time": "2022-07-29T09:04:54.470Z"
   },
   {
    "duration": 18,
    "start_time": "2022-07-29T09:04:54.520Z"
   },
   {
    "duration": 17,
    "start_time": "2022-07-29T09:04:54.539Z"
   },
   {
    "duration": 130,
    "start_time": "2022-07-29T09:04:54.558Z"
   },
   {
    "duration": 0,
    "start_time": "2022-07-29T09:04:54.690Z"
   },
   {
    "duration": 0,
    "start_time": "2022-07-29T09:04:54.692Z"
   },
   {
    "duration": 0,
    "start_time": "2022-07-29T09:04:54.693Z"
   },
   {
    "duration": 0,
    "start_time": "2022-07-29T09:04:54.694Z"
   },
   {
    "duration": 0,
    "start_time": "2022-07-29T09:04:54.695Z"
   },
   {
    "duration": 0,
    "start_time": "2022-07-29T09:04:54.705Z"
   },
   {
    "duration": 0,
    "start_time": "2022-07-29T09:04:54.707Z"
   },
   {
    "duration": 0,
    "start_time": "2022-07-29T09:04:54.708Z"
   },
   {
    "duration": 0,
    "start_time": "2022-07-29T09:04:54.709Z"
   },
   {
    "duration": 0,
    "start_time": "2022-07-29T09:04:54.710Z"
   },
   {
    "duration": 0,
    "start_time": "2022-07-29T09:04:54.712Z"
   },
   {
    "duration": 0,
    "start_time": "2022-07-29T09:04:54.713Z"
   },
   {
    "duration": 0,
    "start_time": "2022-07-29T09:04:54.715Z"
   },
   {
    "duration": 1,
    "start_time": "2022-07-29T09:04:54.716Z"
   },
   {
    "duration": 0,
    "start_time": "2022-07-29T09:04:54.718Z"
   },
   {
    "duration": 0,
    "start_time": "2022-07-29T09:04:54.720Z"
   },
   {
    "duration": 0,
    "start_time": "2022-07-29T09:04:54.721Z"
   },
   {
    "duration": 0,
    "start_time": "2022-07-29T09:04:54.722Z"
   },
   {
    "duration": 0,
    "start_time": "2022-07-29T09:04:54.723Z"
   },
   {
    "duration": 0,
    "start_time": "2022-07-29T09:04:54.723Z"
   },
   {
    "duration": 0,
    "start_time": "2022-07-29T09:04:54.724Z"
   },
   {
    "duration": 0,
    "start_time": "2022-07-29T09:04:54.725Z"
   },
   {
    "duration": 0,
    "start_time": "2022-07-29T09:04:54.727Z"
   },
   {
    "duration": 0,
    "start_time": "2022-07-29T09:04:54.728Z"
   },
   {
    "duration": 0,
    "start_time": "2022-07-29T09:04:54.729Z"
   },
   {
    "duration": 0,
    "start_time": "2022-07-29T09:04:54.730Z"
   },
   {
    "duration": 0,
    "start_time": "2022-07-29T09:04:54.732Z"
   },
   {
    "duration": 0,
    "start_time": "2022-07-29T09:04:54.733Z"
   },
   {
    "duration": 0,
    "start_time": "2022-07-29T09:04:54.734Z"
   },
   {
    "duration": 0,
    "start_time": "2022-07-29T09:04:54.735Z"
   },
   {
    "duration": 0,
    "start_time": "2022-07-29T09:04:54.736Z"
   },
   {
    "duration": 0,
    "start_time": "2022-07-29T09:04:54.737Z"
   },
   {
    "duration": 0,
    "start_time": "2022-07-29T09:04:54.738Z"
   },
   {
    "duration": 0,
    "start_time": "2022-07-29T09:04:54.739Z"
   },
   {
    "duration": 11,
    "start_time": "2022-07-29T09:06:29.972Z"
   },
   {
    "duration": 20,
    "start_time": "2022-07-29T09:06:39.694Z"
   },
   {
    "duration": 14,
    "start_time": "2022-07-29T09:06:52.584Z"
   },
   {
    "duration": 429,
    "start_time": "2022-07-29T09:07:11.451Z"
   },
   {
    "duration": 278,
    "start_time": "2022-07-29T09:07:11.883Z"
   },
   {
    "duration": 504,
    "start_time": "2022-07-29T09:07:12.162Z"
   },
   {
    "duration": 197,
    "start_time": "2022-07-29T09:07:12.669Z"
   },
   {
    "duration": 129,
    "start_time": "2022-07-29T09:07:12.868Z"
   },
   {
    "duration": 54,
    "start_time": "2022-07-29T09:07:13.004Z"
   },
   {
    "duration": 134,
    "start_time": "2022-07-29T09:07:13.060Z"
   },
   {
    "duration": 28,
    "start_time": "2022-07-29T09:07:13.195Z"
   },
   {
    "duration": 15,
    "start_time": "2022-07-29T09:07:13.225Z"
   },
   {
    "duration": 54,
    "start_time": "2022-07-29T09:07:13.243Z"
   },
   {
    "duration": 7,
    "start_time": "2022-07-29T09:07:13.299Z"
   },
   {
    "duration": 19,
    "start_time": "2022-07-29T09:07:13.308Z"
   },
   {
    "duration": 22,
    "start_time": "2022-07-29T09:07:13.328Z"
   },
   {
    "duration": 10,
    "start_time": "2022-07-29T09:07:13.351Z"
   },
   {
    "duration": 43,
    "start_time": "2022-07-29T09:07:13.362Z"
   },
   {
    "duration": 14,
    "start_time": "2022-07-29T09:07:13.407Z"
   },
   {
    "duration": 30,
    "start_time": "2022-07-29T09:07:13.422Z"
   },
   {
    "duration": 171,
    "start_time": "2022-07-29T09:07:13.454Z"
   },
   {
    "duration": 178,
    "start_time": "2022-07-29T09:07:13.627Z"
   },
   {
    "duration": 179,
    "start_time": "2022-07-29T09:07:13.807Z"
   },
   {
    "duration": 178,
    "start_time": "2022-07-29T09:07:13.988Z"
   },
   {
    "duration": 41,
    "start_time": "2022-07-29T09:07:14.169Z"
   },
   {
    "duration": 6,
    "start_time": "2022-07-29T09:07:14.212Z"
   },
   {
    "duration": 12,
    "start_time": "2022-07-29T09:07:14.219Z"
   },
   {
    "duration": 8,
    "start_time": "2022-07-29T09:07:14.233Z"
   },
   {
    "duration": 7,
    "start_time": "2022-07-29T09:07:14.243Z"
   },
   {
    "duration": 6,
    "start_time": "2022-07-29T09:07:14.252Z"
   },
   {
    "duration": 56,
    "start_time": "2022-07-29T09:07:14.262Z"
   },
   {
    "duration": 15,
    "start_time": "2022-07-29T09:07:14.320Z"
   },
   {
    "duration": 17,
    "start_time": "2022-07-29T09:07:14.337Z"
   },
   {
    "duration": 55,
    "start_time": "2022-07-29T09:07:14.355Z"
   },
   {
    "duration": 23,
    "start_time": "2022-07-29T09:07:14.412Z"
   },
   {
    "duration": 11,
    "start_time": "2022-07-29T09:07:14.437Z"
   },
   {
    "duration": 174,
    "start_time": "2022-07-29T09:07:14.452Z"
   },
   {
    "duration": 10,
    "start_time": "2022-07-29T09:07:14.628Z"
   },
   {
    "duration": 17,
    "start_time": "2022-07-29T09:07:14.640Z"
   },
   {
    "duration": 53,
    "start_time": "2022-07-29T09:07:14.659Z"
   },
   {
    "duration": 10,
    "start_time": "2022-07-29T09:07:14.714Z"
   },
   {
    "duration": 31,
    "start_time": "2022-07-29T09:07:14.726Z"
   },
   {
    "duration": 9,
    "start_time": "2022-07-29T09:07:14.759Z"
   },
   {
    "duration": 39,
    "start_time": "2022-07-29T09:07:14.770Z"
   },
   {
    "duration": 26,
    "start_time": "2022-07-29T09:07:14.810Z"
   },
   {
    "duration": 21,
    "start_time": "2022-07-29T09:07:14.838Z"
   },
   {
    "duration": 30,
    "start_time": "2022-07-29T09:07:14.861Z"
   },
   {
    "duration": 117,
    "start_time": "2022-07-29T09:07:14.893Z"
   },
   {
    "duration": 0,
    "start_time": "2022-07-29T09:07:15.011Z"
   },
   {
    "duration": 0,
    "start_time": "2022-07-29T09:07:15.013Z"
   },
   {
    "duration": 1,
    "start_time": "2022-07-29T09:07:15.014Z"
   },
   {
    "duration": 0,
    "start_time": "2022-07-29T09:07:15.016Z"
   },
   {
    "duration": 0,
    "start_time": "2022-07-29T09:07:15.017Z"
   },
   {
    "duration": 0,
    "start_time": "2022-07-29T09:07:15.018Z"
   },
   {
    "duration": 0,
    "start_time": "2022-07-29T09:07:15.019Z"
   },
   {
    "duration": 0,
    "start_time": "2022-07-29T09:07:15.020Z"
   },
   {
    "duration": 0,
    "start_time": "2022-07-29T09:07:15.022Z"
   },
   {
    "duration": 0,
    "start_time": "2022-07-29T09:07:15.023Z"
   },
   {
    "duration": 0,
    "start_time": "2022-07-29T09:07:15.024Z"
   },
   {
    "duration": 0,
    "start_time": "2022-07-29T09:07:15.025Z"
   },
   {
    "duration": 0,
    "start_time": "2022-07-29T09:07:15.026Z"
   },
   {
    "duration": 0,
    "start_time": "2022-07-29T09:07:15.027Z"
   },
   {
    "duration": 0,
    "start_time": "2022-07-29T09:07:15.028Z"
   },
   {
    "duration": 0,
    "start_time": "2022-07-29T09:07:15.029Z"
   },
   {
    "duration": 0,
    "start_time": "2022-07-29T09:07:15.029Z"
   },
   {
    "duration": 0,
    "start_time": "2022-07-29T09:07:15.030Z"
   },
   {
    "duration": 0,
    "start_time": "2022-07-29T09:07:15.031Z"
   },
   {
    "duration": 0,
    "start_time": "2022-07-29T09:07:15.033Z"
   },
   {
    "duration": 0,
    "start_time": "2022-07-29T09:07:15.034Z"
   },
   {
    "duration": 0,
    "start_time": "2022-07-29T09:07:15.035Z"
   },
   {
    "duration": 0,
    "start_time": "2022-07-29T09:07:15.036Z"
   },
   {
    "duration": 0,
    "start_time": "2022-07-29T09:07:15.037Z"
   },
   {
    "duration": 0,
    "start_time": "2022-07-29T09:07:15.038Z"
   },
   {
    "duration": 0,
    "start_time": "2022-07-29T09:07:15.039Z"
   },
   {
    "duration": 0,
    "start_time": "2022-07-29T09:07:15.040Z"
   },
   {
    "duration": 0,
    "start_time": "2022-07-29T09:07:15.041Z"
   },
   {
    "duration": 0,
    "start_time": "2022-07-29T09:07:15.042Z"
   },
   {
    "duration": 0,
    "start_time": "2022-07-29T09:07:15.043Z"
   },
   {
    "duration": 0,
    "start_time": "2022-07-29T09:07:15.044Z"
   },
   {
    "duration": 0,
    "start_time": "2022-07-29T09:07:15.046Z"
   },
   {
    "duration": 0,
    "start_time": "2022-07-29T09:07:15.047Z"
   },
   {
    "duration": 0,
    "start_time": "2022-07-29T09:07:15.048Z"
   },
   {
    "duration": 6,
    "start_time": "2022-07-29T09:12:14.982Z"
   },
   {
    "duration": 22,
    "start_time": "2022-07-29T09:12:18.077Z"
   },
   {
    "duration": 12,
    "start_time": "2022-07-29T09:15:43.145Z"
   },
   {
    "duration": 12,
    "start_time": "2022-07-29T09:16:52.247Z"
   },
   {
    "duration": 11,
    "start_time": "2022-07-29T09:17:16.883Z"
   },
   {
    "duration": 17,
    "start_time": "2022-07-29T09:20:04.857Z"
   },
   {
    "duration": 17,
    "start_time": "2022-07-29T09:20:30.979Z"
   },
   {
    "duration": 16,
    "start_time": "2022-07-29T09:20:52.853Z"
   },
   {
    "duration": 19,
    "start_time": "2022-07-29T09:21:11.139Z"
   },
   {
    "duration": 16,
    "start_time": "2022-07-29T09:21:18.928Z"
   },
   {
    "duration": 16,
    "start_time": "2022-07-29T09:21:33.801Z"
   },
   {
    "duration": 8,
    "start_time": "2022-07-29T09:38:41.474Z"
   },
   {
    "duration": 11,
    "start_time": "2022-07-29T09:38:54.110Z"
   },
   {
    "duration": 10,
    "start_time": "2022-07-29T09:39:46.684Z"
   },
   {
    "duration": 10,
    "start_time": "2022-07-29T09:39:56.954Z"
   },
   {
    "duration": 10,
    "start_time": "2022-07-29T09:40:15.989Z"
   },
   {
    "duration": 466,
    "start_time": "2022-07-29T09:40:28.666Z"
   },
   {
    "duration": 275,
    "start_time": "2022-07-29T09:40:29.134Z"
   },
   {
    "duration": 468,
    "start_time": "2022-07-29T09:40:29.411Z"
   },
   {
    "duration": 207,
    "start_time": "2022-07-29T09:40:29.881Z"
   },
   {
    "duration": 171,
    "start_time": "2022-07-29T09:40:30.089Z"
   },
   {
    "duration": 54,
    "start_time": "2022-07-29T09:40:30.262Z"
   },
   {
    "duration": 143,
    "start_time": "2022-07-29T09:40:30.318Z"
   },
   {
    "duration": 25,
    "start_time": "2022-07-29T09:40:30.462Z"
   },
   {
    "duration": 27,
    "start_time": "2022-07-29T09:40:30.489Z"
   },
   {
    "duration": 34,
    "start_time": "2022-07-29T09:40:30.520Z"
   },
   {
    "duration": 3,
    "start_time": "2022-07-29T09:40:30.556Z"
   },
   {
    "duration": 45,
    "start_time": "2022-07-29T09:40:30.561Z"
   },
   {
    "duration": 25,
    "start_time": "2022-07-29T09:40:30.608Z"
   },
   {
    "duration": 12,
    "start_time": "2022-07-29T09:40:30.635Z"
   },
   {
    "duration": 23,
    "start_time": "2022-07-29T09:40:30.649Z"
   },
   {
    "duration": 4,
    "start_time": "2022-07-29T09:40:30.674Z"
   },
   {
    "duration": 32,
    "start_time": "2022-07-29T09:40:30.680Z"
   },
   {
    "duration": 33,
    "start_time": "2022-07-29T09:40:30.715Z"
   },
   {
    "duration": 182,
    "start_time": "2022-07-29T09:40:30.751Z"
   },
   {
    "duration": 185,
    "start_time": "2022-07-29T09:40:30.935Z"
   },
   {
    "duration": 191,
    "start_time": "2022-07-29T09:40:31.123Z"
   },
   {
    "duration": 182,
    "start_time": "2022-07-29T09:40:31.316Z"
   },
   {
    "duration": 21,
    "start_time": "2022-07-29T09:40:31.504Z"
   },
   {
    "duration": 11,
    "start_time": "2022-07-29T09:40:31.527Z"
   },
   {
    "duration": 14,
    "start_time": "2022-07-29T09:40:31.540Z"
   },
   {
    "duration": 7,
    "start_time": "2022-07-29T09:40:31.556Z"
   },
   {
    "duration": 13,
    "start_time": "2022-07-29T09:40:31.565Z"
   },
   {
    "duration": 36,
    "start_time": "2022-07-29T09:40:31.582Z"
   },
   {
    "duration": 37,
    "start_time": "2022-07-29T09:40:31.620Z"
   },
   {
    "duration": 15,
    "start_time": "2022-07-29T09:40:31.659Z"
   },
   {
    "duration": 20,
    "start_time": "2022-07-29T09:40:31.677Z"
   },
   {
    "duration": 39,
    "start_time": "2022-07-29T09:40:31.703Z"
   },
   {
    "duration": 25,
    "start_time": "2022-07-29T09:40:31.745Z"
   },
   {
    "duration": 18,
    "start_time": "2022-07-29T09:40:31.772Z"
   },
   {
    "duration": 172,
    "start_time": "2022-07-29T09:40:31.792Z"
   },
   {
    "duration": 11,
    "start_time": "2022-07-29T09:40:31.966Z"
   },
   {
    "duration": 123,
    "start_time": "2022-07-29T09:40:31.980Z"
   },
   {
    "duration": 44,
    "start_time": "2022-07-29T09:40:32.105Z"
   },
   {
    "duration": 36,
    "start_time": "2022-07-29T09:40:32.151Z"
   },
   {
    "duration": 23,
    "start_time": "2022-07-29T09:40:32.189Z"
   },
   {
    "duration": 25,
    "start_time": "2022-07-29T09:40:32.214Z"
   },
   {
    "duration": 44,
    "start_time": "2022-07-29T09:40:32.241Z"
   },
   {
    "duration": 176,
    "start_time": "2022-07-29T09:40:32.288Z"
   },
   {
    "duration": 19,
    "start_time": "2022-07-29T09:40:32.466Z"
   },
   {
    "duration": 134,
    "start_time": "2022-07-29T09:40:32.487Z"
   },
   {
    "duration": 0,
    "start_time": "2022-07-29T09:40:32.622Z"
   },
   {
    "duration": 0,
    "start_time": "2022-07-29T09:40:32.624Z"
   },
   {
    "duration": 0,
    "start_time": "2022-07-29T09:40:32.624Z"
   },
   {
    "duration": 0,
    "start_time": "2022-07-29T09:40:32.625Z"
   },
   {
    "duration": 0,
    "start_time": "2022-07-29T09:40:32.626Z"
   },
   {
    "duration": 0,
    "start_time": "2022-07-29T09:40:32.627Z"
   },
   {
    "duration": 0,
    "start_time": "2022-07-29T09:40:32.628Z"
   },
   {
    "duration": 0,
    "start_time": "2022-07-29T09:40:32.629Z"
   },
   {
    "duration": 0,
    "start_time": "2022-07-29T09:40:32.630Z"
   },
   {
    "duration": 0,
    "start_time": "2022-07-29T09:40:32.630Z"
   },
   {
    "duration": 0,
    "start_time": "2022-07-29T09:40:32.631Z"
   },
   {
    "duration": 0,
    "start_time": "2022-07-29T09:40:32.632Z"
   },
   {
    "duration": 0,
    "start_time": "2022-07-29T09:40:32.633Z"
   },
   {
    "duration": 0,
    "start_time": "2022-07-29T09:40:32.634Z"
   },
   {
    "duration": 0,
    "start_time": "2022-07-29T09:40:32.635Z"
   },
   {
    "duration": 0,
    "start_time": "2022-07-29T09:40:32.637Z"
   },
   {
    "duration": 0,
    "start_time": "2022-07-29T09:40:32.638Z"
   },
   {
    "duration": 0,
    "start_time": "2022-07-29T09:40:32.639Z"
   },
   {
    "duration": 0,
    "start_time": "2022-07-29T09:40:32.640Z"
   },
   {
    "duration": 0,
    "start_time": "2022-07-29T09:40:32.641Z"
   },
   {
    "duration": 1,
    "start_time": "2022-07-29T09:40:32.641Z"
   },
   {
    "duration": 0,
    "start_time": "2022-07-29T09:40:32.643Z"
   },
   {
    "duration": 0,
    "start_time": "2022-07-29T09:40:32.643Z"
   },
   {
    "duration": 0,
    "start_time": "2022-07-29T09:40:32.645Z"
   },
   {
    "duration": 0,
    "start_time": "2022-07-29T09:40:32.646Z"
   },
   {
    "duration": 0,
    "start_time": "2022-07-29T09:40:32.647Z"
   },
   {
    "duration": 0,
    "start_time": "2022-07-29T09:40:32.648Z"
   },
   {
    "duration": 0,
    "start_time": "2022-07-29T09:40:32.649Z"
   },
   {
    "duration": 0,
    "start_time": "2022-07-29T09:40:32.649Z"
   },
   {
    "duration": 0,
    "start_time": "2022-07-29T09:40:32.650Z"
   },
   {
    "duration": 0,
    "start_time": "2022-07-29T09:40:32.651Z"
   },
   {
    "duration": 0,
    "start_time": "2022-07-29T09:40:32.652Z"
   },
   {
    "duration": 0,
    "start_time": "2022-07-29T09:40:32.653Z"
   },
   {
    "duration": 0,
    "start_time": "2022-07-29T09:40:32.705Z"
   },
   {
    "duration": 15,
    "start_time": "2022-07-29T09:43:16.663Z"
   },
   {
    "duration": 9,
    "start_time": "2022-07-29T09:43:34.390Z"
   },
   {
    "duration": 77,
    "start_time": "2022-07-29T09:44:20.687Z"
   },
   {
    "duration": 7,
    "start_time": "2022-07-29T09:44:39.974Z"
   },
   {
    "duration": 6,
    "start_time": "2022-07-29T09:45:07.353Z"
   },
   {
    "duration": 383,
    "start_time": "2022-07-29T09:45:21.748Z"
   },
   {
    "duration": 252,
    "start_time": "2022-07-29T09:45:22.133Z"
   },
   {
    "duration": 466,
    "start_time": "2022-07-29T09:45:22.386Z"
   },
   {
    "duration": 185,
    "start_time": "2022-07-29T09:45:22.854Z"
   },
   {
    "duration": 129,
    "start_time": "2022-07-29T09:45:23.041Z"
   },
   {
    "duration": 52,
    "start_time": "2022-07-29T09:45:23.172Z"
   },
   {
    "duration": 135,
    "start_time": "2022-07-29T09:45:23.226Z"
   },
   {
    "duration": 24,
    "start_time": "2022-07-29T09:45:23.363Z"
   },
   {
    "duration": 29,
    "start_time": "2022-07-29T09:45:23.388Z"
   },
   {
    "duration": 30,
    "start_time": "2022-07-29T09:45:23.420Z"
   },
   {
    "duration": 3,
    "start_time": "2022-07-29T09:45:23.452Z"
   },
   {
    "duration": 17,
    "start_time": "2022-07-29T09:45:23.457Z"
   },
   {
    "duration": 39,
    "start_time": "2022-07-29T09:45:23.476Z"
   },
   {
    "duration": 10,
    "start_time": "2022-07-29T09:45:23.517Z"
   },
   {
    "duration": 20,
    "start_time": "2022-07-29T09:45:23.528Z"
   },
   {
    "duration": 4,
    "start_time": "2022-07-29T09:45:23.549Z"
   },
   {
    "duration": 15,
    "start_time": "2022-07-29T09:45:23.554Z"
   },
   {
    "duration": 57,
    "start_time": "2022-07-29T09:45:23.571Z"
   },
   {
    "duration": 163,
    "start_time": "2022-07-29T09:45:23.630Z"
   },
   {
    "duration": 165,
    "start_time": "2022-07-29T09:45:23.795Z"
   },
   {
    "duration": 169,
    "start_time": "2022-07-29T09:45:23.961Z"
   },
   {
    "duration": 173,
    "start_time": "2022-07-29T09:45:24.132Z"
   },
   {
    "duration": 21,
    "start_time": "2022-07-29T09:45:24.307Z"
   },
   {
    "duration": 8,
    "start_time": "2022-07-29T09:45:24.329Z"
   },
   {
    "duration": 8,
    "start_time": "2022-07-29T09:45:24.338Z"
   },
   {
    "duration": 5,
    "start_time": "2022-07-29T09:45:24.348Z"
   },
   {
    "duration": 5,
    "start_time": "2022-07-29T09:45:24.355Z"
   },
   {
    "duration": 6,
    "start_time": "2022-07-29T09:45:24.364Z"
   },
   {
    "duration": 25,
    "start_time": "2022-07-29T09:45:24.404Z"
   },
   {
    "duration": 12,
    "start_time": "2022-07-29T09:45:24.431Z"
   },
   {
    "duration": 19,
    "start_time": "2022-07-29T09:45:24.445Z"
   },
   {
    "duration": 58,
    "start_time": "2022-07-29T09:45:24.466Z"
   },
   {
    "duration": 21,
    "start_time": "2022-07-29T09:45:24.526Z"
   },
   {
    "duration": 9,
    "start_time": "2022-07-29T09:45:24.549Z"
   },
   {
    "duration": 171,
    "start_time": "2022-07-29T09:45:24.560Z"
   },
   {
    "duration": 11,
    "start_time": "2022-07-29T09:45:24.733Z"
   },
   {
    "duration": 18,
    "start_time": "2022-07-29T09:45:24.745Z"
   },
   {
    "duration": 10,
    "start_time": "2022-07-29T09:45:24.765Z"
   },
   {
    "duration": 40,
    "start_time": "2022-07-29T09:45:24.777Z"
   },
   {
    "duration": 7,
    "start_time": "2022-07-29T09:45:24.819Z"
   },
   {
    "duration": 9,
    "start_time": "2022-07-29T09:45:24.828Z"
   },
   {
    "duration": 23,
    "start_time": "2022-07-29T09:45:24.839Z"
   },
   {
    "duration": 114,
    "start_time": "2022-07-29T09:45:24.864Z"
   },
   {
    "duration": 24,
    "start_time": "2022-07-29T09:45:24.980Z"
   },
   {
    "duration": 109,
    "start_time": "2022-07-29T09:45:25.006Z"
   },
   {
    "duration": 1,
    "start_time": "2022-07-29T09:45:25.116Z"
   },
   {
    "duration": 0,
    "start_time": "2022-07-29T09:45:25.118Z"
   },
   {
    "duration": 0,
    "start_time": "2022-07-29T09:45:25.119Z"
   },
   {
    "duration": 0,
    "start_time": "2022-07-29T09:45:25.120Z"
   },
   {
    "duration": 0,
    "start_time": "2022-07-29T09:45:25.121Z"
   },
   {
    "duration": 0,
    "start_time": "2022-07-29T09:45:25.122Z"
   },
   {
    "duration": 0,
    "start_time": "2022-07-29T09:45:25.123Z"
   },
   {
    "duration": 0,
    "start_time": "2022-07-29T09:45:25.124Z"
   },
   {
    "duration": 0,
    "start_time": "2022-07-29T09:45:25.125Z"
   },
   {
    "duration": 0,
    "start_time": "2022-07-29T09:45:25.126Z"
   },
   {
    "duration": 0,
    "start_time": "2022-07-29T09:45:25.127Z"
   },
   {
    "duration": 0,
    "start_time": "2022-07-29T09:45:25.128Z"
   },
   {
    "duration": 0,
    "start_time": "2022-07-29T09:45:25.129Z"
   },
   {
    "duration": 0,
    "start_time": "2022-07-29T09:45:25.130Z"
   },
   {
    "duration": 0,
    "start_time": "2022-07-29T09:45:25.131Z"
   },
   {
    "duration": 0,
    "start_time": "2022-07-29T09:45:25.132Z"
   },
   {
    "duration": 0,
    "start_time": "2022-07-29T09:45:25.134Z"
   },
   {
    "duration": 0,
    "start_time": "2022-07-29T09:45:25.135Z"
   },
   {
    "duration": 0,
    "start_time": "2022-07-29T09:45:25.137Z"
   },
   {
    "duration": 0,
    "start_time": "2022-07-29T09:45:25.137Z"
   },
   {
    "duration": 0,
    "start_time": "2022-07-29T09:45:25.139Z"
   },
   {
    "duration": 0,
    "start_time": "2022-07-29T09:45:25.139Z"
   },
   {
    "duration": 0,
    "start_time": "2022-07-29T09:45:25.141Z"
   },
   {
    "duration": 0,
    "start_time": "2022-07-29T09:45:25.142Z"
   },
   {
    "duration": 0,
    "start_time": "2022-07-29T09:45:25.143Z"
   },
   {
    "duration": 0,
    "start_time": "2022-07-29T09:45:25.144Z"
   },
   {
    "duration": 0,
    "start_time": "2022-07-29T09:45:25.145Z"
   },
   {
    "duration": 0,
    "start_time": "2022-07-29T09:45:25.146Z"
   },
   {
    "duration": 0,
    "start_time": "2022-07-29T09:45:25.148Z"
   },
   {
    "duration": 0,
    "start_time": "2022-07-29T09:45:25.204Z"
   },
   {
    "duration": 0,
    "start_time": "2022-07-29T09:45:25.205Z"
   },
   {
    "duration": 0,
    "start_time": "2022-07-29T09:45:25.206Z"
   },
   {
    "duration": 0,
    "start_time": "2022-07-29T09:45:25.207Z"
   },
   {
    "duration": 0,
    "start_time": "2022-07-29T09:45:25.208Z"
   },
   {
    "duration": 430,
    "start_time": "2022-07-29T09:46:42.521Z"
   },
   {
    "duration": 263,
    "start_time": "2022-07-29T09:46:42.953Z"
   },
   {
    "duration": 456,
    "start_time": "2022-07-29T09:46:43.218Z"
   },
   {
    "duration": 194,
    "start_time": "2022-07-29T09:46:43.677Z"
   },
   {
    "duration": 134,
    "start_time": "2022-07-29T09:46:43.873Z"
   },
   {
    "duration": 55,
    "start_time": "2022-07-29T09:46:44.008Z"
   },
   {
    "duration": 146,
    "start_time": "2022-07-29T09:46:44.064Z"
   },
   {
    "duration": 26,
    "start_time": "2022-07-29T09:46:44.212Z"
   },
   {
    "duration": 16,
    "start_time": "2022-07-29T09:46:44.239Z"
   },
   {
    "duration": 55,
    "start_time": "2022-07-29T09:46:44.258Z"
   },
   {
    "duration": 3,
    "start_time": "2022-07-29T09:46:44.315Z"
   },
   {
    "duration": 17,
    "start_time": "2022-07-29T09:46:44.320Z"
   },
   {
    "duration": 16,
    "start_time": "2022-07-29T09:46:44.339Z"
   },
   {
    "duration": 11,
    "start_time": "2022-07-29T09:46:44.357Z"
   },
   {
    "duration": 47,
    "start_time": "2022-07-29T09:46:44.370Z"
   },
   {
    "duration": 5,
    "start_time": "2022-07-29T09:46:44.419Z"
   },
   {
    "duration": 16,
    "start_time": "2022-07-29T09:46:44.426Z"
   },
   {
    "duration": 61,
    "start_time": "2022-07-29T09:46:44.444Z"
   },
   {
    "duration": 164,
    "start_time": "2022-07-29T09:46:44.507Z"
   },
   {
    "duration": 182,
    "start_time": "2022-07-29T09:46:44.673Z"
   },
   {
    "duration": 180,
    "start_time": "2022-07-29T09:46:44.858Z"
   },
   {
    "duration": 190,
    "start_time": "2022-07-29T09:46:45.040Z"
   },
   {
    "duration": 20,
    "start_time": "2022-07-29T09:46:45.231Z"
   },
   {
    "duration": 8,
    "start_time": "2022-07-29T09:46:45.252Z"
   },
   {
    "duration": 9,
    "start_time": "2022-07-29T09:46:45.261Z"
   },
   {
    "duration": 6,
    "start_time": "2022-07-29T09:46:45.271Z"
   },
   {
    "duration": 4,
    "start_time": "2022-07-29T09:46:45.305Z"
   },
   {
    "duration": 6,
    "start_time": "2022-07-29T09:46:45.314Z"
   },
   {
    "duration": 28,
    "start_time": "2022-07-29T09:46:45.323Z"
   },
   {
    "duration": 14,
    "start_time": "2022-07-29T09:46:45.353Z"
   },
   {
    "duration": 46,
    "start_time": "2022-07-29T09:46:45.369Z"
   },
   {
    "duration": 27,
    "start_time": "2022-07-29T09:46:45.417Z"
   },
   {
    "duration": 22,
    "start_time": "2022-07-29T09:46:45.446Z"
   },
   {
    "duration": 35,
    "start_time": "2022-07-29T09:46:45.469Z"
   },
   {
    "duration": 152,
    "start_time": "2022-07-29T09:46:45.506Z"
   },
   {
    "duration": 10,
    "start_time": "2022-07-29T09:46:45.660Z"
   },
   {
    "duration": 23,
    "start_time": "2022-07-29T09:46:45.672Z"
   },
   {
    "duration": 17,
    "start_time": "2022-07-29T09:46:45.696Z"
   },
   {
    "duration": 16,
    "start_time": "2022-07-29T09:46:45.715Z"
   },
   {
    "duration": 8,
    "start_time": "2022-07-29T09:46:45.733Z"
   },
   {
    "duration": 11,
    "start_time": "2022-07-29T09:46:45.742Z"
   },
   {
    "duration": 56,
    "start_time": "2022-07-29T09:46:45.755Z"
   },
   {
    "duration": 95,
    "start_time": "2022-07-29T09:46:45.813Z"
   },
   {
    "duration": 16,
    "start_time": "2022-07-29T09:46:45.910Z"
   },
   {
    "duration": 15,
    "start_time": "2022-07-29T09:46:45.928Z"
   },
   {
    "duration": 28,
    "start_time": "2022-07-29T09:46:45.945Z"
   },
   {
    "duration": 28,
    "start_time": "2022-07-29T09:46:46.005Z"
   },
   {
    "duration": 24,
    "start_time": "2022-07-29T09:46:46.034Z"
   },
   {
    "duration": 49,
    "start_time": "2022-07-29T09:46:46.060Z"
   },
   {
    "duration": 35,
    "start_time": "2022-07-29T09:46:46.111Z"
   },
   {
    "duration": 7,
    "start_time": "2022-07-29T09:46:46.148Z"
   },
   {
    "duration": 47,
    "start_time": "2022-07-29T09:46:46.157Z"
   },
   {
    "duration": 321,
    "start_time": "2022-07-29T09:46:46.206Z"
   },
   {
    "duration": 299,
    "start_time": "2022-07-29T09:46:46.531Z"
   },
   {
    "duration": 26,
    "start_time": "2022-07-29T09:46:46.832Z"
   },
   {
    "duration": 12,
    "start_time": "2022-07-29T09:46:46.860Z"
   },
   {
    "duration": 31,
    "start_time": "2022-07-29T09:46:46.874Z"
   },
   {
    "duration": 17,
    "start_time": "2022-07-29T09:46:46.907Z"
   },
   {
    "duration": 179,
    "start_time": "2022-07-29T09:46:46.926Z"
   },
   {
    "duration": 194,
    "start_time": "2022-07-29T09:46:47.107Z"
   },
   {
    "duration": 5,
    "start_time": "2022-07-29T09:46:47.304Z"
   },
   {
    "duration": 13,
    "start_time": "2022-07-29T09:46:47.310Z"
   },
   {
    "duration": 163,
    "start_time": "2022-07-29T09:46:47.325Z"
   },
   {
    "duration": 178,
    "start_time": "2022-07-29T09:46:47.490Z"
   },
   {
    "duration": 303,
    "start_time": "2022-07-29T09:46:47.670Z"
   },
   {
    "duration": 5,
    "start_time": "2022-07-29T09:46:47.975Z"
   },
   {
    "duration": 31,
    "start_time": "2022-07-29T09:46:47.981Z"
   },
   {
    "duration": 209,
    "start_time": "2022-07-29T09:46:48.014Z"
   },
   {
    "duration": 23,
    "start_time": "2022-07-29T09:46:48.225Z"
   },
   {
    "duration": 24,
    "start_time": "2022-07-29T09:46:48.250Z"
   },
   {
    "duration": 38,
    "start_time": "2022-07-29T09:46:48.275Z"
   },
   {
    "duration": 16,
    "start_time": "2022-07-29T09:46:48.314Z"
   },
   {
    "duration": 16,
    "start_time": "2022-07-29T09:46:48.332Z"
   },
   {
    "duration": 19,
    "start_time": "2022-07-29T09:46:48.350Z"
   },
   {
    "duration": 142,
    "start_time": "2022-07-29T09:46:48.371Z"
   },
   {
    "duration": 17,
    "start_time": "2022-07-29T09:46:48.515Z"
   },
   {
    "duration": 18,
    "start_time": "2022-07-29T09:46:48.534Z"
   },
   {
    "duration": 15,
    "start_time": "2022-07-29T09:46:48.554Z"
   },
   {
    "duration": 38,
    "start_time": "2022-07-29T09:46:48.571Z"
   },
   {
    "duration": 9,
    "start_time": "2022-07-29T09:48:08.542Z"
   },
   {
    "duration": 73,
    "start_time": "2022-07-29T09:50:50.495Z"
   },
   {
    "duration": 38,
    "start_time": "2022-07-29T09:54:04.897Z"
   },
   {
    "duration": 38,
    "start_time": "2022-07-29T09:56:19.864Z"
   },
   {
    "duration": 7,
    "start_time": "2022-07-29T09:56:33.948Z"
   },
   {
    "duration": 25,
    "start_time": "2022-07-29T09:56:48.252Z"
   },
   {
    "duration": 331,
    "start_time": "2022-07-29T09:56:59.216Z"
   },
   {
    "duration": 240,
    "start_time": "2022-07-29T09:57:38.077Z"
   },
   {
    "duration": 26,
    "start_time": "2022-07-29T10:00:09.489Z"
   },
   {
    "duration": 24,
    "start_time": "2022-07-29T10:03:11.755Z"
   },
   {
    "duration": 211,
    "start_time": "2022-07-29T10:03:15.366Z"
   },
   {
    "duration": 5,
    "start_time": "2022-07-29T10:03:38.409Z"
   },
   {
    "duration": 12,
    "start_time": "2022-07-29T10:04:48.446Z"
   },
   {
    "duration": 14,
    "start_time": "2022-07-29T10:07:05.336Z"
   },
   {
    "duration": 18,
    "start_time": "2022-07-29T10:09:52.172Z"
   },
   {
    "duration": 15,
    "start_time": "2022-07-29T10:10:22.245Z"
   },
   {
    "duration": 21,
    "start_time": "2022-07-29T10:10:26.576Z"
   },
   {
    "duration": 186,
    "start_time": "2022-07-29T10:10:29.486Z"
   },
   {
    "duration": 214,
    "start_time": "2022-07-29T10:10:38.053Z"
   },
   {
    "duration": 18,
    "start_time": "2022-07-29T10:11:46.520Z"
   },
   {
    "duration": 11,
    "start_time": "2022-07-29T10:11:50.915Z"
   },
   {
    "duration": 195,
    "start_time": "2022-07-29T10:11:56.019Z"
   },
   {
    "duration": 164,
    "start_time": "2022-07-29T10:11:58.964Z"
   },
   {
    "duration": 6,
    "start_time": "2022-07-29T10:12:13.228Z"
   },
   {
    "duration": 20,
    "start_time": "2022-07-29T10:12:18.879Z"
   },
   {
    "duration": 28,
    "start_time": "2022-07-29T10:12:46.267Z"
   },
   {
    "duration": 236,
    "start_time": "2022-07-29T10:12:53.497Z"
   },
   {
    "duration": 9,
    "start_time": "2022-07-29T10:17:17.952Z"
   },
   {
    "duration": 9,
    "start_time": "2022-07-29T10:17:29.679Z"
   },
   {
    "duration": 162,
    "start_time": "2022-07-29T10:17:41.852Z"
   },
   {
    "duration": 10,
    "start_time": "2022-07-29T10:17:51.855Z"
   },
   {
    "duration": 273,
    "start_time": "2022-07-29T10:27:24.057Z"
   },
   {
    "duration": 260,
    "start_time": "2022-07-29T10:28:03.664Z"
   },
   {
    "duration": 381,
    "start_time": "2022-07-29T10:28:12.813Z"
   },
   {
    "duration": 378,
    "start_time": "2022-07-29T10:28:26.517Z"
   },
   {
    "duration": 305,
    "start_time": "2022-07-29T10:28:56.404Z"
   },
   {
    "duration": 239,
    "start_time": "2022-07-29T10:29:07.048Z"
   },
   {
    "duration": 234,
    "start_time": "2022-07-29T10:29:15.638Z"
   },
   {
    "duration": 216,
    "start_time": "2022-07-29T10:29:28.601Z"
   },
   {
    "duration": 234,
    "start_time": "2022-07-29T10:29:40.124Z"
   },
   {
    "duration": 234,
    "start_time": "2022-07-29T10:30:05.652Z"
   },
   {
    "duration": 359,
    "start_time": "2022-07-29T10:30:40.754Z"
   },
   {
    "duration": 234,
    "start_time": "2022-07-29T10:31:04.730Z"
   },
   {
    "duration": 80,
    "start_time": "2022-07-29T10:33:24.283Z"
   },
   {
    "duration": 77,
    "start_time": "2022-07-29T10:33:42.014Z"
   },
   {
    "duration": 285,
    "start_time": "2022-07-29T10:33:53.218Z"
   },
   {
    "duration": 250,
    "start_time": "2022-07-29T10:34:30.618Z"
   },
   {
    "duration": 226,
    "start_time": "2022-07-29T10:35:00.449Z"
   },
   {
    "duration": 47,
    "start_time": "2022-07-29T17:05:56.324Z"
   },
   {
    "duration": 401,
    "start_time": "2022-07-29T17:06:09.072Z"
   },
   {
    "duration": 367,
    "start_time": "2022-07-29T17:06:09.476Z"
   },
   {
    "duration": 451,
    "start_time": "2022-07-29T17:06:09.845Z"
   },
   {
    "duration": 150,
    "start_time": "2022-07-29T17:06:10.298Z"
   },
   {
    "duration": 98,
    "start_time": "2022-07-29T17:06:10.450Z"
   },
   {
    "duration": 85,
    "start_time": "2022-07-29T17:06:10.549Z"
   },
   {
    "duration": 113,
    "start_time": "2022-07-29T17:06:10.635Z"
   },
   {
    "duration": 26,
    "start_time": "2022-07-29T17:06:10.749Z"
   },
   {
    "duration": 12,
    "start_time": "2022-07-29T17:06:10.776Z"
   },
   {
    "duration": 25,
    "start_time": "2022-07-29T17:06:10.791Z"
   },
   {
    "duration": 3,
    "start_time": "2022-07-29T17:06:10.817Z"
   },
   {
    "duration": 17,
    "start_time": "2022-07-29T17:06:10.822Z"
   },
   {
    "duration": 37,
    "start_time": "2022-07-29T17:06:10.841Z"
   },
   {
    "duration": 7,
    "start_time": "2022-07-29T17:06:10.880Z"
   },
   {
    "duration": 18,
    "start_time": "2022-07-29T17:06:10.889Z"
   },
   {
    "duration": 4,
    "start_time": "2022-07-29T17:06:10.908Z"
   },
   {
    "duration": 15,
    "start_time": "2022-07-29T17:06:10.913Z"
   },
   {
    "duration": 48,
    "start_time": "2022-07-29T17:06:10.930Z"
   },
   {
    "duration": 138,
    "start_time": "2022-07-29T17:06:10.980Z"
   },
   {
    "duration": 135,
    "start_time": "2022-07-29T17:06:11.119Z"
   },
   {
    "duration": 138,
    "start_time": "2022-07-29T17:06:11.256Z"
   },
   {
    "duration": 178,
    "start_time": "2022-07-29T17:06:11.395Z"
   },
   {
    "duration": 20,
    "start_time": "2022-07-29T17:06:11.575Z"
   },
   {
    "duration": 5,
    "start_time": "2022-07-29T17:06:11.596Z"
   },
   {
    "duration": 7,
    "start_time": "2022-07-29T17:06:11.602Z"
   },
   {
    "duration": 9,
    "start_time": "2022-07-29T17:06:11.610Z"
   },
   {
    "duration": 11,
    "start_time": "2022-07-29T17:06:11.620Z"
   },
   {
    "duration": 5,
    "start_time": "2022-07-29T17:06:11.635Z"
   },
   {
    "duration": 42,
    "start_time": "2022-07-29T17:06:11.641Z"
   },
   {
    "duration": 14,
    "start_time": "2022-07-29T17:06:11.684Z"
   },
   {
    "duration": 16,
    "start_time": "2022-07-29T17:06:11.700Z"
   },
   {
    "duration": 24,
    "start_time": "2022-07-29T17:06:11.718Z"
   },
   {
    "duration": 46,
    "start_time": "2022-07-29T17:06:11.744Z"
   },
   {
    "duration": 7,
    "start_time": "2022-07-29T17:06:11.791Z"
   },
   {
    "duration": 143,
    "start_time": "2022-07-29T17:06:11.799Z"
   },
   {
    "duration": 9,
    "start_time": "2022-07-29T17:06:11.943Z"
   },
   {
    "duration": 23,
    "start_time": "2022-07-29T17:06:11.953Z"
   },
   {
    "duration": 8,
    "start_time": "2022-07-29T17:06:11.977Z"
   },
   {
    "duration": 13,
    "start_time": "2022-07-29T17:06:11.986Z"
   },
   {
    "duration": 7,
    "start_time": "2022-07-29T17:06:12.001Z"
   },
   {
    "duration": 7,
    "start_time": "2022-07-29T17:06:12.009Z"
   },
   {
    "duration": 19,
    "start_time": "2022-07-29T17:06:12.018Z"
   },
   {
    "duration": 79,
    "start_time": "2022-07-29T17:06:12.073Z"
   },
   {
    "duration": 28,
    "start_time": "2022-07-29T17:06:12.153Z"
   },
   {
    "duration": 11,
    "start_time": "2022-07-29T17:06:12.182Z"
   },
   {
    "duration": 21,
    "start_time": "2022-07-29T17:06:12.195Z"
   },
   {
    "duration": 23,
    "start_time": "2022-07-29T17:06:12.217Z"
   },
   {
    "duration": 47,
    "start_time": "2022-07-29T17:06:12.242Z"
   },
   {
    "duration": 21,
    "start_time": "2022-07-29T17:06:12.291Z"
   },
   {
    "duration": 21,
    "start_time": "2022-07-29T17:06:12.314Z"
   },
   {
    "duration": 5,
    "start_time": "2022-07-29T17:06:12.337Z"
   },
   {
    "duration": 46,
    "start_time": "2022-07-29T17:06:12.344Z"
   },
   {
    "duration": 281,
    "start_time": "2022-07-29T17:06:12.392Z"
   },
   {
    "duration": 199,
    "start_time": "2022-07-29T17:06:12.675Z"
   },
   {
    "duration": 22,
    "start_time": "2022-07-29T17:06:12.876Z"
   },
   {
    "duration": 11,
    "start_time": "2022-07-29T17:06:12.900Z"
   },
   {
    "duration": 12,
    "start_time": "2022-07-29T17:06:12.913Z"
   },
   {
    "duration": 14,
    "start_time": "2022-07-29T17:06:12.927Z"
   },
   {
    "duration": 171,
    "start_time": "2022-07-29T17:06:12.942Z"
   },
   {
    "duration": 152,
    "start_time": "2022-07-29T17:06:13.114Z"
   },
   {
    "duration": 9,
    "start_time": "2022-07-29T17:06:13.268Z"
   },
   {
    "duration": 11,
    "start_time": "2022-07-29T17:06:13.279Z"
   },
   {
    "duration": 148,
    "start_time": "2022-07-29T17:06:13.292Z"
   },
   {
    "duration": 131,
    "start_time": "2022-07-29T17:06:13.442Z"
   },
   {
    "duration": 235,
    "start_time": "2022-07-29T17:06:13.574Z"
   },
   {
    "duration": 4,
    "start_time": "2022-07-29T17:06:13.811Z"
   },
   {
    "duration": 18,
    "start_time": "2022-07-29T17:06:13.816Z"
   },
   {
    "duration": 171,
    "start_time": "2022-07-29T17:06:13.835Z"
   },
   {
    "duration": 19,
    "start_time": "2022-07-29T17:06:14.008Z"
   },
   {
    "duration": 16,
    "start_time": "2022-07-29T17:06:14.029Z"
   },
   {
    "duration": 35,
    "start_time": "2022-07-29T17:06:14.046Z"
   },
   {
    "duration": 14,
    "start_time": "2022-07-29T17:06:14.083Z"
   },
   {
    "duration": 13,
    "start_time": "2022-07-29T17:06:14.099Z"
   },
   {
    "duration": 215,
    "start_time": "2022-07-29T17:06:14.113Z"
   },
   {
    "duration": 15,
    "start_time": "2022-07-29T17:06:14.330Z"
   },
   {
    "duration": 28,
    "start_time": "2022-07-29T17:06:14.346Z"
   },
   {
    "duration": 14,
    "start_time": "2022-07-29T17:06:14.375Z"
   },
   {
    "duration": 19,
    "start_time": "2022-07-29T17:06:14.391Z"
   },
   {
    "duration": 6,
    "start_time": "2022-07-29T17:06:14.412Z"
   },
   {
    "duration": 6,
    "start_time": "2022-07-29T17:06:14.420Z"
   },
   {
    "duration": 235,
    "start_time": "2022-07-29T17:07:34.853Z"
   },
   {
    "duration": 388,
    "start_time": "2022-07-29T17:07:51.559Z"
   },
   {
    "duration": 371,
    "start_time": "2022-07-29T17:09:01.802Z"
   },
   {
    "duration": 169,
    "start_time": "2022-07-29T17:11:04.486Z"
   },
   {
    "duration": 462,
    "start_time": "2022-07-29T17:11:35.734Z"
   },
   {
    "duration": 414,
    "start_time": "2022-07-29T17:11:54.178Z"
   },
   {
    "duration": 648,
    "start_time": "2022-07-29T17:15:20.808Z"
   },
   {
    "duration": 443,
    "start_time": "2022-07-29T17:16:06.212Z"
   },
   {
    "duration": 455,
    "start_time": "2022-07-29T17:16:14.418Z"
   },
   {
    "duration": 410,
    "start_time": "2022-07-29T17:16:24.745Z"
   },
   {
    "duration": 209,
    "start_time": "2022-07-29T17:16:25.156Z"
   },
   {
    "duration": 423,
    "start_time": "2022-07-29T17:16:25.367Z"
   },
   {
    "duration": 149,
    "start_time": "2022-07-29T17:16:25.792Z"
   },
   {
    "duration": 122,
    "start_time": "2022-07-29T17:16:25.942Z"
   },
   {
    "duration": 49,
    "start_time": "2022-07-29T17:16:26.065Z"
   },
   {
    "duration": 107,
    "start_time": "2022-07-29T17:16:26.115Z"
   },
   {
    "duration": 20,
    "start_time": "2022-07-29T17:16:26.223Z"
   },
   {
    "duration": 12,
    "start_time": "2022-07-29T17:16:26.245Z"
   },
   {
    "duration": 25,
    "start_time": "2022-07-29T17:16:26.272Z"
   },
   {
    "duration": 3,
    "start_time": "2022-07-29T17:16:26.299Z"
   },
   {
    "duration": 20,
    "start_time": "2022-07-29T17:16:26.303Z"
   },
   {
    "duration": 16,
    "start_time": "2022-07-29T17:16:26.324Z"
   },
   {
    "duration": 8,
    "start_time": "2022-07-29T17:16:26.342Z"
   },
   {
    "duration": 43,
    "start_time": "2022-07-29T17:16:26.352Z"
   },
   {
    "duration": 4,
    "start_time": "2022-07-29T17:16:26.397Z"
   },
   {
    "duration": 13,
    "start_time": "2022-07-29T17:16:26.402Z"
   },
   {
    "duration": 25,
    "start_time": "2022-07-29T17:16:26.417Z"
   },
   {
    "duration": 135,
    "start_time": "2022-07-29T17:16:26.443Z"
   },
   {
    "duration": 137,
    "start_time": "2022-07-29T17:16:26.580Z"
   },
   {
    "duration": 145,
    "start_time": "2022-07-29T17:16:26.718Z"
   },
   {
    "duration": 148,
    "start_time": "2022-07-29T17:16:26.864Z"
   },
   {
    "duration": 17,
    "start_time": "2022-07-29T17:16:27.014Z"
   },
   {
    "duration": 7,
    "start_time": "2022-07-29T17:16:27.032Z"
   },
   {
    "duration": 8,
    "start_time": "2022-07-29T17:16:27.041Z"
   },
   {
    "duration": 6,
    "start_time": "2022-07-29T17:16:27.050Z"
   },
   {
    "duration": 22,
    "start_time": "2022-07-29T17:16:27.057Z"
   },
   {
    "duration": 4,
    "start_time": "2022-07-29T17:16:27.083Z"
   },
   {
    "duration": 21,
    "start_time": "2022-07-29T17:16:27.088Z"
   },
   {
    "duration": 11,
    "start_time": "2022-07-29T17:16:27.110Z"
   },
   {
    "duration": 16,
    "start_time": "2022-07-29T17:16:27.122Z"
   },
   {
    "duration": 44,
    "start_time": "2022-07-29T17:16:27.139Z"
   },
   {
    "duration": 17,
    "start_time": "2022-07-29T17:16:27.184Z"
   },
   {
    "duration": 6,
    "start_time": "2022-07-29T17:16:27.202Z"
   },
   {
    "duration": 128,
    "start_time": "2022-07-29T17:16:27.209Z"
   },
   {
    "duration": 9,
    "start_time": "2022-07-29T17:16:27.339Z"
   },
   {
    "duration": 24,
    "start_time": "2022-07-29T17:16:27.350Z"
   },
   {
    "duration": 9,
    "start_time": "2022-07-29T17:16:27.375Z"
   },
   {
    "duration": 15,
    "start_time": "2022-07-29T17:16:27.385Z"
   },
   {
    "duration": 7,
    "start_time": "2022-07-29T17:16:27.401Z"
   },
   {
    "duration": 8,
    "start_time": "2022-07-29T17:16:27.410Z"
   },
   {
    "duration": 27,
    "start_time": "2022-07-29T17:16:27.419Z"
   },
   {
    "duration": 33,
    "start_time": "2022-07-29T17:16:27.447Z"
   },
   {
    "duration": 80,
    "start_time": "2022-07-29T17:16:27.481Z"
   },
   {
    "duration": 11,
    "start_time": "2022-07-29T17:16:27.573Z"
   },
   {
    "duration": 20,
    "start_time": "2022-07-29T17:16:27.585Z"
   },
   {
    "duration": 22,
    "start_time": "2022-07-29T17:16:27.606Z"
   },
   {
    "duration": 17,
    "start_time": "2022-07-29T17:16:27.629Z"
   },
   {
    "duration": 43,
    "start_time": "2022-07-29T17:16:27.648Z"
   },
   {
    "duration": 18,
    "start_time": "2022-07-29T17:16:27.692Z"
   },
   {
    "duration": 5,
    "start_time": "2022-07-29T17:16:27.712Z"
   },
   {
    "duration": 20,
    "start_time": "2022-07-29T17:16:27.718Z"
   },
   {
    "duration": 266,
    "start_time": "2022-07-29T17:16:27.739Z"
   },
   {
    "duration": 206,
    "start_time": "2022-07-29T17:16:28.007Z"
   },
   {
    "duration": 22,
    "start_time": "2022-07-29T17:16:28.214Z"
   },
   {
    "duration": 11,
    "start_time": "2022-07-29T17:16:28.238Z"
   },
   {
    "duration": 34,
    "start_time": "2022-07-29T17:16:28.250Z"
   },
   {
    "duration": 33,
    "start_time": "2022-07-29T17:16:28.286Z"
   },
   {
    "duration": 137,
    "start_time": "2022-07-29T17:16:28.320Z"
   },
   {
    "duration": 151,
    "start_time": "2022-07-29T17:16:28.459Z"
   },
   {
    "duration": 7,
    "start_time": "2022-07-29T17:16:28.611Z"
   },
   {
    "duration": 13,
    "start_time": "2022-07-29T17:16:28.620Z"
   },
   {
    "duration": 153,
    "start_time": "2022-07-29T17:16:28.635Z"
   },
   {
    "duration": 136,
    "start_time": "2022-07-29T17:16:28.790Z"
   },
   {
    "duration": 247,
    "start_time": "2022-07-29T17:16:28.928Z"
   },
   {
    "duration": 4,
    "start_time": "2022-07-29T17:16:29.176Z"
   },
   {
    "duration": 20,
    "start_time": "2022-07-29T17:16:29.182Z"
   },
   {
    "duration": 177,
    "start_time": "2022-07-29T17:16:29.203Z"
   },
   {
    "duration": 20,
    "start_time": "2022-07-29T17:16:29.382Z"
   },
   {
    "duration": 17,
    "start_time": "2022-07-29T17:16:29.404Z"
   },
   {
    "duration": 14,
    "start_time": "2022-07-29T17:16:29.422Z"
   },
   {
    "duration": 41,
    "start_time": "2022-07-29T17:16:29.437Z"
   },
   {
    "duration": 13,
    "start_time": "2022-07-29T17:16:29.480Z"
   },
   {
    "duration": 495,
    "start_time": "2022-07-29T17:16:29.495Z"
   },
   {
    "duration": 16,
    "start_time": "2022-07-29T17:16:29.991Z"
   },
   {
    "duration": 15,
    "start_time": "2022-07-29T17:16:30.008Z"
   },
   {
    "duration": 14,
    "start_time": "2022-07-29T17:16:30.025Z"
   },
   {
    "duration": 40,
    "start_time": "2022-07-29T17:16:30.040Z"
   },
   {
    "duration": 11,
    "start_time": "2022-07-29T17:16:30.082Z"
   },
   {
    "duration": 7,
    "start_time": "2022-07-29T17:16:30.095Z"
   },
   {
    "duration": 186,
    "start_time": "2022-07-29T17:17:18.134Z"
   },
   {
    "duration": 307,
    "start_time": "2022-07-29T17:18:18.544Z"
   },
   {
    "duration": 1003,
    "start_time": "2022-07-29T17:19:15.328Z"
   },
   {
    "duration": 229,
    "start_time": "2022-07-29T17:19:24.938Z"
   },
   {
    "duration": 97,
    "start_time": "2022-07-29T17:20:41.256Z"
   },
   {
    "duration": 231,
    "start_time": "2022-07-29T17:24:36.862Z"
   },
   {
    "duration": 179,
    "start_time": "2022-07-29T17:25:47.302Z"
   },
   {
    "duration": 181,
    "start_time": "2022-07-29T17:25:56.909Z"
   },
   {
    "duration": 298,
    "start_time": "2022-07-29T17:26:38.580Z"
   },
   {
    "duration": 181,
    "start_time": "2022-07-29T17:26:51.723Z"
   },
   {
    "duration": 184,
    "start_time": "2022-07-29T17:30:36.731Z"
   },
   {
    "duration": 14,
    "start_time": "2022-07-29T17:32:13.363Z"
   },
   {
    "duration": 189,
    "start_time": "2022-07-29T17:32:37.048Z"
   },
   {
    "duration": 14,
    "start_time": "2022-07-29T17:36:04.197Z"
   },
   {
    "duration": 193,
    "start_time": "2022-07-29T17:37:37.735Z"
   },
   {
    "duration": 209,
    "start_time": "2022-07-29T17:37:50.388Z"
   },
   {
    "duration": 244,
    "start_time": "2022-07-29T17:38:01.770Z"
   },
   {
    "duration": 212,
    "start_time": "2022-07-29T17:38:13.499Z"
   },
   {
    "duration": 210,
    "start_time": "2022-07-29T17:38:20.255Z"
   },
   {
    "duration": 13,
    "start_time": "2022-07-29T17:42:06.086Z"
   },
   {
    "duration": 369,
    "start_time": "2022-07-29T17:45:00.857Z"
   },
   {
    "duration": 217,
    "start_time": "2022-07-29T17:45:26.269Z"
   },
   {
    "duration": 225,
    "start_time": "2022-07-29T17:45:48.045Z"
   },
   {
    "duration": 226,
    "start_time": "2022-07-29T17:53:16.149Z"
   },
   {
    "duration": 331,
    "start_time": "2022-07-29T17:58:49.132Z"
   },
   {
    "duration": 196,
    "start_time": "2022-07-29T17:58:49.465Z"
   },
   {
    "duration": 424,
    "start_time": "2022-07-29T17:58:49.663Z"
   },
   {
    "duration": 151,
    "start_time": "2022-07-29T17:58:50.089Z"
   },
   {
    "duration": 101,
    "start_time": "2022-07-29T17:58:50.243Z"
   },
   {
    "duration": 48,
    "start_time": "2022-07-29T17:58:50.346Z"
   },
   {
    "duration": 104,
    "start_time": "2022-07-29T17:58:50.395Z"
   },
   {
    "duration": 20,
    "start_time": "2022-07-29T17:58:50.500Z"
   },
   {
    "duration": 12,
    "start_time": "2022-07-29T17:58:50.521Z"
   },
   {
    "duration": 43,
    "start_time": "2022-07-29T17:58:50.535Z"
   },
   {
    "duration": 3,
    "start_time": "2022-07-29T17:58:50.579Z"
   },
   {
    "duration": 25,
    "start_time": "2022-07-29T17:58:50.583Z"
   },
   {
    "duration": 13,
    "start_time": "2022-07-29T17:58:50.609Z"
   },
   {
    "duration": 8,
    "start_time": "2022-07-29T17:58:50.624Z"
   },
   {
    "duration": 17,
    "start_time": "2022-07-29T17:58:50.633Z"
   },
   {
    "duration": 3,
    "start_time": "2022-07-29T17:58:50.651Z"
   },
   {
    "duration": 12,
    "start_time": "2022-07-29T17:58:50.673Z"
   },
   {
    "duration": 38,
    "start_time": "2022-07-29T17:58:50.687Z"
   },
   {
    "duration": 118,
    "start_time": "2022-07-29T17:58:50.726Z"
   },
   {
    "duration": 142,
    "start_time": "2022-07-29T17:58:50.845Z"
   },
   {
    "duration": 146,
    "start_time": "2022-07-29T17:58:50.989Z"
   },
   {
    "duration": 137,
    "start_time": "2022-07-29T17:58:51.136Z"
   },
   {
    "duration": 17,
    "start_time": "2022-07-29T17:58:51.275Z"
   },
   {
    "duration": 4,
    "start_time": "2022-07-29T17:58:51.293Z"
   },
   {
    "duration": 8,
    "start_time": "2022-07-29T17:58:51.299Z"
   },
   {
    "duration": 4,
    "start_time": "2022-07-29T17:58:51.308Z"
   },
   {
    "duration": 9,
    "start_time": "2022-07-29T17:58:51.313Z"
   },
   {
    "duration": 6,
    "start_time": "2022-07-29T17:58:51.323Z"
   },
   {
    "duration": 19,
    "start_time": "2022-07-29T17:58:51.330Z"
   },
   {
    "duration": 10,
    "start_time": "2022-07-29T17:58:51.373Z"
   },
   {
    "duration": 20,
    "start_time": "2022-07-29T17:58:51.385Z"
   },
   {
    "duration": 23,
    "start_time": "2022-07-29T17:58:51.406Z"
   },
   {
    "duration": 44,
    "start_time": "2022-07-29T17:58:51.430Z"
   },
   {
    "duration": 9,
    "start_time": "2022-07-29T17:58:51.476Z"
   },
   {
    "duration": 148,
    "start_time": "2022-07-29T17:58:51.487Z"
   },
   {
    "duration": 8,
    "start_time": "2022-07-29T17:58:51.637Z"
   },
   {
    "duration": 27,
    "start_time": "2022-07-29T17:58:51.647Z"
   },
   {
    "duration": 9,
    "start_time": "2022-07-29T17:58:51.675Z"
   },
   {
    "duration": 13,
    "start_time": "2022-07-29T17:58:51.686Z"
   },
   {
    "duration": 7,
    "start_time": "2022-07-29T17:58:51.700Z"
   },
   {
    "duration": 6,
    "start_time": "2022-07-29T17:58:51.711Z"
   },
   {
    "duration": 17,
    "start_time": "2022-07-29T17:58:51.718Z"
   },
   {
    "duration": 112,
    "start_time": "2022-07-29T17:58:51.737Z"
   },
   {
    "duration": 13,
    "start_time": "2022-07-29T17:58:51.851Z"
   },
   {
    "duration": 13,
    "start_time": "2022-07-29T17:58:51.874Z"
   },
   {
    "duration": 25,
    "start_time": "2022-07-29T17:58:51.888Z"
   },
   {
    "duration": 22,
    "start_time": "2022-07-29T17:58:51.915Z"
   },
   {
    "duration": 41,
    "start_time": "2022-07-29T17:58:51.938Z"
   },
   {
    "duration": 19,
    "start_time": "2022-07-29T17:58:51.980Z"
   },
   {
    "duration": 20,
    "start_time": "2022-07-29T17:58:52.000Z"
   },
   {
    "duration": 5,
    "start_time": "2022-07-29T17:58:52.022Z"
   },
   {
    "duration": 20,
    "start_time": "2022-07-29T17:58:52.028Z"
   },
   {
    "duration": 255,
    "start_time": "2022-07-29T17:58:52.073Z"
   },
   {
    "duration": 190,
    "start_time": "2022-07-29T17:58:52.330Z"
   },
   {
    "duration": 22,
    "start_time": "2022-07-29T17:58:52.522Z"
   },
   {
    "duration": 21,
    "start_time": "2022-07-29T17:58:52.545Z"
   },
   {
    "duration": 35,
    "start_time": "2022-07-29T17:58:52.574Z"
   },
   {
    "duration": 23,
    "start_time": "2022-07-29T17:58:52.611Z"
   },
   {
    "duration": 151,
    "start_time": "2022-07-29T17:58:52.635Z"
   },
   {
    "duration": 147,
    "start_time": "2022-07-29T17:58:52.787Z"
   },
   {
    "duration": 7,
    "start_time": "2022-07-29T17:58:52.936Z"
   },
   {
    "duration": 30,
    "start_time": "2022-07-29T17:58:52.945Z"
   },
   {
    "duration": 152,
    "start_time": "2022-07-29T17:58:52.976Z"
   },
   {
    "duration": 129,
    "start_time": "2022-07-29T17:58:53.130Z"
   },
   {
    "duration": 232,
    "start_time": "2022-07-29T17:58:53.261Z"
   },
   {
    "duration": 4,
    "start_time": "2022-07-29T17:58:53.494Z"
   },
   {
    "duration": 27,
    "start_time": "2022-07-29T17:58:53.499Z"
   },
   {
    "duration": 180,
    "start_time": "2022-07-29T17:58:53.528Z"
   },
   {
    "duration": 20,
    "start_time": "2022-07-29T17:58:53.709Z"
   },
   {
    "duration": 15,
    "start_time": "2022-07-29T17:58:53.730Z"
   },
   {
    "duration": 33,
    "start_time": "2022-07-29T17:58:53.747Z"
   },
   {
    "duration": 14,
    "start_time": "2022-07-29T17:58:53.781Z"
   },
   {
    "duration": 13,
    "start_time": "2022-07-29T17:58:53.796Z"
   },
   {
    "duration": 336,
    "start_time": "2022-07-29T17:58:53.810Z"
   },
   {
    "duration": 16,
    "start_time": "2022-07-29T17:58:54.147Z"
   },
   {
    "duration": 14,
    "start_time": "2022-07-29T17:58:54.174Z"
   },
   {
    "duration": 14,
    "start_time": "2022-07-29T17:58:54.189Z"
   },
   {
    "duration": 13,
    "start_time": "2022-07-29T17:58:54.205Z"
   },
   {
    "duration": 248,
    "start_time": "2022-07-29T17:58:54.220Z"
   },
   {
    "duration": 8,
    "start_time": "2022-07-29T17:58:54.470Z"
   },
   {
    "duration": 7,
    "start_time": "2022-07-29T17:58:54.479Z"
   }
  ],
  "kernelspec": {
   "display_name": "Python 3 (ipykernel)",
   "language": "python",
   "name": "python3"
  },
  "language_info": {
   "codemirror_mode": {
    "name": "ipython",
    "version": 3
   },
   "file_extension": ".py",
   "mimetype": "text/x-python",
   "name": "python",
   "nbconvert_exporter": "python",
   "pygments_lexer": "ipython3",
   "version": "3.9.5"
  },
  "toc": {
   "base_numbering": 1,
   "nav_menu": {},
   "number_sections": true,
   "sideBar": true,
   "skip_h1_title": true,
   "title_cell": "Table of Contents",
   "title_sidebar": "Contents",
   "toc_cell": false,
   "toc_position": {},
   "toc_section_display": true,
   "toc_window_display": false
  }
 },
 "nbformat": 4,
 "nbformat_minor": 2
}
